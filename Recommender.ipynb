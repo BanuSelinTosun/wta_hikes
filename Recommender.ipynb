{
 "cells": [
  {
   "cell_type": "code",
   "execution_count": 1,
   "metadata": {
    "collapsed": false
   },
   "outputs": [],
   "source": [
    "from __future__ import division\n",
    "import graphlab\n",
    "import pandas as pd\n",
    "import numpy as np\n",
    "from sklearn.cross_validation import train_test_split"
   ]
  },
  {
   "cell_type": "code",
   "execution_count": 4,
   "metadata": {
    "collapsed": false
   },
   "outputs": [
    {
     "data": {
      "text/html": [
       "<div>\n",
       "<table border=\"1\" class=\"dataframe\">\n",
       "  <thead>\n",
       "    <tr style=\"text-align: right;\">\n",
       "      <th></th>\n",
       "      <th>author_id</th>\n",
       "      <th>hike_id</th>\n",
       "      <th>Rating</th>\n",
       "    </tr>\n",
       "  </thead>\n",
       "  <tbody>\n",
       "    <tr>\n",
       "      <th>0</th>\n",
       "      <td>12474.0</td>\n",
       "      <td>0.0</td>\n",
       "      <td>2.0</td>\n",
       "    </tr>\n",
       "    <tr>\n",
       "      <th>1</th>\n",
       "      <td>19583.0</td>\n",
       "      <td>0.0</td>\n",
       "      <td>3.0</td>\n",
       "    </tr>\n",
       "    <tr>\n",
       "      <th>2</th>\n",
       "      <td>4317.0</td>\n",
       "      <td>0.0</td>\n",
       "      <td>1.0</td>\n",
       "    </tr>\n",
       "    <tr>\n",
       "      <th>3</th>\n",
       "      <td>6676.0</td>\n",
       "      <td>0.0</td>\n",
       "      <td>4.0</td>\n",
       "    </tr>\n",
       "    <tr>\n",
       "      <th>4</th>\n",
       "      <td>10392.0</td>\n",
       "      <td>0.0</td>\n",
       "      <td>4.0</td>\n",
       "    </tr>\n",
       "  </tbody>\n",
       "</table>\n",
       "</div>"
      ],
      "text/plain": [
       "   author_id  hike_id  Rating\n",
       "0    12474.0      0.0     2.0\n",
       "1    19583.0      0.0     3.0\n",
       "2     4317.0      0.0     1.0\n",
       "3     6676.0      0.0     4.0\n",
       "4    10392.0      0.0     4.0"
      ]
     },
     "execution_count": 4,
     "metadata": {},
     "output_type": "execute_result"
    }
   ],
   "source": [
    "df = pd.read_csv(open('data/tripReports.csv','rU'), encoding='utf-8', engine='c')\n",
    "df = df.drop(labels=['Unnamed: 0', 'Name', 'Text', 'Date','Creator', 'TextBlobSentiment', 'GraphLabSentiment', 'TrainedModelSentiment'], axis=1)\n",
    "df.head()"
   ]
  },
  {
   "cell_type": "code",
   "execution_count": 5,
   "metadata": {
    "collapsed": false
   },
   "outputs": [],
   "source": [
    "df = df.dropna()"
   ]
  },
  {
   "cell_type": "code",
   "execution_count": 7,
   "metadata": {
    "collapsed": false
   },
   "outputs": [],
   "source": [
    "df['hike_id'] = df['hike_id'].fillna(np.nan).astype(int)\n",
    "df['author_id'] = df['author_id'].fillna(np.nan).astype(int)"
   ]
  },
  {
   "cell_type": "code",
   "execution_count": 8,
   "metadata": {
    "collapsed": false
   },
   "outputs": [
    {
     "name": "stderr",
     "output_type": "stream",
     "text": [
      "[INFO] graphlab.cython.cy_server: GraphLab Create v2.1 started. Logging: /tmp/graphlab_server_1470103726.log\n",
      "INFO:graphlab.cython.cy_server:GraphLab Create v2.1 started. Logging: /tmp/graphlab_server_1470103726.log\n"
     ]
    },
    {
     "name": "stdout",
     "output_type": "stream",
     "text": [
      "This non-commercial license of GraphLab Create for academic use is assigned to jat257@cornell.edu and will expire on June 30, 2017.\n"
     ]
    }
   ],
   "source": [
    "df = graphlab.SFrame(df)"
   ]
  },
  {
   "cell_type": "markdown",
   "metadata": {},
   "source": [
    "## Factorization Recommender\n",
    "\n",
    "https://turi.com/products/create/docs/generated/graphlab.recommender.factorization_recommender.FactorizationRecommender.html\n",
    "\n",
    "With ALS"
   ]
  },
  {
   "cell_type": "code",
   "execution_count": 9,
   "metadata": {
    "collapsed": false
   },
   "outputs": [
    {
     "data": {
      "text/plain": [
       "(76962, 3)"
      ]
     },
     "execution_count": 9,
     "metadata": {},
     "output_type": "execute_result"
    }
   ],
   "source": [
    "df.shape"
   ]
  },
  {
   "cell_type": "code",
   "execution_count": 10,
   "metadata": {
    "collapsed": true
   },
   "outputs": [],
   "source": [
    "# Create training and test set\n",
    "df_train = df[:60000]\n",
    "df_test = df[60000:]"
   ]
  },
  {
   "cell_type": "code",
   "execution_count": 11,
   "metadata": {
    "collapsed": false
   },
   "outputs": [
    {
     "data": {
      "text/plain": [
       "(60000, 3)"
      ]
     },
     "execution_count": 11,
     "metadata": {},
     "output_type": "execute_result"
    }
   ],
   "source": [
    "df_train.shape"
   ]
  },
  {
   "cell_type": "code",
   "execution_count": 14,
   "metadata": {
    "collapsed": false
   },
   "outputs": [
    {
     "data": {
      "text/html": [
       "<pre>Recsys training: model = factorization_recommender</pre>"
      ],
      "text/plain": [
       "Recsys training: model = factorization_recommender"
      ]
     },
     "metadata": {},
     "output_type": "display_data"
    },
    {
     "data": {
      "text/html": [
       "<pre>Preparing data set.</pre>"
      ],
      "text/plain": [
       "Preparing data set."
      ]
     },
     "metadata": {},
     "output_type": "display_data"
    },
    {
     "data": {
      "text/html": [
       "<pre>    Data has 60000 observations with 17057 users and 848 items.</pre>"
      ],
      "text/plain": [
       "    Data has 60000 observations with 17057 users and 848 items."
      ]
     },
     "metadata": {},
     "output_type": "display_data"
    },
    {
     "data": {
      "text/html": [
       "<pre>    Data prepared in: 0.209518s</pre>"
      ],
      "text/plain": [
       "    Data prepared in: 0.209518s"
      ]
     },
     "metadata": {},
     "output_type": "display_data"
    },
    {
     "data": {
      "text/html": [
       "<pre>Training factorization_recommender for recommendations.</pre>"
      ],
      "text/plain": [
       "Training factorization_recommender for recommendations."
      ]
     },
     "metadata": {},
     "output_type": "display_data"
    },
    {
     "data": {
      "text/html": [
       "<pre>+------------------------------+--------------------------------------------------+----------+</pre>"
      ],
      "text/plain": [
       "+------------------------------+--------------------------------------------------+----------+"
      ]
     },
     "metadata": {},
     "output_type": "display_data"
    },
    {
     "data": {
      "text/html": [
       "<pre>| Parameter                    | Description                                      | Value    |</pre>"
      ],
      "text/plain": [
       "| Parameter                    | Description                                      | Value    |"
      ]
     },
     "metadata": {},
     "output_type": "display_data"
    },
    {
     "data": {
      "text/html": [
       "<pre>+------------------------------+--------------------------------------------------+----------+</pre>"
      ],
      "text/plain": [
       "+------------------------------+--------------------------------------------------+----------+"
      ]
     },
     "metadata": {},
     "output_type": "display_data"
    },
    {
     "data": {
      "text/html": [
       "<pre>| num_factors                  | Factor Dimension                                 | 8        |</pre>"
      ],
      "text/plain": [
       "| num_factors                  | Factor Dimension                                 | 8        |"
      ]
     },
     "metadata": {},
     "output_type": "display_data"
    },
    {
     "data": {
      "text/html": [
       "<pre>| regularization               | L2 Regularization on Factors                     | 1e-08    |</pre>"
      ],
      "text/plain": [
       "| regularization               | L2 Regularization on Factors                     | 1e-08    |"
      ]
     },
     "metadata": {},
     "output_type": "display_data"
    },
    {
     "data": {
      "text/html": [
       "<pre>| max_iterations               | Maximum Number of Iterations                     | 50       |</pre>"
      ],
      "text/plain": [
       "| max_iterations               | Maximum Number of Iterations                     | 50       |"
      ]
     },
     "metadata": {},
     "output_type": "display_data"
    },
    {
     "data": {
      "text/html": [
       "<pre>| solver                       | Solver used for training                         | als      |</pre>"
      ],
      "text/plain": [
       "| solver                       | Solver used for training                         | als      |"
      ]
     },
     "metadata": {},
     "output_type": "display_data"
    },
    {
     "data": {
      "text/html": [
       "<pre>+------------------------------+--------------------------------------------------+----------+</pre>"
      ],
      "text/plain": [
       "+------------------------------+--------------------------------------------------+----------+"
      ]
     },
     "metadata": {},
     "output_type": "display_data"
    },
    {
     "data": {
      "text/html": [
       "<pre>+---------+--------------+------------------------+</pre>"
      ],
      "text/plain": [
       "+---------+--------------+------------------------+"
      ]
     },
     "metadata": {},
     "output_type": "display_data"
    },
    {
     "data": {
      "text/html": [
       "<pre>| Iter.   | Elapsed time | RMSE                   |</pre>"
      ],
      "text/plain": [
       "| Iter.   | Elapsed time | RMSE                   |"
      ]
     },
     "metadata": {},
     "output_type": "display_data"
    },
    {
     "data": {
      "text/html": [
       "<pre>+---------+--------------+------------------------+</pre>"
      ],
      "text/plain": [
       "+---------+--------------+------------------------+"
      ]
     },
     "metadata": {},
     "output_type": "display_data"
    },
    {
     "data": {
      "text/html": [
       "<pre>| Initial | 750us        | NA                     |</pre>"
      ],
      "text/plain": [
       "| Initial | 750us        | NA                     |"
      ]
     },
     "metadata": {},
     "output_type": "display_data"
    },
    {
     "data": {
      "text/html": [
       "<pre>+---------+--------------+------------------------+</pre>"
      ],
      "text/plain": [
       "+---------+--------------+------------------------+"
      ]
     },
     "metadata": {},
     "output_type": "display_data"
    },
    {
     "data": {
      "text/html": [
       "<pre>| 0       | 145.798ms    | 1.15874                |</pre>"
      ],
      "text/plain": [
       "| 0       | 145.798ms    | 1.15874                |"
      ]
     },
     "metadata": {},
     "output_type": "display_data"
    },
    {
     "data": {
      "text/html": [
       "<pre>| 1       | 258.482ms    | 0.744645               |</pre>"
      ],
      "text/plain": [
       "| 1       | 258.482ms    | 0.744645               |"
      ]
     },
     "metadata": {},
     "output_type": "display_data"
    },
    {
     "data": {
      "text/html": [
       "<pre>| 2       | 406.659ms    | 0.721586               |</pre>"
      ],
      "text/plain": [
       "| 2       | 406.659ms    | 0.721586               |"
      ]
     },
     "metadata": {},
     "output_type": "display_data"
    },
    {
     "data": {
      "text/html": [
       "<pre>| 3       | 597.891ms    | 0.706878               |</pre>"
      ],
      "text/plain": [
       "| 3       | 597.891ms    | 0.706878               |"
      ]
     },
     "metadata": {},
     "output_type": "display_data"
    },
    {
     "data": {
      "text/html": [
       "<pre>| 4       | 747.424ms    | 0.695801               |</pre>"
      ],
      "text/plain": [
       "| 4       | 747.424ms    | 0.695801               |"
      ]
     },
     "metadata": {},
     "output_type": "display_data"
    },
    {
     "data": {
      "text/html": [
       "<pre>| 5       | 858.785ms    | 0.687185               |</pre>"
      ],
      "text/plain": [
       "| 5       | 858.785ms    | 0.687185               |"
      ]
     },
     "metadata": {},
     "output_type": "display_data"
    },
    {
     "data": {
      "text/html": [
       "<pre>| 6       | 1.00s        | 0.680361               |</pre>"
      ],
      "text/plain": [
       "| 6       | 1.00s        | 0.680361               |"
      ]
     },
     "metadata": {},
     "output_type": "display_data"
    },
    {
     "data": {
      "text/html": [
       "<pre>| 7       | 1.19s        | 0.674752               |</pre>"
      ],
      "text/plain": [
       "| 7       | 1.19s        | 0.674752               |"
      ]
     },
     "metadata": {},
     "output_type": "display_data"
    },
    {
     "data": {
      "text/html": [
       "<pre>| 8       | 1.38s        | 0.670034               |</pre>"
      ],
      "text/plain": [
       "| 8       | 1.38s        | 0.670034               |"
      ]
     },
     "metadata": {},
     "output_type": "display_data"
    },
    {
     "data": {
      "text/html": [
       "<pre>| 9       | 1.55s        | 0.666025               |</pre>"
      ],
      "text/plain": [
       "| 9       | 1.55s        | 0.666025               |"
      ]
     },
     "metadata": {},
     "output_type": "display_data"
    },
    {
     "data": {
      "text/html": [
       "<pre>| 10      | 1.70s        | 0.662638               |</pre>"
      ],
      "text/plain": [
       "| 10      | 1.70s        | 0.662638               |"
      ]
     },
     "metadata": {},
     "output_type": "display_data"
    },
    {
     "data": {
      "text/html": [
       "<pre>| 11      | 1.81s        | 0.659734               |</pre>"
      ],
      "text/plain": [
       "| 11      | 1.81s        | 0.659734               |"
      ]
     },
     "metadata": {},
     "output_type": "display_data"
    },
    {
     "data": {
      "text/html": [
       "<pre>| 12      | 1.93s        | 0.657189               |</pre>"
      ],
      "text/plain": [
       "| 12      | 1.93s        | 0.657189               |"
      ]
     },
     "metadata": {},
     "output_type": "display_data"
    },
    {
     "data": {
      "text/html": [
       "<pre>| 13      | 2.12s        | 0.654846               |</pre>"
      ],
      "text/plain": [
       "| 13      | 2.12s        | 0.654846               |"
      ]
     },
     "metadata": {},
     "output_type": "display_data"
    },
    {
     "data": {
      "text/html": [
       "<pre>| 14      | 2.27s        | 0.652818               |</pre>"
      ],
      "text/plain": [
       "| 14      | 2.27s        | 0.652818               |"
      ]
     },
     "metadata": {},
     "output_type": "display_data"
    },
    {
     "data": {
      "text/html": [
       "<pre>| 15      | 2.42s        | 0.65098                |</pre>"
      ],
      "text/plain": [
       "| 15      | 2.42s        | 0.65098                |"
      ]
     },
     "metadata": {},
     "output_type": "display_data"
    },
    {
     "data": {
      "text/html": [
       "<pre>| 16      | 2.64s        | 0.649298               |</pre>"
      ],
      "text/plain": [
       "| 16      | 2.64s        | 0.649298               |"
      ]
     },
     "metadata": {},
     "output_type": "display_data"
    },
    {
     "data": {
      "text/html": [
       "<pre>| 17      | 2.82s        | 0.647759               |</pre>"
      ],
      "text/plain": [
       "| 17      | 2.82s        | 0.647759               |"
      ]
     },
     "metadata": {},
     "output_type": "display_data"
    },
    {
     "data": {
      "text/html": [
       "<pre>| 18      | 2.97s        | 0.646332               |</pre>"
      ],
      "text/plain": [
       "| 18      | 2.97s        | 0.646332               |"
      ]
     },
     "metadata": {},
     "output_type": "display_data"
    },
    {
     "data": {
      "text/html": [
       "<pre>| 19      | 3.12s        | 0.644999               |</pre>"
      ],
      "text/plain": [
       "| 19      | 3.12s        | 0.644999               |"
      ]
     },
     "metadata": {},
     "output_type": "display_data"
    },
    {
     "data": {
      "text/html": [
       "<pre>| 20      | 3.27s        | 0.643758               |</pre>"
      ],
      "text/plain": [
       "| 20      | 3.27s        | 0.643758               |"
      ]
     },
     "metadata": {},
     "output_type": "display_data"
    },
    {
     "data": {
      "text/html": [
       "<pre>| 21      | 3.40s        | 0.642596               |</pre>"
      ],
      "text/plain": [
       "| 21      | 3.40s        | 0.642596               |"
      ]
     },
     "metadata": {},
     "output_type": "display_data"
    },
    {
     "data": {
      "text/html": [
       "<pre>| 22      | 3.59s        | 0.641503               |</pre>"
      ],
      "text/plain": [
       "| 22      | 3.59s        | 0.641503               |"
      ]
     },
     "metadata": {},
     "output_type": "display_data"
    },
    {
     "data": {
      "text/html": [
       "<pre>| 23      | 3.75s        | 0.640481               |</pre>"
      ],
      "text/plain": [
       "| 23      | 3.75s        | 0.640481               |"
      ]
     },
     "metadata": {},
     "output_type": "display_data"
    },
    {
     "data": {
      "text/html": [
       "<pre>| 24      | 3.87s        | 0.639531               |</pre>"
      ],
      "text/plain": [
       "| 24      | 3.87s        | 0.639531               |"
      ]
     },
     "metadata": {},
     "output_type": "display_data"
    },
    {
     "data": {
      "text/html": [
       "<pre>| 25      | 4.02s        | 0.638649               |</pre>"
      ],
      "text/plain": [
       "| 25      | 4.02s        | 0.638649               |"
      ]
     },
     "metadata": {},
     "output_type": "display_data"
    },
    {
     "data": {
      "text/html": [
       "<pre>| 26      | 4.16s        | 0.637829               |</pre>"
      ],
      "text/plain": [
       "| 26      | 4.16s        | 0.637829               |"
      ]
     },
     "metadata": {},
     "output_type": "display_data"
    },
    {
     "data": {
      "text/html": [
       "<pre>| 27      | 4.39s        | 0.63706                |</pre>"
      ],
      "text/plain": [
       "| 27      | 4.39s        | 0.63706                |"
      ]
     },
     "metadata": {},
     "output_type": "display_data"
    },
    {
     "data": {
      "text/html": [
       "<pre>| 28      | 4.65s        | 0.636335               |</pre>"
      ],
      "text/plain": [
       "| 28      | 4.65s        | 0.636335               |"
      ]
     },
     "metadata": {},
     "output_type": "display_data"
    },
    {
     "data": {
      "text/html": [
       "<pre>| 29      | 4.75s        | 0.635649               |</pre>"
      ],
      "text/plain": [
       "| 29      | 4.75s        | 0.635649               |"
      ]
     },
     "metadata": {},
     "output_type": "display_data"
    },
    {
     "data": {
      "text/html": [
       "<pre>| 30      | 4.86s        | 0.634998               |</pre>"
      ],
      "text/plain": [
       "| 30      | 4.86s        | 0.634998               |"
      ]
     },
     "metadata": {},
     "output_type": "display_data"
    },
    {
     "data": {
      "text/html": [
       "<pre>| 31      | 5.02s        | 0.634377               |</pre>"
      ],
      "text/plain": [
       "| 31      | 5.02s        | 0.634377               |"
      ]
     },
     "metadata": {},
     "output_type": "display_data"
    },
    {
     "data": {
      "text/html": [
       "<pre>| 32      | 5.16s        | 0.633781               |</pre>"
      ],
      "text/plain": [
       "| 32      | 5.16s        | 0.633781               |"
      ]
     },
     "metadata": {},
     "output_type": "display_data"
    },
    {
     "data": {
      "text/html": [
       "<pre>| 33      | 5.29s        | 0.633211               |</pre>"
      ],
      "text/plain": [
       "| 33      | 5.29s        | 0.633211               |"
      ]
     },
     "metadata": {},
     "output_type": "display_data"
    },
    {
     "data": {
      "text/html": [
       "<pre>| 34      | 5.45s        | 0.63266                |</pre>"
      ],
      "text/plain": [
       "| 34      | 5.45s        | 0.63266                |"
      ]
     },
     "metadata": {},
     "output_type": "display_data"
    },
    {
     "data": {
      "text/html": [
       "<pre>| 35      | 5.65s        | 0.632128               |</pre>"
      ],
      "text/plain": [
       "| 35      | 5.65s        | 0.632128               |"
      ]
     },
     "metadata": {},
     "output_type": "display_data"
    },
    {
     "data": {
      "text/html": [
       "<pre>| 36      | 5.85s        | 0.631609               |</pre>"
      ],
      "text/plain": [
       "| 36      | 5.85s        | 0.631609               |"
      ]
     },
     "metadata": {},
     "output_type": "display_data"
    },
    {
     "data": {
      "text/html": [
       "<pre>| 37      | 6.12s        | 0.631104               |</pre>"
      ],
      "text/plain": [
       "| 37      | 6.12s        | 0.631104               |"
      ]
     },
     "metadata": {},
     "output_type": "display_data"
    },
    {
     "data": {
      "text/html": [
       "<pre>| 38      | 6.24s        | 0.630616               |</pre>"
      ],
      "text/plain": [
       "| 38      | 6.24s        | 0.630616               |"
      ]
     },
     "metadata": {},
     "output_type": "display_data"
    },
    {
     "data": {
      "text/html": [
       "<pre>| 39      | 6.36s        | 0.630144               |</pre>"
      ],
      "text/plain": [
       "| 39      | 6.36s        | 0.630144               |"
      ]
     },
     "metadata": {},
     "output_type": "display_data"
    },
    {
     "data": {
      "text/html": [
       "<pre>| 40      | 6.52s        | 0.629688               |</pre>"
      ],
      "text/plain": [
       "| 40      | 6.52s        | 0.629688               |"
      ]
     },
     "metadata": {},
     "output_type": "display_data"
    },
    {
     "data": {
      "text/html": [
       "<pre>| 41      | 6.68s        | 0.629247               |</pre>"
      ],
      "text/plain": [
       "| 41      | 6.68s        | 0.629247               |"
      ]
     },
     "metadata": {},
     "output_type": "display_data"
    },
    {
     "data": {
      "text/html": [
       "<pre>| 42      | 6.81s        | 0.628819               |</pre>"
      ],
      "text/plain": [
       "| 42      | 6.81s        | 0.628819               |"
      ]
     },
     "metadata": {},
     "output_type": "display_data"
    },
    {
     "data": {
      "text/html": [
       "<pre>| 43      | 7.08s        | 0.628405               |</pre>"
      ],
      "text/plain": [
       "| 43      | 7.08s        | 0.628405               |"
      ]
     },
     "metadata": {},
     "output_type": "display_data"
    },
    {
     "data": {
      "text/html": [
       "<pre>| 44      | 7.24s        | 0.628003               |</pre>"
      ],
      "text/plain": [
       "| 44      | 7.24s        | 0.628003               |"
      ]
     },
     "metadata": {},
     "output_type": "display_data"
    },
    {
     "data": {
      "text/html": [
       "<pre>| 45      | 7.44s        | 0.627613               |</pre>"
      ],
      "text/plain": [
       "| 45      | 7.44s        | 0.627613               |"
      ]
     },
     "metadata": {},
     "output_type": "display_data"
    },
    {
     "data": {
      "text/html": [
       "<pre>| 46      | 7.75s        | 0.627235               |</pre>"
      ],
      "text/plain": [
       "| 46      | 7.75s        | 0.627235               |"
      ]
     },
     "metadata": {},
     "output_type": "display_data"
    },
    {
     "data": {
      "text/html": [
       "<pre>| 47      | 7.93s        | 0.626868               |</pre>"
      ],
      "text/plain": [
       "| 47      | 7.93s        | 0.626868               |"
      ]
     },
     "metadata": {},
     "output_type": "display_data"
    },
    {
     "data": {
      "text/html": [
       "<pre>| 48      | 8.08s        | 0.626514               |</pre>"
      ],
      "text/plain": [
       "| 48      | 8.08s        | 0.626514               |"
      ]
     },
     "metadata": {},
     "output_type": "display_data"
    },
    {
     "data": {
      "text/html": [
       "<pre>| 49      | 8.24s        | 0.626172               |</pre>"
      ],
      "text/plain": [
       "| 49      | 8.24s        | 0.626172               |"
      ]
     },
     "metadata": {},
     "output_type": "display_data"
    },
    {
     "data": {
      "text/html": [
       "<pre>| FINAL   | 8.24s        | 0.626172               |</pre>"
      ],
      "text/plain": [
       "| FINAL   | 8.24s        | 0.626172               |"
      ]
     },
     "metadata": {},
     "output_type": "display_data"
    },
    {
     "data": {
      "text/html": [
       "<pre>+---------+--------------+------------------------+</pre>"
      ],
      "text/plain": [
       "+---------+--------------+------------------------+"
      ]
     },
     "metadata": {},
     "output_type": "display_data"
    },
    {
     "data": {
      "text/html": [
       "<pre>Optimization Complete: Iteration limit reached.</pre>"
      ],
      "text/plain": [
       "Optimization Complete: Iteration limit reached."
      ]
     },
     "metadata": {},
     "output_type": "display_data"
    }
   ],
   "source": [
    "model = graphlab.recommender.factorization_recommender.create(df_train, user_id='author_id', item_id='hike_id', target='Rating', solver='als' )"
   ]
  },
  {
   "cell_type": "code",
   "execution_count": 15,
   "metadata": {
    "collapsed": false
   },
   "outputs": [],
   "source": [
    "predicted = model.predict(df_test)\n",
    "\n"
   ]
  },
  {
   "cell_type": "code",
   "execution_count": 16,
   "metadata": {
    "collapsed": false
   },
   "outputs": [
    {
     "data": {
      "text/html": [
       "<div style=\"max-height:1000px;max-width:1500px;overflow:auto;\"><table frame=\"box\" rules=\"cols\">\n",
       "    <tr>\n",
       "        <th style=\"padding-left: 1em; padding-right: 1em; text-align: center\">author_id</th>\n",
       "        <th style=\"padding-left: 1em; padding-right: 1em; text-align: center\">hike_id</th>\n",
       "        <th style=\"padding-left: 1em; padding-right: 1em; text-align: center\">Rating</th>\n",
       "    </tr>\n",
       "    <tr>\n",
       "        <td style=\"padding-left: 1em; padding-right: 1em; text-align: center; vertical-align: top\">15682</td>\n",
       "        <td style=\"padding-left: 1em; padding-right: 1em; text-align: center; vertical-align: top\">875</td>\n",
       "        <td style=\"padding-left: 1em; padding-right: 1em; text-align: center; vertical-align: top\">5.0</td>\n",
       "    </tr>\n",
       "    <tr>\n",
       "        <td style=\"padding-left: 1em; padding-right: 1em; text-align: center; vertical-align: top\">6105</td>\n",
       "        <td style=\"padding-left: 1em; padding-right: 1em; text-align: center; vertical-align: top\">875</td>\n",
       "        <td style=\"padding-left: 1em; padding-right: 1em; text-align: center; vertical-align: top\">4.0</td>\n",
       "    </tr>\n",
       "    <tr>\n",
       "        <td style=\"padding-left: 1em; padding-right: 1em; text-align: center; vertical-align: top\">6837</td>\n",
       "        <td style=\"padding-left: 1em; padding-right: 1em; text-align: center; vertical-align: top\">875</td>\n",
       "        <td style=\"padding-left: 1em; padding-right: 1em; text-align: center; vertical-align: top\">4.0</td>\n",
       "    </tr>\n",
       "    <tr>\n",
       "        <td style=\"padding-left: 1em; padding-right: 1em; text-align: center; vertical-align: top\">5218</td>\n",
       "        <td style=\"padding-left: 1em; padding-right: 1em; text-align: center; vertical-align: top\">875</td>\n",
       "        <td style=\"padding-left: 1em; padding-right: 1em; text-align: center; vertical-align: top\">5.0</td>\n",
       "    </tr>\n",
       "    <tr>\n",
       "        <td style=\"padding-left: 1em; padding-right: 1em; text-align: center; vertical-align: top\">4770</td>\n",
       "        <td style=\"padding-left: 1em; padding-right: 1em; text-align: center; vertical-align: top\">875</td>\n",
       "        <td style=\"padding-left: 1em; padding-right: 1em; text-align: center; vertical-align: top\">5.0</td>\n",
       "    </tr>\n",
       "    <tr>\n",
       "        <td style=\"padding-left: 1em; padding-right: 1em; text-align: center; vertical-align: top\">15229</td>\n",
       "        <td style=\"padding-left: 1em; padding-right: 1em; text-align: center; vertical-align: top\">875</td>\n",
       "        <td style=\"padding-left: 1em; padding-right: 1em; text-align: center; vertical-align: top\">4.0</td>\n",
       "    </tr>\n",
       "    <tr>\n",
       "        <td style=\"padding-left: 1em; padding-right: 1em; text-align: center; vertical-align: top\">5774</td>\n",
       "        <td style=\"padding-left: 1em; padding-right: 1em; text-align: center; vertical-align: top\">875</td>\n",
       "        <td style=\"padding-left: 1em; padding-right: 1em; text-align: center; vertical-align: top\">2.0</td>\n",
       "    </tr>\n",
       "    <tr>\n",
       "        <td style=\"padding-left: 1em; padding-right: 1em; text-align: center; vertical-align: top\">14435</td>\n",
       "        <td style=\"padding-left: 1em; padding-right: 1em; text-align: center; vertical-align: top\">875</td>\n",
       "        <td style=\"padding-left: 1em; padding-right: 1em; text-align: center; vertical-align: top\">5.0</td>\n",
       "    </tr>\n",
       "    <tr>\n",
       "        <td style=\"padding-left: 1em; padding-right: 1em; text-align: center; vertical-align: top\">1295</td>\n",
       "        <td style=\"padding-left: 1em; padding-right: 1em; text-align: center; vertical-align: top\">875</td>\n",
       "        <td style=\"padding-left: 1em; padding-right: 1em; text-align: center; vertical-align: top\">3.0</td>\n",
       "    </tr>\n",
       "    <tr>\n",
       "        <td style=\"padding-left: 1em; padding-right: 1em; text-align: center; vertical-align: top\">18753</td>\n",
       "        <td style=\"padding-left: 1em; padding-right: 1em; text-align: center; vertical-align: top\">875</td>\n",
       "        <td style=\"padding-left: 1em; padding-right: 1em; text-align: center; vertical-align: top\">1.0</td>\n",
       "    </tr>\n",
       "</table>\n",
       "[10 rows x 3 columns]<br/>\n",
       "</div>"
      ],
      "text/plain": [
       "Columns:\n",
       "\tauthor_id\tint\n",
       "\thike_id\tint\n",
       "\tRating\tfloat\n",
       "\n",
       "Rows: 10\n",
       "\n",
       "Data:\n",
       "+-----------+---------+--------+\n",
       "| author_id | hike_id | Rating |\n",
       "+-----------+---------+--------+\n",
       "|   15682   |   875   |  5.0   |\n",
       "|    6105   |   875   |  4.0   |\n",
       "|    6837   |   875   |  4.0   |\n",
       "|    5218   |   875   |  5.0   |\n",
       "|    4770   |   875   |  5.0   |\n",
       "|   15229   |   875   |  4.0   |\n",
       "|    5774   |   875   |  2.0   |\n",
       "|   14435   |   875   |  5.0   |\n",
       "|    1295   |   875   |  3.0   |\n",
       "|   18753   |   875   |  1.0   |\n",
       "+-----------+---------+--------+\n",
       "[10 rows x 3 columns]"
      ]
     },
     "execution_count": 16,
     "metadata": {},
     "output_type": "execute_result"
    }
   ],
   "source": [
    "df_test.head()"
   ]
  },
  {
   "cell_type": "code",
   "execution_count": 17,
   "metadata": {
    "collapsed": true
   },
   "outputs": [],
   "source": [
    "from sklearn.metrics import mean_squared_error"
   ]
  },
  {
   "cell_type": "code",
   "execution_count": 18,
   "metadata": {
    "collapsed": false
   },
   "outputs": [
    {
     "name": "stdout",
     "output_type": "stream",
     "text": [
      "MSE:  2.14652165229\n",
      "RMSE:  1.46510124302\n"
     ]
    }
   ],
   "source": [
    "print 'MSE: ', mean_squared_error(df_test['Rating'], predicted)\n",
    "print 'RMSE: ', np.sqrt(mean_squared_error(df_test['Rating'], predicted))"
   ]
  },
  {
   "cell_type": "markdown",
   "metadata": {},
   "source": [
    "## Factorization Recommender\n",
    "\n",
    "https://turi.com/products/create/docs/generated/graphlab.recommender.factorization_recommender.FactorizationRecommender.html\n",
    "\n",
    "With SGD"
   ]
  },
  {
   "cell_type": "code",
   "execution_count": 20,
   "metadata": {
    "collapsed": false
   },
   "outputs": [
    {
     "data": {
      "text/html": [
       "<pre>Recsys training: model = factorization_recommender</pre>"
      ],
      "text/plain": [
       "Recsys training: model = factorization_recommender"
      ]
     },
     "metadata": {},
     "output_type": "display_data"
    },
    {
     "data": {
      "text/html": [
       "<pre>Preparing data set.</pre>"
      ],
      "text/plain": [
       "Preparing data set."
      ]
     },
     "metadata": {},
     "output_type": "display_data"
    },
    {
     "data": {
      "text/html": [
       "<pre>    Data has 60000 observations with 17057 users and 848 items.</pre>"
      ],
      "text/plain": [
       "    Data has 60000 observations with 17057 users and 848 items."
      ]
     },
     "metadata": {},
     "output_type": "display_data"
    },
    {
     "data": {
      "text/html": [
       "<pre>    Data prepared in: 0.168234s</pre>"
      ],
      "text/plain": [
       "    Data prepared in: 0.168234s"
      ]
     },
     "metadata": {},
     "output_type": "display_data"
    },
    {
     "data": {
      "text/html": [
       "<pre>Training factorization_recommender for recommendations.</pre>"
      ],
      "text/plain": [
       "Training factorization_recommender for recommendations."
      ]
     },
     "metadata": {},
     "output_type": "display_data"
    },
    {
     "data": {
      "text/html": [
       "<pre>+--------------------------------+--------------------------------------------------+----------+</pre>"
      ],
      "text/plain": [
       "+--------------------------------+--------------------------------------------------+----------+"
      ]
     },
     "metadata": {},
     "output_type": "display_data"
    },
    {
     "data": {
      "text/html": [
       "<pre>| Parameter                      | Description                                      | Value    |</pre>"
      ],
      "text/plain": [
       "| Parameter                      | Description                                      | Value    |"
      ]
     },
     "metadata": {},
     "output_type": "display_data"
    },
    {
     "data": {
      "text/html": [
       "<pre>+--------------------------------+--------------------------------------------------+----------+</pre>"
      ],
      "text/plain": [
       "+--------------------------------+--------------------------------------------------+----------+"
      ]
     },
     "metadata": {},
     "output_type": "display_data"
    },
    {
     "data": {
      "text/html": [
       "<pre>| num_factors                    | Factor Dimension                                 | 8        |</pre>"
      ],
      "text/plain": [
       "| num_factors                    | Factor Dimension                                 | 8        |"
      ]
     },
     "metadata": {},
     "output_type": "display_data"
    },
    {
     "data": {
      "text/html": [
       "<pre>| regularization                 | L2 Regularization on Factors                     | 1e-08    |</pre>"
      ],
      "text/plain": [
       "| regularization                 | L2 Regularization on Factors                     | 1e-08    |"
      ]
     },
     "metadata": {},
     "output_type": "display_data"
    },
    {
     "data": {
      "text/html": [
       "<pre>| solver                         | Solver used for training                         | sgd      |</pre>"
      ],
      "text/plain": [
       "| solver                         | Solver used for training                         | sgd      |"
      ]
     },
     "metadata": {},
     "output_type": "display_data"
    },
    {
     "data": {
      "text/html": [
       "<pre>| linear_regularization          | L2 Regularization on Linear Coefficients         | 1e-10    |</pre>"
      ],
      "text/plain": [
       "| linear_regularization          | L2 Regularization on Linear Coefficients         | 1e-10    |"
      ]
     },
     "metadata": {},
     "output_type": "display_data"
    },
    {
     "data": {
      "text/html": [
       "<pre>| max_iterations                 | Maximum Number of Iterations                     | 50       |</pre>"
      ],
      "text/plain": [
       "| max_iterations                 | Maximum Number of Iterations                     | 50       |"
      ]
     },
     "metadata": {},
     "output_type": "display_data"
    },
    {
     "data": {
      "text/html": [
       "<pre>+--------------------------------+--------------------------------------------------+----------+</pre>"
      ],
      "text/plain": [
       "+--------------------------------+--------------------------------------------------+----------+"
      ]
     },
     "metadata": {},
     "output_type": "display_data"
    },
    {
     "data": {
      "text/html": [
       "<pre>  Optimizing model using SGD; tuning step size.</pre>"
      ],
      "text/plain": [
       "  Optimizing model using SGD; tuning step size."
      ]
     },
     "metadata": {},
     "output_type": "display_data"
    },
    {
     "data": {
      "text/html": [
       "<pre>  Using 10000 / 60000 points for tuning the step size.</pre>"
      ],
      "text/plain": [
       "  Using 10000 / 60000 points for tuning the step size."
      ]
     },
     "metadata": {},
     "output_type": "display_data"
    },
    {
     "data": {
      "text/html": [
       "<pre>+---------+-------------------+------------------------------------------+</pre>"
      ],
      "text/plain": [
       "+---------+-------------------+------------------------------------------+"
      ]
     },
     "metadata": {},
     "output_type": "display_data"
    },
    {
     "data": {
      "text/html": [
       "<pre>| Attempt | Initial Step Size | Estimated Objective Value                |</pre>"
      ],
      "text/plain": [
       "| Attempt | Initial Step Size | Estimated Objective Value                |"
      ]
     },
     "metadata": {},
     "output_type": "display_data"
    },
    {
     "data": {
      "text/html": [
       "<pre>+---------+-------------------+------------------------------------------+</pre>"
      ],
      "text/plain": [
       "+---------+-------------------+------------------------------------------+"
      ]
     },
     "metadata": {},
     "output_type": "display_data"
    },
    {
     "data": {
      "text/html": [
       "<pre>| 0       | 25                | Not Viable                               |</pre>"
      ],
      "text/plain": [
       "| 0       | 25                | Not Viable                               |"
      ]
     },
     "metadata": {},
     "output_type": "display_data"
    },
    {
     "data": {
      "text/html": [
       "<pre>| 1       | 6.25              | Not Viable                               |</pre>"
      ],
      "text/plain": [
       "| 1       | 6.25              | Not Viable                               |"
      ]
     },
     "metadata": {},
     "output_type": "display_data"
    },
    {
     "data": {
      "text/html": [
       "<pre>| 2       | 1.5625            | Not Viable                               |</pre>"
      ],
      "text/plain": [
       "| 2       | 1.5625            | Not Viable                               |"
      ]
     },
     "metadata": {},
     "output_type": "display_data"
    },
    {
     "data": {
      "text/html": [
       "<pre>| 3       | 0.390625          | Not Viable                               |</pre>"
      ],
      "text/plain": [
       "| 3       | 0.390625          | Not Viable                               |"
      ]
     },
     "metadata": {},
     "output_type": "display_data"
    },
    {
     "data": {
      "text/html": [
       "<pre>| 4       | 0.0976562         | 0.95374                                  |</pre>"
      ],
      "text/plain": [
       "| 4       | 0.0976562         | 0.95374                                  |"
      ]
     },
     "metadata": {},
     "output_type": "display_data"
    },
    {
     "data": {
      "text/html": [
       "<pre>| 5       | 0.0488281         | 1.20946                                  |</pre>"
      ],
      "text/plain": [
       "| 5       | 0.0488281         | 1.20946                                  |"
      ]
     },
     "metadata": {},
     "output_type": "display_data"
    },
    {
     "data": {
      "text/html": [
       "<pre>| 6       | 0.0244141         | 1.43872                                  |</pre>"
      ],
      "text/plain": [
       "| 6       | 0.0244141         | 1.43872                                  |"
      ]
     },
     "metadata": {},
     "output_type": "display_data"
    },
    {
     "data": {
      "text/html": [
       "<pre>| 7       | 0.012207          | 1.61837                                  |</pre>"
      ],
      "text/plain": [
       "| 7       | 0.012207          | 1.61837                                  |"
      ]
     },
     "metadata": {},
     "output_type": "display_data"
    },
    {
     "data": {
      "text/html": [
       "<pre>+---------+-------------------+------------------------------------------+</pre>"
      ],
      "text/plain": [
       "+---------+-------------------+------------------------------------------+"
      ]
     },
     "metadata": {},
     "output_type": "display_data"
    },
    {
     "data": {
      "text/html": [
       "<pre>| Final   | 0.0976562         | 0.95374                                  |</pre>"
      ],
      "text/plain": [
       "| Final   | 0.0976562         | 0.95374                                  |"
      ]
     },
     "metadata": {},
     "output_type": "display_data"
    },
    {
     "data": {
      "text/html": [
       "<pre>+---------+-------------------+------------------------------------------+</pre>"
      ],
      "text/plain": [
       "+---------+-------------------+------------------------------------------+"
      ]
     },
     "metadata": {},
     "output_type": "display_data"
    },
    {
     "data": {
      "text/html": [
       "<pre>Starting Optimization.</pre>"
      ],
      "text/plain": [
       "Starting Optimization."
      ]
     },
     "metadata": {},
     "output_type": "display_data"
    },
    {
     "data": {
      "text/html": [
       "<pre>+---------+--------------+-------------------+-----------------------+-------------+</pre>"
      ],
      "text/plain": [
       "+---------+--------------+-------------------+-----------------------+-------------+"
      ]
     },
     "metadata": {},
     "output_type": "display_data"
    },
    {
     "data": {
      "text/html": [
       "<pre>| Iter.   | Elapsed Time | Approx. Objective | Approx. Training RMSE | Step Size   |</pre>"
      ],
      "text/plain": [
       "| Iter.   | Elapsed Time | Approx. Objective | Approx. Training RMSE | Step Size   |"
      ]
     },
     "metadata": {},
     "output_type": "display_data"
    },
    {
     "data": {
      "text/html": [
       "<pre>+---------+--------------+-------------------+-----------------------+-------------+</pre>"
      ],
      "text/plain": [
       "+---------+--------------+-------------------+-----------------------+-------------+"
      ]
     },
     "metadata": {},
     "output_type": "display_data"
    },
    {
     "data": {
      "text/html": [
       "<pre>| Initial | 222us        | 2.01605           | 1.41988               |             |</pre>"
      ],
      "text/plain": [
       "| Initial | 222us        | 2.01605           | 1.41988               |             |"
      ]
     },
     "metadata": {},
     "output_type": "display_data"
    },
    {
     "data": {
      "text/html": [
       "<pre>+---------+--------------+-------------------+-----------------------+-------------+</pre>"
      ],
      "text/plain": [
       "+---------+--------------+-------------------+-----------------------+-------------+"
      ]
     },
     "metadata": {},
     "output_type": "display_data"
    },
    {
     "data": {
      "text/html": [
       "<pre>| 1       | 114.784ms    | 2.04682           | 1.43066               | 0.0976562   |</pre>"
      ],
      "text/plain": [
       "| 1       | 114.784ms    | 2.04682           | 1.43066               | 0.0976562   |"
      ]
     },
     "metadata": {},
     "output_type": "display_data"
    },
    {
     "data": {
      "text/html": [
       "<pre>| 2       | 224.08ms     | 1.59494           | 1.2629                | 0.0580668   |</pre>"
      ],
      "text/plain": [
       "| 2       | 224.08ms     | 1.59494           | 1.2629                | 0.0580668   |"
      ]
     },
     "metadata": {},
     "output_type": "display_data"
    },
    {
     "data": {
      "text/html": [
       "<pre>| 3       | 315.496ms    | 1.33262           | 1.15438               | 0.042841    |</pre>"
      ],
      "text/plain": [
       "| 3       | 315.496ms    | 1.33262           | 1.15438               | 0.042841    |"
      ]
     },
     "metadata": {},
     "output_type": "display_data"
    },
    {
     "data": {
      "text/html": [
       "<pre>| 4       | 550.187ms    | 1.08065           | 1.03953               | 0.0290334   |</pre>"
      ],
      "text/plain": [
       "| 4       | 550.187ms    | 1.08065           | 1.03953               | 0.0290334   |"
      ]
     },
     "metadata": {},
     "output_type": "display_data"
    },
    {
     "data": {
      "text/html": [
       "<pre>| 5       | 707.736ms    | 0.930607          | 0.964659              | 0.0245592   |</pre>"
      ],
      "text/plain": [
       "| 5       | 707.736ms    | 0.930607          | 0.964659              | 0.0245592   |"
      ]
     },
     "metadata": {},
     "output_type": "display_data"
    },
    {
     "data": {
      "text/html": [
       "<pre>| 6       | 925.872ms    | 0.825148          | 0.908351              | 0.0214205   |</pre>"
      ],
      "text/plain": [
       "| 6       | 925.872ms    | 0.825148          | 0.908351              | 0.0214205   |"
      ]
     },
     "metadata": {},
     "output_type": "display_data"
    },
    {
     "data": {
      "text/html": [
       "<pre>| 10      | 1.54s        | 0.628097          | 0.792484              | 0.014603    |</pre>"
      ],
      "text/plain": [
       "| 10      | 1.54s        | 0.628097          | 0.792484              | 0.014603    |"
      ]
     },
     "metadata": {},
     "output_type": "display_data"
    },
    {
     "data": {
      "text/html": [
       "<pre>| 11      | 1.65s        | 0.604364          | 0.777365              | 0.0135956   |</pre>"
      ],
      "text/plain": [
       "| 11      | 1.65s        | 0.604364          | 0.777365              | 0.0135956   |"
      ]
     },
     "metadata": {},
     "output_type": "display_data"
    },
    {
     "data": {
      "text/html": [
       "<pre>| 20      | 2.49s        | 0.502864          | 0.70907               | 0.008683    |</pre>"
      ],
      "text/plain": [
       "| 20      | 2.49s        | 0.502864          | 0.70907               | 0.008683    |"
      ]
     },
     "metadata": {},
     "output_type": "display_data"
    },
    {
     "data": {
      "text/html": [
       "<pre>| 30      | 3.29s        | 0.463754          | 0.680926              | 0.00640622  |</pre>"
      ],
      "text/plain": [
       "| 30      | 3.29s        | 0.463754          | 0.680926              | 0.00640622  |"
      ]
     },
     "metadata": {},
     "output_type": "display_data"
    },
    {
     "data": {
      "text/html": [
       "<pre>| 40      | 4.09s        | 0.444005          | 0.666263              | 0.00516295  |</pre>"
      ],
      "text/plain": [
       "| 40      | 4.09s        | 0.444005          | 0.666263              | 0.00516295  |"
      ]
     },
     "metadata": {},
     "output_type": "display_data"
    },
    {
     "data": {
      "text/html": [
       "<pre>| 50      | 4.93s        | 0.431937          | 0.657141              | 0.00436732  |</pre>"
      ],
      "text/plain": [
       "| 50      | 4.93s        | 0.431937          | 0.657141              | 0.00436732  |"
      ]
     },
     "metadata": {},
     "output_type": "display_data"
    },
    {
     "data": {
      "text/html": [
       "<pre>+---------+--------------+-------------------+-----------------------+-------------+</pre>"
      ],
      "text/plain": [
       "+---------+--------------+-------------------+-----------------------+-------------+"
      ]
     },
     "metadata": {},
     "output_type": "display_data"
    },
    {
     "data": {
      "text/html": [
       "<pre>Optimization Complete: Maximum number of passes through the data reached.</pre>"
      ],
      "text/plain": [
       "Optimization Complete: Maximum number of passes through the data reached."
      ]
     },
     "metadata": {},
     "output_type": "display_data"
    },
    {
     "data": {
      "text/html": [
       "<pre>Computing final objective value and training RMSE.</pre>"
      ],
      "text/plain": [
       "Computing final objective value and training RMSE."
      ]
     },
     "metadata": {},
     "output_type": "display_data"
    },
    {
     "data": {
      "text/html": [
       "<pre>       Final objective value: 0.402454</pre>"
      ],
      "text/plain": [
       "       Final objective value: 0.402454"
      ]
     },
     "metadata": {},
     "output_type": "display_data"
    },
    {
     "data": {
      "text/html": [
       "<pre>       Final training RMSE: 0.634312</pre>"
      ],
      "text/plain": [
       "       Final training RMSE: 0.634312"
      ]
     },
     "metadata": {},
     "output_type": "display_data"
    }
   ],
   "source": [
    "model = graphlab.recommender.factorization_recommender.create(df_train, user_id='author_id', item_id='hike_id', target='Rating', solver='sgd' )"
   ]
  },
  {
   "cell_type": "code",
   "execution_count": 21,
   "metadata": {
    "collapsed": true
   },
   "outputs": [],
   "source": [
    "predicted = model.predict(df_test)"
   ]
  },
  {
   "cell_type": "code",
   "execution_count": 22,
   "metadata": {
    "collapsed": false
   },
   "outputs": [
    {
     "name": "stdout",
     "output_type": "stream",
     "text": [
      "MSE:  1.8451241125\n",
      "RMSE:  1.35835345639\n"
     ]
    }
   ],
   "source": [
    "print 'MSE: ', mean_squared_error(df_test['Rating'], predicted)\n",
    "print 'RMSE: ', np.sqrt(mean_squared_error(df_test['Rating'], predicted))"
   ]
  },
  {
   "cell_type": "code",
   "execution_count": 23,
   "metadata": {
    "collapsed": false
   },
   "outputs": [
    {
     "data": {
      "text/html": [
       "<div style=\"max-height:1000px;max-width:1500px;overflow:auto;\"><table frame=\"box\" rules=\"cols\">\n",
       "    <tr>\n",
       "        <th style=\"padding-left: 1em; padding-right: 1em; text-align: center\">author_id</th>\n",
       "        <th style=\"padding-left: 1em; padding-right: 1em; text-align: center\">hike_id</th>\n",
       "        <th style=\"padding-left: 1em; padding-right: 1em; text-align: center\">score</th>\n",
       "        <th style=\"padding-left: 1em; padding-right: 1em; text-align: center\">rank</th>\n",
       "    </tr>\n",
       "    <tr>\n",
       "        <td style=\"padding-left: 1em; padding-right: 1em; text-align: center; vertical-align: top\">2</td>\n",
       "        <td style=\"padding-left: 1em; padding-right: 1em; text-align: center; vertical-align: top\">554</td>\n",
       "        <td style=\"padding-left: 1em; padding-right: 1em; text-align: center; vertical-align: top\">6.50438434874</td>\n",
       "        <td style=\"padding-left: 1em; padding-right: 1em; text-align: center; vertical-align: top\">1</td>\n",
       "    </tr>\n",
       "    <tr>\n",
       "        <td style=\"padding-left: 1em; padding-right: 1em; text-align: center; vertical-align: top\">2</td>\n",
       "        <td style=\"padding-left: 1em; padding-right: 1em; text-align: center; vertical-align: top\">393</td>\n",
       "        <td style=\"padding-left: 1em; padding-right: 1em; text-align: center; vertical-align: top\">6.37366850173</td>\n",
       "        <td style=\"padding-left: 1em; padding-right: 1em; text-align: center; vertical-align: top\">2</td>\n",
       "    </tr>\n",
       "    <tr>\n",
       "        <td style=\"padding-left: 1em; padding-right: 1em; text-align: center; vertical-align: top\">2</td>\n",
       "        <td style=\"padding-left: 1em; padding-right: 1em; text-align: center; vertical-align: top\">804</td>\n",
       "        <td style=\"padding-left: 1em; padding-right: 1em; text-align: center; vertical-align: top\">6.35012824332</td>\n",
       "        <td style=\"padding-left: 1em; padding-right: 1em; text-align: center; vertical-align: top\">3</td>\n",
       "    </tr>\n",
       "    <tr>\n",
       "        <td style=\"padding-left: 1em; padding-right: 1em; text-align: center; vertical-align: top\">2</td>\n",
       "        <td style=\"padding-left: 1em; padding-right: 1em; text-align: center; vertical-align: top\">17</td>\n",
       "        <td style=\"padding-left: 1em; padding-right: 1em; text-align: center; vertical-align: top\">6.1918632487</td>\n",
       "        <td style=\"padding-left: 1em; padding-right: 1em; text-align: center; vertical-align: top\">4</td>\n",
       "    </tr>\n",
       "    <tr>\n",
       "        <td style=\"padding-left: 1em; padding-right: 1em; text-align: center; vertical-align: top\">2</td>\n",
       "        <td style=\"padding-left: 1em; padding-right: 1em; text-align: center; vertical-align: top\">481</td>\n",
       "        <td style=\"padding-left: 1em; padding-right: 1em; text-align: center; vertical-align: top\">6.18483383452</td>\n",
       "        <td style=\"padding-left: 1em; padding-right: 1em; text-align: center; vertical-align: top\">5</td>\n",
       "    </tr>\n",
       "</table>\n",
       "[5 rows x 4 columns]<br/>\n",
       "</div>"
      ],
      "text/plain": [
       "Columns:\n",
       "\tauthor_id\tint\n",
       "\thike_id\tint\n",
       "\tscore\tfloat\n",
       "\trank\tint\n",
       "\n",
       "Rows: 5\n",
       "\n",
       "Data:\n",
       "+-----------+---------+---------------+------+\n",
       "| author_id | hike_id |     score     | rank |\n",
       "+-----------+---------+---------------+------+\n",
       "|     2     |   554   | 6.50438434874 |  1   |\n",
       "|     2     |   393   | 6.37366850173 |  2   |\n",
       "|     2     |   804   | 6.35012824332 |  3   |\n",
       "|     2     |    17   |  6.1918632487 |  4   |\n",
       "|     2     |   481   | 6.18483383452 |  5   |\n",
       "+-----------+---------+---------------+------+\n",
       "[5 rows x 4 columns]"
      ]
     },
     "execution_count": 23,
     "metadata": {},
     "output_type": "execute_result"
    }
   ],
   "source": [
    "model.recommend(users=[2], k=5)"
   ]
  },
  {
   "cell_type": "markdown",
   "metadata": {},
   "source": [
    "## Visualizing the difference between the two factorization methods\n",
    "https://turi.com/products/create/docs/generated/graphlab.show_comparison.html#graphlab.show_comparison"
   ]
  },
  {
   "cell_type": "markdown",
   "metadata": {},
   "source": [
    "## Factorization model incorporating item data\n"
   ]
  },
  {
   "cell_type": "code",
   "execution_count": 133,
   "metadata": {
    "collapsed": false
   },
   "outputs": [],
   "source": [
    "item_data = pd.read_csv('data/itemData.csv')\n",
    "\n",
    "item_data = item_data.drop(labels=['Unnamed: 0'], axis=1)\n",
    "item_sf = item_data.dropna()\n"
   ]
  },
  {
   "cell_type": "code",
   "execution_count": 134,
   "metadata": {
    "collapsed": false
   },
   "outputs": [
    {
     "data": {
      "text/html": [
       "<div>\n",
       "<table border=\"1\" class=\"dataframe\">\n",
       "  <thead>\n",
       "    <tr style=\"text-align: right;\">\n",
       "      <th></th>\n",
       "      <th>hike_name</th>\n",
       "      <th>hike_id</th>\n",
       "      <th>numReports</th>\n",
       "      <th>total_dist</th>\n",
       "      <th>elevation gain</th>\n",
       "      <th>time_from_seattle</th>\n",
       "      <th>Wildlife</th>\n",
       "      <th>Rivers</th>\n",
       "      <th>Summits</th>\n",
       "      <th>Good for kids</th>\n",
       "    </tr>\n",
       "  </thead>\n",
       "  <tbody>\n",
       "    <tr>\n",
       "      <th>0</th>\n",
       "      <td>Grand Park via Lake Eleanor</td>\n",
       "      <td>0</td>\n",
       "      <td>212.0</td>\n",
       "      <td>8.0</td>\n",
       "      <td>1100.0</td>\n",
       "      <td>116.533333</td>\n",
       "      <td>1</td>\n",
       "      <td>0</td>\n",
       "      <td>0</td>\n",
       "      <td>0</td>\n",
       "    </tr>\n",
       "    <tr>\n",
       "      <th>2</th>\n",
       "      <td>Soda Peaks Lake</td>\n",
       "      <td>2</td>\n",
       "      <td>24.0</td>\n",
       "      <td>7.0</td>\n",
       "      <td>2500.0</td>\n",
       "      <td>227.333333</td>\n",
       "      <td>0</td>\n",
       "      <td>0</td>\n",
       "      <td>0</td>\n",
       "      <td>0</td>\n",
       "    </tr>\n",
       "    <tr>\n",
       "      <th>3</th>\n",
       "      <td>Shorthorn</td>\n",
       "      <td>3</td>\n",
       "      <td>5.0</td>\n",
       "      <td>5.6</td>\n",
       "      <td>1400.0</td>\n",
       "      <td>207.433333</td>\n",
       "      <td>0</td>\n",
       "      <td>0</td>\n",
       "      <td>0</td>\n",
       "      <td>0</td>\n",
       "    </tr>\n",
       "    <tr>\n",
       "      <th>4</th>\n",
       "      <td>West Fork Teanaway River</td>\n",
       "      <td>4</td>\n",
       "      <td>5.0</td>\n",
       "      <td>19.2</td>\n",
       "      <td>2800.0</td>\n",
       "      <td>115.750000</td>\n",
       "      <td>1</td>\n",
       "      <td>0</td>\n",
       "      <td>0</td>\n",
       "      <td>1</td>\n",
       "    </tr>\n",
       "    <tr>\n",
       "      <th>5</th>\n",
       "      <td>Fishtrap Lake - North</td>\n",
       "      <td>5</td>\n",
       "      <td>4.0</td>\n",
       "      <td>4.0</td>\n",
       "      <td>126.0</td>\n",
       "      <td>233.516667</td>\n",
       "      <td>1</td>\n",
       "      <td>0</td>\n",
       "      <td>0</td>\n",
       "      <td>0</td>\n",
       "    </tr>\n",
       "  </tbody>\n",
       "</table>\n",
       "</div>"
      ],
      "text/plain": [
       "                     hike_name  hike_id  numReports  total_dist  \\\n",
       "0  Grand Park via Lake Eleanor        0       212.0         8.0   \n",
       "2              Soda Peaks Lake        2        24.0         7.0   \n",
       "3                    Shorthorn        3         5.0         5.6   \n",
       "4     West Fork Teanaway River        4         5.0        19.2   \n",
       "5        Fishtrap Lake - North        5         4.0         4.0   \n",
       "\n",
       "   elevation gain  time_from_seattle  Wildlife  Rivers  Summits  Good for kids  \n",
       "0          1100.0         116.533333         1       0        0              0  \n",
       "2          2500.0         227.333333         0       0        0              0  \n",
       "3          1400.0         207.433333         0       0        0              0  \n",
       "4          2800.0         115.750000         1       0        0              1  \n",
       "5           126.0         233.516667         1       0        0              0  "
      ]
     },
     "execution_count": 134,
     "metadata": {},
     "output_type": "execute_result"
    }
   ],
   "source": [
    "item_sf.head()"
   ]
  },
  {
   "cell_type": "code",
   "execution_count": 135,
   "metadata": {
    "collapsed": true
   },
   "outputs": [],
   "source": [
    "def norm(df, col):\n",
    "    df[col] = (df[col] - df[col].mean())/(df[col].max() - df[col].min())"
   ]
  },
  {
   "cell_type": "code",
   "execution_count": 136,
   "metadata": {
    "collapsed": false
   },
   "outputs": [
    {
     "name": "stderr",
     "output_type": "stream",
     "text": [
      "/Users/Jade/anaconda/lib/python2.7/site-packages/ipykernel/__main__.py:2: SettingWithCopyWarning: \n",
      "A value is trying to be set on a copy of a slice from a DataFrame.\n",
      "Try using .loc[row_indexer,col_indexer] = value instead\n",
      "\n",
      "See the caveats in the documentation: http://pandas.pydata.org/pandas-docs/stable/indexing.html#indexing-view-versus-copy\n",
      "  from ipykernel import kernelapp as app\n"
     ]
    }
   ],
   "source": [
    "norm(item_sf, 'elevation gain')"
   ]
  },
  {
   "cell_type": "code",
   "execution_count": 137,
   "metadata": {
    "collapsed": false
   },
   "outputs": [
    {
     "name": "stderr",
     "output_type": "stream",
     "text": [
      "/Users/Jade/anaconda/lib/python2.7/site-packages/ipykernel/__main__.py:2: SettingWithCopyWarning: \n",
      "A value is trying to be set on a copy of a slice from a DataFrame.\n",
      "Try using .loc[row_indexer,col_indexer] = value instead\n",
      "\n",
      "See the caveats in the documentation: http://pandas.pydata.org/pandas-docs/stable/indexing.html#indexing-view-versus-copy\n",
      "  from ipykernel import kernelapp as app\n"
     ]
    }
   ],
   "source": [
    "norm(item_sf, 'time_from_seattle')\n",
    "norm(item_sf, 'numReports')\n",
    "norm(item_sf, 'total_dist')"
   ]
  },
  {
   "cell_type": "code",
   "execution_count": null,
   "metadata": {
    "collapsed": false
   },
   "outputs": [],
   "source": []
  },
  {
   "cell_type": "code",
   "execution_count": 138,
   "metadata": {
    "collapsed": false
   },
   "outputs": [],
   "source": [
    "itemData = graphlab.SFrame(item_sf)"
   ]
  },
  {
   "cell_type": "code",
   "execution_count": 151,
   "metadata": {
    "collapsed": false
   },
   "outputs": [
    {
     "data": {
      "text/html": [
       "<pre>Recsys training: model = ranking_factorization_recommender</pre>"
      ],
      "text/plain": [
       "Recsys training: model = ranking_factorization_recommender"
      ]
     },
     "metadata": {},
     "output_type": "display_data"
    },
    {
     "data": {
      "text/html": [
       "<pre>Preparing data set.</pre>"
      ],
      "text/plain": [
       "Preparing data set."
      ]
     },
     "metadata": {},
     "output_type": "display_data"
    },
    {
     "data": {
      "text/html": [
       "<pre>    Data has 60000 observations with 17057 users and 1576 items.</pre>"
      ],
      "text/plain": [
       "    Data has 60000 observations with 17057 users and 1576 items."
      ]
     },
     "metadata": {},
     "output_type": "display_data"
    },
    {
     "data": {
      "text/html": [
       "<pre>    Data prepared in: 0.228928s</pre>"
      ],
      "text/plain": [
       "    Data prepared in: 0.228928s"
      ]
     },
     "metadata": {},
     "output_type": "display_data"
    },
    {
     "data": {
      "text/html": [
       "<pre>Training ranking_factorization_recommender for recommendations.</pre>"
      ],
      "text/plain": [
       "Training ranking_factorization_recommender for recommendations."
      ]
     },
     "metadata": {},
     "output_type": "display_data"
    },
    {
     "data": {
      "text/html": [
       "<pre>+--------------------------------+--------------------------------------------------+----------+</pre>"
      ],
      "text/plain": [
       "+--------------------------------+--------------------------------------------------+----------+"
      ]
     },
     "metadata": {},
     "output_type": "display_data"
    },
    {
     "data": {
      "text/html": [
       "<pre>| Parameter                      | Description                                      | Value    |</pre>"
      ],
      "text/plain": [
       "| Parameter                      | Description                                      | Value    |"
      ]
     },
     "metadata": {},
     "output_type": "display_data"
    },
    {
     "data": {
      "text/html": [
       "<pre>+--------------------------------+--------------------------------------------------+----------+</pre>"
      ],
      "text/plain": [
       "+--------------------------------+--------------------------------------------------+----------+"
      ]
     },
     "metadata": {},
     "output_type": "display_data"
    },
    {
     "data": {
      "text/html": [
       "<pre>| num_factors                    | Factor Dimension                                 | 32       |</pre>"
      ],
      "text/plain": [
       "| num_factors                    | Factor Dimension                                 | 32       |"
      ]
     },
     "metadata": {},
     "output_type": "display_data"
    },
    {
     "data": {
      "text/html": [
       "<pre>| regularization                 | L2 Regularization on Factors                     | 1e-10    |</pre>"
      ],
      "text/plain": [
       "| regularization                 | L2 Regularization on Factors                     | 1e-10    |"
      ]
     },
     "metadata": {},
     "output_type": "display_data"
    },
    {
     "data": {
      "text/html": [
       "<pre>| solver                         | Solver used for training                         | adagrad  |</pre>"
      ],
      "text/plain": [
       "| solver                         | Solver used for training                         | adagrad  |"
      ]
     },
     "metadata": {},
     "output_type": "display_data"
    },
    {
     "data": {
      "text/html": [
       "<pre>| linear_regularization          | L2 Regularization on Linear Coefficients         | 1e-08    |</pre>"
      ],
      "text/plain": [
       "| linear_regularization          | L2 Regularization on Linear Coefficients         | 1e-08    |"
      ]
     },
     "metadata": {},
     "output_type": "display_data"
    },
    {
     "data": {
      "text/html": [
       "<pre>| side_data_factorization        | Assign Factors for Side Data                     | True     |</pre>"
      ],
      "text/plain": [
       "| side_data_factorization        | Assign Factors for Side Data                     | True     |"
      ]
     },
     "metadata": {},
     "output_type": "display_data"
    },
    {
     "data": {
      "text/html": [
       "<pre>| max_iterations                 | Maximum Number of Iterations                     | 25       |</pre>"
      ],
      "text/plain": [
       "| max_iterations                 | Maximum Number of Iterations                     | 25       |"
      ]
     },
     "metadata": {},
     "output_type": "display_data"
    },
    {
     "data": {
      "text/html": [
       "<pre>+--------------------------------+--------------------------------------------------+----------+</pre>"
      ],
      "text/plain": [
       "+--------------------------------+--------------------------------------------------+----------+"
      ]
     },
     "metadata": {},
     "output_type": "display_data"
    },
    {
     "data": {
      "text/html": [
       "<pre>  Optimizing model using SGD; tuning step size.</pre>"
      ],
      "text/plain": [
       "  Optimizing model using SGD; tuning step size."
      ]
     },
     "metadata": {},
     "output_type": "display_data"
    },
    {
     "data": {
      "text/html": [
       "<pre>  Using 10000 / 60000 points for tuning the step size.</pre>"
      ],
      "text/plain": [
       "  Using 10000 / 60000 points for tuning the step size."
      ]
     },
     "metadata": {},
     "output_type": "display_data"
    },
    {
     "data": {
      "text/html": [
       "<pre>+---------+-------------------+------------------------------------------+</pre>"
      ],
      "text/plain": [
       "+---------+-------------------+------------------------------------------+"
      ]
     },
     "metadata": {},
     "output_type": "display_data"
    },
    {
     "data": {
      "text/html": [
       "<pre>| Attempt | Initial Step Size | Estimated Objective Value                |</pre>"
      ],
      "text/plain": [
       "| Attempt | Initial Step Size | Estimated Objective Value                |"
      ]
     },
     "metadata": {},
     "output_type": "display_data"
    },
    {
     "data": {
      "text/html": [
       "<pre>+---------+-------------------+------------------------------------------+</pre>"
      ],
      "text/plain": [
       "+---------+-------------------+------------------------------------------+"
      ]
     },
     "metadata": {},
     "output_type": "display_data"
    },
    {
     "data": {
      "text/html": [
       "<pre>| 0       | 4.54545           | Not Viable                               |</pre>"
      ],
      "text/plain": [
       "| 0       | 4.54545           | Not Viable                               |"
      ]
     },
     "metadata": {},
     "output_type": "display_data"
    },
    {
     "data": {
      "text/html": [
       "<pre>| 1       | 1.13636           | Not Viable                               |</pre>"
      ],
      "text/plain": [
       "| 1       | 1.13636           | Not Viable                               |"
      ]
     },
     "metadata": {},
     "output_type": "display_data"
    },
    {
     "data": {
      "text/html": [
       "<pre>| 2       | 0.284091          | 0.328178                                 |</pre>"
      ],
      "text/plain": [
       "| 2       | 0.284091          | 0.328178                                 |"
      ]
     },
     "metadata": {},
     "output_type": "display_data"
    },
    {
     "data": {
      "text/html": [
       "<pre>| 3       | 0.142045          | 0.0824609                                |</pre>"
      ],
      "text/plain": [
       "| 3       | 0.142045          | 0.0824609                                |"
      ]
     },
     "metadata": {},
     "output_type": "display_data"
    },
    {
     "data": {
      "text/html": [
       "<pre>| 4       | 0.0710227         | 0.161256                                 |</pre>"
      ],
      "text/plain": [
       "| 4       | 0.0710227         | 0.161256                                 |"
      ]
     },
     "metadata": {},
     "output_type": "display_data"
    },
    {
     "data": {
      "text/html": [
       "<pre>| 5       | 0.0355114         | 0.624203                                 |</pre>"
      ],
      "text/plain": [
       "| 5       | 0.0355114         | 0.624203                                 |"
      ]
     },
     "metadata": {},
     "output_type": "display_data"
    },
    {
     "data": {
      "text/html": [
       "<pre>+---------+-------------------+------------------------------------------+</pre>"
      ],
      "text/plain": [
       "+---------+-------------------+------------------------------------------+"
      ]
     },
     "metadata": {},
     "output_type": "display_data"
    },
    {
     "data": {
      "text/html": [
       "<pre>| Final   | 0.142045          | 0.0824609                                |</pre>"
      ],
      "text/plain": [
       "| Final   | 0.142045          | 0.0824609                                |"
      ]
     },
     "metadata": {},
     "output_type": "display_data"
    },
    {
     "data": {
      "text/html": [
       "<pre>+---------+-------------------+------------------------------------------+</pre>"
      ],
      "text/plain": [
       "+---------+-------------------+------------------------------------------+"
      ]
     },
     "metadata": {},
     "output_type": "display_data"
    },
    {
     "data": {
      "text/html": [
       "<pre>Starting Optimization.</pre>"
      ],
      "text/plain": [
       "Starting Optimization."
      ]
     },
     "metadata": {},
     "output_type": "display_data"
    },
    {
     "data": {
      "text/html": [
       "<pre>+---------+--------------+-------------------+-----------------------+-------------+</pre>"
      ],
      "text/plain": [
       "+---------+--------------+-------------------+-----------------------+-------------+"
      ]
     },
     "metadata": {},
     "output_type": "display_data"
    },
    {
     "data": {
      "text/html": [
       "<pre>| Iter.   | Elapsed Time | Approx. Objective | Approx. Training RMSE | Step Size   |</pre>"
      ],
      "text/plain": [
       "| Iter.   | Elapsed Time | Approx. Objective | Approx. Training RMSE | Step Size   |"
      ]
     },
     "metadata": {},
     "output_type": "display_data"
    },
    {
     "data": {
      "text/html": [
       "<pre>+---------+--------------+-------------------+-----------------------+-------------+</pre>"
      ],
      "text/plain": [
       "+---------+--------------+-------------------+-----------------------+-------------+"
      ]
     },
     "metadata": {},
     "output_type": "display_data"
    },
    {
     "data": {
      "text/html": [
       "<pre>| Initial | 155us        | 2.01607           | 1.41988               |             |</pre>"
      ],
      "text/plain": [
       "| Initial | 155us        | 2.01607           | 1.41988               |             |"
      ]
     },
     "metadata": {},
     "output_type": "display_data"
    },
    {
     "data": {
      "text/html": [
       "<pre>+---------+--------------+-------------------+-----------------------+-------------+</pre>"
      ],
      "text/plain": [
       "+---------+--------------+-------------------+-----------------------+-------------+"
      ]
     },
     "metadata": {},
     "output_type": "display_data"
    },
    {
     "data": {
      "text/html": [
       "<pre>| 1       | 432.527ms    | 2.01455           | 1.41929               | 0.142045    |</pre>"
      ],
      "text/plain": [
       "| 1       | 432.527ms    | 2.01455           | 1.41929               | 0.142045    |"
      ]
     },
     "metadata": {},
     "output_type": "display_data"
    },
    {
     "data": {
      "text/html": [
       "<pre>| 2       | 772.166ms    | 0.969827          | 0.984764              | 0.142045    |</pre>"
      ],
      "text/plain": [
       "| 2       | 772.166ms    | 0.969827          | 0.984764              | 0.142045    |"
      ]
     },
     "metadata": {},
     "output_type": "display_data"
    },
    {
     "data": {
      "text/html": [
       "<pre>| 3       | 1.17s        | 0.604171          | 0.777266              | 0.142045    |</pre>"
      ],
      "text/plain": [
       "| 3       | 1.17s        | 0.604171          | 0.777266              | 0.142045    |"
      ]
     },
     "metadata": {},
     "output_type": "display_data"
    },
    {
     "data": {
      "text/html": [
       "<pre>| 4       | 1.48s        | 0.473511          | 0.68811               | 0.142045    |</pre>"
      ],
      "text/plain": [
       "| 4       | 1.48s        | 0.473511          | 0.68811               | 0.142045    |"
      ]
     },
     "metadata": {},
     "output_type": "display_data"
    },
    {
     "data": {
      "text/html": [
       "<pre>| 5       | 1.80s        | 0.413508          | 0.643037              | 0.142045    |</pre>"
      ],
      "text/plain": [
       "| 5       | 1.80s        | 0.413508          | 0.643037              | 0.142045    |"
      ]
     },
     "metadata": {},
     "output_type": "display_data"
    },
    {
     "data": {
      "text/html": [
       "<pre>| 6       | 2.12s        | 0.379199          | 0.615782              | 0.142045    |</pre>"
      ],
      "text/plain": [
       "| 6       | 2.12s        | 0.379199          | 0.615782              | 0.142045    |"
      ]
     },
     "metadata": {},
     "output_type": "display_data"
    },
    {
     "data": {
      "text/html": [
       "<pre>| 10      | 3.38s        | 0.323312          | 0.568595              | 0.142045    |</pre>"
      ],
      "text/plain": [
       "| 10      | 3.38s        | 0.323312          | 0.568595              | 0.142045    |"
      ]
     },
     "metadata": {},
     "output_type": "display_data"
    },
    {
     "data": {
      "text/html": [
       "<pre>| 11      | 3.72s        | 0.316754          | 0.562798              | 0.142045    |</pre>"
      ],
      "text/plain": [
       "| 11      | 3.72s        | 0.316754          | 0.562798              | 0.142045    |"
      ]
     },
     "metadata": {},
     "output_type": "display_data"
    },
    {
     "data": {
      "text/html": [
       "<pre>| 15      | 4.99s        | 0.299077          | 0.546868              | 0.142045    |</pre>"
      ],
      "text/plain": [
       "| 15      | 4.99s        | 0.299077          | 0.546868              | 0.142045    |"
      ]
     },
     "metadata": {},
     "output_type": "display_data"
    },
    {
     "data": {
      "text/html": [
       "<pre>| 20      | 6.54s        | 0.287917          | 0.536568              | 0.142045    |</pre>"
      ],
      "text/plain": [
       "| 20      | 6.54s        | 0.287917          | 0.536568              | 0.142045    |"
      ]
     },
     "metadata": {},
     "output_type": "display_data"
    },
    {
     "data": {
      "text/html": [
       "<pre>| 25      | 8.11s        | 0.281283          | 0.530349              | 0.142045    |</pre>"
      ],
      "text/plain": [
       "| 25      | 8.11s        | 0.281283          | 0.530349              | 0.142045    |"
      ]
     },
     "metadata": {},
     "output_type": "display_data"
    },
    {
     "data": {
      "text/html": [
       "<pre>+---------+--------------+-------------------+-----------------------+-------------+</pre>"
      ],
      "text/plain": [
       "+---------+--------------+-------------------+-----------------------+-------------+"
      ]
     },
     "metadata": {},
     "output_type": "display_data"
    },
    {
     "data": {
      "text/html": [
       "<pre>Optimization Complete: Maximum number of passes through the data reached.</pre>"
      ],
      "text/plain": [
       "Optimization Complete: Maximum number of passes through the data reached."
      ]
     },
     "metadata": {},
     "output_type": "display_data"
    },
    {
     "data": {
      "text/html": [
       "<pre>Computing final objective value and training RMSE.</pre>"
      ],
      "text/plain": [
       "Computing final objective value and training RMSE."
      ]
     },
     "metadata": {},
     "output_type": "display_data"
    },
    {
     "data": {
      "text/html": [
       "<pre>       Final objective value: 0.238595</pre>"
      ],
      "text/plain": [
       "       Final objective value: 0.238595"
      ]
     },
     "metadata": {},
     "output_type": "display_data"
    },
    {
     "data": {
      "text/html": [
       "<pre>       Final training RMSE: 0.488449</pre>"
      ],
      "text/plain": [
       "       Final training RMSE: 0.488449"
      ]
     },
     "metadata": {},
     "output_type": "display_data"
    }
   ],
   "source": [
    "model = graphlab.recommender.ranking_factorization_recommender.create(df_train, user_id='author_id', \n",
    "                                                                      item_id='hike_id', target='Rating', \n",
    "                                                                      item_data=itemData, ranking_regularization=0,\n",
    "                                                                        regularization=1e-10,\n",
    "                                                                      linear_regularization=1e-8)"
   ]
  },
  {
   "cell_type": "code",
   "execution_count": 152,
   "metadata": {
    "collapsed": false
   },
   "outputs": [],
   "source": [
    "sim = model.get_similar_items(items=[87], k=5)"
   ]
  },
  {
   "cell_type": "code",
   "execution_count": 153,
   "metadata": {
    "collapsed": false
   },
   "outputs": [],
   "source": [
    "hike_ids = [f for f in sim['similar']]"
   ]
  },
  {
   "cell_type": "code",
   "execution_count": 154,
   "metadata": {
    "collapsed": false
   },
   "outputs": [],
   "source": [
    "def printRecs(recs):\n",
    "    for h in [f for f in recs['hike_id']]:\n",
    "        row = item_data[item_data['hike_id']==h]\n",
    "        print '**', row['hike_name'].values[0], '**'\n",
    "        print 'Total Distance: ', row['total_dist'].values[0]\n",
    "        print 'Elevation Gain: ', row['elevation gain'].values[0]\n",
    "        print 'Driving time from Seattle (minutes): ', row['time_from_seattle'].values[0]\n",
    "        print '----------------------------------------------------------------'"
   ]
  },
  {
   "cell_type": "code",
   "execution_count": 155,
   "metadata": {
    "collapsed": false
   },
   "outputs": [
    {
     "data": {
      "text/html": [
       "<div>\n",
       "<table border=\"1\" class=\"dataframe\">\n",
       "  <thead>\n",
       "    <tr style=\"text-align: right;\">\n",
       "      <th></th>\n",
       "      <th>hike_name</th>\n",
       "      <th>hike_id</th>\n",
       "      <th>numReports</th>\n",
       "      <th>total_dist</th>\n",
       "      <th>elevation gain</th>\n",
       "      <th>time_from_seattle</th>\n",
       "      <th>Wildlife</th>\n",
       "      <th>Rivers</th>\n",
       "      <th>Summits</th>\n",
       "      <th>Good for kids</th>\n",
       "    </tr>\n",
       "  </thead>\n",
       "  <tbody>\n",
       "    <tr>\n",
       "      <th>83</th>\n",
       "      <td>Mailbox Peak</td>\n",
       "      <td>83</td>\n",
       "      <td>220.0</td>\n",
       "      <td>9.4</td>\n",
       "      <td>4000.0</td>\n",
       "      <td>42.816667</td>\n",
       "      <td>0</td>\n",
       "      <td>0</td>\n",
       "      <td>1</td>\n",
       "      <td>0</td>\n",
       "    </tr>\n",
       "  </tbody>\n",
       "</table>\n",
       "</div>"
      ],
      "text/plain": [
       "       hike_name  hike_id  numReports  total_dist  elevation gain  \\\n",
       "83  Mailbox Peak       83       220.0         9.4          4000.0   \n",
       "\n",
       "    time_from_seattle  Wildlife  Rivers  Summits  Good for kids  \n",
       "83          42.816667         0       0        1              0  "
      ]
     },
     "execution_count": 155,
     "metadata": {},
     "output_type": "execute_result"
    }
   ],
   "source": [
    "item_data[item_data['hike_name']=='Mailbox Peak']"
   ]
  },
  {
   "cell_type": "code",
   "execution_count": 156,
   "metadata": {
    "collapsed": false
   },
   "outputs": [
    {
     "name": "stdout",
     "output_type": "stream",
     "text": [
      "+-----------+---------+---------------+------+\n",
      "| author_id | hike_id |     score     | rank |\n",
      "+-----------+---------+---------------+------+\n",
      "|    2222   |   238   | 4.97114866371 |  1   |\n",
      "|    2222   |   525   | 4.91055590831 |  2   |\n",
      "|    2222   |   642   | 4.88502812808 |  3   |\n",
      "|    2222   |   710   | 4.51497164788 |  4   |\n",
      "|    2222   |   499   | 4.51125926319 |  5   |\n",
      "|    2222   |   515   | 4.49509553859 |  6   |\n",
      "|    2222   |   242   | 4.47599709247 |  7   |\n",
      "|    2222   |   121   | 4.47233295856 |  8   |\n",
      "|    2222   |   295   | 4.43095226274 |  9   |\n",
      "|    2222   |   643   | 4.40443453403 |  10  |\n",
      "+-----------+---------+---------------+------+\n",
      "[10 rows x 4 columns]\n",
      "\n"
     ]
    }
   ],
   "source": [
    "new_instance = pd.DataFrame.from_dict({'hike_id': [87], 'author_id': [2222], 'Rating':[5] } )\n",
    "sf = graphlab.SFrame(new_instance)\n",
    "recs = model.recommend(users=[2222], new_observation_data=sf)\n",
    "print recs"
   ]
  },
  {
   "cell_type": "code",
   "execution_count": 157,
   "metadata": {
    "collapsed": false
   },
   "outputs": [
    {
     "name": "stdout",
     "output_type": "stream",
     "text": [
      "** Lincoln Park **\n",
      "Total Distance:  1.85\n",
      "Elevation Gain:  160.0\n",
      "Driving time from Seattle (minutes):  18.9833333333\n",
      "----------------------------------------------------------------\n",
      "** Dosewallips State Park - Steam Donkey Trail **\n",
      "Total Distance:  3.5\n",
      "Elevation Gain:  400.0\n",
      "Driving time from Seattle (minutes):  125.5\n",
      "----------------------------------------------------------------\n",
      "** Jungle Hill Loop **\n",
      "Total Distance:  12.0\n",
      "Elevation Gain:  2400.0\n",
      "Driving time from Seattle (minutes):  331.316666667\n",
      "----------------------------------------------------------------\n",
      "** Damfino Lakes - Excelsior Peak **\n",
      "Total Distance:  5.6\n",
      "Elevation Gain:  1500.0\n",
      "Driving time from Seattle (minutes):  187.716666667\n",
      "----------------------------------------------------------------\n",
      "** Big Rock **\n",
      "Total Distance:  2.5\n",
      "Elevation Gain:  600.0\n",
      "Driving time from Seattle (minutes):  270.4\n",
      "----------------------------------------------------------------\n",
      "** Watershed Park **\n",
      "Total Distance:  1.36\n",
      "Elevation Gain:  150.0\n",
      "Driving time from Seattle (minutes):  63.0166666667\n",
      "----------------------------------------------------------------\n",
      "** Cowiche Canyon **\n",
      "Total Distance:  6.0\n",
      "Elevation Gain:  100.0\n",
      "Driving time from Seattle (minutes):  144.333333333\n",
      "----------------------------------------------------------------\n",
      "** Rowena Plateau and Tom McCall Point **\n",
      "Total Distance:  3.4\n",
      "Elevation Gain:  1200.0\n",
      "Driving time from Seattle (minutes):  229.583333333\n",
      "----------------------------------------------------------------\n",
      "** Lake Padden Park **\n",
      "Total Distance:  7.7\n",
      "Elevation Gain:  400.0\n",
      "Driving time from Seattle (minutes):  83.95\n",
      "----------------------------------------------------------------\n",
      "** Mount Spokane State Park - Mount Kit Carson Loop Road **\n",
      "Total Distance:  13.0\n",
      "Elevation Gain:  1300.0\n",
      "Driving time from Seattle (minutes):  2863.28333333\n",
      "----------------------------------------------------------------\n"
     ]
    }
   ],
   "source": [
    "printRecs(recs)"
   ]
  },
  {
   "cell_type": "code",
   "execution_count": 160,
   "metadata": {
    "collapsed": false
   },
   "outputs": [],
   "source": [
    "recs = model.recommend(users=[670000000])"
   ]
  },
  {
   "cell_type": "code",
   "execution_count": 161,
   "metadata": {
    "collapsed": false
   },
   "outputs": [
    {
     "name": "stdout",
     "output_type": "stream",
     "text": [
      "** Lincoln Park **\n",
      "Total Distance:  1.85\n",
      "Elevation Gain:  160.0\n",
      "Driving time from Seattle (minutes):  18.9833333333\n",
      "----------------------------------------------------------------\n",
      "** Jungle Hill Loop **\n",
      "Total Distance:  12.0\n",
      "Elevation Gain:  2400.0\n",
      "Driving time from Seattle (minutes):  331.316666667\n",
      "----------------------------------------------------------------\n",
      "** Watershed Park **\n",
      "Total Distance:  1.36\n",
      "Elevation Gain:  150.0\n",
      "Driving time from Seattle (minutes):  63.0166666667\n",
      "----------------------------------------------------------------\n",
      "** Rowena Plateau and Tom McCall Point **\n",
      "Total Distance:  3.4\n",
      "Elevation Gain:  1200.0\n",
      "Driving time from Seattle (minutes):  229.583333333\n",
      "----------------------------------------------------------------\n",
      "** Big Rock **\n",
      "Total Distance:  2.5\n",
      "Elevation Gain:  600.0\n",
      "Driving time from Seattle (minutes):  270.4\n",
      "----------------------------------------------------------------\n",
      "** McCormick Forest Park **\n",
      "Total Distance:  3.0\n",
      "Elevation Gain:  200.0\n",
      "Driving time from Seattle (minutes):  50.25\n",
      "----------------------------------------------------------------\n",
      "** Candy Point Trail **\n",
      "Total Distance:  1.5\n",
      "Elevation Gain:  700.0\n",
      "Driving time from Seattle (minutes):  229.15\n",
      "----------------------------------------------------------------\n",
      "** Camp Creek Falls **\n",
      "Total Distance:  0.6\n",
      "Elevation Gain:  40.0\n",
      "Driving time from Seattle (minutes):  146.733333333\n",
      "----------------------------------------------------------------\n",
      "** Woods Creek **\n",
      "Total Distance:  2.5\n",
      "Elevation Gain:  1100.0\n",
      "Driving time from Seattle (minutes):  142.033333333\n",
      "----------------------------------------------------------------\n",
      "** Stimpson Nature Reserve **\n",
      "Total Distance:  4.9\n",
      "Elevation Gain:  300.0\n",
      "Driving time from Seattle (minutes):  92.8166666667\n",
      "----------------------------------------------------------------\n"
     ]
    }
   ],
   "source": [
    "printRecs(recs)"
   ]
  },
  {
   "cell_type": "markdown",
   "metadata": {},
   "source": [
    "## Item Content recommender\n",
    "https://turi.com/products/create/docs/generated/graphlab.recommender.item_content_recommender.ItemContentRecommender.html"
   ]
  },
  {
   "cell_type": "code",
   "execution_count": 164,
   "metadata": {
    "collapsed": false
   },
   "outputs": [
    {
     "name": "stdout",
     "output_type": "stream",
     "text": [
      "WARNING: The ItemContentRecommender model is still in beta.\n",
      "WARNING: This feature transformer is still in beta, and some interpretation rules may change in the future.\n",
      "('Applying transform:\\n', Class             : AutoVectorizer\n",
      "\n",
      "Model Fields\n",
      "------------\n",
      "Features          : ['hike_name', 'numReports', 'total_dist', 'elevation gain', 'time_from_seattle', 'Wildlife', 'Rivers', 'Summits', 'Good for kids']\n",
      "Excluded Features : ['hike_id']\n",
      "\n",
      "Column             Type   Interpretation  Transforms                         Output Type\n",
      "-----------------  -----  --------------  ---------------------------------  -----------\n",
      "hike_name          str    short_text      3-Character NGram Counts -> TFIDF  dict       \n",
      "numReports         float  numerical       None                               float      \n",
      "total_dist         float  numerical       None                               float      \n",
      "elevation gain     float  numerical       None                               float      \n",
      "time_from_seattle  float  numerical       None                               float      \n",
      "Wildlife           int    categorical     astype(str)                        str        \n",
      "Rivers             int    categorical     astype(str)                        str        \n",
      "Summits            int    categorical     astype(str)                        str        \n",
      "Good for kids      int    categorical     astype(str)                        str        \n",
      "\n",
      ")"
     ]
    },
    {
     "data": {
      "text/html": [
       "<pre>Recsys training: model = item_content_recommender</pre>"
      ],
      "text/plain": [
       "Recsys training: model = item_content_recommender"
      ]
     },
     "metadata": {},
     "output_type": "display_data"
    },
    {
     "data": {
      "text/html": [
       "<pre>Starting brute force nearest neighbors model training.</pre>"
      ],
      "text/plain": [
       "Starting brute force nearest neighbors model training."
      ]
     },
     "metadata": {},
     "output_type": "display_data"
    },
    {
     "data": {
      "text/html": [
       "<pre>Starting pairwise querying.</pre>"
      ],
      "text/plain": [
       "Starting pairwise querying."
      ]
     },
     "metadata": {},
     "output_type": "display_data"
    },
    {
     "data": {
      "text/html": [
       "<pre>+--------------+---------+-------------+--------------+</pre>"
      ],
      "text/plain": [
       "+--------------+---------+-------------+--------------+"
      ]
     },
     "metadata": {},
     "output_type": "display_data"
    },
    {
     "data": {
      "text/html": [
       "<pre>| Query points | # Pairs | % Complete. | Elapsed Time |</pre>"
      ],
      "text/plain": [
       "| Query points | # Pairs | % Complete. | Elapsed Time |"
      ]
     },
     "metadata": {},
     "output_type": "display_data"
    },
    {
     "data": {
      "text/html": [
       "<pre>+--------------+---------+-------------+--------------+</pre>"
      ],
      "text/plain": [
       "+--------------+---------+-------------+--------------+"
      ]
     },
     "metadata": {},
     "output_type": "display_data"
    },
    {
     "data": {
      "text/html": [
       "<pre>| 1            | 1413    | 0.0707714   | 41.11ms      |</pre>"
      ],
      "text/plain": [
       "| 1            | 1413    | 0.0707714   | 41.11ms      |"
      ]
     },
     "metadata": {},
     "output_type": "display_data"
    },
    {
     "data": {
      "text/html": [
       "<pre>| Done         |         | 100         | 742.359ms    |</pre>"
      ],
      "text/plain": [
       "| Done         |         | 100         | 742.359ms    |"
      ]
     },
     "metadata": {},
     "output_type": "display_data"
    },
    {
     "data": {
      "text/html": [
       "<pre>+--------------+---------+-------------+--------------+</pre>"
      ],
      "text/plain": [
       "+--------------+---------+-------------+--------------+"
      ]
     },
     "metadata": {},
     "output_type": "display_data"
    },
    {
     "data": {
      "text/html": [
       "<pre>Preparing data set.</pre>"
      ],
      "text/plain": [
       "Preparing data set."
      ]
     },
     "metadata": {},
     "output_type": "display_data"
    },
    {
     "data": {
      "text/html": [
       "<pre>    Data has 0 observations with 0 users and 1413 items.</pre>"
      ],
      "text/plain": [
       "    Data has 0 observations with 0 users and 1413 items."
      ]
     },
     "metadata": {},
     "output_type": "display_data"
    },
    {
     "data": {
      "text/html": [
       "<pre>    Data prepared in: 0.212464s</pre>"
      ],
      "text/plain": [
       "    Data prepared in: 0.212464s"
      ]
     },
     "metadata": {},
     "output_type": "display_data"
    },
    {
     "data": {
      "text/html": [
       "<pre>Loading user-provided nearest items.</pre>"
      ],
      "text/plain": [
       "Loading user-provided nearest items."
      ]
     },
     "metadata": {},
     "output_type": "display_data"
    },
    {
     "data": {
      "text/html": [
       "<pre>Generating candidate set for working with new users.</pre>"
      ],
      "text/plain": [
       "Generating candidate set for working with new users."
      ]
     },
     "metadata": {},
     "output_type": "display_data"
    }
   ],
   "source": [
    "item_content_model = graphlab.recommender.item_content_recommender.create(itemData, 'hike_id')"
   ]
  },
  {
   "cell_type": "code",
   "execution_count": 166,
   "metadata": {
    "collapsed": false
   },
   "outputs": [],
   "source": [
    "recs = item_content_model.get_similar_items(items=[87])"
   ]
  },
  {
   "cell_type": "code",
   "execution_count": 169,
   "metadata": {
    "collapsed": false
   },
   "outputs": [
    {
     "name": "stdout",
     "output_type": "stream",
     "text": [
      "      hike_name  hike_id  numReports  total_dist  elevation gain  \\\n",
      "424  Mount Zion      424       120.0         4.6          1300.0   \n",
      "\n",
      "     time_from_seattle  Wildlife  Rivers  Summits  Good for kids  \n",
      "424              141.3         0       0        0              0  \n",
      "         hike_name  hike_id  numReports  total_dist  elevation gain  \\\n",
      "1521  Red Mountain     1521        96.0         2.0           700.0   \n",
      "\n",
      "      time_from_seattle  Wildlife  Rivers  Summits  Good for kids  \n",
      "1521         142.266667         0       0        0              0  \n",
      "          hike_name  hike_id  numReports  total_dist  elevation gain  \\\n",
      "846  Table Mountain      846        81.0         2.6           725.0   \n",
      "\n",
      "     time_from_seattle  Wildlife  Rivers  Summits  Good for kids  \n",
      "846              171.7         0       0        0              0  \n",
      "            hike_name  hike_id  numReports  total_dist  elevation gain  \\\n",
      "2093  Tongue Mountain     2093        19.0         3.0          1200.0   \n",
      "\n",
      "      time_from_seattle  Wildlife  Rivers  Summits  Good for kids  \n",
      "2093             165.45         0       0        0              0  \n",
      "                       hike_name  hike_id  numReports  total_dist  \\\n",
      "370  Esmeralda Basin (Esmerelda)      370       207.0         7.0   \n",
      "\n",
      "     elevation gain  time_from_seattle  Wildlife  Rivers  Summits  \\\n",
      "370          1750.0         140.283333         0       0        0   \n",
      "\n",
      "     Good for kids  \n",
      "370              0  \n",
      "     hike_name  hike_id  numReports  total_dist  elevation gain  \\\n",
      "262  High Rock      262       142.0         3.2          1365.0   \n",
      "\n",
      "     time_from_seattle  Wildlife  Rivers  Summits  Good for kids  \n",
      "262         147.783333         0       0        0              0  \n",
      "               hike_name  hike_id  numReports  total_dist  elevation gain  \\\n",
      "258  Snoquera Falls Loop      258       175.0         4.2           700.0   \n",
      "\n",
      "     time_from_seattle  Wildlife  Rivers  Summits  Good for kids  \n",
      "258          88.016667         0       0        0              0  \n",
      "          hike_name  hike_id  numReports  total_dist  elevation gain  \\\n",
      "1129  Pinnacle Lake     1129       138.0         3.8          1200.0   \n",
      "\n",
      "      time_from_seattle  Wildlife  Rivers  Summits  Good for kids  \n",
      "1129          98.516667         0       0        0              0  \n",
      "           hike_name  hike_id  numReports  total_dist  elevation gain  \\\n",
      "1111  Round Mountain     1111        25.0         4.5          1700.0   \n",
      "\n",
      "      time_from_seattle  Wildlife  Rivers  Summits  Good for kids  \n",
      "1111         184.533333         0       0        0              0  \n",
      "                  hike_name  hike_id  numReports  total_dist  elevation gain  \\\n",
      "2011  French Cabin Mountain     2011         5.0         6.0          1750.0   \n",
      "\n",
      "      time_from_seattle  Wildlife  Rivers  Summits  Good for kids  \n",
      "2011             118.95         0       0        0              0  \n"
     ]
    }
   ],
   "source": [
    "for i in recs['similar']:\n",
    "    print item_data[item_data['hike_id']==i]"
   ]
  },
  {
   "cell_type": "code",
   "execution_count": null,
   "metadata": {
    "collapsed": true
   },
   "outputs": [],
   "source": []
  }
 ],
 "metadata": {
  "kernelspec": {
   "display_name": "Python 2",
   "language": "python",
   "name": "python2"
  },
  "language_info": {
   "codemirror_mode": {
    "name": "ipython",
    "version": 2
   },
   "file_extension": ".py",
   "mimetype": "text/x-python",
   "name": "python",
   "nbconvert_exporter": "python",
   "pygments_lexer": "ipython2",
   "version": "2.7.12"
  }
 },
 "nbformat": 4,
 "nbformat_minor": 0
}
