{
 "cells": [
  {
   "cell_type": "code",
   "execution_count": 30,
   "metadata": {
    "collapsed": false
   },
   "outputs": [],
   "source": [
    "from __future__ import division\n",
    "import graphlab\n",
    "import pandas as pd\n",
    "import numpy as np\n",
    "from sklearn.cross_validation import train_test_split"
   ]
  },
  {
   "cell_type": "code",
   "execution_count": null,
   "metadata": {
    "collapsed": true
   },
   "outputs": [],
   "source": [
    "df = pd.read_csv(open('data/trip_reports.csv','rU'), encoding='utf-8', engine='c')"
   ]
  },
  {
   "cell_type": "code",
   "execution_count": 62,
   "metadata": {
    "collapsed": false
   },
   "outputs": [
    {
     "data": {
      "text/html": [
       "<div>\n",
       "<table border=\"1\" class=\"dataframe\">\n",
       "  <thead>\n",
       "    <tr style=\"text-align: right;\">\n",
       "      <th></th>\n",
       "      <th>Name</th>\n",
       "      <th>TextBlobSentiment</th>\n",
       "      <th>Rating</th>\n",
       "      <th>authorId</th>\n",
       "      <th>author</th>\n",
       "      <th>hikeId</th>\n",
       "      <th>Date</th>\n",
       "      <th>Text</th>\n",
       "    </tr>\n",
       "  </thead>\n",
       "  <tbody>\n",
       "    <tr>\n",
       "      <th>710</th>\n",
       "      <td>Oyster Dome</td>\n",
       "      <td>0.294118</td>\n",
       "      <td>5.0</td>\n",
       "      <td>536.0</td>\n",
       "      <td>Alpine Art</td>\n",
       "      <td>2151.0</td>\n",
       "      <td>Apr 27, 2003</td>\n",
       "      <td>This was my first trip to the Oyster Dome. It ...</td>\n",
       "    </tr>\n",
       "    <tr>\n",
       "      <th>1619</th>\n",
       "      <td>Old Robe Canyon</td>\n",
       "      <td>0.003611</td>\n",
       "      <td>1.0</td>\n",
       "      <td>536.0</td>\n",
       "      <td>Alpine Art</td>\n",
       "      <td>2125.0</td>\n",
       "      <td>Jun 23, 2005</td>\n",
       "      <td>We started out to hike to Sauk River but forgo...</td>\n",
       "    </tr>\n",
       "    <tr>\n",
       "      <th>2641</th>\n",
       "      <td>Lake Serene - Bridal Veil Falls</td>\n",
       "      <td>0.187963</td>\n",
       "      <td>4.0</td>\n",
       "      <td>536.0</td>\n",
       "      <td>Alpine Art</td>\n",
       "      <td>1516.0</td>\n",
       "      <td>Aug 12, 2011</td>\n",
       "      <td>A great day for a hike, but a long and labored...</td>\n",
       "    </tr>\n",
       "    <tr>\n",
       "      <th>2919</th>\n",
       "      <td>Lake Serene - Bridal Veil Falls</td>\n",
       "      <td>0.234707</td>\n",
       "      <td>4.0</td>\n",
       "      <td>536.0</td>\n",
       "      <td>Alpine Art</td>\n",
       "      <td>1516.0</td>\n",
       "      <td>May 26, 2003</td>\n",
       "      <td>What a difference a trail makes. My last visit...</td>\n",
       "    </tr>\n",
       "    <tr>\n",
       "      <th>4473</th>\n",
       "      <td>Lake Twentytwo - Lake 22</td>\n",
       "      <td>0.229340</td>\n",
       "      <td>4.0</td>\n",
       "      <td>536.0</td>\n",
       "      <td>Alpine Art</td>\n",
       "      <td>1521.0</td>\n",
       "      <td>Jun 26, 2012</td>\n",
       "      <td>A wet day for a great short hike to Lake 22.  ...</td>\n",
       "    </tr>\n",
       "    <tr>\n",
       "      <th>5077</th>\n",
       "      <td>Licorice Fern Trail</td>\n",
       "      <td>0.034741</td>\n",
       "      <td>1.0</td>\n",
       "      <td>536.0</td>\n",
       "      <td>Alpine Art</td>\n",
       "      <td>1584.0</td>\n",
       "      <td>Sep 07, 2003</td>\n",
       "      <td>Trail work brought me to this trail system aga...</td>\n",
       "    </tr>\n",
       "    <tr>\n",
       "      <th>5561</th>\n",
       "      <td>Twin Falls</td>\n",
       "      <td>0.283163</td>\n",
       "      <td>5.0</td>\n",
       "      <td>536.0</td>\n",
       "      <td>Alpine Art</td>\n",
       "      <td>3030.0</td>\n",
       "      <td>Feb 17, 2008</td>\n",
       "      <td>Twin Falls State Park is a great walk along th...</td>\n",
       "    </tr>\n",
       "    <tr>\n",
       "      <th>6465</th>\n",
       "      <td>Burroughs Mountain</td>\n",
       "      <td>0.161760</td>\n",
       "      <td>3.0</td>\n",
       "      <td>536.0</td>\n",
       "      <td>Alpine Art</td>\n",
       "      <td>321.0</td>\n",
       "      <td>Aug 21, 2015</td>\n",
       "      <td>This is a hike that got altered due in part to...</td>\n",
       "    </tr>\n",
       "    <tr>\n",
       "      <th>7529</th>\n",
       "      <td>Heather Lake</td>\n",
       "      <td>0.124861</td>\n",
       "      <td>2.0</td>\n",
       "      <td>536.0</td>\n",
       "      <td>Alpine Art</td>\n",
       "      <td>1172.0</td>\n",
       "      <td>Mar 24, 2005</td>\n",
       "      <td>A sunny Thursday and daughter home on spring b...</td>\n",
       "    </tr>\n",
       "    <tr>\n",
       "      <th>7543</th>\n",
       "      <td>Heather Lake</td>\n",
       "      <td>0.099942</td>\n",
       "      <td>2.0</td>\n",
       "      <td>536.0</td>\n",
       "      <td>Alpine Art</td>\n",
       "      <td>1172.0</td>\n",
       "      <td>Nov 01, 2003</td>\n",
       "      <td>This is one of those hikes that can be done al...</td>\n",
       "    </tr>\n",
       "    <tr>\n",
       "      <th>7828</th>\n",
       "      <td>Summit Lake</td>\n",
       "      <td>0.190491</td>\n",
       "      <td>4.0</td>\n",
       "      <td>536.0</td>\n",
       "      <td>Alpine Art</td>\n",
       "      <td>2812.0</td>\n",
       "      <td>Oct 10, 2012</td>\n",
       "      <td>A great day for this hike.  Tom and I left Sea...</td>\n",
       "    </tr>\n",
       "    <tr>\n",
       "      <th>10421</th>\n",
       "      <td>Rattlesnake Ledge</td>\n",
       "      <td>0.361861</td>\n",
       "      <td>5.0</td>\n",
       "      <td>536.0</td>\n",
       "      <td>Alpine Art</td>\n",
       "      <td>2373.0</td>\n",
       "      <td>Jul 20, 2003</td>\n",
       "      <td>Sunday was hot and dry and a famliy member was...</td>\n",
       "    </tr>\n",
       "    <tr>\n",
       "      <th>10424</th>\n",
       "      <td>Rattlesnake Ledge</td>\n",
       "      <td>0.232790</td>\n",
       "      <td>4.0</td>\n",
       "      <td>536.0</td>\n",
       "      <td>Alpine Art</td>\n",
       "      <td>2373.0</td>\n",
       "      <td>Jun 15, 2003</td>\n",
       "      <td>This was my Dad's Day treat, a family hike. Da...</td>\n",
       "    </tr>\n",
       "    <tr>\n",
       "      <th>11484</th>\n",
       "      <td>Little Si</td>\n",
       "      <td>0.180556</td>\n",
       "      <td>4.0</td>\n",
       "      <td>536.0</td>\n",
       "      <td>Alpine Art</td>\n",
       "      <td>1624.0</td>\n",
       "      <td>Apr 14, 2011</td>\n",
       "      <td>A great walk with some elevation gain, modest ...</td>\n",
       "    </tr>\n",
       "    <tr>\n",
       "      <th>13604</th>\n",
       "      <td>Talapus and Olallie Lakes</td>\n",
       "      <td>0.067071</td>\n",
       "      <td>1.0</td>\n",
       "      <td>536.0</td>\n",
       "      <td>Alpine Art</td>\n",
       "      <td>2868.0</td>\n",
       "      <td>Jun 22, 2014</td>\n",
       "      <td>This is an easy walk that many shared with me ...</td>\n",
       "    </tr>\n",
       "    <tr>\n",
       "      <th>13750</th>\n",
       "      <td>Talapus and Olallie Lakes</td>\n",
       "      <td>0.157679</td>\n",
       "      <td>3.0</td>\n",
       "      <td>536.0</td>\n",
       "      <td>Alpine Art</td>\n",
       "      <td>2868.0</td>\n",
       "      <td>Oct 27, 2011</td>\n",
       "      <td>The day was fair, if cool, with excellent trai...</td>\n",
       "    </tr>\n",
       "    <tr>\n",
       "      <th>13763</th>\n",
       "      <td>Talapus and Olallie Lakes</td>\n",
       "      <td>0.278261</td>\n",
       "      <td>5.0</td>\n",
       "      <td>536.0</td>\n",
       "      <td>Alpine Art</td>\n",
       "      <td>2868.0</td>\n",
       "      <td>Jun 27, 2011</td>\n",
       "      <td>An interesting walk to a much visited and love...</td>\n",
       "    </tr>\n",
       "    <tr>\n",
       "      <th>13784</th>\n",
       "      <td>Talapus and Olallie Lakes</td>\n",
       "      <td>0.059722</td>\n",
       "      <td>1.0</td>\n",
       "      <td>536.0</td>\n",
       "      <td>Alpine Art</td>\n",
       "      <td>2868.0</td>\n",
       "      <td>Sep 20, 2010</td>\n",
       "      <td>Don't complain, hike in the rain!  I was hopin...</td>\n",
       "    </tr>\n",
       "    <tr>\n",
       "      <th>13812</th>\n",
       "      <td>Talapus and Olallie Lakes</td>\n",
       "      <td>0.243651</td>\n",
       "      <td>4.0</td>\n",
       "      <td>536.0</td>\n",
       "      <td>Alpine Art</td>\n",
       "      <td>2868.0</td>\n",
       "      <td>Oct 11, 2009</td>\n",
       "      <td>This is an easy trail but one with many deligh...</td>\n",
       "    </tr>\n",
       "    <tr>\n",
       "      <th>13901</th>\n",
       "      <td>Talapus and Olallie Lakes</td>\n",
       "      <td>0.166420</td>\n",
       "      <td>3.0</td>\n",
       "      <td>536.0</td>\n",
       "      <td>Alpine Art</td>\n",
       "      <td>2868.0</td>\n",
       "      <td>May 06, 2005</td>\n",
       "      <td>Both Talpus and Olallie Lakes are ice and snow...</td>\n",
       "    </tr>\n",
       "    <tr>\n",
       "      <th>13913</th>\n",
       "      <td>Talapus and Olallie Lakes</td>\n",
       "      <td>0.234722</td>\n",
       "      <td>4.0</td>\n",
       "      <td>536.0</td>\n",
       "      <td>Alpine Art</td>\n",
       "      <td>2868.0</td>\n",
       "      <td>Oct 31, 2004</td>\n",
       "      <td>On Sunday, Alpine Art wanted to do a short hik...</td>\n",
       "    </tr>\n",
       "    <tr>\n",
       "      <th>13930</th>\n",
       "      <td>Talapus and Olallie Lakes</td>\n",
       "      <td>0.362500</td>\n",
       "      <td>5.0</td>\n",
       "      <td>536.0</td>\n",
       "      <td>Alpine Art</td>\n",
       "      <td>2868.0</td>\n",
       "      <td>Jul 27, 2003</td>\n",
       "      <td>“I will lift up mine eyes unto the hills, from...</td>\n",
       "    </tr>\n",
       "    <tr>\n",
       "      <th>14189</th>\n",
       "      <td>Iverson Railroad Trail</td>\n",
       "      <td>0.037747</td>\n",
       "      <td>1.0</td>\n",
       "      <td>536.0</td>\n",
       "      <td>Alpine Art</td>\n",
       "      <td>1337.0</td>\n",
       "      <td>Dec 12, 2004</td>\n",
       "      <td>This was a short loop on Sunday with the Issa...</td>\n",
       "    </tr>\n",
       "    <tr>\n",
       "      <th>14190</th>\n",
       "      <td>Iverson Railroad Trail</td>\n",
       "      <td>0.206667</td>\n",
       "      <td>4.0</td>\n",
       "      <td>536.0</td>\n",
       "      <td>Alpine Art</td>\n",
       "      <td>1337.0</td>\n",
       "      <td>Mar 28, 2003</td>\n",
       "      <td>March 28, 2003This hike started at the Tiger S...</td>\n",
       "    </tr>\n",
       "    <tr>\n",
       "      <th>14887</th>\n",
       "      <td>Snow Lake</td>\n",
       "      <td>0.282963</td>\n",
       "      <td>5.0</td>\n",
       "      <td>536.0</td>\n",
       "      <td>Alpine Art</td>\n",
       "      <td>2660.0</td>\n",
       "      <td>Sep 17, 2008</td>\n",
       "      <td>A great day for hiking, clear skies, moderate ...</td>\n",
       "    </tr>\n",
       "    <tr>\n",
       "      <th>14927</th>\n",
       "      <td>Snow Lake</td>\n",
       "      <td>0.145461</td>\n",
       "      <td>3.0</td>\n",
       "      <td>536.0</td>\n",
       "      <td>Alpine Art</td>\n",
       "      <td>2660.0</td>\n",
       "      <td>Sep 02, 2006</td>\n",
       "      <td>Snow Lake is a hike I have wanted to do in the...</td>\n",
       "    </tr>\n",
       "    <tr>\n",
       "      <th>15214</th>\n",
       "      <td>High School Trail</td>\n",
       "      <td>0.200635</td>\n",
       "      <td>4.0</td>\n",
       "      <td>536.0</td>\n",
       "      <td>Alpine Art</td>\n",
       "      <td>1209.0</td>\n",
       "      <td>Oct 08, 2015</td>\n",
       "      <td>This was an Issaquah Alps Hike in the Tiger Mt...</td>\n",
       "    </tr>\n",
       "    <tr>\n",
       "      <th>15221</th>\n",
       "      <td>High School Trail</td>\n",
       "      <td>0.179926</td>\n",
       "      <td>4.0</td>\n",
       "      <td>536.0</td>\n",
       "      <td>Alpine Art</td>\n",
       "      <td>1209.0</td>\n",
       "      <td>Mar 07, 2012</td>\n",
       "      <td>This was a loop hike up the Chirico Trail and ...</td>\n",
       "    </tr>\n",
       "    <tr>\n",
       "      <th>15348</th>\n",
       "      <td>Wallace Falls State Park - Greg Ball Trail</td>\n",
       "      <td>0.151300</td>\n",
       "      <td>3.0</td>\n",
       "      <td>536.0</td>\n",
       "      <td>Alpine Art</td>\n",
       "      <td>3112.0</td>\n",
       "      <td>Feb 10, 2010</td>\n",
       "      <td>Tom, Dorr and Alpine Art picked out Wednesday ...</td>\n",
       "    </tr>\n",
       "    <tr>\n",
       "      <th>15865</th>\n",
       "      <td>Hurricane Hill</td>\n",
       "      <td>0.344646</td>\n",
       "      <td>5.0</td>\n",
       "      <td>536.0</td>\n",
       "      <td>Alpine Art</td>\n",
       "      <td>1274.0</td>\n",
       "      <td>Sep 05, 2008</td>\n",
       "      <td>The fearless foursome from the Elwha trip went...</td>\n",
       "    </tr>\n",
       "    <tr>\n",
       "      <th>...</th>\n",
       "      <td>...</td>\n",
       "      <td>...</td>\n",
       "      <td>...</td>\n",
       "      <td>...</td>\n",
       "      <td>...</td>\n",
       "      <td>...</td>\n",
       "      <td>...</td>\n",
       "      <td>...</td>\n",
       "    </tr>\n",
       "    <tr>\n",
       "      <th>76494</th>\n",
       "      <td>Kachess Ridge / Kachess Beacon</td>\n",
       "      <td>0.164253</td>\n",
       "      <td>3.0</td>\n",
       "      <td>536.0</td>\n",
       "      <td>Alpine Art</td>\n",
       "      <td>1404.0</td>\n",
       "      <td>Jul 29, 2012</td>\n",
       "      <td>This is a great hike if a bit steep in places....</td>\n",
       "    </tr>\n",
       "    <tr>\n",
       "      <th>76584</th>\n",
       "      <td>Kachess Ridge / Kachess Beacon</td>\n",
       "      <td>0.246658</td>\n",
       "      <td>4.0</td>\n",
       "      <td>536.0</td>\n",
       "      <td>Alpine Art</td>\n",
       "      <td>1404.0</td>\n",
       "      <td>Sep 13, 2003</td>\n",
       "      <td>A beautiful hike on a great Saturday. The last...</td>\n",
       "    </tr>\n",
       "    <tr>\n",
       "      <th>77299</th>\n",
       "      <td>Rockport State Park</td>\n",
       "      <td>0.353210</td>\n",
       "      <td>5.0</td>\n",
       "      <td>536.0</td>\n",
       "      <td>Alpine Art</td>\n",
       "      <td>2439.0</td>\n",
       "      <td>Jan 27, 2015</td>\n",
       "      <td>One of our group had read about this area and ...</td>\n",
       "    </tr>\n",
       "    <tr>\n",
       "      <th>77641</th>\n",
       "      <td>Red Town Creek</td>\n",
       "      <td>0.039665</td>\n",
       "      <td>1.0</td>\n",
       "      <td>536.0</td>\n",
       "      <td>Alpine Art</td>\n",
       "      <td>2391.0</td>\n",
       "      <td>Apr 17, 2016</td>\n",
       "      <td>A short 3.3 mile loop which included a walk do...</td>\n",
       "    </tr>\n",
       "    <tr>\n",
       "      <th>77645</th>\n",
       "      <td>Red Town Creek</td>\n",
       "      <td>0.105729</td>\n",
       "      <td>2.0</td>\n",
       "      <td>536.0</td>\n",
       "      <td>Alpine Art</td>\n",
       "      <td>2391.0</td>\n",
       "      <td>Jun 03, 2011</td>\n",
       "      <td>Spring is here, finally.  Lowland flowers are ...</td>\n",
       "    </tr>\n",
       "    <tr>\n",
       "      <th>77646</th>\n",
       "      <td>Red Town Creek</td>\n",
       "      <td>0.188333</td>\n",
       "      <td>4.0</td>\n",
       "      <td>536.0</td>\n",
       "      <td>Alpine Art</td>\n",
       "      <td>2391.0</td>\n",
       "      <td>Feb 13, 2011</td>\n",
       "      <td>This is a short loop hike which was done count...</td>\n",
       "    </tr>\n",
       "    <tr>\n",
       "      <th>78110</th>\n",
       "      <td>Anti-Aircraft Peak</td>\n",
       "      <td>0.188889</td>\n",
       "      <td>4.0</td>\n",
       "      <td>536.0</td>\n",
       "      <td>Alpine Art</td>\n",
       "      <td>54.0</td>\n",
       "      <td>Sep 22, 2014</td>\n",
       "      <td>This was our effort to get in a hike on Monday...</td>\n",
       "    </tr>\n",
       "    <tr>\n",
       "      <th>78142</th>\n",
       "      <td>Anti-Aircraft Peak</td>\n",
       "      <td>0.091667</td>\n",
       "      <td>2.0</td>\n",
       "      <td>536.0</td>\n",
       "      <td>Alpine Art</td>\n",
       "      <td>54.0</td>\n",
       "      <td>Oct 06, 2009</td>\n",
       "      <td>A short walk with moderate elevation gain on a...</td>\n",
       "    </tr>\n",
       "    <tr>\n",
       "      <th>78144</th>\n",
       "      <td>Anti-Aircraft Peak</td>\n",
       "      <td>0.086616</td>\n",
       "      <td>2.0</td>\n",
       "      <td>536.0</td>\n",
       "      <td>Alpine Art</td>\n",
       "      <td>54.0</td>\n",
       "      <td>Jan 22, 2009</td>\n",
       "      <td>Another brief jaunt in Cougar Mt. Park, from t...</td>\n",
       "    </tr>\n",
       "    <tr>\n",
       "      <th>78146</th>\n",
       "      <td>Anti-Aircraft Peak</td>\n",
       "      <td>0.152099</td>\n",
       "      <td>3.0</td>\n",
       "      <td>536.0</td>\n",
       "      <td>Alpine Art</td>\n",
       "      <td>54.0</td>\n",
       "      <td>Nov 25, 2007</td>\n",
       "      <td>This was a 4 mile loop out of the Sky \"\"trail ...</td>\n",
       "    </tr>\n",
       "    <tr>\n",
       "      <th>78147</th>\n",
       "      <td>Anti-Aircraft Peak</td>\n",
       "      <td>0.396032</td>\n",
       "      <td>5.0</td>\n",
       "      <td>536.0</td>\n",
       "      <td>Alpine Art</td>\n",
       "      <td>54.0</td>\n",
       "      <td>Dec 10, 2006</td>\n",
       "      <td>During a break in the rain showers I was able ...</td>\n",
       "    </tr>\n",
       "    <tr>\n",
       "      <th>78149</th>\n",
       "      <td>Anti-Aircraft Peak</td>\n",
       "      <td>0.107831</td>\n",
       "      <td>2.0</td>\n",
       "      <td>536.0</td>\n",
       "      <td>Alpine Art</td>\n",
       "      <td>54.0</td>\n",
       "      <td>Jan 29, 2006</td>\n",
       "      <td>Wow, Sunday morning was dry so time to do a wa...</td>\n",
       "    </tr>\n",
       "    <tr>\n",
       "      <th>78151</th>\n",
       "      <td>Anti-Aircraft Peak</td>\n",
       "      <td>0.231481</td>\n",
       "      <td>4.0</td>\n",
       "      <td>536.0</td>\n",
       "      <td>Alpine Art</td>\n",
       "      <td>54.0</td>\n",
       "      <td>Nov 28, 2004</td>\n",
       "      <td>The Lost Beagle and Coyote Creek trails are mu...</td>\n",
       "    </tr>\n",
       "    <tr>\n",
       "      <th>78152</th>\n",
       "      <td>Anti-Aircraft Peak</td>\n",
       "      <td>0.085185</td>\n",
       "      <td>2.0</td>\n",
       "      <td>536.0</td>\n",
       "      <td>Alpine Art</td>\n",
       "      <td>54.0</td>\n",
       "      <td>Oct 10, 2004</td>\n",
       "      <td>A warm Sunday after a gutter cleaning/yard wor...</td>\n",
       "    </tr>\n",
       "    <tr>\n",
       "      <th>78153</th>\n",
       "      <td>Anti-Aircraft Peak</td>\n",
       "      <td>0.145131</td>\n",
       "      <td>3.0</td>\n",
       "      <td>536.0</td>\n",
       "      <td>Alpine Art</td>\n",
       "      <td>54.0</td>\n",
       "      <td>Nov 28, 2003</td>\n",
       "      <td>What a lot of trails for such a short hike! I ...</td>\n",
       "    </tr>\n",
       "    <tr>\n",
       "      <th>78154</th>\n",
       "      <td>Anti-Aircraft Peak</td>\n",
       "      <td>0.256328</td>\n",
       "      <td>5.0</td>\n",
       "      <td>536.0</td>\n",
       "      <td>Alpine Art</td>\n",
       "      <td>54.0</td>\n",
       "      <td>Mar 16, 2003</td>\n",
       "      <td>The hike had a little bit of everything in it,...</td>\n",
       "    </tr>\n",
       "    <tr>\n",
       "      <th>78210</th>\n",
       "      <td>Bullitt Fireplace Trail</td>\n",
       "      <td>0.120741</td>\n",
       "      <td>2.0</td>\n",
       "      <td>536.0</td>\n",
       "      <td>Alpine Art</td>\n",
       "      <td>306.0</td>\n",
       "      <td>Apr 05, 2016</td>\n",
       "      <td>This was a 5.75 mile loop in Squak Mt. State P...</td>\n",
       "    </tr>\n",
       "    <tr>\n",
       "      <th>78226</th>\n",
       "      <td>Bullitt Fireplace Trail</td>\n",
       "      <td>0.125000</td>\n",
       "      <td>2.0</td>\n",
       "      <td>536.0</td>\n",
       "      <td>Alpine Art</td>\n",
       "      <td>306.0</td>\n",
       "      <td>Sep 17, 2014</td>\n",
       "      <td>This was a short walk to Central Peak and back...</td>\n",
       "    </tr>\n",
       "    <tr>\n",
       "      <th>78233</th>\n",
       "      <td>Bullitt Fireplace Trail</td>\n",
       "      <td>0.171366</td>\n",
       "      <td>3.0</td>\n",
       "      <td>536.0</td>\n",
       "      <td>Alpine Art</td>\n",
       "      <td>306.0</td>\n",
       "      <td>Jun 02, 2013</td>\n",
       "      <td>This was a short but pleasant loop in Squak Mt...</td>\n",
       "    </tr>\n",
       "    <tr>\n",
       "      <th>78241</th>\n",
       "      <td>Bullitt Fireplace Trail</td>\n",
       "      <td>0.056998</td>\n",
       "      <td>1.0</td>\n",
       "      <td>536.0</td>\n",
       "      <td>Alpine Art</td>\n",
       "      <td>306.0</td>\n",
       "      <td>Oct 07, 2012</td>\n",
       "      <td>Tom and I did this 5 or so mile loop from Moun...</td>\n",
       "    </tr>\n",
       "    <tr>\n",
       "      <th>78247</th>\n",
       "      <td>Bullitt Fireplace Trail</td>\n",
       "      <td>0.084673</td>\n",
       "      <td>2.0</td>\n",
       "      <td>536.0</td>\n",
       "      <td>Alpine Art</td>\n",
       "      <td>306.0</td>\n",
       "      <td>Mar 21, 2012</td>\n",
       "      <td>Loren, Jeff and I did a loop hike on various t...</td>\n",
       "    </tr>\n",
       "    <tr>\n",
       "      <th>78249</th>\n",
       "      <td>Bullitt Fireplace Trail</td>\n",
       "      <td>0.159936</td>\n",
       "      <td>3.0</td>\n",
       "      <td>536.0</td>\n",
       "      <td>Alpine Art</td>\n",
       "      <td>306.0</td>\n",
       "      <td>Sep 03, 2011</td>\n",
       "      <td>A short hike on Squak in the late evening.  Tr...</td>\n",
       "    </tr>\n",
       "    <tr>\n",
       "      <th>78263</th>\n",
       "      <td>Bullitt Fireplace Trail</td>\n",
       "      <td>0.056812</td>\n",
       "      <td>1.0</td>\n",
       "      <td>536.0</td>\n",
       "      <td>Alpine Art</td>\n",
       "      <td>306.0</td>\n",
       "      <td>Apr 14, 2009</td>\n",
       "      <td>After reading Whitebark's description of this ...</td>\n",
       "    </tr>\n",
       "    <tr>\n",
       "      <th>78271</th>\n",
       "      <td>Bullitt Fireplace Trail</td>\n",
       "      <td>0.111640</td>\n",
       "      <td>2.0</td>\n",
       "      <td>536.0</td>\n",
       "      <td>Alpine Art</td>\n",
       "      <td>306.0</td>\n",
       "      <td>Aug 24, 2007</td>\n",
       "      <td>On Monday I left the office a couple hours ear...</td>\n",
       "    </tr>\n",
       "    <tr>\n",
       "      <th>78275</th>\n",
       "      <td>Bullitt Fireplace Trail</td>\n",
       "      <td>0.266226</td>\n",
       "      <td>5.0</td>\n",
       "      <td>536.0</td>\n",
       "      <td>Alpine Art</td>\n",
       "      <td>306.0</td>\n",
       "      <td>Jun 17, 2006</td>\n",
       "      <td>It has been a month or so since I last did any...</td>\n",
       "    </tr>\n",
       "    <tr>\n",
       "      <th>78279</th>\n",
       "      <td>Bullitt Fireplace Trail</td>\n",
       "      <td>0.124837</td>\n",
       "      <td>2.0</td>\n",
       "      <td>536.0</td>\n",
       "      <td>Alpine Art</td>\n",
       "      <td>306.0</td>\n",
       "      <td>Jun 18, 2005</td>\n",
       "      <td>I took a late afternoon walk with KT for part ...</td>\n",
       "    </tr>\n",
       "    <tr>\n",
       "      <th>78281</th>\n",
       "      <td>Bullitt Fireplace Trail</td>\n",
       "      <td>0.052593</td>\n",
       "      <td>1.0</td>\n",
       "      <td>536.0</td>\n",
       "      <td>Alpine Art</td>\n",
       "      <td>306.0</td>\n",
       "      <td>Nov 15, 2003</td>\n",
       "      <td>I am not sure how others see this, but the Wes...</td>\n",
       "    </tr>\n",
       "    <tr>\n",
       "      <th>78883</th>\n",
       "      <td>Grand Valley</td>\n",
       "      <td>0.203704</td>\n",
       "      <td>4.0</td>\n",
       "      <td>536.0</td>\n",
       "      <td>Alpine Art</td>\n",
       "      <td>1076.0</td>\n",
       "      <td>Sep 10, 2013</td>\n",
       "      <td>Jeff and I did a loop from Obstruction Point t...</td>\n",
       "    </tr>\n",
       "    <tr>\n",
       "      <th>79166</th>\n",
       "      <td>Preston Trail</td>\n",
       "      <td>0.291162</td>\n",
       "      <td>5.0</td>\n",
       "      <td>536.0</td>\n",
       "      <td>Alpine Art</td>\n",
       "      <td>2296.0</td>\n",
       "      <td>Jul 13, 2013</td>\n",
       "      <td>This was a training hike for Mt. Townsend in t...</td>\n",
       "    </tr>\n",
       "    <tr>\n",
       "      <th>79207</th>\n",
       "      <td>Preston Trail</td>\n",
       "      <td>0.146934</td>\n",
       "      <td>3.0</td>\n",
       "      <td>536.0</td>\n",
       "      <td>Alpine Art</td>\n",
       "      <td>2296.0</td>\n",
       "      <td>Aug 15, 2004</td>\n",
       "      <td>This was my third time to Middle Tiger but my ...</td>\n",
       "    </tr>\n",
       "  </tbody>\n",
       "</table>\n",
       "<p>258 rows × 8 columns</p>\n",
       "</div>"
      ],
      "text/plain": [
       "                                             Name  TextBlobSentiment  Rating  \\\n",
       "710                                   Oyster Dome           0.294118     5.0   \n",
       "1619                              Old Robe Canyon           0.003611     1.0   \n",
       "2641              Lake Serene - Bridal Veil Falls           0.187963     4.0   \n",
       "2919              Lake Serene - Bridal Veil Falls           0.234707     4.0   \n",
       "4473                     Lake Twentytwo - Lake 22           0.229340     4.0   \n",
       "5077                          Licorice Fern Trail           0.034741     1.0   \n",
       "5561                                   Twin Falls           0.283163     5.0   \n",
       "6465                           Burroughs Mountain           0.161760     3.0   \n",
       "7529                                 Heather Lake           0.124861     2.0   \n",
       "7543                                 Heather Lake           0.099942     2.0   \n",
       "7828                                  Summit Lake           0.190491     4.0   \n",
       "10421                           Rattlesnake Ledge           0.361861     5.0   \n",
       "10424                           Rattlesnake Ledge           0.232790     4.0   \n",
       "11484                                   Little Si           0.180556     4.0   \n",
       "13604                   Talapus and Olallie Lakes           0.067071     1.0   \n",
       "13750                   Talapus and Olallie Lakes           0.157679     3.0   \n",
       "13763                   Talapus and Olallie Lakes           0.278261     5.0   \n",
       "13784                   Talapus and Olallie Lakes           0.059722     1.0   \n",
       "13812                   Talapus and Olallie Lakes           0.243651     4.0   \n",
       "13901                   Talapus and Olallie Lakes           0.166420     3.0   \n",
       "13913                   Talapus and Olallie Lakes           0.234722     4.0   \n",
       "13930                   Talapus and Olallie Lakes           0.362500     5.0   \n",
       "14189                      Iverson Railroad Trail           0.037747     1.0   \n",
       "14190                      Iverson Railroad Trail           0.206667     4.0   \n",
       "14887                                   Snow Lake           0.282963     5.0   \n",
       "14927                                   Snow Lake           0.145461     3.0   \n",
       "15214                           High School Trail           0.200635     4.0   \n",
       "15221                           High School Trail           0.179926     4.0   \n",
       "15348  Wallace Falls State Park - Greg Ball Trail           0.151300     3.0   \n",
       "15865                              Hurricane Hill           0.344646     5.0   \n",
       "...                                           ...                ...     ...   \n",
       "76494              Kachess Ridge / Kachess Beacon           0.164253     3.0   \n",
       "76584              Kachess Ridge / Kachess Beacon           0.246658     4.0   \n",
       "77299                         Rockport State Park           0.353210     5.0   \n",
       "77641                              Red Town Creek           0.039665     1.0   \n",
       "77645                              Red Town Creek           0.105729     2.0   \n",
       "77646                              Red Town Creek           0.188333     4.0   \n",
       "78110                          Anti-Aircraft Peak           0.188889     4.0   \n",
       "78142                          Anti-Aircraft Peak           0.091667     2.0   \n",
       "78144                          Anti-Aircraft Peak           0.086616     2.0   \n",
       "78146                          Anti-Aircraft Peak           0.152099     3.0   \n",
       "78147                          Anti-Aircraft Peak           0.396032     5.0   \n",
       "78149                          Anti-Aircraft Peak           0.107831     2.0   \n",
       "78151                          Anti-Aircraft Peak           0.231481     4.0   \n",
       "78152                          Anti-Aircraft Peak           0.085185     2.0   \n",
       "78153                          Anti-Aircraft Peak           0.145131     3.0   \n",
       "78154                          Anti-Aircraft Peak           0.256328     5.0   \n",
       "78210                     Bullitt Fireplace Trail           0.120741     2.0   \n",
       "78226                     Bullitt Fireplace Trail           0.125000     2.0   \n",
       "78233                     Bullitt Fireplace Trail           0.171366     3.0   \n",
       "78241                     Bullitt Fireplace Trail           0.056998     1.0   \n",
       "78247                     Bullitt Fireplace Trail           0.084673     2.0   \n",
       "78249                     Bullitt Fireplace Trail           0.159936     3.0   \n",
       "78263                     Bullitt Fireplace Trail           0.056812     1.0   \n",
       "78271                     Bullitt Fireplace Trail           0.111640     2.0   \n",
       "78275                     Bullitt Fireplace Trail           0.266226     5.0   \n",
       "78279                     Bullitt Fireplace Trail           0.124837     2.0   \n",
       "78281                     Bullitt Fireplace Trail           0.052593     1.0   \n",
       "78883                                Grand Valley           0.203704     4.0   \n",
       "79166                               Preston Trail           0.291162     5.0   \n",
       "79207                               Preston Trail           0.146934     3.0   \n",
       "\n",
       "       authorId      author  hikeId          Date  \\\n",
       "710       536.0  Alpine Art  2151.0  Apr 27, 2003   \n",
       "1619      536.0  Alpine Art  2125.0  Jun 23, 2005   \n",
       "2641      536.0  Alpine Art  1516.0  Aug 12, 2011   \n",
       "2919      536.0  Alpine Art  1516.0  May 26, 2003   \n",
       "4473      536.0  Alpine Art  1521.0  Jun 26, 2012   \n",
       "5077      536.0  Alpine Art  1584.0  Sep 07, 2003   \n",
       "5561      536.0  Alpine Art  3030.0  Feb 17, 2008   \n",
       "6465      536.0  Alpine Art   321.0  Aug 21, 2015   \n",
       "7529      536.0  Alpine Art  1172.0  Mar 24, 2005   \n",
       "7543      536.0  Alpine Art  1172.0  Nov 01, 2003   \n",
       "7828      536.0  Alpine Art  2812.0  Oct 10, 2012   \n",
       "10421     536.0  Alpine Art  2373.0  Jul 20, 2003   \n",
       "10424     536.0  Alpine Art  2373.0  Jun 15, 2003   \n",
       "11484     536.0  Alpine Art  1624.0  Apr 14, 2011   \n",
       "13604     536.0  Alpine Art  2868.0  Jun 22, 2014   \n",
       "13750     536.0  Alpine Art  2868.0  Oct 27, 2011   \n",
       "13763     536.0  Alpine Art  2868.0  Jun 27, 2011   \n",
       "13784     536.0  Alpine Art  2868.0  Sep 20, 2010   \n",
       "13812     536.0  Alpine Art  2868.0  Oct 11, 2009   \n",
       "13901     536.0  Alpine Art  2868.0  May 06, 2005   \n",
       "13913     536.0  Alpine Art  2868.0  Oct 31, 2004   \n",
       "13930     536.0  Alpine Art  2868.0  Jul 27, 2003   \n",
       "14189     536.0  Alpine Art  1337.0  Dec 12, 2004   \n",
       "14190     536.0  Alpine Art  1337.0  Mar 28, 2003   \n",
       "14887     536.0  Alpine Art  2660.0  Sep 17, 2008   \n",
       "14927     536.0  Alpine Art  2660.0  Sep 02, 2006   \n",
       "15214     536.0  Alpine Art  1209.0  Oct 08, 2015   \n",
       "15221     536.0  Alpine Art  1209.0  Mar 07, 2012   \n",
       "15348     536.0  Alpine Art  3112.0  Feb 10, 2010   \n",
       "15865     536.0  Alpine Art  1274.0  Sep 05, 2008   \n",
       "...         ...         ...     ...           ...   \n",
       "76494     536.0  Alpine Art  1404.0  Jul 29, 2012   \n",
       "76584     536.0  Alpine Art  1404.0  Sep 13, 2003   \n",
       "77299     536.0  Alpine Art  2439.0  Jan 27, 2015   \n",
       "77641     536.0  Alpine Art  2391.0  Apr 17, 2016   \n",
       "77645     536.0  Alpine Art  2391.0  Jun 03, 2011   \n",
       "77646     536.0  Alpine Art  2391.0  Feb 13, 2011   \n",
       "78110     536.0  Alpine Art    54.0  Sep 22, 2014   \n",
       "78142     536.0  Alpine Art    54.0  Oct 06, 2009   \n",
       "78144     536.0  Alpine Art    54.0  Jan 22, 2009   \n",
       "78146     536.0  Alpine Art    54.0  Nov 25, 2007   \n",
       "78147     536.0  Alpine Art    54.0  Dec 10, 2006   \n",
       "78149     536.0  Alpine Art    54.0  Jan 29, 2006   \n",
       "78151     536.0  Alpine Art    54.0  Nov 28, 2004   \n",
       "78152     536.0  Alpine Art    54.0  Oct 10, 2004   \n",
       "78153     536.0  Alpine Art    54.0  Nov 28, 2003   \n",
       "78154     536.0  Alpine Art    54.0  Mar 16, 2003   \n",
       "78210     536.0  Alpine Art   306.0  Apr 05, 2016   \n",
       "78226     536.0  Alpine Art   306.0  Sep 17, 2014   \n",
       "78233     536.0  Alpine Art   306.0  Jun 02, 2013   \n",
       "78241     536.0  Alpine Art   306.0  Oct 07, 2012   \n",
       "78247     536.0  Alpine Art   306.0  Mar 21, 2012   \n",
       "78249     536.0  Alpine Art   306.0  Sep 03, 2011   \n",
       "78263     536.0  Alpine Art   306.0  Apr 14, 2009   \n",
       "78271     536.0  Alpine Art   306.0  Aug 24, 2007   \n",
       "78275     536.0  Alpine Art   306.0  Jun 17, 2006   \n",
       "78279     536.0  Alpine Art   306.0  Jun 18, 2005   \n",
       "78281     536.0  Alpine Art   306.0  Nov 15, 2003   \n",
       "78883     536.0  Alpine Art  1076.0  Sep 10, 2013   \n",
       "79166     536.0  Alpine Art  2296.0  Jul 13, 2013   \n",
       "79207     536.0  Alpine Art  2296.0  Aug 15, 2004   \n",
       "\n",
       "                                                    Text  \n",
       "710    This was my first trip to the Oyster Dome. It ...  \n",
       "1619   We started out to hike to Sauk River but forgo...  \n",
       "2641   A great day for a hike, but a long and labored...  \n",
       "2919   What a difference a trail makes. My last visit...  \n",
       "4473   A wet day for a great short hike to Lake 22.  ...  \n",
       "5077   Trail work brought me to this trail system aga...  \n",
       "5561   Twin Falls State Park is a great walk along th...  \n",
       "6465   This is a hike that got altered due in part to...  \n",
       "7529   A sunny Thursday and daughter home on spring b...  \n",
       "7543   This is one of those hikes that can be done al...  \n",
       "7828   A great day for this hike.  Tom and I left Sea...  \n",
       "10421  Sunday was hot and dry and a famliy member was...  \n",
       "10424  This was my Dad's Day treat, a family hike. Da...  \n",
       "11484  A great walk with some elevation gain, modest ...  \n",
       "13604  This is an easy walk that many shared with me ...  \n",
       "13750  The day was fair, if cool, with excellent trai...  \n",
       "13763  An interesting walk to a much visited and love...  \n",
       "13784  Don't complain, hike in the rain!  I was hopin...  \n",
       "13812  This is an easy trail but one with many deligh...  \n",
       "13901  Both Talpus and Olallie Lakes are ice and snow...  \n",
       "13913  On Sunday, Alpine Art wanted to do a short hik...  \n",
       "13930  “I will lift up mine eyes unto the hills, from...  \n",
       "14189   This was a short loop on Sunday with the Issa...  \n",
       "14190  March 28, 2003This hike started at the Tiger S...  \n",
       "14887  A great day for hiking, clear skies, moderate ...  \n",
       "14927  Snow Lake is a hike I have wanted to do in the...  \n",
       "15214  This was an Issaquah Alps Hike in the Tiger Mt...  \n",
       "15221  This was a loop hike up the Chirico Trail and ...  \n",
       "15348  Tom, Dorr and Alpine Art picked out Wednesday ...  \n",
       "15865  The fearless foursome from the Elwha trip went...  \n",
       "...                                                  ...  \n",
       "76494  This is a great hike if a bit steep in places....  \n",
       "76584  A beautiful hike on a great Saturday. The last...  \n",
       "77299  One of our group had read about this area and ...  \n",
       "77641  A short 3.3 mile loop which included a walk do...  \n",
       "77645  Spring is here, finally.  Lowland flowers are ...  \n",
       "77646  This is a short loop hike which was done count...  \n",
       "78110  This was our effort to get in a hike on Monday...  \n",
       "78142  A short walk with moderate elevation gain on a...  \n",
       "78144  Another brief jaunt in Cougar Mt. Park, from t...  \n",
       "78146  This was a 4 mile loop out of the Sky \"\"trail ...  \n",
       "78147  During a break in the rain showers I was able ...  \n",
       "78149  Wow, Sunday morning was dry so time to do a wa...  \n",
       "78151  The Lost Beagle and Coyote Creek trails are mu...  \n",
       "78152  A warm Sunday after a gutter cleaning/yard wor...  \n",
       "78153  What a lot of trails for such a short hike! I ...  \n",
       "78154  The hike had a little bit of everything in it,...  \n",
       "78210  This was a 5.75 mile loop in Squak Mt. State P...  \n",
       "78226  This was a short walk to Central Peak and back...  \n",
       "78233  This was a short but pleasant loop in Squak Mt...  \n",
       "78241  Tom and I did this 5 or so mile loop from Moun...  \n",
       "78247  Loren, Jeff and I did a loop hike on various t...  \n",
       "78249  A short hike on Squak in the late evening.  Tr...  \n",
       "78263  After reading Whitebark's description of this ...  \n",
       "78271  On Monday I left the office a couple hours ear...  \n",
       "78275  It has been a month or so since I last did any...  \n",
       "78279  I took a late afternoon walk with KT for part ...  \n",
       "78281  I am not sure how others see this, but the Wes...  \n",
       "78883  Jeff and I did a loop from Obstruction Point t...  \n",
       "79166  This was a training hike for Mt. Townsend in t...  \n",
       "79207  This was my third time to Middle Tiger but my ...  \n",
       "\n",
       "[258 rows x 8 columns]"
      ]
     },
     "execution_count": 62,
     "metadata": {},
     "output_type": "execute_result"
    }
   ],
   "source": []
  },
  {
   "cell_type": "code",
   "execution_count": 66,
   "metadata": {
    "collapsed": false
   },
   "outputs": [
    {
     "data": {
      "text/plain": [
       "u'Tom and I did this 5 or so mile loop from Mountainside Drive to Squak Mt. Central Peak and then down via the Old Griz and East Side trails and returning to the Bullitt Access trail and the car.We started at 9:00 AM and had much of the trail system to ourselves.  Some folks out with their dogs walking the Bullitt Access Trail but the Fire Place trail was without much in the way of others.  After reaching Central Peak we went down to the East Side trail via the Old Griz trail.  No problems until we hit the East Side trail where there is a fair amount of windfall over the trail, no major problems but there were at least 7 or 8 places where you had to duck under or scramble over trees.Trails are dry and no water running in the normal stream beds - we could use the rain soon.'"
      ]
     },
     "execution_count": 66,
     "metadata": {},
     "output_type": "execute_result"
    }
   ],
   "source": [
    "df['Text'][78241]"
   ]
  },
  {
   "cell_type": "code",
   "execution_count": 53,
   "metadata": {
    "collapsed": false
   },
   "outputs": [],
   "source": [
    "df.drop(labels=['Name', 'author', 'Date', 'Text'], axis=1, inplace=True)\n",
    "df = df.dropna()"
   ]
  },
  {
   "cell_type": "code",
   "execution_count": 54,
   "metadata": {
    "collapsed": false
   },
   "outputs": [],
   "source": [
    "df['hikeId'] = df['hikeId'].fillna(np.nan).astype(int)\n",
    "df['authorId'] = df['authorId'].fillna(np.nan).astype(int)"
   ]
  },
  {
   "cell_type": "code",
   "execution_count": 56,
   "metadata": {
    "collapsed": false
   },
   "outputs": [
    {
     "data": {
      "text/plain": [
       "1384     755\n",
       "5147     475\n",
       "14019    374\n",
       "4474     345\n",
       "5780     328\n",
       "18878    322\n",
       "19429    314\n",
       "4635     306\n",
       "14400    293\n",
       "16957    290\n",
       "7936     286\n",
       "536      258\n",
       "9004     230\n",
       "8321     224\n",
       "12642    221\n",
       "11942    221\n",
       "10889    212\n",
       "19494    211\n",
       "7049     210\n",
       "10236    202\n",
       "8271     197\n",
       "7518     189\n",
       "17232    189\n",
       "17879    182\n",
       "3883     181\n",
       "10731    173\n",
       "5624     171\n",
       "16269    170\n",
       "5520     169\n",
       "15413    162\n",
       "        ... \n",
       "4582       1\n",
       "484        1\n",
       "2789       1\n",
       "17132      1\n",
       "19181      1\n",
       "8992       1\n",
       "3045       1\n",
       "996        1\n",
       "15331      1\n",
       "13282      1\n",
       "11233      1\n",
       "7079       1\n",
       "5030       1\n",
       "2981       1\n",
       "932        1\n",
       "15267      1\n",
       "9120       1\n",
       "19309      1\n",
       "4966       1\n",
       "2917       1\n",
       "13154      1\n",
       "11105      1\n",
       "9056       1\n",
       "19245      1\n",
       "6951       1\n",
       "4902       1\n",
       "15139      1\n",
       "13090      1\n",
       "11041      1\n",
       "16344      1\n",
       "Name: authorId, dtype: int64"
      ]
     },
     "execution_count": 56,
     "metadata": {},
     "output_type": "execute_result"
    }
   ],
   "source": [
    "df.authorId.value_counts()"
   ]
  },
  {
   "cell_type": "code",
   "execution_count": 49,
   "metadata": {
    "collapsed": false
   },
   "outputs": [],
   "source": [
    "df = graphlab.SFrame(df)"
   ]
  },
  {
   "cell_type": "markdown",
   "metadata": {},
   "source": [
    "## Factorization Recommender\n",
    "\n",
    "https://turi.com/products/create/docs/generated/graphlab.recommender.factorization_recommender.FactorizationRecommender.html"
   ]
  },
  {
   "cell_type": "code",
   "execution_count": 50,
   "metadata": {
    "collapsed": false
   },
   "outputs": [
    {
     "data": {
      "text/html": [
       "<pre>Recsys training: model = factorization_recommender</pre>"
      ],
      "text/plain": [
       "Recsys training: model = factorization_recommender"
      ]
     },
     "metadata": {},
     "output_type": "display_data"
    },
    {
     "data": {
      "text/html": [
       "<pre>Preparing data set.</pre>"
      ],
      "text/plain": [
       "Preparing data set."
      ]
     },
     "metadata": {},
     "output_type": "display_data"
    },
    {
     "data": {
      "text/html": [
       "<pre>    Data has 78042 observations with 19634 users and 1423 items.</pre>"
      ],
      "text/plain": [
       "    Data has 78042 observations with 19634 users and 1423 items."
      ]
     },
     "metadata": {},
     "output_type": "display_data"
    },
    {
     "data": {
      "text/html": [
       "<pre>    Data prepared in: 0.261227s</pre>"
      ],
      "text/plain": [
       "    Data prepared in: 0.261227s"
      ]
     },
     "metadata": {},
     "output_type": "display_data"
    },
    {
     "data": {
      "text/html": [
       "<pre>Training factorization_recommender for recommendations.</pre>"
      ],
      "text/plain": [
       "Training factorization_recommender for recommendations."
      ]
     },
     "metadata": {},
     "output_type": "display_data"
    },
    {
     "data": {
      "text/html": [
       "<pre>+------------------------------+--------------------------------------------------+----------+</pre>"
      ],
      "text/plain": [
       "+------------------------------+--------------------------------------------------+----------+"
      ]
     },
     "metadata": {},
     "output_type": "display_data"
    },
    {
     "data": {
      "text/html": [
       "<pre>| Parameter                    | Description                                      | Value    |</pre>"
      ],
      "text/plain": [
       "| Parameter                    | Description                                      | Value    |"
      ]
     },
     "metadata": {},
     "output_type": "display_data"
    },
    {
     "data": {
      "text/html": [
       "<pre>+------------------------------+--------------------------------------------------+----------+</pre>"
      ],
      "text/plain": [
       "+------------------------------+--------------------------------------------------+----------+"
      ]
     },
     "metadata": {},
     "output_type": "display_data"
    },
    {
     "data": {
      "text/html": [
       "<pre>| num_factors                  | Factor Dimension                                 | 8        |</pre>"
      ],
      "text/plain": [
       "| num_factors                  | Factor Dimension                                 | 8        |"
      ]
     },
     "metadata": {},
     "output_type": "display_data"
    },
    {
     "data": {
      "text/html": [
       "<pre>| regularization               | L2 Regularization on Factors                     | 1e-08    |</pre>"
      ],
      "text/plain": [
       "| regularization               | L2 Regularization on Factors                     | 1e-08    |"
      ]
     },
     "metadata": {},
     "output_type": "display_data"
    },
    {
     "data": {
      "text/html": [
       "<pre>| max_iterations               | Maximum Number of Iterations                     | 50       |</pre>"
      ],
      "text/plain": [
       "| max_iterations               | Maximum Number of Iterations                     | 50       |"
      ]
     },
     "metadata": {},
     "output_type": "display_data"
    },
    {
     "data": {
      "text/html": [
       "<pre>| solver                       | Solver used for training                         | als      |</pre>"
      ],
      "text/plain": [
       "| solver                       | Solver used for training                         | als      |"
      ]
     },
     "metadata": {},
     "output_type": "display_data"
    },
    {
     "data": {
      "text/html": [
       "<pre>+------------------------------+--------------------------------------------------+----------+</pre>"
      ],
      "text/plain": [
       "+------------------------------+--------------------------------------------------+----------+"
      ]
     },
     "metadata": {},
     "output_type": "display_data"
    },
    {
     "data": {
      "text/html": [
       "<pre>+---------+--------------+------------------------+</pre>"
      ],
      "text/plain": [
       "+---------+--------------+------------------------+"
      ]
     },
     "metadata": {},
     "output_type": "display_data"
    },
    {
     "data": {
      "text/html": [
       "<pre>| Iter.   | Elapsed time | RMSE                   |</pre>"
      ],
      "text/plain": [
       "| Iter.   | Elapsed time | RMSE                   |"
      ]
     },
     "metadata": {},
     "output_type": "display_data"
    },
    {
     "data": {
      "text/html": [
       "<pre>+---------+--------------+------------------------+</pre>"
      ],
      "text/plain": [
       "+---------+--------------+------------------------+"
      ]
     },
     "metadata": {},
     "output_type": "display_data"
    },
    {
     "data": {
      "text/html": [
       "<pre>| Initial | 1.873ms      | NA                     |</pre>"
      ],
      "text/plain": [
       "| Initial | 1.873ms      | NA                     |"
      ]
     },
     "metadata": {},
     "output_type": "display_data"
    },
    {
     "data": {
      "text/html": [
       "<pre>+---------+--------------+------------------------+</pre>"
      ],
      "text/plain": [
       "+---------+--------------+------------------------+"
      ]
     },
     "metadata": {},
     "output_type": "display_data"
    },
    {
     "data": {
      "text/html": [
       "<pre>| 0       | 178.713ms    | 1.16935                |</pre>"
      ],
      "text/plain": [
       "| 0       | 178.713ms    | 1.16935                |"
      ]
     },
     "metadata": {},
     "output_type": "display_data"
    },
    {
     "data": {
      "text/html": [
       "<pre>| 1       | 329.625ms    | 0.771006               |</pre>"
      ],
      "text/plain": [
       "| 1       | 329.625ms    | 0.771006               |"
      ]
     },
     "metadata": {},
     "output_type": "display_data"
    },
    {
     "data": {
      "text/html": [
       "<pre>| 2       | 511.978ms    | 0.744622               |</pre>"
      ],
      "text/plain": [
       "| 2       | 511.978ms    | 0.744622               |"
      ]
     },
     "metadata": {},
     "output_type": "display_data"
    },
    {
     "data": {
      "text/html": [
       "<pre>| 3       | 670.116ms    | 0.728944               |</pre>"
      ],
      "text/plain": [
       "| 3       | 670.116ms    | 0.728944               |"
      ]
     },
     "metadata": {},
     "output_type": "display_data"
    },
    {
     "data": {
      "text/html": [
       "<pre>| 4       | 984.221ms    | 0.717869               |</pre>"
      ],
      "text/plain": [
       "| 4       | 984.221ms    | 0.717869               |"
      ]
     },
     "metadata": {},
     "output_type": "display_data"
    },
    {
     "data": {
      "text/html": [
       "<pre>| 5       | 1.23s        | 0.709507               |</pre>"
      ],
      "text/plain": [
       "| 5       | 1.23s        | 0.709507               |"
      ]
     },
     "metadata": {},
     "output_type": "display_data"
    },
    {
     "data": {
      "text/html": [
       "<pre>| 6       | 1.41s        | 0.702964               |</pre>"
      ],
      "text/plain": [
       "| 6       | 1.41s        | 0.702964               |"
      ]
     },
     "metadata": {},
     "output_type": "display_data"
    },
    {
     "data": {
      "text/html": [
       "<pre>| 7       | 1.59s        | 0.697633               |</pre>"
      ],
      "text/plain": [
       "| 7       | 1.59s        | 0.697633               |"
      ]
     },
     "metadata": {},
     "output_type": "display_data"
    },
    {
     "data": {
      "text/html": [
       "<pre>| 8       | 1.96s        | 0.693167               |</pre>"
      ],
      "text/plain": [
       "| 8       | 1.96s        | 0.693167               |"
      ]
     },
     "metadata": {},
     "output_type": "display_data"
    },
    {
     "data": {
      "text/html": [
       "<pre>| 9       | 2.20s        | 0.689309               |</pre>"
      ],
      "text/plain": [
       "| 9       | 2.20s        | 0.689309               |"
      ]
     },
     "metadata": {},
     "output_type": "display_data"
    },
    {
     "data": {
      "text/html": [
       "<pre>| 10      | 2.40s        | 0.685911               |</pre>"
      ],
      "text/plain": [
       "| 10      | 2.40s        | 0.685911               |"
      ]
     },
     "metadata": {},
     "output_type": "display_data"
    },
    {
     "data": {
      "text/html": [
       "<pre>| 11      | 2.70s        | 0.682857               |</pre>"
      ],
      "text/plain": [
       "| 11      | 2.70s        | 0.682857               |"
      ]
     },
     "metadata": {},
     "output_type": "display_data"
    },
    {
     "data": {
      "text/html": [
       "<pre>| 12      | 2.97s        | 0.680165               |</pre>"
      ],
      "text/plain": [
       "| 12      | 2.97s        | 0.680165               |"
      ]
     },
     "metadata": {},
     "output_type": "display_data"
    },
    {
     "data": {
      "text/html": [
       "<pre>| 13      | 3.39s        | 0.677771               |</pre>"
      ],
      "text/plain": [
       "| 13      | 3.39s        | 0.677771               |"
      ]
     },
     "metadata": {},
     "output_type": "display_data"
    },
    {
     "data": {
      "text/html": [
       "<pre>| 14      | 3.61s        | 0.675618               |</pre>"
      ],
      "text/plain": [
       "| 14      | 3.61s        | 0.675618               |"
      ]
     },
     "metadata": {},
     "output_type": "display_data"
    },
    {
     "data": {
      "text/html": [
       "<pre>| 15      | 3.90s        | 0.673665               |</pre>"
      ],
      "text/plain": [
       "| 15      | 3.90s        | 0.673665               |"
      ]
     },
     "metadata": {},
     "output_type": "display_data"
    },
    {
     "data": {
      "text/html": [
       "<pre>| 16      | 4.10s        | 0.671871               |</pre>"
      ],
      "text/plain": [
       "| 16      | 4.10s        | 0.671871               |"
      ]
     },
     "metadata": {},
     "output_type": "display_data"
    },
    {
     "data": {
      "text/html": [
       "<pre>| 17      | 4.25s        | 0.670223               |</pre>"
      ],
      "text/plain": [
       "| 17      | 4.25s        | 0.670223               |"
      ]
     },
     "metadata": {},
     "output_type": "display_data"
    },
    {
     "data": {
      "text/html": [
       "<pre>| 18      | 4.42s        | 0.668676               |</pre>"
      ],
      "text/plain": [
       "| 18      | 4.42s        | 0.668676               |"
      ]
     },
     "metadata": {},
     "output_type": "display_data"
    },
    {
     "data": {
      "text/html": [
       "<pre>| 19      | 4.58s        | 0.667254               |</pre>"
      ],
      "text/plain": [
       "| 19      | 4.58s        | 0.667254               |"
      ]
     },
     "metadata": {},
     "output_type": "display_data"
    },
    {
     "data": {
      "text/html": [
       "<pre>| 20      | 4.76s        | 0.665931               |</pre>"
      ],
      "text/plain": [
       "| 20      | 4.76s        | 0.665931               |"
      ]
     },
     "metadata": {},
     "output_type": "display_data"
    },
    {
     "data": {
      "text/html": [
       "<pre>| 21      | 4.91s        | 0.664697               |</pre>"
      ],
      "text/plain": [
       "| 21      | 4.91s        | 0.664697               |"
      ]
     },
     "metadata": {},
     "output_type": "display_data"
    },
    {
     "data": {
      "text/html": [
       "<pre>| 22      | 5.08s        | 0.663546               |</pre>"
      ],
      "text/plain": [
       "| 22      | 5.08s        | 0.663546               |"
      ]
     },
     "metadata": {},
     "output_type": "display_data"
    },
    {
     "data": {
      "text/html": [
       "<pre>| 23      | 5.24s        | 0.662461               |</pre>"
      ],
      "text/plain": [
       "| 23      | 5.24s        | 0.662461               |"
      ]
     },
     "metadata": {},
     "output_type": "display_data"
    },
    {
     "data": {
      "text/html": [
       "<pre>| 24      | 5.42s        | 0.661439               |</pre>"
      ],
      "text/plain": [
       "| 24      | 5.42s        | 0.661439               |"
      ]
     },
     "metadata": {},
     "output_type": "display_data"
    },
    {
     "data": {
      "text/html": [
       "<pre>| 25      | 5.58s        | 0.660478               |</pre>"
      ],
      "text/plain": [
       "| 25      | 5.58s        | 0.660478               |"
      ]
     },
     "metadata": {},
     "output_type": "display_data"
    },
    {
     "data": {
      "text/html": [
       "<pre>| 26      | 5.73s        | 0.659575               |</pre>"
      ],
      "text/plain": [
       "| 26      | 5.73s        | 0.659575               |"
      ]
     },
     "metadata": {},
     "output_type": "display_data"
    },
    {
     "data": {
      "text/html": [
       "<pre>| 27      | 5.88s        | 0.658719               |</pre>"
      ],
      "text/plain": [
       "| 27      | 5.88s        | 0.658719               |"
      ]
     },
     "metadata": {},
     "output_type": "display_data"
    },
    {
     "data": {
      "text/html": [
       "<pre>| 28      | 6.02s        | 0.6579                 |</pre>"
      ],
      "text/plain": [
       "| 28      | 6.02s        | 0.6579                 |"
      ]
     },
     "metadata": {},
     "output_type": "display_data"
    },
    {
     "data": {
      "text/html": [
       "<pre>| 29      | 6.18s        | 0.657126               |</pre>"
      ],
      "text/plain": [
       "| 29      | 6.18s        | 0.657126               |"
      ]
     },
     "metadata": {},
     "output_type": "display_data"
    },
    {
     "data": {
      "text/html": [
       "<pre>| 30      | 6.33s        | 0.656387               |</pre>"
      ],
      "text/plain": [
       "| 30      | 6.33s        | 0.656387               |"
      ]
     },
     "metadata": {},
     "output_type": "display_data"
    },
    {
     "data": {
      "text/html": [
       "<pre>| 31      | 6.50s        | 0.65569                |</pre>"
      ],
      "text/plain": [
       "| 31      | 6.50s        | 0.65569                |"
      ]
     },
     "metadata": {},
     "output_type": "display_data"
    },
    {
     "data": {
      "text/html": [
       "<pre>| 32      | 6.67s        | 0.655033               |</pre>"
      ],
      "text/plain": [
       "| 32      | 6.67s        | 0.655033               |"
      ]
     },
     "metadata": {},
     "output_type": "display_data"
    },
    {
     "data": {
      "text/html": [
       "<pre>| 33      | 6.85s        | 0.654414               |</pre>"
      ],
      "text/plain": [
       "| 33      | 6.85s        | 0.654414               |"
      ]
     },
     "metadata": {},
     "output_type": "display_data"
    },
    {
     "data": {
      "text/html": [
       "<pre>| 34      | 7.01s        | 0.653824               |</pre>"
      ],
      "text/plain": [
       "| 34      | 7.01s        | 0.653824               |"
      ]
     },
     "metadata": {},
     "output_type": "display_data"
    },
    {
     "data": {
      "text/html": [
       "<pre>| 35      | 7.23s        | 0.653262               |</pre>"
      ],
      "text/plain": [
       "| 35      | 7.23s        | 0.653262               |"
      ]
     },
     "metadata": {},
     "output_type": "display_data"
    },
    {
     "data": {
      "text/html": [
       "<pre>| 36      | 7.40s        | 0.652727               |</pre>"
      ],
      "text/plain": [
       "| 36      | 7.40s        | 0.652727               |"
      ]
     },
     "metadata": {},
     "output_type": "display_data"
    },
    {
     "data": {
      "text/html": [
       "<pre>| 37      | 7.57s        | 0.652216               |</pre>"
      ],
      "text/plain": [
       "| 37      | 7.57s        | 0.652216               |"
      ]
     },
     "metadata": {},
     "output_type": "display_data"
    },
    {
     "data": {
      "text/html": [
       "<pre>| 38      | 7.75s        | 0.651727               |</pre>"
      ],
      "text/plain": [
       "| 38      | 7.75s        | 0.651727               |"
      ]
     },
     "metadata": {},
     "output_type": "display_data"
    },
    {
     "data": {
      "text/html": [
       "<pre>| 39      | 8.01s        | 0.65126                |</pre>"
      ],
      "text/plain": [
       "| 39      | 8.01s        | 0.65126                |"
      ]
     },
     "metadata": {},
     "output_type": "display_data"
    },
    {
     "data": {
      "text/html": [
       "<pre>| 40      | 8.29s        | 0.65081                |</pre>"
      ],
      "text/plain": [
       "| 40      | 8.29s        | 0.65081                |"
      ]
     },
     "metadata": {},
     "output_type": "display_data"
    },
    {
     "data": {
      "text/html": [
       "<pre>| 41      | 8.55s        | 0.650379               |</pre>"
      ],
      "text/plain": [
       "| 41      | 8.55s        | 0.650379               |"
      ]
     },
     "metadata": {},
     "output_type": "display_data"
    },
    {
     "data": {
      "text/html": [
       "<pre>| 42      | 8.98s        | 0.649965               |</pre>"
      ],
      "text/plain": [
       "| 42      | 8.98s        | 0.649965               |"
      ]
     },
     "metadata": {},
     "output_type": "display_data"
    },
    {
     "data": {
      "text/html": [
       "<pre>| 43      | 9.25s        | 0.649567               |</pre>"
      ],
      "text/plain": [
       "| 43      | 9.25s        | 0.649567               |"
      ]
     },
     "metadata": {},
     "output_type": "display_data"
    },
    {
     "data": {
      "text/html": [
       "<pre>| 44      | 9.42s        | 0.649185               |</pre>"
      ],
      "text/plain": [
       "| 44      | 9.42s        | 0.649185               |"
      ]
     },
     "metadata": {},
     "output_type": "display_data"
    },
    {
     "data": {
      "text/html": [
       "<pre>| 45      | 9.58s        | 0.648816               |</pre>"
      ],
      "text/plain": [
       "| 45      | 9.58s        | 0.648816               |"
      ]
     },
     "metadata": {},
     "output_type": "display_data"
    },
    {
     "data": {
      "text/html": [
       "<pre>| 46      | 9.78s        | 0.648459               |</pre>"
      ],
      "text/plain": [
       "| 46      | 9.78s        | 0.648459               |"
      ]
     },
     "metadata": {},
     "output_type": "display_data"
    },
    {
     "data": {
      "text/html": [
       "<pre>| 47      | 9.98s        | 0.648116               |</pre>"
      ],
      "text/plain": [
       "| 47      | 9.98s        | 0.648116               |"
      ]
     },
     "metadata": {},
     "output_type": "display_data"
    },
    {
     "data": {
      "text/html": [
       "<pre>| 48      | 10.15s       | 0.647783               |</pre>"
      ],
      "text/plain": [
       "| 48      | 10.15s       | 0.647783               |"
      ]
     },
     "metadata": {},
     "output_type": "display_data"
    },
    {
     "data": {
      "text/html": [
       "<pre>| 49      | 10.34s       | 0.647461               |</pre>"
      ],
      "text/plain": [
       "| 49      | 10.34s       | 0.647461               |"
      ]
     },
     "metadata": {},
     "output_type": "display_data"
    },
    {
     "data": {
      "text/html": [
       "<pre>| FINAL   | 10.34s       | 0.647461               |</pre>"
      ],
      "text/plain": [
       "| FINAL   | 10.34s       | 0.647461               |"
      ]
     },
     "metadata": {},
     "output_type": "display_data"
    },
    {
     "data": {
      "text/html": [
       "<pre>+---------+--------------+------------------------+</pre>"
      ],
      "text/plain": [
       "+---------+--------------+------------------------+"
      ]
     },
     "metadata": {},
     "output_type": "display_data"
    },
    {
     "data": {
      "text/html": [
       "<pre>Optimization Complete: Iteration limit reached.</pre>"
      ],
      "text/plain": [
       "Optimization Complete: Iteration limit reached."
      ]
     },
     "metadata": {},
     "output_type": "display_data"
    }
   ],
   "source": [
    "model = graphlab.recommender.factorization_recommender.create(df, user_id='authorId', item_id='hikeId', target='Rating', solver='als' )"
   ]
  },
  {
   "cell_type": "code",
   "execution_count": null,
   "metadata": {
    "collapsed": true
   },
   "outputs": [],
   "source": []
  },
  {
   "cell_type": "markdown",
   "metadata": {},
   "source": [
    "## Item Similarity Recommender\n",
    "\n",
    "https://turi.com/products/create/docs/generated/graphlab.recommender.item_similarity_recommender.ItemSimilarityRecommender.html\n",
    "\n"
   ]
  }
 ],
 "metadata": {
  "kernelspec": {
   "display_name": "Python 2",
   "language": "python",
   "name": "python2"
  },
  "language_info": {
   "codemirror_mode": {
    "name": "ipython",
    "version": 2
   },
   "file_extension": ".py",
   "mimetype": "text/x-python",
   "name": "python",
   "nbconvert_exporter": "python",
   "pygments_lexer": "ipython2",
   "version": "2.7.12"
  }
 },
 "nbformat": 4,
 "nbformat_minor": 0
}
