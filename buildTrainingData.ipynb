{
 "cells": [
  {
   "cell_type": "code",
   "execution_count": 1,
   "metadata": {
    "collapsed": true
   },
   "outputs": [],
   "source": [
    "import requests\n",
    "from bs4 import BeautifulSoup\n",
    "import pandas as pd\n",
    "import numpy as np\n",
    "from pymongo import MongoClient"
   ]
  },
  {
   "cell_type": "code",
   "execution_count": 3,
   "metadata": {
    "collapsed": true
   },
   "outputs": [],
   "source": []
  },
  {
   "cell_type": "code",
   "execution_count": 62,
   "metadata": {
    "collapsed": true
   },
   "outputs": [],
   "source": [
    "def scrapeInsertTR(url, name):\n",
    "    \"\"\"Requests url, scrapes, finds text and rating, and inserts both into MongoDB\n",
    "    \n",
    "    **Input parameters**\n",
    "    ------------------------------------------------------------------------------\n",
    "    url: string.  Valid url to be requested.  This code is specifically built for \n",
    "            'http://www.everytrail.com'\n",
    "    \n",
    "    name: string. Name of the hike, scraped from parent function\n",
    "    \n",
    "    \n",
    "    **Output**\n",
    "    ------------------------------------------------------------------------------\n",
    "    None\n",
    "    \n",
    "    \"\"\"\n",
    "    r = requests.get(url).text\n",
    "    soup = BeautifulSoup(r, 'html.parser')\n",
    "    if len(soup(attrs={'class': 'comment-content rounded floatright'})):\n",
    "        for div in soup(attrs={'class': 'comment-content rounded floatright'}):\n",
    "            rating = div(attrs={'itemprop':\"reviewRating\"})[0].span['title']\n",
    "            text = div.p.text\n",
    "            if len(text):\n",
    "                db.trainingTR.insert_one({'Name': name,\n",
    "                                           'Report': {\n",
    "                                                \"Rating\": rating,\n",
    "                                                \"Text\": text\n",
    "                                                }\n",
    "                                                })\n",
    "    else:\n",
    "        for div in soup(attrs={'style': 'overflow:hidden'}):\n",
    "            if (div.span == None) or div.select('img') == []:\n",
    "                continue\n",
    "            else:\n",
    "                rating = div.select('img')[0]['title'][0]\n",
    "                text = div.span.text.strip()\n",
    "                if len(text):\n",
    "                    db.trainingTR.insert_one({'Name': name,\n",
    "                                               'Report': {\n",
    "                                                    \"Rating\": rating,\n",
    "                                                    \"Text\": text\n",
    "                                                    }\n",
    "                                                    })"
   ]
  },
  {
   "cell_type": "code",
   "execution_count": 63,
   "metadata": {
    "collapsed": false
   },
   "outputs": [],
   "source": [
    "def URLfinder(baseurl):\n",
    "    \"\"\"Finds all trailing URLs for hikes.\n",
    "    \n",
    "        Calls scrapeInsertTR for all trailing urls.\n",
    "    \n",
    "    **Input parameters**\n",
    "    ------------------------------------------------------------------------------\n",
    "    baseurl: string. Valid url to be requested.  This code is specifically built for \n",
    "            'http://www.everytrail.com/best/hiking-california'\n",
    "    \n",
    "    \n",
    "    **Output**\n",
    "    ------------------------------------------------------------------------------\n",
    "    None\n",
    "    \n",
    "    \"\"\"\n",
    "    \n",
    "    r = requests.get(baseurl).text\n",
    "    soup = BeautifulSoup(r, 'html.parser')\n",
    "    for div in soup.select('div.guide-preview-content'):\n",
    "        url = 'http://www.everytrail.com'+div.span.a['href']\n",
    "        scrapeInsertTR(url, div.span.a.text)"
   ]
  },
  {
   "cell_type": "code",
   "execution_count": null,
   "metadata": {
    "collapsed": true
   },
   "outputs": [],
   "source": [
    "if __name__ == '__main__':\n",
    "    client = MongoClient()\n",
    "    db = client.wta\n",
    "    db.trainingTR.drop()\n",
    "    URLfinder('http://www.everytrail.com/best/hiking-california')\n",
    "    URLfinder('http://www.everytrail.com/best/hiking-utah')\n",
    "    URLfinder('http://www.everytrail.com/best/hiking-oregon')\n",
    "    URLfinder('http://www.everytrail.com/best/hiking-idaho')\n",
    "    URLfinder('http://www.everytrail.com/best/hiking-washington')\n",
    "    print db.trainingTR.count(), ' Trip Reports collected'"
   ]
  },
  {
   "cell_type": "code",
   "execution_count": null,
   "metadata": {
    "collapsed": true
   },
   "outputs": [],
   "source": []
  }
 ],
 "metadata": {
  "kernelspec": {
   "display_name": "Python 2",
   "language": "python",
   "name": "python2"
  },
  "language_info": {
   "codemirror_mode": {
    "name": "ipython",
    "version": 2
   },
   "file_extension": ".py",
   "mimetype": "text/x-python",
   "name": "python",
   "nbconvert_exporter": "python",
   "pygments_lexer": "ipython2",
   "version": "2.7.12"
  }
 },
 "nbformat": 4,
 "nbformat_minor": 0
}
