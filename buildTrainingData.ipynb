{
 "cells": [
  {
   "cell_type": "code",
   "execution_count": 1,
   "metadata": {
    "collapsed": true
   },
   "outputs": [],
   "source": [
    "import requests\n",
    "from bs4 import BeautifulSoup\n",
    "import pandas as pd\n",
    "import numpy as np\n",
    "from pymongo import MongoClient"
   ]
  },
  {
   "cell_type": "code",
   "execution_count": 3,
   "metadata": {
    "collapsed": true
   },
   "outputs": [],
   "source": []
  },
  {
   "cell_type": "code",
   "execution_count": 59,
   "metadata": {
    "collapsed": true
   },
   "outputs": [],
   "source": [
    "def scrapeInsertTR(url, name):\n",
    "    \"\"\"Requests url, scrapes, finds text and rating, and inserts both into MongoDB\n",
    "    \n",
    "    **Input parameters**\n",
    "    ------------------------------------------------------------------------------\n",
    "    url: string.  Valid url to be requested.  This code is specifically built for \n",
    "            'http://www.everytrail.com'\n",
    "    \n",
    "    name: string. Name of the hike, scraped from parent function\n",
    "    \n",
    "    \n",
    "    **Output**\n",
    "    ------------------------------------------------------------------------------\n",
    "    None\n",
    "    \n",
    "    \"\"\"\n",
    "    r = requests.get(url).text\n",
    "    soup = BeautifulSoup(r, 'html.parser')\n",
    "    if len(soup(attrs={'class': 'comment-content rounded floatright'})):\n",
    "        for div in soup(attrs={'class': 'comment-content rounded floatright'}):\n",
    "            rating = div(attrs={'itemprop':\"reviewRating\"})[0].span['title']\n",
    "            text = div.p.text\n",
    "    else:\n",
    "        for div in soup(attrs={'style': 'overflow:hidden'}):\n",
    "            if (div.span == None) or div.select('img') == []:\n",
    "                continue\n",
    "            else:\n",
    "                rating = div.select('img')[0]['title'][0]\n",
    "                text = div.span.text.strip()\n",
    "    if len(text):\n",
    "        db.trainingTR.insert_one({'Name': name,\n",
    "                                   'Report': {\n",
    "                                        \"Rating\": rating,\n",
    "                                        \"Text\": text\n",
    "                                        }\n",
    "                                        })"
   ]
  },
  {
   "cell_type": "code",
   "execution_count": 60,
   "metadata": {
    "collapsed": false
   },
   "outputs": [],
   "source": [
    "def URLfinder(baseurl):\n",
    "    \"\"\"Finds all trailing URLs for hikes.\n",
    "    \n",
    "        Calls scrapeInsertTR for all trailing urls.\n",
    "    \n",
    "    **Input parameters**\n",
    "    ------------------------------------------------------------------------------\n",
    "    baseurl: string. Valid url to be requested.  This code is specifically built for \n",
    "            'http://www.everytrail.com/best/hiking-california'\n",
    "    \n",
    "    \n",
    "    **Output**\n",
    "    ------------------------------------------------------------------------------\n",
    "    None\n",
    "    \n",
    "    \"\"\"\n",
    "    \n",
    "    r = requests.get(baseurl).text\n",
    "    soup = BeautifulSoup(r, 'html.parser')\n",
    "    for div in soup.select('div.guide-preview-content'):\n",
    "        url = 'http://www.everytrail.com'+div.span.a['href']\n",
    "        scrapeInsertTR(url, div.span.a.text)"
   ]
  },
  {
   "cell_type": "code",
   "execution_count": null,
   "metadata": {
    "collapsed": true
   },
   "outputs": [],
   "source": [
    "if __name__ == '__main__':\n"
   ]
  },
  {
   "cell_type": "code",
   "execution_count": 61,
   "metadata": {
    "collapsed": false
   },
   "outputs": [
    {
     "name": "stdout",
     "output_type": "stream",
     "text": [
      "http://www.everytrail.com/guide/pine-ridge-trail-to-sykes-hot-springs\n",
      "http://www.everytrail.com/guide/cataract-trail-loop-in-marin-county\n",
      "http://www.everytrail.com/guide/skyline-to-the-sea-trail\n",
      "http://www.everytrail.com/guide/steep-ravine-via-matt-davis-mt-tamalpais-\n",
      "http://www.everytrail.com/guide/berry-creek-falls-loop-at-big-basin-redwoods-state-park\n",
      "http://www.everytrail.com/guide/the-mist-trail-vernal-and-nevada-falls\n",
      "http://www.everytrail.com/guide/lake-aloha-hike\n",
      "http://www.everytrail.com/guide/muir-woods-and-tourist-club-loop\n",
      "http://www.everytrail.com/guide/the-panorama-trail\n",
      "http://www.everytrail.com/guide/mount-tallac-lake-tahoe\n",
      "http://www.everytrail.com/guide/mount-diablos-grand-loop\n",
      "http://www.everytrail.com/guide/sturtevant-falls\n",
      "http://www.everytrail.com/guide/batteries-to-bluffs-trail\n",
      "http://www.everytrail.com/guide/stinson-beach-to-mt-tamalpais\n"
     ]
    },
    {
     "ename": "UnboundLocalError",
     "evalue": "local variable 'text' referenced before assignment",
     "output_type": "error",
     "traceback": [
      "\u001b[0;31m---------------------------------------------------------------------------\u001b[0m",
      "\u001b[0;31mUnboundLocalError\u001b[0m                         Traceback (most recent call last)",
      "\u001b[0;32m<ipython-input-61-7336203779ac>\u001b[0m in \u001b[0;36m<module>\u001b[0;34m()\u001b[0m\n\u001b[1;32m      3\u001b[0m \u001b[0mdb\u001b[0m \u001b[0;34m=\u001b[0m \u001b[0mclient\u001b[0m\u001b[0;34m.\u001b[0m\u001b[0mwta\u001b[0m\u001b[0;34m\u001b[0m\u001b[0m\n\u001b[1;32m      4\u001b[0m \u001b[0mdb\u001b[0m\u001b[0;34m.\u001b[0m\u001b[0mtrainingTR\u001b[0m\u001b[0;34m.\u001b[0m\u001b[0mdrop\u001b[0m\u001b[0;34m(\u001b[0m\u001b[0;34m)\u001b[0m\u001b[0;34m\u001b[0m\u001b[0m\n\u001b[0;32m----> 5\u001b[0;31m \u001b[0mURLfinder\u001b[0m\u001b[0;34m(\u001b[0m\u001b[0;34m'http://www.everytrail.com/best/hiking-california'\u001b[0m\u001b[0;34m)\u001b[0m\u001b[0;34m\u001b[0m\u001b[0m\n\u001b[0m",
      "\u001b[0;32m<ipython-input-60-360baddf88a4>\u001b[0m in \u001b[0;36mURLfinder\u001b[0;34m(baseurl)\u001b[0m\n\u001b[1;32m     21\u001b[0m         \u001b[0murl\u001b[0m \u001b[0;34m=\u001b[0m \u001b[0;34m'http://www.everytrail.com'\u001b[0m\u001b[0;34m+\u001b[0m\u001b[0mdiv\u001b[0m\u001b[0;34m.\u001b[0m\u001b[0mspan\u001b[0m\u001b[0;34m.\u001b[0m\u001b[0ma\u001b[0m\u001b[0;34m[\u001b[0m\u001b[0;34m'href'\u001b[0m\u001b[0;34m]\u001b[0m\u001b[0;34m\u001b[0m\u001b[0m\n\u001b[1;32m     22\u001b[0m         \u001b[0;32mprint\u001b[0m \u001b[0murl\u001b[0m\u001b[0;34m\u001b[0m\u001b[0m\n\u001b[0;32m---> 23\u001b[0;31m         \u001b[0mscrapeInsertTR\u001b[0m\u001b[0;34m(\u001b[0m\u001b[0murl\u001b[0m\u001b[0;34m,\u001b[0m \u001b[0mdiv\u001b[0m\u001b[0;34m.\u001b[0m\u001b[0mspan\u001b[0m\u001b[0;34m.\u001b[0m\u001b[0ma\u001b[0m\u001b[0;34m.\u001b[0m\u001b[0mtext\u001b[0m\u001b[0;34m)\u001b[0m\u001b[0;34m\u001b[0m\u001b[0m\n\u001b[0m",
      "\u001b[0;32m<ipython-input-59-e5b547457eab>\u001b[0m in \u001b[0;36mscrapeInsertTR\u001b[0;34m(url, name)\u001b[0m\n\u001b[1;32m     28\u001b[0m                 \u001b[0mrating\u001b[0m \u001b[0;34m=\u001b[0m \u001b[0mdiv\u001b[0m\u001b[0;34m.\u001b[0m\u001b[0mselect\u001b[0m\u001b[0;34m(\u001b[0m\u001b[0;34m'img'\u001b[0m\u001b[0;34m)\u001b[0m\u001b[0;34m[\u001b[0m\u001b[0;36m0\u001b[0m\u001b[0;34m]\u001b[0m\u001b[0;34m[\u001b[0m\u001b[0;34m'title'\u001b[0m\u001b[0;34m]\u001b[0m\u001b[0;34m[\u001b[0m\u001b[0;36m0\u001b[0m\u001b[0;34m]\u001b[0m\u001b[0;34m\u001b[0m\u001b[0m\n\u001b[1;32m     29\u001b[0m                 \u001b[0mtext\u001b[0m \u001b[0;34m=\u001b[0m \u001b[0mdiv\u001b[0m\u001b[0;34m.\u001b[0m\u001b[0mspan\u001b[0m\u001b[0;34m.\u001b[0m\u001b[0mtext\u001b[0m\u001b[0;34m.\u001b[0m\u001b[0mstrip\u001b[0m\u001b[0;34m(\u001b[0m\u001b[0;34m)\u001b[0m\u001b[0;34m\u001b[0m\u001b[0m\n\u001b[0;32m---> 30\u001b[0;31m     \u001b[0;32mif\u001b[0m \u001b[0mlen\u001b[0m\u001b[0;34m(\u001b[0m\u001b[0mtext\u001b[0m\u001b[0;34m)\u001b[0m\u001b[0;34m:\u001b[0m\u001b[0;34m\u001b[0m\u001b[0m\n\u001b[0m\u001b[1;32m     31\u001b[0m         db.trainingTR.insert_one({'Name': name,\n\u001b[1;32m     32\u001b[0m                                    'Report': {\n",
      "\u001b[0;31mUnboundLocalError\u001b[0m: local variable 'text' referenced before assignment"
     ]
    }
   ],
   "source": [
    "\n",
    "client = MongoClient()\n",
    "db = client.wta\n",
    "db.trainingTR.drop()\n",
    "URLfinder('http://www.everytrail.com/best/hiking-california')"
   ]
  },
  {
   "cell_type": "code",
   "execution_count": null,
   "metadata": {
    "collapsed": true
   },
   "outputs": [],
   "source": []
  }
 ],
 "metadata": {
  "kernelspec": {
   "display_name": "Python 2",
   "language": "python",
   "name": "python2"
  },
  "language_info": {
   "codemirror_mode": {
    "name": "ipython",
    "version": 2
   },
   "file_extension": ".py",
   "mimetype": "text/x-python",
   "name": "python",
   "nbconvert_exporter": "python",
   "pygments_lexer": "ipython2",
   "version": "2.7.12"
  }
 },
 "nbformat": 4,
 "nbformat_minor": 0
}
