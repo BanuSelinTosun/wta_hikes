{
 "cells": [
  {
   "cell_type": "code",
   "execution_count": 1,
   "metadata": {
    "collapsed": true
   },
   "outputs": [],
   "source": [
    "import pandas as pd\n",
    "import numpy as np\n",
    "from sklearn.metrics.pairwise import cosine_similarity\n"
   ]
  },
  {
   "cell_type": "code",
   "execution_count": null,
   "metadata": {
    "collapsed": true
   },
   "outputs": [],
   "source": []
  },
  {
   "cell_type": "code",
   "execution_count": 127,
   "metadata": {
    "collapsed": false
   },
   "outputs": [],
   "source": [
    "item_data = pd.read_csv('data/itemData.csv')\n",
    "item_data = item_data.drop(labels=['Unnamed: 0', 'hike_name'], axis=1)"
   ]
  },
  {
   "cell_type": "code",
   "execution_count": 105,
   "metadata": {
    "collapsed": false
   },
   "outputs": [
    {
     "data": {
      "text/html": [
       "<div>\n",
       "<table border=\"1\" class=\"dataframe\">\n",
       "  <thead>\n",
       "    <tr style=\"text-align: right;\">\n",
       "      <th></th>\n",
       "      <th>hike_id</th>\n",
       "      <th>numReports</th>\n",
       "      <th>total_dist</th>\n",
       "      <th>elevation gain</th>\n",
       "      <th>time_from_seattle</th>\n",
       "      <th>Coast</th>\n",
       "      <th>stars</th>\n",
       "      <th>Dogs allowed on leash</th>\n",
       "      <th>Established campsites</th>\n",
       "      <th>Fall foliage</th>\n",
       "      <th>Good for kids</th>\n",
       "      <th>Lakes</th>\n",
       "      <th>Mountain views</th>\n",
       "      <th>Old growth</th>\n",
       "      <th>Ridges/passes</th>\n",
       "      <th>Rivers</th>\n",
       "      <th>Summits</th>\n",
       "      <th>Waterfalls</th>\n",
       "      <th>Wildflowers/Meadows</th>\n",
       "      <th>Wildlife</th>\n",
       "    </tr>\n",
       "  </thead>\n",
       "  <tbody>\n",
       "    <tr>\n",
       "      <th>0</th>\n",
       "      <td>0</td>\n",
       "      <td>0.177287</td>\n",
       "      <td>0.035247</td>\n",
       "      <td>-0.057533</td>\n",
       "      <td>-0.009605</td>\n",
       "      <td>0</td>\n",
       "      <td>4.25</td>\n",
       "      <td>0</td>\n",
       "      <td>1</td>\n",
       "      <td>0</td>\n",
       "      <td>0</td>\n",
       "      <td>0</td>\n",
       "      <td>1</td>\n",
       "      <td>0</td>\n",
       "      <td>0</td>\n",
       "      <td>0</td>\n",
       "      <td>0</td>\n",
       "      <td>0</td>\n",
       "      <td>0</td>\n",
       "      <td>1</td>\n",
       "    </tr>\n",
       "    <tr>\n",
       "      <th>1</th>\n",
       "      <td>2</td>\n",
       "      <td>-0.003483</td>\n",
       "      <td>-0.002136</td>\n",
       "      <td>0.129758</td>\n",
       "      <td>0.029158</td>\n",
       "      <td>0</td>\n",
       "      <td>3.00</td>\n",
       "      <td>0</td>\n",
       "      <td>0</td>\n",
       "      <td>0</td>\n",
       "      <td>0</td>\n",
       "      <td>1</td>\n",
       "      <td>0</td>\n",
       "      <td>1</td>\n",
       "      <td>0</td>\n",
       "      <td>0</td>\n",
       "      <td>0</td>\n",
       "      <td>0</td>\n",
       "      <td>0</td>\n",
       "      <td>0</td>\n",
       "    </tr>\n",
       "    <tr>\n",
       "      <th>2</th>\n",
       "      <td>3</td>\n",
       "      <td>-0.021752</td>\n",
       "      <td>-0.054472</td>\n",
       "      <td>-0.017399</td>\n",
       "      <td>0.022196</td>\n",
       "      <td>0</td>\n",
       "      <td>3.67</td>\n",
       "      <td>1</td>\n",
       "      <td>0</td>\n",
       "      <td>0</td>\n",
       "      <td>0</td>\n",
       "      <td>0</td>\n",
       "      <td>1</td>\n",
       "      <td>0</td>\n",
       "      <td>0</td>\n",
       "      <td>0</td>\n",
       "      <td>0</td>\n",
       "      <td>0</td>\n",
       "      <td>0</td>\n",
       "      <td>0</td>\n",
       "    </tr>\n",
       "    <tr>\n",
       "      <th>3</th>\n",
       "      <td>4</td>\n",
       "      <td>-0.021752</td>\n",
       "      <td>0.453939</td>\n",
       "      <td>0.169892</td>\n",
       "      <td>-0.009879</td>\n",
       "      <td>0</td>\n",
       "      <td>2.75</td>\n",
       "      <td>1</td>\n",
       "      <td>1</td>\n",
       "      <td>0</td>\n",
       "      <td>1</td>\n",
       "      <td>0</td>\n",
       "      <td>1</td>\n",
       "      <td>0</td>\n",
       "      <td>1</td>\n",
       "      <td>0</td>\n",
       "      <td>0</td>\n",
       "      <td>0</td>\n",
       "      <td>0</td>\n",
       "      <td>1</td>\n",
       "    </tr>\n",
       "    <tr>\n",
       "      <th>4</th>\n",
       "      <td>8</td>\n",
       "      <td>-0.008290</td>\n",
       "      <td>-0.114286</td>\n",
       "      <td>-0.181412</td>\n",
       "      <td>-0.037453</td>\n",
       "      <td>0</td>\n",
       "      <td>0.00</td>\n",
       "      <td>1</td>\n",
       "      <td>0</td>\n",
       "      <td>0</td>\n",
       "      <td>1</td>\n",
       "      <td>0</td>\n",
       "      <td>0</td>\n",
       "      <td>1</td>\n",
       "      <td>0</td>\n",
       "      <td>0</td>\n",
       "      <td>0</td>\n",
       "      <td>1</td>\n",
       "      <td>0</td>\n",
       "      <td>0</td>\n",
       "    </tr>\n",
       "  </tbody>\n",
       "</table>\n",
       "</div>"
      ],
      "text/plain": [
       "   hike_id  numReports  total_dist  elevation gain  time_from_seattle  Coast  \\\n",
       "0        0    0.177287    0.035247       -0.057533          -0.009605      0   \n",
       "1        2   -0.003483   -0.002136        0.129758           0.029158      0   \n",
       "2        3   -0.021752   -0.054472       -0.017399           0.022196      0   \n",
       "3        4   -0.021752    0.453939        0.169892          -0.009879      0   \n",
       "4        8   -0.008290   -0.114286       -0.181412          -0.037453      0   \n",
       "\n",
       "   stars  Dogs allowed on leash  Established campsites  Fall foliage  \\\n",
       "0   4.25                      0                      1             0   \n",
       "1   3.00                      0                      0             0   \n",
       "2   3.67                      1                      0             0   \n",
       "3   2.75                      1                      1             0   \n",
       "4   0.00                      1                      0             0   \n",
       "\n",
       "   Good for kids  Lakes  Mountain views  Old growth  Ridges/passes  Rivers  \\\n",
       "0              0      0               1           0              0       0   \n",
       "1              0      1               0           1              0       0   \n",
       "2              0      0               1           0              0       0   \n",
       "3              1      0               1           0              1       0   \n",
       "4              1      0               0           1              0       0   \n",
       "\n",
       "   Summits  Waterfalls  Wildflowers/Meadows  Wildlife  \n",
       "0        0           0                    0         1  \n",
       "1        0           0                    0         0  \n",
       "2        0           0                    0         0  \n",
       "3        0           0                    0         1  \n",
       "4        0           1                    0         0  "
      ]
     },
     "execution_count": 105,
     "metadata": {},
     "output_type": "execute_result"
    }
   ],
   "source": [
    "item_data.head()"
   ]
  },
  {
   "cell_type": "code",
   "execution_count": 128,
   "metadata": {
    "collapsed": true
   },
   "outputs": [],
   "source": [
    "def norm(df, col):\n",
    "    \"\"\"Normalized the give column of the provided dataframe\"\"\"\n",
    "    df[col] = (df[col] - df[col].mean())/(df[col].max() - df[col].min())"
   ]
  },
  {
   "cell_type": "code",
   "execution_count": 129,
   "metadata": {
    "collapsed": true
   },
   "outputs": [],
   "source": [
    "norm(item_data, 'elevation gain')\n",
    "norm(item_data, 'time_from_seattle')\n",
    "norm(item_data, 'numReports')\n",
    "norm(item_data, 'total_dist')"
   ]
  },
  {
   "cell_type": "code",
   "execution_count": 130,
   "metadata": {
    "collapsed": false
   },
   "outputs": [],
   "source": [
    "item_data.dropna(inplace=True)"
   ]
  },
  {
   "cell_type": "code",
   "execution_count": 53,
   "metadata": {
    "collapsed": true
   },
   "outputs": [],
   "source": [
    "hikes_liked = pd.DataFrame(item_data.ix[65]).transpose()"
   ]
  },
  {
   "cell_type": "code",
   "execution_count": 54,
   "metadata": {
    "collapsed": false
   },
   "outputs": [
    {
     "data": {
      "text/html": [
       "<div>\n",
       "<table border=\"1\" class=\"dataframe\">\n",
       "  <thead>\n",
       "    <tr style=\"text-align: right;\">\n",
       "      <th></th>\n",
       "      <th>hike_id</th>\n",
       "      <th>numReports</th>\n",
       "      <th>total_dist</th>\n",
       "      <th>elevation gain</th>\n",
       "      <th>time_from_seattle</th>\n",
       "      <th>Coast</th>\n",
       "      <th>stars</th>\n",
       "      <th>Dogs allowed on leash</th>\n",
       "      <th>Established campsites</th>\n",
       "      <th>Fall foliage</th>\n",
       "      <th>Good for kids</th>\n",
       "      <th>Lakes</th>\n",
       "      <th>Mountain views</th>\n",
       "      <th>Old growth</th>\n",
       "      <th>Ridges/passes</th>\n",
       "      <th>Rivers</th>\n",
       "      <th>Summits</th>\n",
       "      <th>Waterfalls</th>\n",
       "      <th>Wildflowers/Meadows</th>\n",
       "      <th>Wildlife</th>\n",
       "    </tr>\n",
       "  </thead>\n",
       "  <tbody>\n",
       "    <tr>\n",
       "      <th>65</th>\n",
       "      <td>65.0</td>\n",
       "      <td>-0.024637</td>\n",
       "      <td>-0.181575</td>\n",
       "      <td>-0.124422</td>\n",
       "      <td>-0.019827</td>\n",
       "      <td>0.0</td>\n",
       "      <td>0.0</td>\n",
       "      <td>1.0</td>\n",
       "      <td>0.0</td>\n",
       "      <td>0.0</td>\n",
       "      <td>1.0</td>\n",
       "      <td>0.0</td>\n",
       "      <td>0.0</td>\n",
       "      <td>1.0</td>\n",
       "      <td>0.0</td>\n",
       "      <td>0.0</td>\n",
       "      <td>0.0</td>\n",
       "      <td>0.0</td>\n",
       "      <td>0.0</td>\n",
       "      <td>1.0</td>\n",
       "    </tr>\n",
       "  </tbody>\n",
       "</table>\n",
       "</div>"
      ],
      "text/plain": [
       "    hike_id  numReports  total_dist  elevation gain  time_from_seattle  Coast  \\\n",
       "65     65.0   -0.024637   -0.181575       -0.124422          -0.019827    0.0   \n",
       "\n",
       "    stars  Dogs allowed on leash  Established campsites  Fall foliage  \\\n",
       "65    0.0                    1.0                    0.0           0.0   \n",
       "\n",
       "    Good for kids  Lakes  Mountain views  Old growth  Ridges/passes  Rivers  \\\n",
       "65            1.0    0.0             0.0         1.0            0.0     0.0   \n",
       "\n",
       "    Summits  Waterfalls  Wildflowers/Meadows  Wildlife  \n",
       "65      0.0         0.0                  0.0       1.0  "
      ]
     },
     "execution_count": 54,
     "metadata": {},
     "output_type": "execute_result"
    }
   ],
   "source": [
    "hikes_liked"
   ]
  },
  {
   "cell_type": "code",
   "execution_count": 139,
   "metadata": {
    "collapsed": false
   },
   "outputs": [
    {
     "name": "stdout",
     "output_type": "stream",
     "text": [
      "numReports\n",
      "total_dist\n",
      "elevation gain\n",
      "time_from_seattle\n",
      "Coast\n",
      "stars\n",
      "Dogs allowed on leash\n",
      "Established campsites\n",
      "Fall foliage\n",
      "Good for kids\n",
      "Lakes\n",
      "Mountain views\n",
      "Old growth\n",
      "Ridges/passes\n",
      "Rivers\n",
      "Summits\n",
      "Waterfalls\n",
      "Wildflowers/Meadows\n",
      "Wildlife\n"
     ]
    }
   ],
   "source": [
    "for col in [c for c in item_data.columns if c not in [u'hike_id']]:\n",
    "    print col"
   ]
  },
  {
   "cell_type": "code",
   "execution_count": 55,
   "metadata": {
    "collapsed": false
   },
   "outputs": [
    {
     "data": {
      "text/html": [
       "<div>\n",
       "<table border=\"1\" class=\"dataframe\">\n",
       "  <thead>\n",
       "    <tr style=\"text-align: right;\">\n",
       "      <th></th>\n",
       "      <th>hike_id</th>\n",
       "      <th>numReports</th>\n",
       "      <th>total_dist</th>\n",
       "      <th>elevation gain</th>\n",
       "      <th>time_from_seattle</th>\n",
       "      <th>Coast</th>\n",
       "      <th>stars</th>\n",
       "      <th>Dogs allowed on leash</th>\n",
       "      <th>Established campsites</th>\n",
       "      <th>Fall foliage</th>\n",
       "      <th>Good for kids</th>\n",
       "      <th>Lakes</th>\n",
       "      <th>Mountain views</th>\n",
       "      <th>Old growth</th>\n",
       "      <th>Ridges/passes</th>\n",
       "      <th>Rivers</th>\n",
       "      <th>Summits</th>\n",
       "      <th>Waterfalls</th>\n",
       "      <th>Wildflowers/Meadows</th>\n",
       "      <th>Wildlife</th>\n",
       "    </tr>\n",
       "  </thead>\n",
       "  <tbody>\n",
       "    <tr>\n",
       "      <th>65</th>\n",
       "      <td>65.0</td>\n",
       "      <td>-0.024637</td>\n",
       "      <td>-0.181575</td>\n",
       "      <td>-0.124422</td>\n",
       "      <td>-0.019827</td>\n",
       "      <td>0.0</td>\n",
       "      <td>0.00</td>\n",
       "      <td>1.0</td>\n",
       "      <td>0.0</td>\n",
       "      <td>0.0</td>\n",
       "      <td>1.0</td>\n",
       "      <td>0.0</td>\n",
       "      <td>0.0</td>\n",
       "      <td>1.0</td>\n",
       "      <td>0.0</td>\n",
       "      <td>0.0</td>\n",
       "      <td>0.0</td>\n",
       "      <td>0.0</td>\n",
       "      <td>0.0</td>\n",
       "      <td>1.0</td>\n",
       "    </tr>\n",
       "    <tr>\n",
       "      <th>87</th>\n",
       "      <td>87.0</td>\n",
       "      <td>0.187863</td>\n",
       "      <td>-0.106809</td>\n",
       "      <td>-0.044155</td>\n",
       "      <td>-0.001098</td>\n",
       "      <td>0.0</td>\n",
       "      <td>4.05</td>\n",
       "      <td>1.0</td>\n",
       "      <td>0.0</td>\n",
       "      <td>0.0</td>\n",
       "      <td>0.0</td>\n",
       "      <td>0.0</td>\n",
       "      <td>1.0</td>\n",
       "      <td>0.0</td>\n",
       "      <td>0.0</td>\n",
       "      <td>0.0</td>\n",
       "      <td>0.0</td>\n",
       "      <td>0.0</td>\n",
       "      <td>0.0</td>\n",
       "      <td>0.0</td>\n",
       "    </tr>\n",
       "  </tbody>\n",
       "</table>\n",
       "</div>"
      ],
      "text/plain": [
       "    hike_id  numReports  total_dist  elevation gain  time_from_seattle  Coast  \\\n",
       "65     65.0   -0.024637   -0.181575       -0.124422          -0.019827    0.0   \n",
       "87     87.0    0.187863   -0.106809       -0.044155          -0.001098    0.0   \n",
       "\n",
       "    stars  Dogs allowed on leash  Established campsites  Fall foliage  \\\n",
       "65   0.00                    1.0                    0.0           0.0   \n",
       "87   4.05                    1.0                    0.0           0.0   \n",
       "\n",
       "    Good for kids  Lakes  Mountain views  Old growth  Ridges/passes  Rivers  \\\n",
       "65            1.0    0.0             0.0         1.0            0.0     0.0   \n",
       "87            0.0    0.0             1.0         0.0            0.0     0.0   \n",
       "\n",
       "    Summits  Waterfalls  Wildflowers/Meadows  Wildlife  \n",
       "65      0.0         0.0                  0.0       1.0  \n",
       "87      0.0         0.0                  0.0       0.0  "
      ]
     },
     "execution_count": 55,
     "metadata": {},
     "output_type": "execute_result"
    }
   ],
   "source": [
    "hikes_liked.append(item_data.ix[87])"
   ]
  },
  {
   "cell_type": "code",
   "execution_count": 56,
   "metadata": {
    "collapsed": false
   },
   "outputs": [
    {
     "data": {
      "text/html": [
       "<div>\n",
       "<table border=\"1\" class=\"dataframe\">\n",
       "  <thead>\n",
       "    <tr style=\"text-align: right;\">\n",
       "      <th></th>\n",
       "      <th>hike_id</th>\n",
       "      <th>numReports</th>\n",
       "      <th>total_dist</th>\n",
       "      <th>elevation gain</th>\n",
       "      <th>time_from_seattle</th>\n",
       "      <th>Coast</th>\n",
       "      <th>stars</th>\n",
       "      <th>Dogs allowed on leash</th>\n",
       "      <th>Established campsites</th>\n",
       "      <th>Fall foliage</th>\n",
       "      <th>Good for kids</th>\n",
       "      <th>Lakes</th>\n",
       "      <th>Mountain views</th>\n",
       "      <th>Old growth</th>\n",
       "      <th>Ridges/passes</th>\n",
       "      <th>Rivers</th>\n",
       "      <th>Summits</th>\n",
       "      <th>Waterfalls</th>\n",
       "      <th>Wildflowers/Meadows</th>\n",
       "      <th>Wildlife</th>\n",
       "    </tr>\n",
       "  </thead>\n",
       "  <tbody>\n",
       "    <tr>\n",
       "      <th>65</th>\n",
       "      <td>65.0</td>\n",
       "      <td>-0.024637</td>\n",
       "      <td>-0.181575</td>\n",
       "      <td>-0.124422</td>\n",
       "      <td>-0.019827</td>\n",
       "      <td>0.0</td>\n",
       "      <td>0.0</td>\n",
       "      <td>1.0</td>\n",
       "      <td>0.0</td>\n",
       "      <td>0.0</td>\n",
       "      <td>1.0</td>\n",
       "      <td>0.0</td>\n",
       "      <td>0.0</td>\n",
       "      <td>1.0</td>\n",
       "      <td>0.0</td>\n",
       "      <td>0.0</td>\n",
       "      <td>0.0</td>\n",
       "      <td>0.0</td>\n",
       "      <td>0.0</td>\n",
       "      <td>1.0</td>\n",
       "    </tr>\n",
       "  </tbody>\n",
       "</table>\n",
       "</div>"
      ],
      "text/plain": [
       "    hike_id  numReports  total_dist  elevation gain  time_from_seattle  Coast  \\\n",
       "65     65.0   -0.024637   -0.181575       -0.124422          -0.019827    0.0   \n",
       "\n",
       "    stars  Dogs allowed on leash  Established campsites  Fall foliage  \\\n",
       "65    0.0                    1.0                    0.0           0.0   \n",
       "\n",
       "    Good for kids  Lakes  Mountain views  Old growth  Ridges/passes  Rivers  \\\n",
       "65            1.0    0.0             0.0         1.0            0.0     0.0   \n",
       "\n",
       "    Summits  Waterfalls  Wildflowers/Meadows  Wildlife  \n",
       "65      0.0         0.0                  0.0       1.0  "
      ]
     },
     "execution_count": 56,
     "metadata": {},
     "output_type": "execute_result"
    }
   ],
   "source": [
    "hikes_liked"
   ]
  },
  {
   "cell_type": "code",
   "execution_count": 136,
   "metadata": {
    "collapsed": false
   },
   "outputs": [
    {
     "data": {
      "text/plain": [
       "Index([u'hike_id', u'numReports', u'total_dist', u'elevation gain',\n",
       "       u'time_from_seattle', u'Coast', u'stars', u'Dogs allowed on leash',\n",
       "       u'Established campsites', u'Fall foliage', u'Good for kids', u'Lakes',\n",
       "       u'Mountain views', u'Old growth', u'Ridges/passes', u'Rivers',\n",
       "       u'Summits', u'Waterfalls', u'Wildflowers/Meadows', u'Wildlife'],\n",
       "      dtype='object')"
      ]
     },
     "execution_count": 136,
     "metadata": {},
     "output_type": "execute_result"
    }
   ],
   "source": [
    "hikes_liked.columns"
   ]
  },
  {
   "cell_type": "code",
   "execution_count": 126,
   "metadata": {
    "collapsed": true
   },
   "outputs": [],
   "source": [
    "\"\"\"DOC strings\"\"\"\n",
    "\n",
    "# import packages\n",
    "import pandas as pd\n",
    "import numpy as np\n",
    "from sklearn.metrics.pairwise import cosine_similarity\n",
    "\n",
    "\n",
    "\n",
    "class hikeRecommender(object):\n",
    "\n",
    "    def __init__(self, hikes, weights=None):\n",
    "        self.hike_matrix = hikes\n",
    "        self.feature_weights = weights\n",
    "        self.hikes_liked = []\n",
    "        self.hikes_disliked = []\n",
    "\n",
    "    def likeHike(self, hike_id):\n",
    "        indx = self.hike_matrix[self.hike_matrix['hike_id']==hike_id].index[0]\n",
    "        if len(self.hikes_liked)==0:\n",
    "            self.hikes_liked = pd.DataFrame(self.hike_matrix.ix[indx]).transpose()\n",
    "            self.hike_matrix = self.hike_matrix.drop(indx, axis=0).reset_index(drop=True)\n",
    "        else:\n",
    "            self.hikes_liked = self.hikes_liked.append(self.hike_matrix.ix[indx])\n",
    "            self.hike_matrix = self.hike_matrix.drop(indx, axis=0).reset_index(drop=True)\n",
    "\n",
    "    def recommend(self, n=5):\n",
    "        # Calculate similarity to all of the hikes\n",
    "        # average similarities\n",
    "        # return top 5\n",
    "        indx_id = self.hike_matrix['hike_id']\n",
    "        X = self.hike_matrix.drop('hike_id', axis=1)\n",
    "        y = self.hikes_liked.drop('hike_id', axis=1)\n",
    "        cs = cosine_similarity(X, y).mean(axis=1)\n",
    "        rec_index= np.argsort(cs)[-n:][::-1]\n",
    "        recommendations = indx_id.ix[rec_index]\n",
    "        return recommendations\n"
   ]
  },
  {
   "cell_type": "code",
   "execution_count": 131,
   "metadata": {
    "collapsed": false
   },
   "outputs": [
    {
     "data": {
      "text/plain": [
       "<__main__.hikeRecommender at 0x11480ce50>"
      ]
     },
     "execution_count": 131,
     "metadata": {},
     "output_type": "execute_result"
    }
   ],
   "source": [
    "hikeRecommender(item_data)"
   ]
  },
  {
   "cell_type": "code",
   "execution_count": 132,
   "metadata": {
    "collapsed": true
   },
   "outputs": [],
   "source": [
    "hr=hikeRecommender(item_data)"
   ]
  },
  {
   "cell_type": "code",
   "execution_count": 133,
   "metadata": {
    "collapsed": true
   },
   "outputs": [],
   "source": [
    "hr.likeHike(65)"
   ]
  },
  {
   "cell_type": "code",
   "execution_count": 134,
   "metadata": {
    "collapsed": true
   },
   "outputs": [],
   "source": [
    "hr.likeHike(4)"
   ]
  },
  {
   "cell_type": "code",
   "execution_count": 135,
   "metadata": {
    "collapsed": false
   },
   "outputs": [
    {
     "data": {
      "text/plain": [
       "962     1215\n",
       "811     1001\n",
       "1044    1332\n",
       "371      421\n",
       "960     1213\n",
       "1237    1774\n",
       "1187    1609\n",
       "479      552\n",
       "316      359\n",
       "1031    1311\n",
       "Name: hike_id, dtype: int64"
      ]
     },
     "execution_count": 135,
     "metadata": {},
     "output_type": "execute_result"
    }
   ],
   "source": [
    "hr.recommend(10)"
   ]
  },
  {
   "cell_type": "code",
   "execution_count": null,
   "metadata": {
    "collapsed": true
   },
   "outputs": [],
   "source": []
  }
 ],
 "metadata": {
  "kernelspec": {
   "display_name": "Python 2",
   "language": "python",
   "name": "python2"
  },
  "language_info": {
   "codemirror_mode": {
    "name": "ipython",
    "version": 2
   },
   "file_extension": ".py",
   "mimetype": "text/x-python",
   "name": "python",
   "nbconvert_exporter": "python",
   "pygments_lexer": "ipython2",
   "version": "2.7.12"
  }
 },
 "nbformat": 4,
 "nbformat_minor": 0
}
