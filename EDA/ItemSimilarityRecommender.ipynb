{
 "cells": [
  {
   "cell_type": "code",
   "execution_count": 49,
   "metadata": {
    "collapsed": true
   },
   "outputs": [],
   "source": [
    "import graphlab as gl\n",
    "import pandas as pd\n",
    "import numpy as np\n",
    "from pymongo import MongoClient\n",
    "import cPickle as pickle"
   ]
  },
  {
   "cell_type": "code",
   "execution_count": 15,
   "metadata": {
    "collapsed": true
   },
   "outputs": [],
   "source": [
    "df = pd.read_csv('../data/itemData.csv')\n",
    "df = df.drop(labels=['Unnamed: 0'], axis=1)"
   ]
  },
  {
   "cell_type": "code",
   "execution_count": 16,
   "metadata": {
    "collapsed": false
   },
   "outputs": [
    {
     "data": {
      "text/html": [
       "<div>\n",
       "<table border=\"1\" class=\"dataframe\">\n",
       "  <thead>\n",
       "    <tr style=\"text-align: right;\">\n",
       "      <th></th>\n",
       "      <th>0</th>\n",
       "      <th>1</th>\n",
       "      <th>2</th>\n",
       "      <th>3</th>\n",
       "      <th>4</th>\n",
       "    </tr>\n",
       "  </thead>\n",
       "  <tbody>\n",
       "    <tr>\n",
       "      <th>hike_name</th>\n",
       "      <td>Grand Park via Lake Eleanor</td>\n",
       "      <td>Shellrock Pass</td>\n",
       "      <td>Soda Peaks Lake</td>\n",
       "      <td>Shorthorn</td>\n",
       "      <td>West Fork Teanaway River</td>\n",
       "    </tr>\n",
       "    <tr>\n",
       "      <th>hike_id</th>\n",
       "      <td>0</td>\n",
       "      <td>1</td>\n",
       "      <td>2</td>\n",
       "      <td>3</td>\n",
       "      <td>4</td>\n",
       "    </tr>\n",
       "    <tr>\n",
       "      <th>numReports</th>\n",
       "      <td>212</td>\n",
       "      <td>2</td>\n",
       "      <td>24</td>\n",
       "      <td>5</td>\n",
       "      <td>5</td>\n",
       "    </tr>\n",
       "    <tr>\n",
       "      <th>total_dist</th>\n",
       "      <td>8</td>\n",
       "      <td>NaN</td>\n",
       "      <td>7</td>\n",
       "      <td>5.6</td>\n",
       "      <td>19.2</td>\n",
       "    </tr>\n",
       "    <tr>\n",
       "      <th>elevation gain</th>\n",
       "      <td>1100</td>\n",
       "      <td>NaN</td>\n",
       "      <td>2500</td>\n",
       "      <td>1400</td>\n",
       "      <td>2800</td>\n",
       "    </tr>\n",
       "    <tr>\n",
       "      <th>time_from_seattle</th>\n",
       "      <td>116.533</td>\n",
       "      <td>NaN</td>\n",
       "      <td>227.333</td>\n",
       "      <td>207.433</td>\n",
       "      <td>115.75</td>\n",
       "    </tr>\n",
       "    <tr>\n",
       "      <th>Coast</th>\n",
       "      <td>0</td>\n",
       "      <td>0</td>\n",
       "      <td>0</td>\n",
       "      <td>0</td>\n",
       "      <td>0</td>\n",
       "    </tr>\n",
       "    <tr>\n",
       "      <th>stars</th>\n",
       "      <td>4.25</td>\n",
       "      <td>2.33</td>\n",
       "      <td>3</td>\n",
       "      <td>3.67</td>\n",
       "      <td>2.75</td>\n",
       "    </tr>\n",
       "    <tr>\n",
       "      <th>Dogs allowed on leash</th>\n",
       "      <td>0</td>\n",
       "      <td>1</td>\n",
       "      <td>0</td>\n",
       "      <td>1</td>\n",
       "      <td>1</td>\n",
       "    </tr>\n",
       "    <tr>\n",
       "      <th>Established campsites</th>\n",
       "      <td>1</td>\n",
       "      <td>0</td>\n",
       "      <td>0</td>\n",
       "      <td>0</td>\n",
       "      <td>1</td>\n",
       "    </tr>\n",
       "    <tr>\n",
       "      <th>Fall foliage</th>\n",
       "      <td>0</td>\n",
       "      <td>0</td>\n",
       "      <td>0</td>\n",
       "      <td>0</td>\n",
       "      <td>0</td>\n",
       "    </tr>\n",
       "    <tr>\n",
       "      <th>Good for kids</th>\n",
       "      <td>0</td>\n",
       "      <td>0</td>\n",
       "      <td>0</td>\n",
       "      <td>0</td>\n",
       "      <td>1</td>\n",
       "    </tr>\n",
       "    <tr>\n",
       "      <th>Lakes</th>\n",
       "      <td>0</td>\n",
       "      <td>0</td>\n",
       "      <td>1</td>\n",
       "      <td>0</td>\n",
       "      <td>0</td>\n",
       "    </tr>\n",
       "    <tr>\n",
       "      <th>Mountain views</th>\n",
       "      <td>1</td>\n",
       "      <td>0</td>\n",
       "      <td>0</td>\n",
       "      <td>1</td>\n",
       "      <td>1</td>\n",
       "    </tr>\n",
       "    <tr>\n",
       "      <th>Old growth</th>\n",
       "      <td>0</td>\n",
       "      <td>0</td>\n",
       "      <td>1</td>\n",
       "      <td>0</td>\n",
       "      <td>0</td>\n",
       "    </tr>\n",
       "    <tr>\n",
       "      <th>Ridges/passes</th>\n",
       "      <td>0</td>\n",
       "      <td>0</td>\n",
       "      <td>0</td>\n",
       "      <td>0</td>\n",
       "      <td>1</td>\n",
       "    </tr>\n",
       "    <tr>\n",
       "      <th>Rivers</th>\n",
       "      <td>0</td>\n",
       "      <td>0</td>\n",
       "      <td>0</td>\n",
       "      <td>0</td>\n",
       "      <td>0</td>\n",
       "    </tr>\n",
       "    <tr>\n",
       "      <th>Summits</th>\n",
       "      <td>0</td>\n",
       "      <td>0</td>\n",
       "      <td>0</td>\n",
       "      <td>0</td>\n",
       "      <td>0</td>\n",
       "    </tr>\n",
       "    <tr>\n",
       "      <th>Waterfalls</th>\n",
       "      <td>0</td>\n",
       "      <td>0</td>\n",
       "      <td>0</td>\n",
       "      <td>0</td>\n",
       "      <td>0</td>\n",
       "    </tr>\n",
       "    <tr>\n",
       "      <th>Wildflowers/Meadows</th>\n",
       "      <td>0</td>\n",
       "      <td>0</td>\n",
       "      <td>0</td>\n",
       "      <td>0</td>\n",
       "      <td>0</td>\n",
       "    </tr>\n",
       "    <tr>\n",
       "      <th>Wildlife</th>\n",
       "      <td>1</td>\n",
       "      <td>0</td>\n",
       "      <td>0</td>\n",
       "      <td>0</td>\n",
       "      <td>1</td>\n",
       "    </tr>\n",
       "  </tbody>\n",
       "</table>\n",
       "</div>"
      ],
      "text/plain": [
       "                                                 0               1  \\\n",
       "hike_name              Grand Park via Lake Eleanor  Shellrock Pass   \n",
       "hike_id                                          0               1   \n",
       "numReports                                     212               2   \n",
       "total_dist                                       8             NaN   \n",
       "elevation gain                                1100             NaN   \n",
       "time_from_seattle                          116.533             NaN   \n",
       "Coast                                            0               0   \n",
       "stars                                         4.25            2.33   \n",
       "Dogs allowed on leash                            0               1   \n",
       "Established campsites                            1               0   \n",
       "Fall foliage                                     0               0   \n",
       "Good for kids                                    0               0   \n",
       "Lakes                                            0               0   \n",
       "Mountain views                                   1               0   \n",
       "Old growth                                       0               0   \n",
       "Ridges/passes                                    0               0   \n",
       "Rivers                                           0               0   \n",
       "Summits                                          0               0   \n",
       "Waterfalls                                       0               0   \n",
       "Wildflowers/Meadows                              0               0   \n",
       "Wildlife                                         1               0   \n",
       "\n",
       "                                     2          3                         4  \n",
       "hike_name              Soda Peaks Lake  Shorthorn  West Fork Teanaway River  \n",
       "hike_id                              2          3                         4  \n",
       "numReports                          24          5                         5  \n",
       "total_dist                           7        5.6                      19.2  \n",
       "elevation gain                    2500       1400                      2800  \n",
       "time_from_seattle              227.333    207.433                    115.75  \n",
       "Coast                                0          0                         0  \n",
       "stars                                3       3.67                      2.75  \n",
       "Dogs allowed on leash                0          1                         1  \n",
       "Established campsites                0          0                         1  \n",
       "Fall foliage                         0          0                         0  \n",
       "Good for kids                        0          0                         1  \n",
       "Lakes                                1          0                         0  \n",
       "Mountain views                       0          1                         1  \n",
       "Old growth                           1          0                         0  \n",
       "Ridges/passes                        0          0                         1  \n",
       "Rivers                               0          0                         0  \n",
       "Summits                              0          0                         0  \n",
       "Waterfalls                           0          0                         0  \n",
       "Wildflowers/Meadows                  0          0                         0  \n",
       "Wildlife                             0          0                         1  "
      ]
     },
     "execution_count": 16,
     "metadata": {},
     "output_type": "execute_result"
    }
   ],
   "source": [
    "df.head().T"
   ]
  },
  {
   "cell_type": "markdown",
   "metadata": {},
   "source": [
    "## Using Feature Importance from Gradient Boosting to get weights"
   ]
  },
  {
   "cell_type": "code",
   "execution_count": 25,
   "metadata": {
    "collapsed": false
   },
   "outputs": [
    {
     "name": "stdout",
     "output_type": "stream",
     "text": [
      " RMSE:  1.0608949547\n"
     ]
    }
   ],
   "source": [
    "from sklearn.ensemble import GradientBoostingRegressor\n",
    "from sklearn.cross_validation import train_test_split\n",
    "from sklearn.metrics import mean_squared_error\n",
    "df = df.dropna()\n",
    "X = df[[u'elevation gain', u'time_from_seattle', u'numReports', \n",
    "        u'total_dist', u'Coast',\n",
    "       u'Dogs allowed on leash', u'Established campsites', u'Fall foliage',\n",
    "       u'Good for kids', u'Lakes', u'Mountain views', u'Old growth',\n",
    "       u'Ridges/passes', u'Rivers', u'Summits', u'Waterfalls',\n",
    "       u'Wildflowers/Meadows', u'Wildlife']]\n",
    "y = df.stars\n",
    "X_train, X_test, y_train, y_test = train_test_split(X, y, random_state=0)\n",
    "gb = GradientBoostingRegressor(min_samples_leaf=3, random_state=0).fit(X_train, y_train)\n",
    "print 'RMSE: ', np.sqrt(mean_squared_error(y_test, gb.predict(X_test)))"
   ]
  },
  {
   "cell_type": "code",
   "execution_count": 26,
   "metadata": {
    "collapsed": false
   },
   "outputs": [
    {
     "data": {
      "text/plain": [
       "<matplotlib.axes._subplots.AxesSubplot at 0x11d310ed0>"
      ]
     },
     "execution_count": 26,
     "metadata": {},
     "output_type": "execute_result"
    },
    {
     "data": {
      "image/png": "[encoded data removed]",
      "text/plain": [
       "<matplotlib.figure.Figure at 0x11d422b90>"
      ]
     },
     "metadata": {},
     "output_type": "display_data"
    }
   ],
   "source": [
    "feat_imp = gb.feature_importances_\n",
    "feat_scores = pd.DataFrame({'Fraction of Samples Affected' : gb.feature_importances_},\n",
    "                           index=X.columns)\n",
    "feat_scores = feat_scores.sort_values(by='Fraction of Samples Affected')\n",
    "feat_scores.plot(kind='barh')"
   ]
  },
  {
   "cell_type": "code",
   "execution_count": 28,
   "metadata": {
    "collapsed": true
   },
   "outputs": [],
   "source": [
    "weights = dict(zip(X.columns, gb.feature_importances_))"
   ]
  },
  {
   "cell_type": "code",
   "execution_count": 30,
   "metadata": {
    "collapsed": false
   },
   "outputs": [
    {
     "name": "stdout",
     "output_type": "stream",
     "text": [
      "WARNING: The ItemContentRecommender model is still in beta.\n",
      "WARNING: This feature transformer is still in beta, and some interpretation rules may change in the future.\n",
      "('Applying transform:\\n', Class             : AutoVectorizer\n",
      "\n",
      "Model Fields\n",
      "------------\n",
      "Features          : ['numReports', 'total_dist', 'elevation gain', 'time_from_seattle', 'Coast', 'stars', 'Dogs allowed on leash', 'Established campsites', 'Fall foliage', 'Good for kids', 'Lakes', 'Mountain views', 'Old growth', 'Ridges/passes', 'Rivers', 'Summits', 'Waterfalls', 'Wildflowers/Meadows', 'Wildlife']\n",
      "Excluded Features : ['hike_id']\n",
      "\n",
      "Column                 Type   Interpretation  Transforms   Output Type\n",
      "---------------------  -----  --------------  -----------  -----------\n",
      "numReports             float  numerical       None         float      \n",
      "total_dist             float  numerical       None         float      \n",
      "elevation gain         float  numerical       None         float      \n",
      "time_from_seattle      float  numerical       None         float      \n",
      "Coast                  int    categorical     astype(str)  str        \n",
      "stars                  float  numerical       None         float      \n",
      "Dogs allowed on leash  int    categorical     astype(str)  str        \n",
      "Established campsites  int    categorical     astype(str)  str        \n",
      "Fall foliage           int    categorical     astype(str)  str        \n",
      "Good for kids          int    categorical     astype(str)  str        \n",
      "Lakes                  int    categorical     astype(str)  str        \n",
      "Mountain views         int    categorical     astype(str)  str        \n",
      "Old growth             int    categorical     astype(str)  str        \n",
      "Ridges/passes          int    categorical     astype(str)  str        \n",
      "Rivers                 int    categorical     astype(str)  str        \n",
      "Summits                int    categorical     astype(str)  str        \n",
      "Waterfalls             int    categorical     astype(str)  str        \n",
      "Wildflowers/Meadows    int    categorical     astype(str)  str        \n",
      "Wildlife               int    categorical     astype(str)  str        \n",
      "\n",
      ")"
     ]
    },
    {
     "data": {
      "text/html": [
       "<pre>Recsys training: model = item_content_recommender</pre>"
      ],
      "text/plain": [
       "Recsys training: model = item_content_recommender"
      ]
     },
     "metadata": {},
     "output_type": "display_data"
    },
    {
     "name": "stdout",
     "output_type": "stream",
     "text": [
      "\n",
      "Defaulting to brute force instead of ball tree because there are multiple distance components."
     ]
    },
    {
     "data": {
      "text/html": [
       "<pre>Starting brute force nearest neighbors model training.</pre>"
      ],
      "text/plain": [
       "Starting brute force nearest neighbors model training."
      ]
     },
     "metadata": {},
     "output_type": "display_data"
    },
    {
     "data": {
      "text/html": [
       "<pre>Starting pairwise querying.</pre>"
      ],
      "text/plain": [
       "Starting pairwise querying."
      ]
     },
     "metadata": {},
     "output_type": "display_data"
    },
    {
     "data": {
      "text/html": [
       "<pre>+--------------+---------+-------------+--------------+</pre>"
      ],
      "text/plain": [
       "+--------------+---------+-------------+--------------+"
      ]
     },
     "metadata": {},
     "output_type": "display_data"
    },
    {
     "data": {
      "text/html": [
       "<pre>| Query points | # Pairs | % Complete. | Elapsed Time |</pre>"
      ],
      "text/plain": [
       "| Query points | # Pairs | % Complete. | Elapsed Time |"
      ]
     },
     "metadata": {},
     "output_type": "display_data"
    },
    {
     "data": {
      "text/html": [
       "<pre>+--------------+---------+-------------+--------------+</pre>"
      ],
      "text/plain": [
       "+--------------+---------+-------------+--------------+"
      ]
     },
     "metadata": {},
     "output_type": "display_data"
    },
    {
     "data": {
      "text/html": [
       "<pre>| 1            | 1413    | 0.0707714   | 16.75ms      |</pre>"
      ],
      "text/plain": [
       "| 1            | 1413    | 0.0707714   | 16.75ms      |"
      ]
     },
     "metadata": {},
     "output_type": "display_data"
    },
    {
     "data": {
      "text/html": [
       "<pre>| Done         |         | 100         | 888.368ms    |</pre>"
      ],
      "text/plain": [
       "| Done         |         | 100         | 888.368ms    |"
      ]
     },
     "metadata": {},
     "output_type": "display_data"
    },
    {
     "data": {
      "text/html": [
       "<pre>+--------------+---------+-------------+--------------+</pre>"
      ],
      "text/plain": [
       "+--------------+---------+-------------+--------------+"
      ]
     },
     "metadata": {},
     "output_type": "display_data"
    },
    {
     "data": {
      "text/html": [
       "<pre>Preparing data set.</pre>"
      ],
      "text/plain": [
       "Preparing data set."
      ]
     },
     "metadata": {},
     "output_type": "display_data"
    },
    {
     "data": {
      "text/html": [
       "<pre>    Data has 0 observations with 0 users and 1413 items.</pre>"
      ],
      "text/plain": [
       "    Data has 0 observations with 0 users and 1413 items."
      ]
     },
     "metadata": {},
     "output_type": "display_data"
    },
    {
     "data": {
      "text/html": [
       "<pre>    Data prepared in: 0.304595s</pre>"
      ],
      "text/plain": [
       "    Data prepared in: 0.304595s"
      ]
     },
     "metadata": {},
     "output_type": "display_data"
    },
    {
     "data": {
      "text/html": [
       "<pre>Loading user-provided nearest items.</pre>"
      ],
      "text/plain": [
       "Loading user-provided nearest items."
      ]
     },
     "metadata": {},
     "output_type": "display_data"
    },
    {
     "data": {
      "text/html": [
       "<pre>Generating candidate set for working with new users.</pre>"
      ],
      "text/plain": [
       "Generating candidate set for working with new users."
      ]
     },
     "metadata": {},
     "output_type": "display_data"
    },
    {
     "name": "stdout",
     "output_type": "stream",
     "text": [
      "\n"
     ]
    },
    {
     "data": {
      "text/html": [
       "<pre>Finished training in 0.050371s</pre>"
      ],
      "text/plain": [
       "Finished training in 0.050371s"
      ]
     },
     "metadata": {},
     "output_type": "display_data"
    }
   ],
   "source": [
    "sf = gl.SFrame(df.drop(labels=['hike_name'], axis=1))\n",
    "model = gl.recommender.item_content_recommender.create(sf, item_id='hike_id', weights=weights)"
   ]
  },
  {
   "cell_type": "code",
   "execution_count": 44,
   "metadata": {
    "collapsed": false
   },
   "outputs": [
    {
     "data": {
      "text/html": [
       "<div>\n",
       "<table border=\"1\" class=\"dataframe\">\n",
       "  <thead>\n",
       "    <tr style=\"text-align: right;\">\n",
       "      <th></th>\n",
       "      <th>hike_name</th>\n",
       "      <th>hike_id</th>\n",
       "      <th>numReports</th>\n",
       "      <th>total_dist</th>\n",
       "      <th>elevation gain</th>\n",
       "      <th>time_from_seattle</th>\n",
       "      <th>Coast</th>\n",
       "      <th>stars</th>\n",
       "      <th>Dogs allowed on leash</th>\n",
       "      <th>Established campsites</th>\n",
       "      <th>...</th>\n",
       "      <th>Good for kids</th>\n",
       "      <th>Lakes</th>\n",
       "      <th>Mountain views</th>\n",
       "      <th>Old growth</th>\n",
       "      <th>Ridges/passes</th>\n",
       "      <th>Rivers</th>\n",
       "      <th>Summits</th>\n",
       "      <th>Waterfalls</th>\n",
       "      <th>Wildflowers/Meadows</th>\n",
       "      <th>Wildlife</th>\n",
       "    </tr>\n",
       "  </thead>\n",
       "  <tbody>\n",
       "    <tr>\n",
       "      <th>165</th>\n",
       "      <td>Perry Creek</td>\n",
       "      <td>165</td>\n",
       "      <td>251.0</td>\n",
       "      <td>10.5</td>\n",
       "      <td>3400.0</td>\n",
       "      <td>96.316667</td>\n",
       "      <td>0</td>\n",
       "      <td>4.0</td>\n",
       "      <td>0</td>\n",
       "      <td>1</td>\n",
       "      <td>...</td>\n",
       "      <td>0</td>\n",
       "      <td>0</td>\n",
       "      <td>1</td>\n",
       "      <td>1</td>\n",
       "      <td>0</td>\n",
       "      <td>0</td>\n",
       "      <td>1</td>\n",
       "      <td>1</td>\n",
       "      <td>1</td>\n",
       "      <td>0</td>\n",
       "    </tr>\n",
       "  </tbody>\n",
       "</table>\n",
       "<p>1 rows × 21 columns</p>\n",
       "</div>"
      ],
      "text/plain": [
       "       hike_name  hike_id  numReports  total_dist  elevation gain  \\\n",
       "165  Perry Creek      165       251.0        10.5          3400.0   \n",
       "\n",
       "     time_from_seattle  Coast  stars  Dogs allowed on leash  \\\n",
       "165          96.316667      0    4.0                      0   \n",
       "\n",
       "     Established campsites    ...     Good for kids  Lakes  Mountain views  \\\n",
       "165                      1    ...                 0      0               1   \n",
       "\n",
       "     Old growth  Ridges/passes  Rivers  Summits  Waterfalls  \\\n",
       "165           1              0       0        1           1   \n",
       "\n",
       "     Wildflowers/Meadows  Wildlife  \n",
       "165                    1         0  \n",
       "\n",
       "[1 rows x 21 columns]"
      ]
     },
     "execution_count": 44,
     "metadata": {},
     "output_type": "execute_result"
    }
   ],
   "source": [
    "df[df['hike_name']=='Perry Creek']"
   ]
  },
  {
   "cell_type": "code",
   "execution_count": 45,
   "metadata": {
    "collapsed": false
   },
   "outputs": [],
   "source": [
    "recs = model.recommend_from_interactions([165])"
   ]
  },
  {
   "cell_type": "code",
   "execution_count": 47,
   "metadata": {
    "collapsed": false
   },
   "outputs": [],
   "source": [
    "def prettyPrint(scores):\n",
    "    for score in scores:\n",
    "        print 'Hike Name: ', df.ix[score]['hike_name']\n",
    "        print 'Miles: ', df.ix[score]['total_dist']\n",
    "        print 'EG: ', df.ix[score]['elevation gain']"
   ]
  },
  {
   "cell_type": "code",
   "execution_count": 48,
   "metadata": {
    "collapsed": false
   },
   "outputs": [
    {
     "name": "stdout",
     "output_type": "stream",
     "text": [
      "Hike Name:  Surprise and Glacier Lakes\n",
      "Miles:  11.0\n",
      "EG:  2700.0\n",
      "Hike Name:  Summerland - Panhandle Gap\n",
      "Miles:  12.0\n",
      "EG:  2950.0\n",
      "Hike Name:  Hidden Lake Lookout\n",
      "Miles:  8.0\n",
      "EG:  3300.0\n",
      "Hike Name:  McClellan Butte\n",
      "Miles:  9.0\n",
      "EG:  3700.0\n",
      "Hike Name:  Cutthroat Lakes via Walt Bailey Trail\n",
      "Miles:  10.0\n",
      "EG:  2300.0\n",
      "Hike Name:  Mount Defiance\n",
      "Miles:  11.0\n",
      "EG:  3584.0\n",
      "Hike Name:  Mailbox Peak\n",
      "Miles:  9.4\n",
      "EG:  4000.0\n",
      "Hike Name:  Navaho Pass\n",
      "Miles:  11.0\n",
      "EG:  3000.0\n",
      "Hike Name:  Hannegan Pass and Peak\n",
      "Miles:  10.4\n",
      "EG:  3100.0\n",
      "Hike Name:  Rampart Ridge - Rampart Lakes\n",
      "Miles:  11.0\n",
      "EG:  2200.0\n"
     ]
    }
   ],
   "source": [
    "prettyPrint(recs['hike_id'])"
   ]
  },
  {
   "cell_type": "code",
   "execution_count": 50,
   "metadata": {
    "collapsed": true
   },
   "outputs": [],
   "source": [
    "#Pickling weights"
   ]
  },
  {
   "cell_type": "code",
   "execution_count": 51,
   "metadata": {
    "collapsed": true
   },
   "outputs": [],
   "source": [
    "with open('../pickle/weights.pkl', 'wb') as f:\n",
    "    pickle.dump(weights, f)"
   ]
  },
  {
   "cell_type": "code",
   "execution_count": null,
   "metadata": {
    "collapsed": true
   },
   "outputs": [],
   "source": []
  }
 ],
 "metadata": {
  "kernelspec": {
   "display_name": "Python 2",
   "language": "python",
   "name": "python2"
  },
  "language_info": {
   "codemirror_mode": {
    "name": "ipython",
    "version": 2
   },
   "file_extension": ".py",
   "mimetype": "text/x-python",
   "name": "python",
   "nbconvert_exporter": "python",
   "pygments_lexer": "ipython2",
   "version": "2.7.12"
  }
 },
 "nbformat": 4,
 "nbformat_minor": 0
}
