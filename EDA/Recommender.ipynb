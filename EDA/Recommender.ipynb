{
 "cells": [
  {
   "cell_type": "code",
   "execution_count": 10,
   "metadata": {
    "collapsed": false
   },
   "outputs": [],
   "source": [
    "from __future__ import division\n",
    "import graphlab\n",
    "import pandas as pd\n",
    "import numpy as np\n",
    "from sklearn.cross_validation import train_test_split"
   ]
  },
  {
   "cell_type": "code",
   "execution_count": 11,
   "metadata": {
    "collapsed": false
   },
   "outputs": [
    {
     "data": {
      "text/html": [
       "<div>\n",
       "<table border=\"1\" class=\"dataframe\">\n",
       "  <thead>\n",
       "    <tr style=\"text-align: right;\">\n",
       "      <th></th>\n",
       "      <th>author_id</th>\n",
       "      <th>hike_id</th>\n",
       "      <th>Rating</th>\n",
       "    </tr>\n",
       "  </thead>\n",
       "  <tbody>\n",
       "    <tr>\n",
       "      <th>0</th>\n",
       "      <td>12474.0</td>\n",
       "      <td>0.0</td>\n",
       "      <td>2.0</td>\n",
       "    </tr>\n",
       "    <tr>\n",
       "      <th>1</th>\n",
       "      <td>19583.0</td>\n",
       "      <td>0.0</td>\n",
       "      <td>3.0</td>\n",
       "    </tr>\n",
       "    <tr>\n",
       "      <th>2</th>\n",
       "      <td>4317.0</td>\n",
       "      <td>0.0</td>\n",
       "      <td>1.0</td>\n",
       "    </tr>\n",
       "    <tr>\n",
       "      <th>3</th>\n",
       "      <td>6676.0</td>\n",
       "      <td>0.0</td>\n",
       "      <td>4.0</td>\n",
       "    </tr>\n",
       "    <tr>\n",
       "      <th>4</th>\n",
       "      <td>10392.0</td>\n",
       "      <td>0.0</td>\n",
       "      <td>4.0</td>\n",
       "    </tr>\n",
       "  </tbody>\n",
       "</table>\n",
       "</div>"
      ],
      "text/plain": [
       "   author_id  hike_id  Rating\n",
       "0    12474.0      0.0     2.0\n",
       "1    19583.0      0.0     3.0\n",
       "2     4317.0      0.0     1.0\n",
       "3     6676.0      0.0     4.0\n",
       "4    10392.0      0.0     4.0"
      ]
     },
     "execution_count": 11,
     "metadata": {},
     "output_type": "execute_result"
    }
   ],
   "source": [
    "df = pd.read_csv(open('data/tripReports.csv','rU'), encoding='utf-8', engine='c')\n",
    "df = df.drop(labels=['Unnamed: 0', 'Name', 'Text', 'Date','Creator', 'TextBlobSentiment', 'GraphLabSentiment', 'TrainedModelSentiment'], axis=1)\n",
    "df.head()"
   ]
  },
  {
   "cell_type": "code",
   "execution_count": 12,
   "metadata": {
    "collapsed": false
   },
   "outputs": [],
   "source": [
    "df = df.dropna()"
   ]
  },
  {
   "cell_type": "code",
   "execution_count": 13,
   "metadata": {
    "collapsed": false
   },
   "outputs": [],
   "source": [
    "df['hike_id'] = df['hike_id'].fillna(np.nan).astype(int)\n",
    "df['author_id'] = df['author_id'].fillna(np.nan).astype(int)"
   ]
  },
  {
   "cell_type": "code",
   "execution_count": 14,
   "metadata": {
    "collapsed": false
   },
   "outputs": [
    {
     "name": "stderr",
     "output_type": "stream",
     "text": [
      "[INFO] graphlab.cython.cy_server: GraphLab Create v2.1 started. Logging: /tmp/graphlab_server_1470253318.log\n",
      "INFO:graphlab.cython.cy_server:GraphLab Create v2.1 started. Logging: /tmp/graphlab_server_1470253318.log\n"
     ]
    },
    {
     "name": "stdout",
     "output_type": "stream",
     "text": [
      "This non-commercial license of GraphLab Create for academic use is assigned to jat257@cornell.edu and will expire on June 30, 2017.\n"
     ]
    }
   ],
   "source": [
    "df = graphlab.SFrame(df)"
   ]
  },
  {
   "cell_type": "markdown",
   "metadata": {},
   "source": [
    "## Factorization Recommender\n",
    "\n",
    "https://turi.com/products/create/docs/generated/graphlab.recommender.factorization_recommender.FactorizationRecommender.html\n",
    "\n",
    "With ALS"
   ]
  },
  {
   "cell_type": "code",
   "execution_count": 15,
   "metadata": {
    "collapsed": false
   },
   "outputs": [
    {
     "data": {
      "text/plain": [
       "(76962, 3)"
      ]
     },
     "execution_count": 15,
     "metadata": {},
     "output_type": "execute_result"
    }
   ],
   "source": [
    "df.shape"
   ]
  },
  {
   "cell_type": "code",
   "execution_count": 16,
   "metadata": {
    "collapsed": true
   },
   "outputs": [],
   "source": [
    "# Create training and test set\n",
    "df_train = df[:60000]\n",
    "df_test = df[60000:]"
   ]
  },
  {
   "cell_type": "code",
   "execution_count": 17,
   "metadata": {
    "collapsed": false
   },
   "outputs": [
    {
     "data": {
      "text/plain": [
       "(60000, 3)"
      ]
     },
     "execution_count": 17,
     "metadata": {},
     "output_type": "execute_result"
    }
   ],
   "source": [
    "df_train.shape"
   ]
  },
  {
   "cell_type": "code",
   "execution_count": 18,
   "metadata": {
    "collapsed": false
   },
   "outputs": [
    {
     "data": {
      "text/html": [
       "<pre>Recsys training: model = factorization_recommender</pre>"
      ],
      "text/plain": [
       "Recsys training: model = factorization_recommender"
      ]
     },
     "metadata": {},
     "output_type": "display_data"
    },
    {
     "data": {
      "text/html": [
       "<pre>Preparing data set.</pre>"
      ],
      "text/plain": [
       "Preparing data set."
      ]
     },
     "metadata": {},
     "output_type": "display_data"
    },
    {
     "data": {
      "text/html": [
       "<pre>    Data has 60000 observations with 17057 users and 848 items.</pre>"
      ],
      "text/plain": [
       "    Data has 60000 observations with 17057 users and 848 items."
      ]
     },
     "metadata": {},
     "output_type": "display_data"
    },
    {
     "data": {
      "text/html": [
       "<pre>    Data prepared in: 0.184238s</pre>"
      ],
      "text/plain": [
       "    Data prepared in: 0.184238s"
      ]
     },
     "metadata": {},
     "output_type": "display_data"
    },
    {
     "data": {
      "text/html": [
       "<pre>Training factorization_recommender for recommendations.</pre>"
      ],
      "text/plain": [
       "Training factorization_recommender for recommendations."
      ]
     },
     "metadata": {},
     "output_type": "display_data"
    },
    {
     "data": {
      "text/html": [
       "<pre>+------------------------------+--------------------------------------------------+----------+</pre>"
      ],
      "text/plain": [
       "+------------------------------+--------------------------------------------------+----------+"
      ]
     },
     "metadata": {},
     "output_type": "display_data"
    },
    {
     "data": {
      "text/html": [
       "<pre>| Parameter                    | Description                                      | Value    |</pre>"
      ],
      "text/plain": [
       "| Parameter                    | Description                                      | Value    |"
      ]
     },
     "metadata": {},
     "output_type": "display_data"
    },
    {
     "data": {
      "text/html": [
       "<pre>+------------------------------+--------------------------------------------------+----------+</pre>"
      ],
      "text/plain": [
       "+------------------------------+--------------------------------------------------+----------+"
      ]
     },
     "metadata": {},
     "output_type": "display_data"
    },
    {
     "data": {
      "text/html": [
       "<pre>| num_factors                  | Factor Dimension                                 | 8        |</pre>"
      ],
      "text/plain": [
       "| num_factors                  | Factor Dimension                                 | 8        |"
      ]
     },
     "metadata": {},
     "output_type": "display_data"
    },
    {
     "data": {
      "text/html": [
       "<pre>| regularization               | L2 Regularization on Factors                     | 1e-08    |</pre>"
      ],
      "text/plain": [
       "| regularization               | L2 Regularization on Factors                     | 1e-08    |"
      ]
     },
     "metadata": {},
     "output_type": "display_data"
    },
    {
     "data": {
      "text/html": [
       "<pre>| max_iterations               | Maximum Number of Iterations                     | 50       |</pre>"
      ],
      "text/plain": [
       "| max_iterations               | Maximum Number of Iterations                     | 50       |"
      ]
     },
     "metadata": {},
     "output_type": "display_data"
    },
    {
     "data": {
      "text/html": [
       "<pre>| solver                       | Solver used for training                         | als      |</pre>"
      ],
      "text/plain": [
       "| solver                       | Solver used for training                         | als      |"
      ]
     },
     "metadata": {},
     "output_type": "display_data"
    },
    {
     "data": {
      "text/html": [
       "<pre>+------------------------------+--------------------------------------------------+----------+</pre>"
      ],
      "text/plain": [
       "+------------------------------+--------------------------------------------------+----------+"
      ]
     },
     "metadata": {},
     "output_type": "display_data"
    },
    {
     "data": {
      "text/html": [
       "<pre>+---------+--------------+------------------------+</pre>"
      ],
      "text/plain": [
       "+---------+--------------+------------------------+"
      ]
     },
     "metadata": {},
     "output_type": "display_data"
    },
    {
     "data": {
      "text/html": [
       "<pre>| Iter.   | Elapsed time | RMSE                   |</pre>"
      ],
      "text/plain": [
       "| Iter.   | Elapsed time | RMSE                   |"
      ]
     },
     "metadata": {},
     "output_type": "display_data"
    },
    {
     "data": {
      "text/html": [
       "<pre>+---------+--------------+------------------------+</pre>"
      ],
      "text/plain": [
       "+---------+--------------+------------------------+"
      ]
     },
     "metadata": {},
     "output_type": "display_data"
    },
    {
     "data": {
      "text/html": [
       "<pre>| Initial | 2.081ms      | NA                     |</pre>"
      ],
      "text/plain": [
       "| Initial | 2.081ms      | NA                     |"
      ]
     },
     "metadata": {},
     "output_type": "display_data"
    },
    {
     "data": {
      "text/html": [
       "<pre>+---------+--------------+------------------------+</pre>"
      ],
      "text/plain": [
       "+---------+--------------+------------------------+"
      ]
     },
     "metadata": {},
     "output_type": "display_data"
    },
    {
     "data": {
      "text/html": [
       "<pre>| 0       | 142.208ms    | 1.15777                |</pre>"
      ],
      "text/plain": [
       "| 0       | 142.208ms    | 1.15777                |"
      ]
     },
     "metadata": {},
     "output_type": "display_data"
    },
    {
     "data": {
      "text/html": [
       "<pre>| 1       | 284.51ms     | 0.735881               |</pre>"
      ],
      "text/plain": [
       "| 1       | 284.51ms     | 0.735881               |"
      ]
     },
     "metadata": {},
     "output_type": "display_data"
    },
    {
     "data": {
      "text/html": [
       "<pre>| 2       | 402.58ms     | 0.713669               |</pre>"
      ],
      "text/plain": [
       "| 2       | 402.58ms     | 0.713669               |"
      ]
     },
     "metadata": {},
     "output_type": "display_data"
    },
    {
     "data": {
      "text/html": [
       "<pre>| 3       | 510.718ms    | 0.700075               |</pre>"
      ],
      "text/plain": [
       "| 3       | 510.718ms    | 0.700075               |"
      ]
     },
     "metadata": {},
     "output_type": "display_data"
    },
    {
     "data": {
      "text/html": [
       "<pre>| 4       | 617.972ms    | 0.690693               |</pre>"
      ],
      "text/plain": [
       "| 4       | 617.972ms    | 0.690693               |"
      ]
     },
     "metadata": {},
     "output_type": "display_data"
    },
    {
     "data": {
      "text/html": [
       "<pre>| 5       | 828.21ms     | 0.683585               |</pre>"
      ],
      "text/plain": [
       "| 5       | 828.21ms     | 0.683585               |"
      ]
     },
     "metadata": {},
     "output_type": "display_data"
    },
    {
     "data": {
      "text/html": [
       "<pre>| 6       | 966.813ms    | 0.677951               |</pre>"
      ],
      "text/plain": [
       "| 6       | 966.813ms    | 0.677951               |"
      ]
     },
     "metadata": {},
     "output_type": "display_data"
    },
    {
     "data": {
      "text/html": [
       "<pre>| 7       | 1.10s        | 0.67337                |</pre>"
      ],
      "text/plain": [
       "| 7       | 1.10s        | 0.67337                |"
      ]
     },
     "metadata": {},
     "output_type": "display_data"
    },
    {
     "data": {
      "text/html": [
       "<pre>| 8       | 1.21s        | 0.669507               |</pre>"
      ],
      "text/plain": [
       "| 8       | 1.21s        | 0.669507               |"
      ]
     },
     "metadata": {},
     "output_type": "display_data"
    },
    {
     "data": {
      "text/html": [
       "<pre>| 9       | 1.37s        | 0.666143               |</pre>"
      ],
      "text/plain": [
       "| 9       | 1.37s        | 0.666143               |"
      ]
     },
     "metadata": {},
     "output_type": "display_data"
    },
    {
     "data": {
      "text/html": [
       "<pre>| 10      | 1.52s        | 0.663093               |</pre>"
      ],
      "text/plain": [
       "| 10      | 1.52s        | 0.663093               |"
      ]
     },
     "metadata": {},
     "output_type": "display_data"
    },
    {
     "data": {
      "text/html": [
       "<pre>| 11      | 1.65s        | 0.660333               |</pre>"
      ],
      "text/plain": [
       "| 11      | 1.65s        | 0.660333               |"
      ]
     },
     "metadata": {},
     "output_type": "display_data"
    },
    {
     "data": {
      "text/html": [
       "<pre>| 12      | 1.77s        | 0.65785                |</pre>"
      ],
      "text/plain": [
       "| 12      | 1.77s        | 0.65785                |"
      ]
     },
     "metadata": {},
     "output_type": "display_data"
    },
    {
     "data": {
      "text/html": [
       "<pre>| 13      | 1.86s        | 0.6556                 |</pre>"
      ],
      "text/plain": [
       "| 13      | 1.86s        | 0.6556                 |"
      ]
     },
     "metadata": {},
     "output_type": "display_data"
    },
    {
     "data": {
      "text/html": [
       "<pre>| 14      | 1.98s        | 0.65356                |</pre>"
      ],
      "text/plain": [
       "| 14      | 1.98s        | 0.65356                |"
      ]
     },
     "metadata": {},
     "output_type": "display_data"
    },
    {
     "data": {
      "text/html": [
       "<pre>| 15      | 2.15s        | 0.651701               |</pre>"
      ],
      "text/plain": [
       "| 15      | 2.15s        | 0.651701               |"
      ]
     },
     "metadata": {},
     "output_type": "display_data"
    },
    {
     "data": {
      "text/html": [
       "<pre>| 16      | 2.30s        | 0.64999                |</pre>"
      ],
      "text/plain": [
       "| 16      | 2.30s        | 0.64999                |"
      ]
     },
     "metadata": {},
     "output_type": "display_data"
    },
    {
     "data": {
      "text/html": [
       "<pre>| 17      | 2.41s        | 0.648406               |</pre>"
      ],
      "text/plain": [
       "| 17      | 2.41s        | 0.648406               |"
      ]
     },
     "metadata": {},
     "output_type": "display_data"
    },
    {
     "data": {
      "text/html": [
       "<pre>| 18      | 2.57s        | 0.646944               |</pre>"
      ],
      "text/plain": [
       "| 18      | 2.57s        | 0.646944               |"
      ]
     },
     "metadata": {},
     "output_type": "display_data"
    },
    {
     "data": {
      "text/html": [
       "<pre>| 19      | 2.70s        | 0.645594               |</pre>"
      ],
      "text/plain": [
       "| 19      | 2.70s        | 0.645594               |"
      ]
     },
     "metadata": {},
     "output_type": "display_data"
    },
    {
     "data": {
      "text/html": [
       "<pre>| 20      | 2.82s        | 0.644328               |</pre>"
      ],
      "text/plain": [
       "| 20      | 2.82s        | 0.644328               |"
      ]
     },
     "metadata": {},
     "output_type": "display_data"
    },
    {
     "data": {
      "text/html": [
       "<pre>| 21      | 2.94s        | 0.643152               |</pre>"
      ],
      "text/plain": [
       "| 21      | 2.94s        | 0.643152               |"
      ]
     },
     "metadata": {},
     "output_type": "display_data"
    },
    {
     "data": {
      "text/html": [
       "<pre>| 22      | 3.05s        | 0.642066               |</pre>"
      ],
      "text/plain": [
       "| 22      | 3.05s        | 0.642066               |"
      ]
     },
     "metadata": {},
     "output_type": "display_data"
    },
    {
     "data": {
      "text/html": [
       "<pre>| 23      | 3.17s        | 0.641055               |</pre>"
      ],
      "text/plain": [
       "| 23      | 3.17s        | 0.641055               |"
      ]
     },
     "metadata": {},
     "output_type": "display_data"
    },
    {
     "data": {
      "text/html": [
       "<pre>| 24      | 3.37s        | 0.640108               |</pre>"
      ],
      "text/plain": [
       "| 24      | 3.37s        | 0.640108               |"
      ]
     },
     "metadata": {},
     "output_type": "display_data"
    },
    {
     "data": {
      "text/html": [
       "<pre>| 25      | 3.53s        | 0.639219               |</pre>"
      ],
      "text/plain": [
       "| 25      | 3.53s        | 0.639219               |"
      ]
     },
     "metadata": {},
     "output_type": "display_data"
    },
    {
     "data": {
      "text/html": [
       "<pre>| 26      | 3.69s        | 0.638391               |</pre>"
      ],
      "text/plain": [
       "| 26      | 3.69s        | 0.638391               |"
      ]
     },
     "metadata": {},
     "output_type": "display_data"
    },
    {
     "data": {
      "text/html": [
       "<pre>| 27      | 3.80s        | 0.637621               |</pre>"
      ],
      "text/plain": [
       "| 27      | 3.80s        | 0.637621               |"
      ]
     },
     "metadata": {},
     "output_type": "display_data"
    },
    {
     "data": {
      "text/html": [
       "<pre>| 28      | 3.92s        | 0.636902               |</pre>"
      ],
      "text/plain": [
       "| 28      | 3.92s        | 0.636902               |"
      ]
     },
     "metadata": {},
     "output_type": "display_data"
    },
    {
     "data": {
      "text/html": [
       "<pre>| 29      | 4.07s        | 0.636228               |</pre>"
      ],
      "text/plain": [
       "| 29      | 4.07s        | 0.636228               |"
      ]
     },
     "metadata": {},
     "output_type": "display_data"
    },
    {
     "data": {
      "text/html": [
       "<pre>| 30      | 4.18s        | 0.635596               |</pre>"
      ],
      "text/plain": [
       "| 30      | 4.18s        | 0.635596               |"
      ]
     },
     "metadata": {},
     "output_type": "display_data"
    },
    {
     "data": {
      "text/html": [
       "<pre>| 31      | 4.29s        | 0.635004               |</pre>"
      ],
      "text/plain": [
       "| 31      | 4.29s        | 0.635004               |"
      ]
     },
     "metadata": {},
     "output_type": "display_data"
    },
    {
     "data": {
      "text/html": [
       "<pre>| 32      | 4.39s        | 0.634448               |</pre>"
      ],
      "text/plain": [
       "| 32      | 4.39s        | 0.634448               |"
      ]
     },
     "metadata": {},
     "output_type": "display_data"
    },
    {
     "data": {
      "text/html": [
       "<pre>| 33      | 4.49s        | 0.633923               |</pre>"
      ],
      "text/plain": [
       "| 33      | 4.49s        | 0.633923               |"
      ]
     },
     "metadata": {},
     "output_type": "display_data"
    },
    {
     "data": {
      "text/html": [
       "<pre>| 34      | 4.59s        | 0.633424               |</pre>"
      ],
      "text/plain": [
       "| 34      | 4.59s        | 0.633424               |"
      ]
     },
     "metadata": {},
     "output_type": "display_data"
    },
    {
     "data": {
      "text/html": [
       "<pre>| 35      | 4.69s        | 0.632948               |</pre>"
      ],
      "text/plain": [
       "| 35      | 4.69s        | 0.632948               |"
      ]
     },
     "metadata": {},
     "output_type": "display_data"
    },
    {
     "data": {
      "text/html": [
       "<pre>| 36      | 4.85s        | 0.632494               |</pre>"
      ],
      "text/plain": [
       "| 36      | 4.85s        | 0.632494               |"
      ]
     },
     "metadata": {},
     "output_type": "display_data"
    },
    {
     "data": {
      "text/html": [
       "<pre>| 37      | 4.97s        | 0.63206                |</pre>"
      ],
      "text/plain": [
       "| 37      | 4.97s        | 0.63206                |"
      ]
     },
     "metadata": {},
     "output_type": "display_data"
    },
    {
     "data": {
      "text/html": [
       "<pre>| 38      | 5.08s        | 0.631645               |</pre>"
      ],
      "text/plain": [
       "| 38      | 5.08s        | 0.631645               |"
      ]
     },
     "metadata": {},
     "output_type": "display_data"
    },
    {
     "data": {
      "text/html": [
       "<pre>| 39      | 5.19s        | 0.631244               |</pre>"
      ],
      "text/plain": [
       "| 39      | 5.19s        | 0.631244               |"
      ]
     },
     "metadata": {},
     "output_type": "display_data"
    },
    {
     "data": {
      "text/html": [
       "<pre>| 40      | 5.29s        | 0.63086                |</pre>"
      ],
      "text/plain": [
       "| 40      | 5.29s        | 0.63086                |"
      ]
     },
     "metadata": {},
     "output_type": "display_data"
    },
    {
     "data": {
      "text/html": [
       "<pre>| 41      | 5.39s        | 0.630489               |</pre>"
      ],
      "text/plain": [
       "| 41      | 5.39s        | 0.630489               |"
      ]
     },
     "metadata": {},
     "output_type": "display_data"
    },
    {
     "data": {
      "text/html": [
       "<pre>| 42      | 5.49s        | 0.630126               |</pre>"
      ],
      "text/plain": [
       "| 42      | 5.49s        | 0.630126               |"
      ]
     },
     "metadata": {},
     "output_type": "display_data"
    },
    {
     "data": {
      "text/html": [
       "<pre>| 43      | 5.59s        | 0.629774               |</pre>"
      ],
      "text/plain": [
       "| 43      | 5.59s        | 0.629774               |"
      ]
     },
     "metadata": {},
     "output_type": "display_data"
    },
    {
     "data": {
      "text/html": [
       "<pre>| 44      | 5.69s        | 0.629444               |</pre>"
      ],
      "text/plain": [
       "| 44      | 5.69s        | 0.629444               |"
      ]
     },
     "metadata": {},
     "output_type": "display_data"
    },
    {
     "data": {
      "text/html": [
       "<pre>| 45      | 5.80s        | 0.629126               |</pre>"
      ],
      "text/plain": [
       "| 45      | 5.80s        | 0.629126               |"
      ]
     },
     "metadata": {},
     "output_type": "display_data"
    },
    {
     "data": {
      "text/html": [
       "<pre>| 46      | 5.93s        | 0.628818               |</pre>"
      ],
      "text/plain": [
       "| 46      | 5.93s        | 0.628818               |"
      ]
     },
     "metadata": {},
     "output_type": "display_data"
    },
    {
     "data": {
      "text/html": [
       "<pre>| 47      | 6.04s        | 0.628521               |</pre>"
      ],
      "text/plain": [
       "| 47      | 6.04s        | 0.628521               |"
      ]
     },
     "metadata": {},
     "output_type": "display_data"
    },
    {
     "data": {
      "text/html": [
       "<pre>| 48      | 6.15s        | 0.628234               |</pre>"
      ],
      "text/plain": [
       "| 48      | 6.15s        | 0.628234               |"
      ]
     },
     "metadata": {},
     "output_type": "display_data"
    },
    {
     "data": {
      "text/html": [
       "<pre>| 49      | 6.24s        | 0.627957               |</pre>"
      ],
      "text/plain": [
       "| 49      | 6.24s        | 0.627957               |"
      ]
     },
     "metadata": {},
     "output_type": "display_data"
    },
    {
     "data": {
      "text/html": [
       "<pre>| FINAL   | 6.24s        | 0.627957               |</pre>"
      ],
      "text/plain": [
       "| FINAL   | 6.24s        | 0.627957               |"
      ]
     },
     "metadata": {},
     "output_type": "display_data"
    },
    {
     "data": {
      "text/html": [
       "<pre>+---------+--------------+------------------------+</pre>"
      ],
      "text/plain": [
       "+---------+--------------+------------------------+"
      ]
     },
     "metadata": {},
     "output_type": "display_data"
    },
    {
     "data": {
      "text/html": [
       "<pre>Optimization Complete: Iteration limit reached.</pre>"
      ],
      "text/plain": [
       "Optimization Complete: Iteration limit reached."
      ]
     },
     "metadata": {},
     "output_type": "display_data"
    }
   ],
   "source": [
    "model = graphlab.recommender.factorization_recommender.create(df_train, user_id='author_id', item_id='hike_id', target='Rating', solver='als' )"
   ]
  },
  {
   "cell_type": "code",
   "execution_count": 19,
   "metadata": {
    "collapsed": false
   },
   "outputs": [],
   "source": [
    "predicted = model.predict(df_test)\n",
    "\n"
   ]
  },
  {
   "cell_type": "code",
   "execution_count": 20,
   "metadata": {
    "collapsed": false
   },
   "outputs": [
    {
     "data": {
      "text/html": [
       "<div style=\"max-height:1000px;max-width:1500px;overflow:auto;\"><table frame=\"box\" rules=\"cols\">\n",
       "    <tr>\n",
       "        <th style=\"padding-left: 1em; padding-right: 1em; text-align: center\">author_id</th>\n",
       "        <th style=\"padding-left: 1em; padding-right: 1em; text-align: center\">hike_id</th>\n",
       "        <th style=\"padding-left: 1em; padding-right: 1em; text-align: center\">Rating</th>\n",
       "    </tr>\n",
       "    <tr>\n",
       "        <td style=\"padding-left: 1em; padding-right: 1em; text-align: center; vertical-align: top\">15682</td>\n",
       "        <td style=\"padding-left: 1em; padding-right: 1em; text-align: center; vertical-align: top\">875</td>\n",
       "        <td style=\"padding-left: 1em; padding-right: 1em; text-align: center; vertical-align: top\">5.0</td>\n",
       "    </tr>\n",
       "    <tr>\n",
       "        <td style=\"padding-left: 1em; padding-right: 1em; text-align: center; vertical-align: top\">6105</td>\n",
       "        <td style=\"padding-left: 1em; padding-right: 1em; text-align: center; vertical-align: top\">875</td>\n",
       "        <td style=\"padding-left: 1em; padding-right: 1em; text-align: center; vertical-align: top\">4.0</td>\n",
       "    </tr>\n",
       "    <tr>\n",
       "        <td style=\"padding-left: 1em; padding-right: 1em; text-align: center; vertical-align: top\">6837</td>\n",
       "        <td style=\"padding-left: 1em; padding-right: 1em; text-align: center; vertical-align: top\">875</td>\n",
       "        <td style=\"padding-left: 1em; padding-right: 1em; text-align: center; vertical-align: top\">4.0</td>\n",
       "    </tr>\n",
       "    <tr>\n",
       "        <td style=\"padding-left: 1em; padding-right: 1em; text-align: center; vertical-align: top\">5218</td>\n",
       "        <td style=\"padding-left: 1em; padding-right: 1em; text-align: center; vertical-align: top\">875</td>\n",
       "        <td style=\"padding-left: 1em; padding-right: 1em; text-align: center; vertical-align: top\">5.0</td>\n",
       "    </tr>\n",
       "    <tr>\n",
       "        <td style=\"padding-left: 1em; padding-right: 1em; text-align: center; vertical-align: top\">4770</td>\n",
       "        <td style=\"padding-left: 1em; padding-right: 1em; text-align: center; vertical-align: top\">875</td>\n",
       "        <td style=\"padding-left: 1em; padding-right: 1em; text-align: center; vertical-align: top\">5.0</td>\n",
       "    </tr>\n",
       "    <tr>\n",
       "        <td style=\"padding-left: 1em; padding-right: 1em; text-align: center; vertical-align: top\">15229</td>\n",
       "        <td style=\"padding-left: 1em; padding-right: 1em; text-align: center; vertical-align: top\">875</td>\n",
       "        <td style=\"padding-left: 1em; padding-right: 1em; text-align: center; vertical-align: top\">4.0</td>\n",
       "    </tr>\n",
       "    <tr>\n",
       "        <td style=\"padding-left: 1em; padding-right: 1em; text-align: center; vertical-align: top\">5774</td>\n",
       "        <td style=\"padding-left: 1em; padding-right: 1em; text-align: center; vertical-align: top\">875</td>\n",
       "        <td style=\"padding-left: 1em; padding-right: 1em; text-align: center; vertical-align: top\">2.0</td>\n",
       "    </tr>\n",
       "    <tr>\n",
       "        <td style=\"padding-left: 1em; padding-right: 1em; text-align: center; vertical-align: top\">14435</td>\n",
       "        <td style=\"padding-left: 1em; padding-right: 1em; text-align: center; vertical-align: top\">875</td>\n",
       "        <td style=\"padding-left: 1em; padding-right: 1em; text-align: center; vertical-align: top\">5.0</td>\n",
       "    </tr>\n",
       "    <tr>\n",
       "        <td style=\"padding-left: 1em; padding-right: 1em; text-align: center; vertical-align: top\">1295</td>\n",
       "        <td style=\"padding-left: 1em; padding-right: 1em; text-align: center; vertical-align: top\">875</td>\n",
       "        <td style=\"padding-left: 1em; padding-right: 1em; text-align: center; vertical-align: top\">3.0</td>\n",
       "    </tr>\n",
       "    <tr>\n",
       "        <td style=\"padding-left: 1em; padding-right: 1em; text-align: center; vertical-align: top\">18753</td>\n",
       "        <td style=\"padding-left: 1em; padding-right: 1em; text-align: center; vertical-align: top\">875</td>\n",
       "        <td style=\"padding-left: 1em; padding-right: 1em; text-align: center; vertical-align: top\">1.0</td>\n",
       "    </tr>\n",
       "</table>\n",
       "[10 rows x 3 columns]<br/>\n",
       "</div>"
      ],
      "text/plain": [
       "Columns:\n",
       "\tauthor_id\tint\n",
       "\thike_id\tint\n",
       "\tRating\tfloat\n",
       "\n",
       "Rows: 10\n",
       "\n",
       "Data:\n",
       "+-----------+---------+--------+\n",
       "| author_id | hike_id | Rating |\n",
       "+-----------+---------+--------+\n",
       "|   15682   |   875   |  5.0   |\n",
       "|    6105   |   875   |  4.0   |\n",
       "|    6837   |   875   |  4.0   |\n",
       "|    5218   |   875   |  5.0   |\n",
       "|    4770   |   875   |  5.0   |\n",
       "|   15229   |   875   |  4.0   |\n",
       "|    5774   |   875   |  2.0   |\n",
       "|   14435   |   875   |  5.0   |\n",
       "|    1295   |   875   |  3.0   |\n",
       "|   18753   |   875   |  1.0   |\n",
       "+-----------+---------+--------+\n",
       "[10 rows x 3 columns]"
      ]
     },
     "execution_count": 20,
     "metadata": {},
     "output_type": "execute_result"
    }
   ],
   "source": [
    "df_test.head()"
   ]
  },
  {
   "cell_type": "code",
   "execution_count": 21,
   "metadata": {
    "collapsed": true
   },
   "outputs": [],
   "source": [
    "from sklearn.metrics import mean_squared_error"
   ]
  },
  {
   "cell_type": "code",
   "execution_count": 22,
   "metadata": {
    "collapsed": false
   },
   "outputs": [
    {
     "name": "stdout",
     "output_type": "stream",
     "text": [
      "MSE:  2.00984223972\n",
      "RMSE:  1.41768904902\n"
     ]
    }
   ],
   "source": [
    "print 'MSE: ', mean_squared_error(df_test['Rating'], predicted)\n",
    "print 'RMSE: ', np.sqrt(mean_squared_error(df_test['Rating'], predicted))"
   ]
  },
  {
   "cell_type": "markdown",
   "metadata": {},
   "source": [
    "## Factorization Recommender\n",
    "\n",
    "https://turi.com/products/create/docs/generated/graphlab.recommender.factorization_recommender.FactorizationRecommender.html\n",
    "\n",
    "With SGD"
   ]
  },
  {
   "cell_type": "code",
   "execution_count": 23,
   "metadata": {
    "collapsed": false
   },
   "outputs": [
    {
     "data": {
      "text/html": [
       "<pre>Recsys training: model = factorization_recommender</pre>"
      ],
      "text/plain": [
       "Recsys training: model = factorization_recommender"
      ]
     },
     "metadata": {},
     "output_type": "display_data"
    },
    {
     "data": {
      "text/html": [
       "<pre>Preparing data set.</pre>"
      ],
      "text/plain": [
       "Preparing data set."
      ]
     },
     "metadata": {},
     "output_type": "display_data"
    },
    {
     "data": {
      "text/html": [
       "<pre>    Data has 60000 observations with 17057 users and 848 items.</pre>"
      ],
      "text/plain": [
       "    Data has 60000 observations with 17057 users and 848 items."
      ]
     },
     "metadata": {},
     "output_type": "display_data"
    },
    {
     "data": {
      "text/html": [
       "<pre>    Data prepared in: 0.181509s</pre>"
      ],
      "text/plain": [
       "    Data prepared in: 0.181509s"
      ]
     },
     "metadata": {},
     "output_type": "display_data"
    },
    {
     "data": {
      "text/html": [
       "<pre>Training factorization_recommender for recommendations.</pre>"
      ],
      "text/plain": [
       "Training factorization_recommender for recommendations."
      ]
     },
     "metadata": {},
     "output_type": "display_data"
    },
    {
     "data": {
      "text/html": [
       "<pre>+--------------------------------+--------------------------------------------------+----------+</pre>"
      ],
      "text/plain": [
       "+--------------------------------+--------------------------------------------------+----------+"
      ]
     },
     "metadata": {},
     "output_type": "display_data"
    },
    {
     "data": {
      "text/html": [
       "<pre>| Parameter                      | Description                                      | Value    |</pre>"
      ],
      "text/plain": [
       "| Parameter                      | Description                                      | Value    |"
      ]
     },
     "metadata": {},
     "output_type": "display_data"
    },
    {
     "data": {
      "text/html": [
       "<pre>+--------------------------------+--------------------------------------------------+----------+</pre>"
      ],
      "text/plain": [
       "+--------------------------------+--------------------------------------------------+----------+"
      ]
     },
     "metadata": {},
     "output_type": "display_data"
    },
    {
     "data": {
      "text/html": [
       "<pre>| num_factors                    | Factor Dimension                                 | 8        |</pre>"
      ],
      "text/plain": [
       "| num_factors                    | Factor Dimension                                 | 8        |"
      ]
     },
     "metadata": {},
     "output_type": "display_data"
    },
    {
     "data": {
      "text/html": [
       "<pre>| regularization                 | L2 Regularization on Factors                     | 1e-08    |</pre>"
      ],
      "text/plain": [
       "| regularization                 | L2 Regularization on Factors                     | 1e-08    |"
      ]
     },
     "metadata": {},
     "output_type": "display_data"
    },
    {
     "data": {
      "text/html": [
       "<pre>| solver                         | Solver used for training                         | sgd      |</pre>"
      ],
      "text/plain": [
       "| solver                         | Solver used for training                         | sgd      |"
      ]
     },
     "metadata": {},
     "output_type": "display_data"
    },
    {
     "data": {
      "text/html": [
       "<pre>| linear_regularization          | L2 Regularization on Linear Coefficients         | 1e-10    |</pre>"
      ],
      "text/plain": [
       "| linear_regularization          | L2 Regularization on Linear Coefficients         | 1e-10    |"
      ]
     },
     "metadata": {},
     "output_type": "display_data"
    },
    {
     "data": {
      "text/html": [
       "<pre>| max_iterations                 | Maximum Number of Iterations                     | 50       |</pre>"
      ],
      "text/plain": [
       "| max_iterations                 | Maximum Number of Iterations                     | 50       |"
      ]
     },
     "metadata": {},
     "output_type": "display_data"
    },
    {
     "data": {
      "text/html": [
       "<pre>+--------------------------------+--------------------------------------------------+----------+</pre>"
      ],
      "text/plain": [
       "+--------------------------------+--------------------------------------------------+----------+"
      ]
     },
     "metadata": {},
     "output_type": "display_data"
    },
    {
     "data": {
      "text/html": [
       "<pre>  Optimizing model using SGD; tuning step size.</pre>"
      ],
      "text/plain": [
       "  Optimizing model using SGD; tuning step size."
      ]
     },
     "metadata": {},
     "output_type": "display_data"
    },
    {
     "data": {
      "text/html": [
       "<pre>  Using 10000 / 60000 points for tuning the step size.</pre>"
      ],
      "text/plain": [
       "  Using 10000 / 60000 points for tuning the step size."
      ]
     },
     "metadata": {},
     "output_type": "display_data"
    },
    {
     "data": {
      "text/html": [
       "<pre>+---------+-------------------+------------------------------------------+</pre>"
      ],
      "text/plain": [
       "+---------+-------------------+------------------------------------------+"
      ]
     },
     "metadata": {},
     "output_type": "display_data"
    },
    {
     "data": {
      "text/html": [
       "<pre>| Attempt | Initial Step Size | Estimated Objective Value                |</pre>"
      ],
      "text/plain": [
       "| Attempt | Initial Step Size | Estimated Objective Value                |"
      ]
     },
     "metadata": {},
     "output_type": "display_data"
    },
    {
     "data": {
      "text/html": [
       "<pre>+---------+-------------------+------------------------------------------+</pre>"
      ],
      "text/plain": [
       "+---------+-------------------+------------------------------------------+"
      ]
     },
     "metadata": {},
     "output_type": "display_data"
    },
    {
     "data": {
      "text/html": [
       "<pre>| 0       | 25                | Not Viable                               |</pre>"
      ],
      "text/plain": [
       "| 0       | 25                | Not Viable                               |"
      ]
     },
     "metadata": {},
     "output_type": "display_data"
    },
    {
     "data": {
      "text/html": [
       "<pre>| 1       | 6.25              | Not Viable                               |</pre>"
      ],
      "text/plain": [
       "| 1       | 6.25              | Not Viable                               |"
      ]
     },
     "metadata": {},
     "output_type": "display_data"
    },
    {
     "data": {
      "text/html": [
       "<pre>| 2       | 1.5625            | Not Viable                               |</pre>"
      ],
      "text/plain": [
       "| 2       | 1.5625            | Not Viable                               |"
      ]
     },
     "metadata": {},
     "output_type": "display_data"
    },
    {
     "data": {
      "text/html": [
       "<pre>| 3       | 0.390625          | No Decrease (13.8326 >= 2.00701)         |</pre>"
      ],
      "text/plain": [
       "| 3       | 0.390625          | No Decrease (13.8326 >= 2.00701)         |"
      ]
     },
     "metadata": {},
     "output_type": "display_data"
    },
    {
     "data": {
      "text/html": [
       "<pre>| 4       | 0.0976562         | 0.926958                                 |</pre>"
      ],
      "text/plain": [
       "| 4       | 0.0976562         | 0.926958                                 |"
      ]
     },
     "metadata": {},
     "output_type": "display_data"
    },
    {
     "data": {
      "text/html": [
       "<pre>| 5       | 0.0488281         | 1.18297                                  |</pre>"
      ],
      "text/plain": [
       "| 5       | 0.0488281         | 1.18297                                  |"
      ]
     },
     "metadata": {},
     "output_type": "display_data"
    },
    {
     "data": {
      "text/html": [
       "<pre>| 6       | 0.0244141         | 1.41466                                  |</pre>"
      ],
      "text/plain": [
       "| 6       | 0.0244141         | 1.41466                                  |"
      ]
     },
     "metadata": {},
     "output_type": "display_data"
    },
    {
     "data": {
      "text/html": [
       "<pre>| 7       | 0.012207          | 1.59457                                  |</pre>"
      ],
      "text/plain": [
       "| 7       | 0.012207          | 1.59457                                  |"
      ]
     },
     "metadata": {},
     "output_type": "display_data"
    },
    {
     "data": {
      "text/html": [
       "<pre>+---------+-------------------+------------------------------------------+</pre>"
      ],
      "text/plain": [
       "+---------+-------------------+------------------------------------------+"
      ]
     },
     "metadata": {},
     "output_type": "display_data"
    },
    {
     "data": {
      "text/html": [
       "<pre>| Final   | 0.0976562         | 0.926958                                 |</pre>"
      ],
      "text/plain": [
       "| Final   | 0.0976562         | 0.926958                                 |"
      ]
     },
     "metadata": {},
     "output_type": "display_data"
    },
    {
     "data": {
      "text/html": [
       "<pre>+---------+-------------------+------------------------------------------+</pre>"
      ],
      "text/plain": [
       "+---------+-------------------+------------------------------------------+"
      ]
     },
     "metadata": {},
     "output_type": "display_data"
    },
    {
     "data": {
      "text/html": [
       "<pre>Starting Optimization.</pre>"
      ],
      "text/plain": [
       "Starting Optimization."
      ]
     },
     "metadata": {},
     "output_type": "display_data"
    },
    {
     "data": {
      "text/html": [
       "<pre>+---------+--------------+-------------------+-----------------------+-------------+</pre>"
      ],
      "text/plain": [
       "+---------+--------------+-------------------+-----------------------+-------------+"
      ]
     },
     "metadata": {},
     "output_type": "display_data"
    },
    {
     "data": {
      "text/html": [
       "<pre>| Iter.   | Elapsed Time | Approx. Objective | Approx. Training RMSE | Step Size   |</pre>"
      ],
      "text/plain": [
       "| Iter.   | Elapsed Time | Approx. Objective | Approx. Training RMSE | Step Size   |"
      ]
     },
     "metadata": {},
     "output_type": "display_data"
    },
    {
     "data": {
      "text/html": [
       "<pre>+---------+--------------+-------------------+-----------------------+-------------+</pre>"
      ],
      "text/plain": [
       "+---------+--------------+-------------------+-----------------------+-------------+"
      ]
     },
     "metadata": {},
     "output_type": "display_data"
    },
    {
     "data": {
      "text/html": [
       "<pre>| Initial | 274us        | 2.01606           | 1.41988               |             |</pre>"
      ],
      "text/plain": [
       "| Initial | 274us        | 2.01606           | 1.41988               |             |"
      ]
     },
     "metadata": {},
     "output_type": "display_data"
    },
    {
     "data": {
      "text/html": [
       "<pre>+---------+--------------+-------------------+-----------------------+-------------+</pre>"
      ],
      "text/plain": [
       "+---------+--------------+-------------------+-----------------------+-------------+"
      ]
     },
     "metadata": {},
     "output_type": "display_data"
    },
    {
     "data": {
      "text/html": [
       "<pre>| 1       | 114.215ms    | 2.05334           | 1.43294               | 0.0976562   |</pre>"
      ],
      "text/plain": [
       "| 1       | 114.215ms    | 2.05334           | 1.43294               | 0.0976562   |"
      ]
     },
     "metadata": {},
     "output_type": "display_data"
    },
    {
     "data": {
      "text/html": [
       "<pre>| 2       | 239.745ms    | 1.60402           | 1.26649               | 0.0580668   |</pre>"
      ],
      "text/plain": [
       "| 2       | 239.745ms    | 1.60402           | 1.26649               | 0.0580668   |"
      ]
     },
     "metadata": {},
     "output_type": "display_data"
    },
    {
     "data": {
      "text/html": [
       "<pre>| 3       | 342.19ms     | 1.36812           | 1.16966               | 0.042841    |</pre>"
      ],
      "text/plain": [
       "| 3       | 342.19ms     | 1.36812           | 1.16966               | 0.042841    |"
      ]
     },
     "metadata": {},
     "output_type": "display_data"
    },
    {
     "data": {
      "text/html": [
       "<pre>| 4       | 446.619ms    | 1.10938           | 1.05326               | 0.0290334   |</pre>"
      ],
      "text/plain": [
       "| 4       | 446.619ms    | 1.10938           | 1.05326               | 0.0290334   |"
      ]
     },
     "metadata": {},
     "output_type": "display_data"
    },
    {
     "data": {
      "text/html": [
       "<pre>| 5       | 533.896ms    | 0.949672          | 0.974493              | 0.0245592   |</pre>"
      ],
      "text/plain": [
       "| 5       | 533.896ms    | 0.949672          | 0.974493              | 0.0245592   |"
      ]
     },
     "metadata": {},
     "output_type": "display_data"
    },
    {
     "data": {
      "text/html": [
       "<pre>| 6       | 663.679ms    | 0.835277          | 0.913911              | 0.0214205   |</pre>"
      ],
      "text/plain": [
       "| 6       | 663.679ms    | 0.835277          | 0.913911              | 0.0214205   |"
      ]
     },
     "metadata": {},
     "output_type": "display_data"
    },
    {
     "data": {
      "text/html": [
       "<pre>| 10      | 1.09s        | 0.629046          | 0.793085              | 0.014603    |</pre>"
      ],
      "text/plain": [
       "| 10      | 1.09s        | 0.629046          | 0.793085              | 0.014603    |"
      ]
     },
     "metadata": {},
     "output_type": "display_data"
    },
    {
     "data": {
      "text/html": [
       "<pre>| 11      | 1.26s        | 0.604186          | 0.777252              | 0.0135956   |</pre>"
      ],
      "text/plain": [
       "| 11      | 1.26s        | 0.604186          | 0.777252              | 0.0135956   |"
      ]
     },
     "metadata": {},
     "output_type": "display_data"
    },
    {
     "data": {
      "text/html": [
       "<pre>| 20      | 2.25s        | 0.498974          | 0.706323              | 0.008683    |</pre>"
      ],
      "text/plain": [
       "| 20      | 2.25s        | 0.498974          | 0.706323              | 0.008683    |"
      ]
     },
     "metadata": {},
     "output_type": "display_data"
    },
    {
     "data": {
      "text/html": [
       "<pre>| 30      | 2.99s        | 0.459843          | 0.67805               | 0.00640622  |</pre>"
      ],
      "text/plain": [
       "| 30      | 2.99s        | 0.459843          | 0.67805               | 0.00640622  |"
      ]
     },
     "metadata": {},
     "output_type": "display_data"
    },
    {
     "data": {
      "text/html": [
       "<pre>| 40      | 3.79s        | 0.440418          | 0.663567              | 0.00516295  |</pre>"
      ],
      "text/plain": [
       "| 40      | 3.79s        | 0.440418          | 0.663567              | 0.00516295  |"
      ]
     },
     "metadata": {},
     "output_type": "display_data"
    },
    {
     "data": {
      "text/html": [
       "<pre>| 50      | 4.55s        | 0.42808           | 0.654202              | 0.00436732  |</pre>"
      ],
      "text/plain": [
       "| 50      | 4.55s        | 0.42808           | 0.654202              | 0.00436732  |"
      ]
     },
     "metadata": {},
     "output_type": "display_data"
    },
    {
     "data": {
      "text/html": [
       "<pre>+---------+--------------+-------------------+-----------------------+-------------+</pre>"
      ],
      "text/plain": [
       "+---------+--------------+-------------------+-----------------------+-------------+"
      ]
     },
     "metadata": {},
     "output_type": "display_data"
    },
    {
     "data": {
      "text/html": [
       "<pre>Optimization Complete: Maximum number of passes through the data reached.</pre>"
      ],
      "text/plain": [
       "Optimization Complete: Maximum number of passes through the data reached."
      ]
     },
     "metadata": {},
     "output_type": "display_data"
    },
    {
     "data": {
      "text/html": [
       "<pre>Computing final objective value and training RMSE.</pre>"
      ],
      "text/plain": [
       "Computing final objective value and training RMSE."
      ]
     },
     "metadata": {},
     "output_type": "display_data"
    },
    {
     "data": {
      "text/html": [
       "<pre>       Final objective value: 0.39862</pre>"
      ],
      "text/plain": [
       "       Final objective value: 0.39862"
      ]
     },
     "metadata": {},
     "output_type": "display_data"
    },
    {
     "data": {
      "text/html": [
       "<pre>       Final training RMSE: 0.631284</pre>"
      ],
      "text/plain": [
       "       Final training RMSE: 0.631284"
      ]
     },
     "metadata": {},
     "output_type": "display_data"
    }
   ],
   "source": [
    "model = graphlab.recommender.factorization_recommender.create(df_train, user_id='author_id', item_id='hike_id', target='Rating', solver='sgd' )"
   ]
  },
  {
   "cell_type": "code",
   "execution_count": 24,
   "metadata": {
    "collapsed": true
   },
   "outputs": [],
   "source": [
    "predicted = model.predict(df_test)"
   ]
  },
  {
   "cell_type": "code",
   "execution_count": 25,
   "metadata": {
    "collapsed": false
   },
   "outputs": [
    {
     "name": "stdout",
     "output_type": "stream",
     "text": [
      "MSE:  1.84434131097\n",
      "RMSE:  1.35806528229\n"
     ]
    }
   ],
   "source": [
    "print 'MSE: ', mean_squared_error(df_test['Rating'], predicted)\n",
    "print 'RMSE: ', np.sqrt(mean_squared_error(df_test['Rating'], predicted))"
   ]
  },
  {
   "cell_type": "code",
   "execution_count": 26,
   "metadata": {
    "collapsed": false
   },
   "outputs": [
    {
     "data": {
      "text/html": [
       "<div style=\"max-height:1000px;max-width:1500px;overflow:auto;\"><table frame=\"box\" rules=\"cols\">\n",
       "    <tr>\n",
       "        <th style=\"padding-left: 1em; padding-right: 1em; text-align: center\">author_id</th>\n",
       "        <th style=\"padding-left: 1em; padding-right: 1em; text-align: center\">hike_id</th>\n",
       "        <th style=\"padding-left: 1em; padding-right: 1em; text-align: center\">score</th>\n",
       "        <th style=\"padding-left: 1em; padding-right: 1em; text-align: center\">rank</th>\n",
       "    </tr>\n",
       "    <tr>\n",
       "        <td style=\"padding-left: 1em; padding-right: 1em; text-align: center; vertical-align: top\">2</td>\n",
       "        <td style=\"padding-left: 1em; padding-right: 1em; text-align: center; vertical-align: top\">297</td>\n",
       "        <td style=\"padding-left: 1em; padding-right: 1em; text-align: center; vertical-align: top\">6.19237823283</td>\n",
       "        <td style=\"padding-left: 1em; padding-right: 1em; text-align: center; vertical-align: top\">1</td>\n",
       "    </tr>\n",
       "    <tr>\n",
       "        <td style=\"padding-left: 1em; padding-right: 1em; text-align: center; vertical-align: top\">2</td>\n",
       "        <td style=\"padding-left: 1em; padding-right: 1em; text-align: center; vertical-align: top\">164</td>\n",
       "        <td style=\"padding-left: 1em; padding-right: 1em; text-align: center; vertical-align: top\">6.05389792716</td>\n",
       "        <td style=\"padding-left: 1em; padding-right: 1em; text-align: center; vertical-align: top\">2</td>\n",
       "    </tr>\n",
       "    <tr>\n",
       "        <td style=\"padding-left: 1em; padding-right: 1em; text-align: center; vertical-align: top\">2</td>\n",
       "        <td style=\"padding-left: 1em; padding-right: 1em; text-align: center; vertical-align: top\">802</td>\n",
       "        <td style=\"padding-left: 1em; padding-right: 1em; text-align: center; vertical-align: top\">6.0152325133</td>\n",
       "        <td style=\"padding-left: 1em; padding-right: 1em; text-align: center; vertical-align: top\">3</td>\n",
       "    </tr>\n",
       "    <tr>\n",
       "        <td style=\"padding-left: 1em; padding-right: 1em; text-align: center; vertical-align: top\">2</td>\n",
       "        <td style=\"padding-left: 1em; padding-right: 1em; text-align: center; vertical-align: top\">804</td>\n",
       "        <td style=\"padding-left: 1em; padding-right: 1em; text-align: center; vertical-align: top\">5.92787809168</td>\n",
       "        <td style=\"padding-left: 1em; padding-right: 1em; text-align: center; vertical-align: top\">4</td>\n",
       "    </tr>\n",
       "    <tr>\n",
       "        <td style=\"padding-left: 1em; padding-right: 1em; text-align: center; vertical-align: top\">2</td>\n",
       "        <td style=\"padding-left: 1em; padding-right: 1em; text-align: center; vertical-align: top\">329</td>\n",
       "        <td style=\"padding-left: 1em; padding-right: 1em; text-align: center; vertical-align: top\">5.90850181376</td>\n",
       "        <td style=\"padding-left: 1em; padding-right: 1em; text-align: center; vertical-align: top\">5</td>\n",
       "    </tr>\n",
       "</table>\n",
       "[5 rows x 4 columns]<br/>\n",
       "</div>"
      ],
      "text/plain": [
       "Columns:\n",
       "\tauthor_id\tint\n",
       "\thike_id\tint\n",
       "\tscore\tfloat\n",
       "\trank\tint\n",
       "\n",
       "Rows: 5\n",
       "\n",
       "Data:\n",
       "+-----------+---------+---------------+------+\n",
       "| author_id | hike_id |     score     | rank |\n",
       "+-----------+---------+---------------+------+\n",
       "|     2     |   297   | 6.19237823283 |  1   |\n",
       "|     2     |   164   | 6.05389792716 |  2   |\n",
       "|     2     |   802   |  6.0152325133 |  3   |\n",
       "|     2     |   804   | 5.92787809168 |  4   |\n",
       "|     2     |   329   | 5.90850181376 |  5   |\n",
       "+-----------+---------+---------------+------+\n",
       "[5 rows x 4 columns]"
      ]
     },
     "execution_count": 26,
     "metadata": {},
     "output_type": "execute_result"
    }
   ],
   "source": [
    "model.recommend(users=[2], k=5)"
   ]
  },
  {
   "cell_type": "markdown",
   "metadata": {},
   "source": [
    "## Visualizing the difference between the two factorization methods\n",
    "https://turi.com/products/create/docs/generated/graphlab.show_comparison.html#graphlab.show_comparison"
   ]
  },
  {
   "cell_type": "markdown",
   "metadata": {},
   "source": [
    "## Factorization model incorporating item data\n"
   ]
  },
  {
   "cell_type": "code",
   "execution_count": 27,
   "metadata": {
    "collapsed": false
   },
   "outputs": [],
   "source": [
    "item_data = pd.read_csv('data/itemData.csv')\n",
    "\n",
    "item_data = item_data.drop(labels=['Unnamed: 0'], axis=1)\n",
    "item_sf = item_data.dropna()\n"
   ]
  },
  {
   "cell_type": "code",
   "execution_count": 28,
   "metadata": {
    "collapsed": false
   },
   "outputs": [
    {
     "data": {
      "text/html": [
       "<div>\n",
       "<table border=\"1\" class=\"dataframe\">\n",
       "  <thead>\n",
       "    <tr style=\"text-align: right;\">\n",
       "      <th></th>\n",
       "      <th>hike_name</th>\n",
       "      <th>hike_id</th>\n",
       "      <th>numReports</th>\n",
       "      <th>total_dist</th>\n",
       "      <th>elevation gain</th>\n",
       "      <th>time_from_seattle</th>\n",
       "      <th>Wildlife</th>\n",
       "      <th>Rivers</th>\n",
       "      <th>Summits</th>\n",
       "      <th>Good for kids</th>\n",
       "    </tr>\n",
       "  </thead>\n",
       "  <tbody>\n",
       "    <tr>\n",
       "      <th>0</th>\n",
       "      <td>Grand Park via Lake Eleanor</td>\n",
       "      <td>0</td>\n",
       "      <td>212.0</td>\n",
       "      <td>8.0</td>\n",
       "      <td>1100.0</td>\n",
       "      <td>116.533333</td>\n",
       "      <td>1</td>\n",
       "      <td>0</td>\n",
       "      <td>0</td>\n",
       "      <td>0</td>\n",
       "    </tr>\n",
       "    <tr>\n",
       "      <th>2</th>\n",
       "      <td>Soda Peaks Lake</td>\n",
       "      <td>2</td>\n",
       "      <td>24.0</td>\n",
       "      <td>7.0</td>\n",
       "      <td>2500.0</td>\n",
       "      <td>227.333333</td>\n",
       "      <td>0</td>\n",
       "      <td>0</td>\n",
       "      <td>0</td>\n",
       "      <td>0</td>\n",
       "    </tr>\n",
       "    <tr>\n",
       "      <th>3</th>\n",
       "      <td>Shorthorn</td>\n",
       "      <td>3</td>\n",
       "      <td>5.0</td>\n",
       "      <td>5.6</td>\n",
       "      <td>1400.0</td>\n",
       "      <td>207.433333</td>\n",
       "      <td>0</td>\n",
       "      <td>0</td>\n",
       "      <td>0</td>\n",
       "      <td>0</td>\n",
       "    </tr>\n",
       "    <tr>\n",
       "      <th>4</th>\n",
       "      <td>West Fork Teanaway River</td>\n",
       "      <td>4</td>\n",
       "      <td>5.0</td>\n",
       "      <td>19.2</td>\n",
       "      <td>2800.0</td>\n",
       "      <td>115.750000</td>\n",
       "      <td>1</td>\n",
       "      <td>0</td>\n",
       "      <td>0</td>\n",
       "      <td>1</td>\n",
       "    </tr>\n",
       "    <tr>\n",
       "      <th>5</th>\n",
       "      <td>Fishtrap Lake - North</td>\n",
       "      <td>5</td>\n",
       "      <td>4.0</td>\n",
       "      <td>4.0</td>\n",
       "      <td>126.0</td>\n",
       "      <td>233.516667</td>\n",
       "      <td>1</td>\n",
       "      <td>0</td>\n",
       "      <td>0</td>\n",
       "      <td>0</td>\n",
       "    </tr>\n",
       "  </tbody>\n",
       "</table>\n",
       "</div>"
      ],
      "text/plain": [
       "                     hike_name  hike_id  numReports  total_dist  \\\n",
       "0  Grand Park via Lake Eleanor        0       212.0         8.0   \n",
       "2              Soda Peaks Lake        2        24.0         7.0   \n",
       "3                    Shorthorn        3         5.0         5.6   \n",
       "4     West Fork Teanaway River        4         5.0        19.2   \n",
       "5        Fishtrap Lake - North        5         4.0         4.0   \n",
       "\n",
       "   elevation gain  time_from_seattle  Wildlife  Rivers  Summits  Good for kids  \n",
       "0          1100.0         116.533333         1       0        0              0  \n",
       "2          2500.0         227.333333         0       0        0              0  \n",
       "3          1400.0         207.433333         0       0        0              0  \n",
       "4          2800.0         115.750000         1       0        0              1  \n",
       "5           126.0         233.516667         1       0        0              0  "
      ]
     },
     "execution_count": 28,
     "metadata": {},
     "output_type": "execute_result"
    }
   ],
   "source": [
    "item_sf.head()"
   ]
  },
  {
   "cell_type": "code",
   "execution_count": 29,
   "metadata": {
    "collapsed": true
   },
   "outputs": [],
   "source": [
    "def norm(df, col):\n",
    "    df[col] = (df[col] - df[col].mean())/(df[col].max() - df[col].min())"
   ]
  },
  {
   "cell_type": "code",
   "execution_count": 30,
   "metadata": {
    "collapsed": false
   },
   "outputs": [
    {
     "name": "stderr",
     "output_type": "stream",
     "text": [
      "/Users/Jade/anaconda/lib/python2.7/site-packages/ipykernel/__main__.py:2: SettingWithCopyWarning: \n",
      "A value is trying to be set on a copy of a slice from a DataFrame.\n",
      "Try using .loc[row_indexer,col_indexer] = value instead\n",
      "\n",
      "See the caveats in the documentation: http://pandas.pydata.org/pandas-docs/stable/indexing.html#indexing-view-versus-copy\n",
      "  from ipykernel import kernelapp as app\n"
     ]
    }
   ],
   "source": [
    "norm(item_sf, 'elevation gain')"
   ]
  },
  {
   "cell_type": "code",
   "execution_count": 31,
   "metadata": {
    "collapsed": false
   },
   "outputs": [
    {
     "name": "stderr",
     "output_type": "stream",
     "text": [
      "/Users/Jade/anaconda/lib/python2.7/site-packages/ipykernel/__main__.py:2: SettingWithCopyWarning: \n",
      "A value is trying to be set on a copy of a slice from a DataFrame.\n",
      "Try using .loc[row_indexer,col_indexer] = value instead\n",
      "\n",
      "See the caveats in the documentation: http://pandas.pydata.org/pandas-docs/stable/indexing.html#indexing-view-versus-copy\n",
      "  from ipykernel import kernelapp as app\n"
     ]
    }
   ],
   "source": [
    "norm(item_sf, 'elevation gain')\n",
    "norm(item_sf, 'time_from_seattle')\n",
    "norm(item_sf, 'numReports')\n",
    "norm(item_sf, 'total_dist')"
   ]
  },
  {
   "cell_type": "code",
   "execution_count": null,
   "metadata": {
    "collapsed": false
   },
   "outputs": [],
   "source": []
  },
  {
   "cell_type": "code",
   "execution_count": 32,
   "metadata": {
    "collapsed": false
   },
   "outputs": [],
   "source": [
    "itemData = graphlab.SFrame(item_sf)"
   ]
  },
  {
   "cell_type": "code",
   "execution_count": 33,
   "metadata": {
    "collapsed": false
   },
   "outputs": [
    {
     "data": {
      "text/html": [
       "<pre>Recsys training: model = ranking_factorization_recommender</pre>"
      ],
      "text/plain": [
       "Recsys training: model = ranking_factorization_recommender"
      ]
     },
     "metadata": {},
     "output_type": "display_data"
    },
    {
     "data": {
      "text/html": [
       "<pre>Preparing data set.</pre>"
      ],
      "text/plain": [
       "Preparing data set."
      ]
     },
     "metadata": {},
     "output_type": "display_data"
    },
    {
     "data": {
      "text/html": [
       "<pre>    Data has 60000 observations with 17057 users and 1576 items.</pre>"
      ],
      "text/plain": [
       "    Data has 60000 observations with 17057 users and 1576 items."
      ]
     },
     "metadata": {},
     "output_type": "display_data"
    },
    {
     "data": {
      "text/html": [
       "<pre>    Data prepared in: 0.19123s</pre>"
      ],
      "text/plain": [
       "    Data prepared in: 0.19123s"
      ]
     },
     "metadata": {},
     "output_type": "display_data"
    },
    {
     "data": {
      "text/html": [
       "<pre>Training ranking_factorization_recommender for recommendations.</pre>"
      ],
      "text/plain": [
       "Training ranking_factorization_recommender for recommendations."
      ]
     },
     "metadata": {},
     "output_type": "display_data"
    },
    {
     "data": {
      "text/html": [
       "<pre>+--------------------------------+--------------------------------------------------+----------+</pre>"
      ],
      "text/plain": [
       "+--------------------------------+--------------------------------------------------+----------+"
      ]
     },
     "metadata": {},
     "output_type": "display_data"
    },
    {
     "data": {
      "text/html": [
       "<pre>| Parameter                      | Description                                      | Value    |</pre>"
      ],
      "text/plain": [
       "| Parameter                      | Description                                      | Value    |"
      ]
     },
     "metadata": {},
     "output_type": "display_data"
    },
    {
     "data": {
      "text/html": [
       "<pre>+--------------------------------+--------------------------------------------------+----------+</pre>"
      ],
      "text/plain": [
       "+--------------------------------+--------------------------------------------------+----------+"
      ]
     },
     "metadata": {},
     "output_type": "display_data"
    },
    {
     "data": {
      "text/html": [
       "<pre>| num_factors                    | Factor Dimension                                 | 32       |</pre>"
      ],
      "text/plain": [
       "| num_factors                    | Factor Dimension                                 | 32       |"
      ]
     },
     "metadata": {},
     "output_type": "display_data"
    },
    {
     "data": {
      "text/html": [
       "<pre>| regularization                 | L2 Regularization on Factors                     | 1e-10    |</pre>"
      ],
      "text/plain": [
       "| regularization                 | L2 Regularization on Factors                     | 1e-10    |"
      ]
     },
     "metadata": {},
     "output_type": "display_data"
    },
    {
     "data": {
      "text/html": [
       "<pre>| solver                         | Solver used for training                         | adagrad  |</pre>"
      ],
      "text/plain": [
       "| solver                         | Solver used for training                         | adagrad  |"
      ]
     },
     "metadata": {},
     "output_type": "display_data"
    },
    {
     "data": {
      "text/html": [
       "<pre>| linear_regularization          | L2 Regularization on Linear Coefficients         | 1e-08    |</pre>"
      ],
      "text/plain": [
       "| linear_regularization          | L2 Regularization on Linear Coefficients         | 1e-08    |"
      ]
     },
     "metadata": {},
     "output_type": "display_data"
    },
    {
     "data": {
      "text/html": [
       "<pre>| side_data_factorization        | Assign Factors for Side Data                     | True     |</pre>"
      ],
      "text/plain": [
       "| side_data_factorization        | Assign Factors for Side Data                     | True     |"
      ]
     },
     "metadata": {},
     "output_type": "display_data"
    },
    {
     "data": {
      "text/html": [
       "<pre>| max_iterations                 | Maximum Number of Iterations                     | 25       |</pre>"
      ],
      "text/plain": [
       "| max_iterations                 | Maximum Number of Iterations                     | 25       |"
      ]
     },
     "metadata": {},
     "output_type": "display_data"
    },
    {
     "data": {
      "text/html": [
       "<pre>+--------------------------------+--------------------------------------------------+----------+</pre>"
      ],
      "text/plain": [
       "+--------------------------------+--------------------------------------------------+----------+"
      ]
     },
     "metadata": {},
     "output_type": "display_data"
    },
    {
     "data": {
      "text/html": [
       "<pre>  Optimizing model using SGD; tuning step size.</pre>"
      ],
      "text/plain": [
       "  Optimizing model using SGD; tuning step size."
      ]
     },
     "metadata": {},
     "output_type": "display_data"
    },
    {
     "data": {
      "text/html": [
       "<pre>  Using 10000 / 60000 points for tuning the step size.</pre>"
      ],
      "text/plain": [
       "  Using 10000 / 60000 points for tuning the step size."
      ]
     },
     "metadata": {},
     "output_type": "display_data"
    },
    {
     "data": {
      "text/html": [
       "<pre>+---------+-------------------+------------------------------------------+</pre>"
      ],
      "text/plain": [
       "+---------+-------------------+------------------------------------------+"
      ]
     },
     "metadata": {},
     "output_type": "display_data"
    },
    {
     "data": {
      "text/html": [
       "<pre>| Attempt | Initial Step Size | Estimated Objective Value                |</pre>"
      ],
      "text/plain": [
       "| Attempt | Initial Step Size | Estimated Objective Value                |"
      ]
     },
     "metadata": {},
     "output_type": "display_data"
    },
    {
     "data": {
      "text/html": [
       "<pre>+---------+-------------------+------------------------------------------+</pre>"
      ],
      "text/plain": [
       "+---------+-------------------+------------------------------------------+"
      ]
     },
     "metadata": {},
     "output_type": "display_data"
    },
    {
     "data": {
      "text/html": [
       "<pre>| 0       | 4.54545           | Not Viable                               |</pre>"
      ],
      "text/plain": [
       "| 0       | 4.54545           | Not Viable                               |"
      ]
     },
     "metadata": {},
     "output_type": "display_data"
    },
    {
     "data": {
      "text/html": [
       "<pre>| 1       | 1.13636           | Not Viable                               |</pre>"
      ],
      "text/plain": [
       "| 1       | 1.13636           | Not Viable                               |"
      ]
     },
     "metadata": {},
     "output_type": "display_data"
    },
    {
     "data": {
      "text/html": [
       "<pre>| 2       | 0.284091          | 0.107931                                 |</pre>"
      ],
      "text/plain": [
       "| 2       | 0.284091          | 0.107931                                 |"
      ]
     },
     "metadata": {},
     "output_type": "display_data"
    },
    {
     "data": {
      "text/html": [
       "<pre>| 3       | 0.142045          | 0.0959737                                |</pre>"
      ],
      "text/plain": [
       "| 3       | 0.142045          | 0.0959737                                |"
      ]
     },
     "metadata": {},
     "output_type": "display_data"
    },
    {
     "data": {
      "text/html": [
       "<pre>| 4       | 0.0710227         | 0.163439                                 |</pre>"
      ],
      "text/plain": [
       "| 4       | 0.0710227         | 0.163439                                 |"
      ]
     },
     "metadata": {},
     "output_type": "display_data"
    },
    {
     "data": {
      "text/html": [
       "<pre>| 5       | 0.0355114         | 0.557171                                 |</pre>"
      ],
      "text/plain": [
       "| 5       | 0.0355114         | 0.557171                                 |"
      ]
     },
     "metadata": {},
     "output_type": "display_data"
    },
    {
     "data": {
      "text/html": [
       "<pre>+---------+-------------------+------------------------------------------+</pre>"
      ],
      "text/plain": [
       "+---------+-------------------+------------------------------------------+"
      ]
     },
     "metadata": {},
     "output_type": "display_data"
    },
    {
     "data": {
      "text/html": [
       "<pre>| Final   | 0.142045          | 0.0959737                                |</pre>"
      ],
      "text/plain": [
       "| Final   | 0.142045          | 0.0959737                                |"
      ]
     },
     "metadata": {},
     "output_type": "display_data"
    },
    {
     "data": {
      "text/html": [
       "<pre>+---------+-------------------+------------------------------------------+</pre>"
      ],
      "text/plain": [
       "+---------+-------------------+------------------------------------------+"
      ]
     },
     "metadata": {},
     "output_type": "display_data"
    },
    {
     "data": {
      "text/html": [
       "<pre>Starting Optimization.</pre>"
      ],
      "text/plain": [
       "Starting Optimization."
      ]
     },
     "metadata": {},
     "output_type": "display_data"
    },
    {
     "data": {
      "text/html": [
       "<pre>+---------+--------------+-------------------+-----------------------+-------------+</pre>"
      ],
      "text/plain": [
       "+---------+--------------+-------------------+-----------------------+-------------+"
      ]
     },
     "metadata": {},
     "output_type": "display_data"
    },
    {
     "data": {
      "text/html": [
       "<pre>| Iter.   | Elapsed Time | Approx. Objective | Approx. Training RMSE | Step Size   |</pre>"
      ],
      "text/plain": [
       "| Iter.   | Elapsed Time | Approx. Objective | Approx. Training RMSE | Step Size   |"
      ]
     },
     "metadata": {},
     "output_type": "display_data"
    },
    {
     "data": {
      "text/html": [
       "<pre>+---------+--------------+-------------------+-----------------------+-------------+</pre>"
      ],
      "text/plain": [
       "+---------+--------------+-------------------+-----------------------+-------------+"
      ]
     },
     "metadata": {},
     "output_type": "display_data"
    },
    {
     "data": {
      "text/html": [
       "<pre>| Initial | 137us        | 2.01606           | 1.41988               |             |</pre>"
      ],
      "text/plain": [
       "| Initial | 137us        | 2.01606           | 1.41988               |             |"
      ]
     },
     "metadata": {},
     "output_type": "display_data"
    },
    {
     "data": {
      "text/html": [
       "<pre>+---------+--------------+-------------------+-----------------------+-------------+</pre>"
      ],
      "text/plain": [
       "+---------+--------------+-------------------+-----------------------+-------------+"
      ]
     },
     "metadata": {},
     "output_type": "display_data"
    },
    {
     "data": {
      "text/html": [
       "<pre>| 1       | 389.523ms    | 2.00631           | 1.41638               | 0.142045    |</pre>"
      ],
      "text/plain": [
       "| 1       | 389.523ms    | 2.00631           | 1.41638               | 0.142045    |"
      ]
     },
     "metadata": {},
     "output_type": "display_data"
    },
    {
     "data": {
      "text/html": [
       "<pre>| 2       | 713.23ms     | 0.987698          | 0.993796              | 0.142045    |</pre>"
      ],
      "text/plain": [
       "| 2       | 713.23ms     | 0.987698          | 0.993796              | 0.142045    |"
      ]
     },
     "metadata": {},
     "output_type": "display_data"
    },
    {
     "data": {
      "text/html": [
       "<pre>| 3       | 994.04ms     | 0.619179          | 0.786861              | 0.142045    |</pre>"
      ],
      "text/plain": [
       "| 3       | 994.04ms     | 0.619179          | 0.786861              | 0.142045    |"
      ]
     },
     "metadata": {},
     "output_type": "display_data"
    },
    {
     "data": {
      "text/html": [
       "<pre>| 4       | 1.28s        | 0.481417          | 0.693831              | 0.142045    |</pre>"
      ],
      "text/plain": [
       "| 4       | 1.28s        | 0.481417          | 0.693831              | 0.142045    |"
      ]
     },
     "metadata": {},
     "output_type": "display_data"
    },
    {
     "data": {
      "text/html": [
       "<pre>| 5       | 1.57s        | 0.418335          | 0.64678               | 0.142045    |</pre>"
      ],
      "text/plain": [
       "| 5       | 1.57s        | 0.418335          | 0.64678               | 0.142045    |"
      ]
     },
     "metadata": {},
     "output_type": "display_data"
    },
    {
     "data": {
      "text/html": [
       "<pre>| 6       | 1.88s        | 0.383167          | 0.618995              | 0.142045    |</pre>"
      ],
      "text/plain": [
       "| 6       | 1.88s        | 0.383167          | 0.618995              | 0.142045    |"
      ]
     },
     "metadata": {},
     "output_type": "display_data"
    },
    {
     "data": {
      "text/html": [
       "<pre>| 10      | 3.12s        | 0.325204          | 0.570256              | 0.142045    |</pre>"
      ],
      "text/plain": [
       "| 10      | 3.12s        | 0.325204          | 0.570256              | 0.142045    |"
      ]
     },
     "metadata": {},
     "output_type": "display_data"
    },
    {
     "data": {
      "text/html": [
       "<pre>| 11      | 3.44s        | 0.318063          | 0.56396               | 0.142045    |</pre>"
      ],
      "text/plain": [
       "| 11      | 3.44s        | 0.318063          | 0.56396               | 0.142045    |"
      ]
     },
     "metadata": {},
     "output_type": "display_data"
    },
    {
     "data": {
      "text/html": [
       "<pre>| 15      | 5.64s        | 0.300449          | 0.548121              | 0.142045    |</pre>"
      ],
      "text/plain": [
       "| 15      | 5.64s        | 0.300449          | 0.548121              | 0.142045    |"
      ]
     },
     "metadata": {},
     "output_type": "display_data"
    },
    {
     "data": {
      "text/html": [
       "<pre>| 20      | 7.29s        | 0.288581          | 0.537186              | 0.142045    |</pre>"
      ],
      "text/plain": [
       "| 20      | 7.29s        | 0.288581          | 0.537186              | 0.142045    |"
      ]
     },
     "metadata": {},
     "output_type": "display_data"
    },
    {
     "data": {
      "text/html": [
       "<pre>| 25      | 8.86s        | 0.281687          | 0.530729              | 0.142045    |</pre>"
      ],
      "text/plain": [
       "| 25      | 8.86s        | 0.281687          | 0.530729              | 0.142045    |"
      ]
     },
     "metadata": {},
     "output_type": "display_data"
    },
    {
     "data": {
      "text/html": [
       "<pre>+---------+--------------+-------------------+-----------------------+-------------+</pre>"
      ],
      "text/plain": [
       "+---------+--------------+-------------------+-----------------------+-------------+"
      ]
     },
     "metadata": {},
     "output_type": "display_data"
    },
    {
     "data": {
      "text/html": [
       "<pre>Optimization Complete: Maximum number of passes through the data reached.</pre>"
      ],
      "text/plain": [
       "Optimization Complete: Maximum number of passes through the data reached."
      ]
     },
     "metadata": {},
     "output_type": "display_data"
    },
    {
     "data": {
      "text/html": [
       "<pre>Computing final objective value and training RMSE.</pre>"
      ],
      "text/plain": [
       "Computing final objective value and training RMSE."
      ]
     },
     "metadata": {},
     "output_type": "display_data"
    },
    {
     "data": {
      "text/html": [
       "<pre>       Final objective value: 0.238835</pre>"
      ],
      "text/plain": [
       "       Final objective value: 0.238835"
      ]
     },
     "metadata": {},
     "output_type": "display_data"
    },
    {
     "data": {
      "text/html": [
       "<pre>       Final training RMSE: 0.488694</pre>"
      ],
      "text/plain": [
       "       Final training RMSE: 0.488694"
      ]
     },
     "metadata": {},
     "output_type": "display_data"
    }
   ],
   "source": [
    "model = graphlab.recommender.ranking_factorization_recommender.create(df_train, user_id='author_id', \n",
    "                                                                      item_id='hike_id', target='Rating', \n",
    "                                                                      item_data=itemData, ranking_regularization=0,\n",
    "                                                                        regularization=1e-10,\n",
    "                                                                      linear_regularization=1e-8)"
   ]
  },
  {
   "cell_type": "code",
   "execution_count": 52,
   "metadata": {
    "collapsed": false
   },
   "outputs": [],
   "source": [
    "my_recs = model.get_similar_items(items=[13], k=5)"
   ]
  },
  {
   "cell_type": "code",
   "execution_count": 53,
   "metadata": {
    "collapsed": false
   },
   "outputs": [
    {
     "data": {
      "text/html": [
       "<div style=\"max-height:1000px;max-width:1500px;overflow:auto;\"><table frame=\"box\" rules=\"cols\">\n",
       "    <tr>\n",
       "        <th style=\"padding-left: 1em; padding-right: 1em; text-align: center\">hike_id</th>\n",
       "        <th style=\"padding-left: 1em; padding-right: 1em; text-align: center\">similar</th>\n",
       "        <th style=\"padding-left: 1em; padding-right: 1em; text-align: center\">score</th>\n",
       "        <th style=\"padding-left: 1em; padding-right: 1em; text-align: center\">rank</th>\n",
       "    </tr>\n",
       "    <tr>\n",
       "        <td style=\"padding-left: 1em; padding-right: 1em; text-align: center; vertical-align: top\">13</td>\n",
       "        <td style=\"padding-left: 1em; padding-right: 1em; text-align: center; vertical-align: top\">14</td>\n",
       "        <td style=\"padding-left: 1em; padding-right: 1em; text-align: center; vertical-align: top\">0.626574397087</td>\n",
       "        <td style=\"padding-left: 1em; padding-right: 1em; text-align: center; vertical-align: top\">1</td>\n",
       "    </tr>\n",
       "    <tr>\n",
       "        <td style=\"padding-left: 1em; padding-right: 1em; text-align: center; vertical-align: top\">13</td>\n",
       "        <td style=\"padding-left: 1em; padding-right: 1em; text-align: center; vertical-align: top\">1394</td>\n",
       "        <td style=\"padding-left: 1em; padding-right: 1em; text-align: center; vertical-align: top\">0.464548319578</td>\n",
       "        <td style=\"padding-left: 1em; padding-right: 1em; text-align: center; vertical-align: top\">2</td>\n",
       "    </tr>\n",
       "    <tr>\n",
       "        <td style=\"padding-left: 1em; padding-right: 1em; text-align: center; vertical-align: top\">13</td>\n",
       "        <td style=\"padding-left: 1em; padding-right: 1em; text-align: center; vertical-align: top\">310</td>\n",
       "        <td style=\"padding-left: 1em; padding-right: 1em; text-align: center; vertical-align: top\">0.451806217432</td>\n",
       "        <td style=\"padding-left: 1em; padding-right: 1em; text-align: center; vertical-align: top\">3</td>\n",
       "    </tr>\n",
       "    <tr>\n",
       "        <td style=\"padding-left: 1em; padding-right: 1em; text-align: center; vertical-align: top\">13</td>\n",
       "        <td style=\"padding-left: 1em; padding-right: 1em; text-align: center; vertical-align: top\">368</td>\n",
       "        <td style=\"padding-left: 1em; padding-right: 1em; text-align: center; vertical-align: top\">0.444441497326</td>\n",
       "        <td style=\"padding-left: 1em; padding-right: 1em; text-align: center; vertical-align: top\">4</td>\n",
       "    </tr>\n",
       "    <tr>\n",
       "        <td style=\"padding-left: 1em; padding-right: 1em; text-align: center; vertical-align: top\">13</td>\n",
       "        <td style=\"padding-left: 1em; padding-right: 1em; text-align: center; vertical-align: top\">1294</td>\n",
       "        <td style=\"padding-left: 1em; padding-right: 1em; text-align: center; vertical-align: top\">0.435032874346</td>\n",
       "        <td style=\"padding-left: 1em; padding-right: 1em; text-align: center; vertical-align: top\">5</td>\n",
       "    </tr>\n",
       "</table>\n",
       "[5 rows x 4 columns]<br/>\n",
       "</div>"
      ],
      "text/plain": [
       "Columns:\n",
       "\thike_id\tint\n",
       "\tsimilar\tint\n",
       "\tscore\tfloat\n",
       "\trank\tint\n",
       "\n",
       "Rows: 5\n",
       "\n",
       "Data:\n",
       "+---------+---------+----------------+------+\n",
       "| hike_id | similar |     score      | rank |\n",
       "+---------+---------+----------------+------+\n",
       "|    13   |    14   | 0.626574397087 |  1   |\n",
       "|    13   |   1394  | 0.464548319578 |  2   |\n",
       "|    13   |   310   | 0.451806217432 |  3   |\n",
       "|    13   |   368   | 0.444441497326 |  4   |\n",
       "|    13   |   1294  | 0.435032874346 |  5   |\n",
       "+---------+---------+----------------+------+\n",
       "[5 rows x 4 columns]"
      ]
     },
     "execution_count": 53,
     "metadata": {},
     "output_type": "execute_result"
    }
   ],
   "source": [
    "my_recs"
   ]
  },
  {
   "cell_type": "code",
   "execution_count": 40,
   "metadata": {
    "collapsed": false
   },
   "outputs": [],
   "source": [
    "my_recs=list(sim['similar'])"
   ]
  },
  {
   "cell_type": "code",
   "execution_count": 41,
   "metadata": {
    "collapsed": true
   },
   "outputs": [],
   "source": [
    "from pymongo import MongoClient\n",
    "client = MongoClient()\n",
    "db = client['wta']\n",
    "hikes = db['hikes']"
   ]
  },
  {
   "cell_type": "code",
   "execution_count": 54,
   "metadata": {
    "collapsed": true
   },
   "outputs": [],
   "source": [
    "recs = db.hikes.find({\"hike_id\": {\"$in\": list(my_recs['similar'])}})"
   ]
  },
  {
   "cell_type": "code",
   "execution_count": 62,
   "metadata": {
    "collapsed": false
   },
   "outputs": [],
   "source": [
    "recs = db.hikes.find({\"hike_id\": {\"$in\": list(my_recs['similar'])}})"
   ]
  },
  {
   "cell_type": "code",
   "execution_count": 66,
   "metadata": {
    "collapsed": false
   },
   "outputs": [
    {
     "ename": "AttributeError",
     "evalue": "'dict' object has no attribute 'elevation'",
     "output_type": "error",
     "traceback": [
      "\u001b[0;31m---------------------------------------------------------------------------\u001b[0m",
      "\u001b[0;31mAttributeError\u001b[0m                            Traceback (most recent call last)",
      "\u001b[0;32m<ipython-input-66-6a1781f4bf00>\u001b[0m in \u001b[0;36m<module>\u001b[0;34m()\u001b[0m\n\u001b[1;32m      1\u001b[0m \u001b[0;32mfor\u001b[0m \u001b[0mr\u001b[0m \u001b[0;32min\u001b[0m \u001b[0mrecs\u001b[0m\u001b[0;34m:\u001b[0m\u001b[0;34m\u001b[0m\u001b[0m\n\u001b[0;32m----> 2\u001b[0;31m     \u001b[0;32mprint\u001b[0m \u001b[0mr\u001b[0m\u001b[0;34m.\u001b[0m\u001b[0melevation\u001b[0m\u001b[0;34m\u001b[0m\u001b[0m\n\u001b[0m",
      "\u001b[0;31mAttributeError\u001b[0m: 'dict' object has no attribute 'elevation'"
     ]
    }
   ],
   "source": [
    "for r in recs:\n",
    "    print r.elevation"
   ]
  },
  {
   "cell_type": "code",
   "execution_count": 67,
   "metadata": {
    "collapsed": true
   },
   "outputs": [],
   "source": [
    "my_recs = model.recommend(users=[13],  k=5)"
   ]
  },
  {
   "cell_type": "code",
   "execution_count": 70,
   "metadata": {
    "collapsed": false
   },
   "outputs": [],
   "source": [
    "recs = db.hikes.find({\"hike_id\": {\"$in\": list(my_recs['hike_id'])}})"
   ]
  },
  {
   "cell_type": "code",
   "execution_count": 73,
   "metadata": {
    "collapsed": false
   },
   "outputs": [
    {
     "name": "stdout",
     "output_type": "stream",
     "text": [
      "McCormick Forest Park\n",
      "Mount Spokane State Park - Mount Kit Carson Loop Road\n",
      "Burnt Bridge Creek - Eastern Section\n"
     ]
    }
   ],
   "source": [
    "for r in recs:\n",
    "    print r['name']"
   ]
  },
  {
   "cell_type": "code",
   "execution_count": 154,
   "metadata": {
    "collapsed": false
   },
   "outputs": [],
   "source": [
    "def printRecs(recs):\n",
    "    for h in [f for f in recs['hike_id']]:\n",
    "        row = item_data[item_data['hike_id']==h]\n",
    "        print '**', row['hike_name'].values[0], '**'\n",
    "        print 'Total Distance: ', row['total_dist'].values[0]\n",
    "        print 'Elevation Gain: ', row['elevation gain'].values[0]\n",
    "        print 'Driving time from Seattle (minutes): ', row['time_from_seattle'].values[0]\n",
    "        print '----------------------------------------------------------------'"
   ]
  },
  {
   "cell_type": "code",
   "execution_count": 155,
   "metadata": {
    "collapsed": false
   },
   "outputs": [
    {
     "data": {
      "text/html": [
       "<div>\n",
       "<table border=\"1\" class=\"dataframe\">\n",
       "  <thead>\n",
       "    <tr style=\"text-align: right;\">\n",
       "      <th></th>\n",
       "      <th>hike_name</th>\n",
       "      <th>hike_id</th>\n",
       "      <th>numReports</th>\n",
       "      <th>total_dist</th>\n",
       "      <th>elevation gain</th>\n",
       "      <th>time_from_seattle</th>\n",
       "      <th>Wildlife</th>\n",
       "      <th>Rivers</th>\n",
       "      <th>Summits</th>\n",
       "      <th>Good for kids</th>\n",
       "    </tr>\n",
       "  </thead>\n",
       "  <tbody>\n",
       "    <tr>\n",
       "      <th>83</th>\n",
       "      <td>Mailbox Peak</td>\n",
       "      <td>83</td>\n",
       "      <td>220.0</td>\n",
       "      <td>9.4</td>\n",
       "      <td>4000.0</td>\n",
       "      <td>42.816667</td>\n",
       "      <td>0</td>\n",
       "      <td>0</td>\n",
       "      <td>1</td>\n",
       "      <td>0</td>\n",
       "    </tr>\n",
       "  </tbody>\n",
       "</table>\n",
       "</div>"
      ],
      "text/plain": [
       "       hike_name  hike_id  numReports  total_dist  elevation gain  \\\n",
       "83  Mailbox Peak       83       220.0         9.4          4000.0   \n",
       "\n",
       "    time_from_seattle  Wildlife  Rivers  Summits  Good for kids  \n",
       "83          42.816667         0       0        1              0  "
      ]
     },
     "execution_count": 155,
     "metadata": {},
     "output_type": "execute_result"
    }
   ],
   "source": [
    "item_data[item_data['hike_name']=='Mailbox Peak']"
   ]
  },
  {
   "cell_type": "code",
   "execution_count": 156,
   "metadata": {
    "collapsed": false
   },
   "outputs": [
    {
     "name": "stdout",
     "output_type": "stream",
     "text": [
      "+-----------+---------+---------------+------+\n",
      "| author_id | hike_id |     score     | rank |\n",
      "+-----------+---------+---------------+------+\n",
      "|    2222   |   238   | 4.97114866371 |  1   |\n",
      "|    2222   |   525   | 4.91055590831 |  2   |\n",
      "|    2222   |   642   | 4.88502812808 |  3   |\n",
      "|    2222   |   710   | 4.51497164788 |  4   |\n",
      "|    2222   |   499   | 4.51125926319 |  5   |\n",
      "|    2222   |   515   | 4.49509553859 |  6   |\n",
      "|    2222   |   242   | 4.47599709247 |  7   |\n",
      "|    2222   |   121   | 4.47233295856 |  8   |\n",
      "|    2222   |   295   | 4.43095226274 |  9   |\n",
      "|    2222   |   643   | 4.40443453403 |  10  |\n",
      "+-----------+---------+---------------+------+\n",
      "[10 rows x 4 columns]\n",
      "\n"
     ]
    }
   ],
   "source": [
    "new_instance = pd.DataFrame.from_dict({'hike_id': [87], 'author_id': [2222], 'Rating':[5] } )\n",
    "sf = graphlab.SFrame(new_instance)\n",
    "recs = model.recommend(users=[2222], new_observation_data=sf)\n",
    "print recs"
   ]
  },
  {
   "cell_type": "code",
   "execution_count": 157,
   "metadata": {
    "collapsed": false
   },
   "outputs": [
    {
     "name": "stdout",
     "output_type": "stream",
     "text": [
      "** Lincoln Park **\n",
      "Total Distance:  1.85\n",
      "Elevation Gain:  160.0\n",
      "Driving time from Seattle (minutes):  18.9833333333\n",
      "----------------------------------------------------------------\n",
      "** Dosewallips State Park - Steam Donkey Trail **\n",
      "Total Distance:  3.5\n",
      "Elevation Gain:  400.0\n",
      "Driving time from Seattle (minutes):  125.5\n",
      "----------------------------------------------------------------\n",
      "** Jungle Hill Loop **\n",
      "Total Distance:  12.0\n",
      "Elevation Gain:  2400.0\n",
      "Driving time from Seattle (minutes):  331.316666667\n",
      "----------------------------------------------------------------\n",
      "** Damfino Lakes - Excelsior Peak **\n",
      "Total Distance:  5.6\n",
      "Elevation Gain:  1500.0\n",
      "Driving time from Seattle (minutes):  187.716666667\n",
      "----------------------------------------------------------------\n",
      "** Big Rock **\n",
      "Total Distance:  2.5\n",
      "Elevation Gain:  600.0\n",
      "Driving time from Seattle (minutes):  270.4\n",
      "----------------------------------------------------------------\n",
      "** Watershed Park **\n",
      "Total Distance:  1.36\n",
      "Elevation Gain:  150.0\n",
      "Driving time from Seattle (minutes):  63.0166666667\n",
      "----------------------------------------------------------------\n",
      "** Cowiche Canyon **\n",
      "Total Distance:  6.0\n",
      "Elevation Gain:  100.0\n",
      "Driving time from Seattle (minutes):  144.333333333\n",
      "----------------------------------------------------------------\n",
      "** Rowena Plateau and Tom McCall Point **\n",
      "Total Distance:  3.4\n",
      "Elevation Gain:  1200.0\n",
      "Driving time from Seattle (minutes):  229.583333333\n",
      "----------------------------------------------------------------\n",
      "** Lake Padden Park **\n",
      "Total Distance:  7.7\n",
      "Elevation Gain:  400.0\n",
      "Driving time from Seattle (minutes):  83.95\n",
      "----------------------------------------------------------------\n",
      "** Mount Spokane State Park - Mount Kit Carson Loop Road **\n",
      "Total Distance:  13.0\n",
      "Elevation Gain:  1300.0\n",
      "Driving time from Seattle (minutes):  2863.28333333\n",
      "----------------------------------------------------------------\n"
     ]
    }
   ],
   "source": [
    "printRecs(recs)"
   ]
  },
  {
   "cell_type": "code",
   "execution_count": 160,
   "metadata": {
    "collapsed": false
   },
   "outputs": [],
   "source": [
    "recs = model.recommend(users=[670000000])"
   ]
  },
  {
   "cell_type": "code",
   "execution_count": 161,
   "metadata": {
    "collapsed": false
   },
   "outputs": [
    {
     "name": "stdout",
     "output_type": "stream",
     "text": [
      "** Lincoln Park **\n",
      "Total Distance:  1.85\n",
      "Elevation Gain:  160.0\n",
      "Driving time from Seattle (minutes):  18.9833333333\n",
      "----------------------------------------------------------------\n",
      "** Jungle Hill Loop **\n",
      "Total Distance:  12.0\n",
      "Elevation Gain:  2400.0\n",
      "Driving time from Seattle (minutes):  331.316666667\n",
      "----------------------------------------------------------------\n",
      "** Watershed Park **\n",
      "Total Distance:  1.36\n",
      "Elevation Gain:  150.0\n",
      "Driving time from Seattle (minutes):  63.0166666667\n",
      "----------------------------------------------------------------\n",
      "** Rowena Plateau and Tom McCall Point **\n",
      "Total Distance:  3.4\n",
      "Elevation Gain:  1200.0\n",
      "Driving time from Seattle (minutes):  229.583333333\n",
      "----------------------------------------------------------------\n",
      "** Big Rock **\n",
      "Total Distance:  2.5\n",
      "Elevation Gain:  600.0\n",
      "Driving time from Seattle (minutes):  270.4\n",
      "----------------------------------------------------------------\n",
      "** McCormick Forest Park **\n",
      "Total Distance:  3.0\n",
      "Elevation Gain:  200.0\n",
      "Driving time from Seattle (minutes):  50.25\n",
      "----------------------------------------------------------------\n",
      "** Candy Point Trail **\n",
      "Total Distance:  1.5\n",
      "Elevation Gain:  700.0\n",
      "Driving time from Seattle (minutes):  229.15\n",
      "----------------------------------------------------------------\n",
      "** Camp Creek Falls **\n",
      "Total Distance:  0.6\n",
      "Elevation Gain:  40.0\n",
      "Driving time from Seattle (minutes):  146.733333333\n",
      "----------------------------------------------------------------\n",
      "** Woods Creek **\n",
      "Total Distance:  2.5\n",
      "Elevation Gain:  1100.0\n",
      "Driving time from Seattle (minutes):  142.033333333\n",
      "----------------------------------------------------------------\n",
      "** Stimpson Nature Reserve **\n",
      "Total Distance:  4.9\n",
      "Elevation Gain:  300.0\n",
      "Driving time from Seattle (minutes):  92.8166666667\n",
      "----------------------------------------------------------------\n"
     ]
    }
   ],
   "source": [
    "printRecs(recs)"
   ]
  },
  {
   "cell_type": "markdown",
   "metadata": {},
   "source": [
    "## Item Content recommender\n",
    "https://turi.com/products/create/docs/generated/graphlab.recommender.item_content_recommender.ItemContentRecommender.html"
   ]
  },
  {
   "cell_type": "code",
   "execution_count": 8,
   "metadata": {
    "collapsed": false
   },
   "outputs": [
    {
     "ename": "NameError",
     "evalue": "name 'itemData' is not defined",
     "output_type": "error",
     "traceback": [
      "\u001b[0;31m---------------------------------------------------------------------------\u001b[0m",
      "\u001b[0;31mNameError\u001b[0m                                 Traceback (most recent call last)",
      "\u001b[0;32m<ipython-input-8-fa3241a5e75e>\u001b[0m in \u001b[0;36m<module>\u001b[0;34m()\u001b[0m\n\u001b[0;32m----> 1\u001b[0;31m \u001b[0mitem_content_model\u001b[0m \u001b[0;34m=\u001b[0m \u001b[0mgraphlab\u001b[0m\u001b[0;34m.\u001b[0m\u001b[0mrecommender\u001b[0m\u001b[0;34m.\u001b[0m\u001b[0mitem_content_recommender\u001b[0m\u001b[0;34m.\u001b[0m\u001b[0mcreate\u001b[0m\u001b[0;34m(\u001b[0m\u001b[0mitemData\u001b[0m\u001b[0;34m,\u001b[0m \u001b[0;34m'hike_id'\u001b[0m\u001b[0;34m)\u001b[0m\u001b[0;34m\u001b[0m\u001b[0m\n\u001b[0m",
      "\u001b[0;31mNameError\u001b[0m: name 'itemData' is not defined"
     ]
    }
   ],
   "source": [
    "item_content_model = graphlab.recommender.item_content_recommender.create(itemData, 'hike_id')"
   ]
  },
  {
   "cell_type": "code",
   "execution_count": 166,
   "metadata": {
    "collapsed": false
   },
   "outputs": [],
   "source": [
    "recs = item_content_model.get_similar_items(items=[87])"
   ]
  },
  {
   "cell_type": "code",
   "execution_count": 169,
   "metadata": {
    "collapsed": false
   },
   "outputs": [
    {
     "name": "stdout",
     "output_type": "stream",
     "text": [
      "      hike_name  hike_id  numReports  total_dist  elevation gain  \\\n",
      "424  Mount Zion      424       120.0         4.6          1300.0   \n",
      "\n",
      "     time_from_seattle  Wildlife  Rivers  Summits  Good for kids  \n",
      "424              141.3         0       0        0              0  \n",
      "         hike_name  hike_id  numReports  total_dist  elevation gain  \\\n",
      "1521  Red Mountain     1521        96.0         2.0           700.0   \n",
      "\n",
      "      time_from_seattle  Wildlife  Rivers  Summits  Good for kids  \n",
      "1521         142.266667         0       0        0              0  \n",
      "          hike_name  hike_id  numReports  total_dist  elevation gain  \\\n",
      "846  Table Mountain      846        81.0         2.6           725.0   \n",
      "\n",
      "     time_from_seattle  Wildlife  Rivers  Summits  Good for kids  \n",
      "846              171.7         0       0        0              0  \n",
      "            hike_name  hike_id  numReports  total_dist  elevation gain  \\\n",
      "2093  Tongue Mountain     2093        19.0         3.0          1200.0   \n",
      "\n",
      "      time_from_seattle  Wildlife  Rivers  Summits  Good for kids  \n",
      "2093             165.45         0       0        0              0  \n",
      "                       hike_name  hike_id  numReports  total_dist  \\\n",
      "370  Esmeralda Basin (Esmerelda)      370       207.0         7.0   \n",
      "\n",
      "     elevation gain  time_from_seattle  Wildlife  Rivers  Summits  \\\n",
      "370          1750.0         140.283333         0       0        0   \n",
      "\n",
      "     Good for kids  \n",
      "370              0  \n",
      "     hike_name  hike_id  numReports  total_dist  elevation gain  \\\n",
      "262  High Rock      262       142.0         3.2          1365.0   \n",
      "\n",
      "     time_from_seattle  Wildlife  Rivers  Summits  Good for kids  \n",
      "262         147.783333         0       0        0              0  \n",
      "               hike_name  hike_id  numReports  total_dist  elevation gain  \\\n",
      "258  Snoquera Falls Loop      258       175.0         4.2           700.0   \n",
      "\n",
      "     time_from_seattle  Wildlife  Rivers  Summits  Good for kids  \n",
      "258          88.016667         0       0        0              0  \n",
      "          hike_name  hike_id  numReports  total_dist  elevation gain  \\\n",
      "1129  Pinnacle Lake     1129       138.0         3.8          1200.0   \n",
      "\n",
      "      time_from_seattle  Wildlife  Rivers  Summits  Good for kids  \n",
      "1129          98.516667         0       0        0              0  \n",
      "           hike_name  hike_id  numReports  total_dist  elevation gain  \\\n",
      "1111  Round Mountain     1111        25.0         4.5          1700.0   \n",
      "\n",
      "      time_from_seattle  Wildlife  Rivers  Summits  Good for kids  \n",
      "1111         184.533333         0       0        0              0  \n",
      "                  hike_name  hike_id  numReports  total_dist  elevation gain  \\\n",
      "2011  French Cabin Mountain     2011         5.0         6.0          1750.0   \n",
      "\n",
      "      time_from_seattle  Wildlife  Rivers  Summits  Good for kids  \n",
      "2011             118.95         0       0        0              0  \n"
     ]
    }
   ],
   "source": [
    "for i in recs['similar']:\n",
    "    print item_data[item_data['hike_id']==i]"
   ]
  },
  {
   "cell_type": "code",
   "execution_count": null,
   "metadata": {
    "collapsed": true
   },
   "outputs": [],
   "source": []
  }
 ],
 "metadata": {
  "kernelspec": {
   "display_name": "Python 2",
   "language": "python",
   "name": "python2"
  },
  "language_info": {
   "codemirror_mode": {
    "name": "ipython",
    "version": 2
   },
   "file_extension": ".py",
   "mimetype": "text/x-python",
   "name": "python",
   "nbconvert_exporter": "python",
   "pygments_lexer": "ipython2",
   "version": "2.7.12"
  }
 },
 "nbformat": 4,
 "nbformat_minor": 0
}
