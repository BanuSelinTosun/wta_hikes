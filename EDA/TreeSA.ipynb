{
 "cells": [
  {
   "cell_type": "code",
   "execution_count": 102,
   "metadata": {
    "collapsed": true
   },
   "outputs": [],
   "source": [
    "from __future__ import division\n",
    "import pandas as pd\n",
    "import numpy as np\n",
    "import string\n",
    "import matplotlib.pyplot as plt\n",
    "import enchant\n",
    "from pymongo import MongoClient\n",
    "from sklearn.cross_validation import train_test_split\n",
    "from sklearn.feature_extraction.text import TfidfVectorizer\n",
    "from sklearn.ensemble import GradientBoostingClassifier, AdaBoostClassifier, RandomForestClassifier\n",
    "from sklearn.metrics import accuracy_score, recall_score, precision_score\n",
    "from sklearn.naive_bayes import MultinomialNB\n",
    "import seaborn as sns\n",
    "import pdb\n",
    "%matplotlib inline"
   ]
  },
  {
   "cell_type": "markdown",
   "metadata": {},
   "source": [
    "## Get data"
   ]
  },
  {
   "cell_type": "code",
   "execution_count": 82,
   "metadata": {
    "collapsed": true
   },
   "outputs": [],
   "source": [
    "connection = MongoClient()\n",
    "db = connection.wta\n",
    "\n",
    "def mongo2PandasClean(mongodb, drop_id=True):\n",
    "    df = pd.DataFrame(list(mongodb.find()))\n",
    "    if drop_id:\n",
    "        del df['_id']\n",
    "    return df\n",
    "\n",
    "df = mongo2PandasClean(db.trainingTR)"
   ]
  },
  {
   "cell_type": "code",
   "execution_count": 92,
   "metadata": {
    "collapsed": true
   },
   "outputs": [],
   "source": [
    "d = enchant.Dict(\"en_US\")\n",
    "\n",
    "def dropNonEnglish(row):\n",
    "    eng = 0\n",
    "    words = 0\n",
    "    for word in row.split():\n",
    "        words += 1\n",
    "        if d.check(word):\n",
    "            eng += 1\n",
    "    return eng/words\n",
    "\n",
    "\n",
    "df = df[df['Text'].map(dropNonEnglish) > 0.5]\n",
    "df['Positive'] = [1 if int(r) > 3 else 0 for r in df['Rating']]"
   ]
  },
  {
   "cell_type": "code",
   "execution_count": 93,
   "metadata": {
    "collapsed": false
   },
   "outputs": [],
   "source": [
    "X = df['Text']\n",
    "y = df['Positive']\n",
    "X_train, X_test, y_train, y_test = train_test_split(X, y, random_state=0, )"
   ]
  },
  {
   "cell_type": "markdown",
   "metadata": {},
   "source": [
    "## Vectorize TRAINING data only\n",
    "\n",
    "    * Max_df = 0.25\n",
    "    * max_features = 100"
   ]
  },
  {
   "cell_type": "code",
   "execution_count": 94,
   "metadata": {
    "collapsed": true
   },
   "outputs": [],
   "source": [
    "tfidf = TfidfVectorizer(stop_words='english', max_df=0.25, max_features=100).fit(X_train)\n",
    "X_train = tfidf.transform(X_train)\n",
    "bag_o_words = tfidf.get_feature_names()"
   ]
  },
  {
   "cell_type": "code",
   "execution_count": 107,
   "metadata": {
    "collapsed": false
   },
   "outputs": [],
   "source": [
    "def prettyPrint(model, X_test, y_test, with_words=True):\n",
    "    print \"Accuracy: \", accuracy_score(y_test, model.predict(X_test.toarray()))\n",
    "    print \"Recall: \", recall_score(y_test, model.predict(X_test.toarray()))\n",
    "    print \"Precision: \", precision_score(y_test, model.predict(X_test.toarray()))\n",
    "    if with_words:\n",
    "        print \"Top 20 Most Important Features: \"\n",
    "        ix = np.argsort(model.feature_importances_)[-10:]\n",
    "        for i in ix:\n",
    "            print bag_o_words[i]\n",
    "    "
   ]
  },
  {
   "cell_type": "markdown",
   "metadata": {},
   "source": [
    "## Transform test data based on trained model"
   ]
  },
  {
   "cell_type": "code",
   "execution_count": 96,
   "metadata": {
    "collapsed": false
   },
   "outputs": [],
   "source": [
    "X_test = tfidf.transform(X_test)"
   ]
  },
  {
   "cell_type": "code",
   "execution_count": 100,
   "metadata": {
    "collapsed": false
   },
   "outputs": [
    {
     "name": "stdout",
     "output_type": "stream",
     "text": [
      "RandomForestClassifier(bootstrap=True, class_weight=None, criterion='gini',\n",
      "            max_depth=None, max_features='auto', max_leaf_nodes=None,\n",
      "            min_samples_leaf=1, min_samples_split=2,\n",
      "            min_weight_fraction_leaf=0.0, n_estimators=10, n_jobs=1,\n",
      "            oob_score=False, random_state=None, verbose=0,\n",
      "            warm_start=False)\n",
      "Accuracy:  0.934426229508\n",
      "Recall:  1.0\n",
      "Precision:  0.934426229508\n",
      "Top 20 Most Important Features: \n",
      "want\n",
      "road\n",
      "time\n",
      "love\n",
      "really\n",
      "place\n",
      "way\n",
      "waterfall\n",
      "nice\n",
      "trip\n",
      "GradientBoostingClassifier(init=None, learning_rate=0.1, loss='deviance',\n",
      "              max_depth=3, max_features=None, max_leaf_nodes=None,\n",
      "              min_samples_leaf=1, min_samples_split=2,\n",
      "              min_weight_fraction_leaf=0.0, n_estimators=100,\n",
      "              presort='auto', random_state=None, subsample=1.0, verbose=0,\n",
      "              warm_start=False)\n",
      "Accuracy:  0.934426229508\n",
      "Recall:  1.0\n",
      "Precision:  0.934426229508\n",
      "Top 20 Most Important Features: \n",
      "rocks\n",
      "love\n",
      "walk\n",
      "nice\n",
      "miles\n",
      "waterfall\n",
      "place\n",
      "trip\n",
      "awesome\n",
      "really\n",
      "AdaBoostClassifier(algorithm='SAMME.R', base_estimator=None,\n",
      "          learning_rate=1.0, n_estimators=50, random_state=None)\n",
      "Accuracy:  0.94262295082\n",
      "Recall:  0.991228070175\n",
      "Precision:  0.949579831933\n",
      "Top 20 Most Important Features: \n",
      "quite\n",
      "recommend\n",
      "miles\n",
      "time\n",
      "beautiful\n",
      "waterfall\n",
      "really\n",
      "nice\n",
      "trip\n",
      "day\n"
     ]
    }
   ],
   "source": [
    "for model in [RandomForestClassifier(), GradientBoostingClassifier(), AdaBoostClassifier()]:\n",
    "    mod = model.fit(X_train, y_train)\n",
    "    print str(model)\n",
    "    prettyPrint(model, X_test, y_test)"
   ]
  },
  {
   "cell_type": "markdown",
   "metadata": {},
   "source": [
    "## Vectorizing again\n",
    "    * max_df=0.5\n",
    "    * max_features=100\n",
    "    * bigrams"
   ]
  },
  {
   "cell_type": "code",
   "execution_count": 115,
   "metadata": {
    "collapsed": false
   },
   "outputs": [
    {
     "name": "stdout",
     "output_type": "stream",
     "text": [
      "RandomForestClassifier(bootstrap=True, class_weight=None, criterion='gini',\n",
      "            max_depth=None, max_features='auto', max_leaf_nodes=None,\n",
      "            min_samples_leaf=1, min_samples_split=2,\n",
      "            min_weight_fraction_leaf=0.0, n_estimators=10, n_jobs=1,\n",
      "            oob_score=False, random_state=None, verbose=0,\n",
      "            warm_start=False)\n",
      "Accuracy:  0.934426229508\n",
      "Recall:  1.0\n",
      "Precision:  0.934426229508\n",
      "Top 20 Most Important Features: \n",
      "10\n",
      "doing\n",
      "waterfalls\n",
      "nice\n",
      "time\n",
      "really\n",
      "trip\n",
      "hike\n",
      "trail\n",
      "ll\n",
      "GradientBoostingClassifier(init=None, learning_rate=0.1, loss='deviance',\n",
      "              max_depth=3, max_features=None, max_leaf_nodes=None,\n",
      "              min_samples_leaf=1, min_samples_split=2,\n",
      "              min_weight_fraction_leaf=0.0, n_estimators=100,\n",
      "              presort='auto', random_state=None, subsample=1.0, verbose=0,\n",
      "              warm_start=False)\n",
      "Accuracy:  0.926229508197\n",
      "Recall:  0.991228070175\n",
      "Precision:  0.933884297521\n",
      "Top 20 Most Important Features: \n",
      "awesome\n",
      "day hike\n",
      "great\n",
      "really\n",
      "hike\n",
      "waterfall\n",
      "ll\n",
      "trip\n",
      "lot\n",
      "trail\n",
      "AdaBoostClassifier(algorithm='SAMME.R', base_estimator=None,\n",
      "          learning_rate=1.0, n_estimators=50, random_state=None)\n",
      "Accuracy:  0.918032786885\n",
      "Recall:  0.982456140351\n",
      "Precision:  0.933333333333\n",
      "Top 20 Most Important Features: \n",
      "miles\n",
      "definitely\n",
      "day\n",
      "waterfall\n",
      "nice\n",
      "good\n",
      "day hike\n",
      "place\n",
      "hike\n",
      "trail\n"
     ]
    }
   ],
   "source": [
    "X = df['Text']\n",
    "y = df['Positive']\n",
    "X_train, X_test, y_train, y_test = train_test_split(X, y, random_state=0)\n",
    "\n",
    "tfidf = TfidfVectorizer(stop_words='english', ngram_range=[1,2], max_df=0.5, max_features=100).fit(X_train)\n",
    "X_train = tfidf.transform(X_train)\n",
    "bag_o_words = tfidf.get_feature_names()\n",
    "X_test = tfidf.transform(X_test)\n",
    "for model in [RandomForestClassifier(), GradientBoostingClassifier(), AdaBoostClassifier()]:\n",
    "    mod = model.fit(X_train, y_train)\n",
    "    print str(model)\n",
    "    prettyPrint(model, X_test, y_test)"
   ]
  },
  {
   "cell_type": "markdown",
   "metadata": {},
   "source": [
    "## Vectorizing again\n",
    "    * max_df=0.5\n",
    "    * max_features=100\n",
    "    * bigrams"
   ]
  },
  {
   "cell_type": "code",
   "execution_count": 116,
   "metadata": {
    "collapsed": false
   },
   "outputs": [
    {
     "name": "stdout",
     "output_type": "stream",
     "text": [
      "RandomForestClassifier(bootstrap=True, class_weight=None, criterion='gini',\n",
      "            max_depth=None, max_features='auto', max_leaf_nodes=None,\n",
      "            min_samples_leaf=1, min_samples_split=2,\n",
      "            min_weight_fraction_leaf=0.0, n_estimators=10, n_jobs=1,\n",
      "            oob_score=False, random_state=None, verbose=0,\n",
      "            warm_start=False)\n",
      "Accuracy:  0.934426229508\n",
      "Recall:  1.0\n",
      "Precision:  0.934426229508\n",
      "Top 20 Most Important Features: \n",
      "waterfall\n",
      "elevation\n",
      "did\n",
      "hike\n",
      "nice\n",
      "time\n",
      "long\n",
      "past\n",
      "love\n",
      "trail\n",
      "GradientBoostingClassifier(init=None, learning_rate=0.1, loss='deviance',\n",
      "              max_depth=3, max_features=None, max_leaf_nodes=None,\n",
      "              min_samples_leaf=1, min_samples_split=2,\n",
      "              min_weight_fraction_leaf=0.0, n_estimators=100,\n",
      "              presort='auto', random_state=None, subsample=1.0, verbose=0,\n",
      "              warm_start=False)\n",
      "Accuracy:  0.934426229508\n",
      "Recall:  1.0\n",
      "Precision:  0.934426229508\n",
      "Top 20 Most Important Features: \n",
      "springs\n",
      "left\n",
      "entire\n",
      "really\n",
      "love\n",
      "waterfall\n",
      "awesome\n",
      "past\n",
      "trail\n",
      "trip\n",
      "AdaBoostClassifier(algorithm='SAMME.R', base_estimator=None,\n",
      "          learning_rate=1.0, n_estimators=50, random_state=None)\n",
      "Accuracy:  0.934426229508\n",
      "Recall:  1.0\n",
      "Precision:  0.934426229508\n",
      "Top 20 Most Important Features: \n",
      "great\n",
      "entire\n",
      "day hike\n",
      "trail\n",
      "nice\n",
      "waterfall\n",
      "time\n",
      "love\n",
      "awesome\n",
      "place\n"
     ]
    }
   ],
   "source": [
    "X = df['Text']\n",
    "y = df['Positive']\n",
    "X_train, X_test, y_train, y_test = train_test_split(X, y, random_state=0)\n",
    "\n",
    "tfidf = TfidfVectorizer(stop_words='english', ngram_range=[1,3], max_df=0.5, max_features=150).fit(X_train)\n",
    "X_train = tfidf.transform(X_train)\n",
    "bag_o_words = tfidf.get_feature_names()\n",
    "X_test = tfidf.transform(X_test)\n",
    "for model in [RandomForestClassifier(), GradientBoostingClassifier(), AdaBoostClassifier()]:\n",
    "    mod = model.fit(X_train, y_train)\n",
    "    print str(model)\n",
    "    prettyPrint(model, X_test, y_test)"
   ]
  },
  {
   "cell_type": "markdown",
   "metadata": {},
   "source": [
    "## Attempting with Multinomial Bayes Base For ADAboosted model\n",
    "\n",
    "http://www.aclweb.org/anthology/S14-2018"
   ]
  },
  {
   "cell_type": "code",
   "execution_count": 109,
   "metadata": {
    "collapsed": false
   },
   "outputs": [
    {
     "name": "stdout",
     "output_type": "stream",
     "text": [
      "AdaBoostClassifier(algorithm='SAMME.R',\n",
      "          base_estimator=MultinomialNB(alpha=1.0, class_prior=None, fit_prior=True),\n",
      "          learning_rate=1.0, n_estimators=50, random_state=None)\n",
      "Accuracy:  0.934426229508\n",
      "Recall:  1.0\n",
      "Precision:  0.934426229508\n",
      "--------------------------------------------------------------------------\n",
      "AdaBoostClassifier(algorithm='SAMME.R', base_estimator=None,\n",
      "          learning_rate=1.0, n_estimators=50, random_state=None)\n",
      "Accuracy:  0.926229508197\n",
      "Recall:  0.991228070175\n",
      "Precision:  0.933884297521\n",
      "--------------------------------------------------------------------------\n"
     ]
    }
   ],
   "source": [
    "X = df['Text']\n",
    "y = df['Positive']\n",
    "X_train, X_test, y_train, y_test = train_test_split(X, y, random_state=0)\n",
    "\n",
    "tfidf = TfidfVectorizer(stop_words='english', max_df=0.1, max_features=100).fit(X_train)\n",
    "X_train = tfidf.transform(X_train)\n",
    "bag_o_words = tfidf.get_feature_names()\n",
    "X_test = tfidf.transform(X_test)\n",
    "for model in [AdaBoostClassifier(base_estimator=MultinomialNB()), AdaBoostClassifier()]:\n",
    "    mod = model.fit(X_train, y_train)\n",
    "    print str(model)\n",
    "    prettyPrint(model, X_test, y_test, with_words=False)\n",
    "    print \"--------------------------------------------------------------------------\""
   ]
  },
  {
   "cell_type": "markdown",
   "metadata": {},
   "source": [
    "## Attempting with Multinomial Bayes Base For ADAboosted model\n",
    " with bigrams and trigrams"
   ]
  },
  {
   "cell_type": "code",
   "execution_count": 119,
   "metadata": {
    "collapsed": false
   },
   "outputs": [
    {
     "name": "stdout",
     "output_type": "stream",
     "text": [
      "AdaBoostClassifier(algorithm='SAMME.R',\n",
      "          base_estimator=MultinomialNB(alpha=1.0, class_prior=None, fit_prior=True),\n",
      "          learning_rate=1.0, n_estimators=50, random_state=None)\n",
      "Accuracy:  0.934426229508\n",
      "Recall:  1.0\n",
      "Precision:  0.934426229508\n",
      "--------------------------------------------------------------------------\n",
      "AdaBoostClassifier(algorithm='SAMME.R', base_estimator=None,\n",
      "          learning_rate=1.0, n_estimators=50, random_state=None)\n",
      "Accuracy:  0.926229508197\n",
      "Recall:  0.991228070175\n",
      "Precision:  0.933884297521\n",
      "--------------------------------------------------------------------------\n"
     ]
    }
   ],
   "source": [
    "X = df['Text']\n",
    "y = df['Positive']\n",
    "X_train, X_test, y_train, y_test = train_test_split(X, y, random_state=0)\n",
    "\n",
    "tfidf = TfidfVectorizer(stop_words='english', max_df=0.1, max_features=100).fit(X_train)\n",
    "X_train = tfidf.transform(X_train)\n",
    "bag_o_words = tfidf.get_feature_names()\n",
    "X_test = tfidf.transform(X_test)\n",
    "for model in [AdaBoostClassifier(base_estimator=MultinomialNB()), AdaBoostClassifier()]:\n",
    "    mod = model.fit(X_train, y_train)\n",
    "    print str(model)\n",
    "    prettyPrint(model, X_test, y_test, with_words=False)\n",
    "    print \"--------------------------------------------------------------------------\""
   ]
  },
  {
   "cell_type": "markdown",
   "metadata": {},
   "source": [
    "## Time for some GridSearching!\n"
   ]
  },
  {
   "cell_type": "code",
   "execution_count": 110,
   "metadata": {
    "collapsed": true
   },
   "outputs": [],
   "source": [
    "from sklearn.grid_search import GridSearchCV"
   ]
  },
  {
   "cell_type": "code",
   "execution_count": null,
   "metadata": {
    "collapsed": true
   },
   "outputs": [],
   "source": [
    "AdaBoostClassifier()"
   ]
  },
  {
   "cell_type": "code",
   "execution_count": 117,
   "metadata": {
    "collapsed": false
   },
   "outputs": [
    {
     "data": {
      "text/plain": [
       "GridSearchCV(cv=5, error_score='raise',\n",
       "       estimator=AdaBoostClassifier(algorithm='SAMME.R',\n",
       "          base_estimator=MultinomialNB(alpha=1.0, class_prior=None, fit_prior=True),\n",
       "          learning_rate=1.0, n_estimators=50, random_state=None),\n",
       "       fit_params={}, iid=True, n_jobs=1,\n",
       "       param_grid=[{'n_estimators': [50, 100, 150, 500], 'learning_rate': [0.25, 0.5, 0.75, 1]}],\n",
       "       pre_dispatch='2*n_jobs', refit=True, scoring=None, verbose=0)"
      ]
     },
     "execution_count": 117,
     "metadata": {},
     "output_type": "execute_result"
    }
   ],
   "source": [
    "X = df['Text']\n",
    "y = df['Positive']\n",
    "X_train, X_test, y_train, y_test = train_test_split(X, y, random_state=0)\n",
    "\n",
    "tfidf = TfidfVectorizer(stop_words='english', ngram_range=[1,3], max_df=0.1, max_features=100).fit(X_train)\n",
    "X_train = tfidf.transform(X_train)\n",
    "bag_o_words = tfidf.get_feature_names()\n",
    "X_test = tfidf.transform(X_test)\n",
    "tuning_params = [{'learning_rate': [0.25,0.5,0.75,1], 'n_estimators': [50, 100, 150, 500]}]\n",
    "clf = GridSearchCV(AdaBoostClassifier(base_estimator=MultinomialNB()), tuning_params, cv=5)\n",
    "clf.fit(X_train, y_train)"
   ]
  },
  {
   "cell_type": "code",
   "execution_count": 118,
   "metadata": {
    "collapsed": false
   },
   "outputs": [
    {
     "data": {
      "text/plain": [
       "{'learning_rate': 0.25, 'n_estimators': 50}"
      ]
     },
     "execution_count": 118,
     "metadata": {},
     "output_type": "execute_result"
    }
   ],
   "source": [
    "clf.best_params_"
   ]
  },
  {
   "cell_type": "markdown",
   "metadata": {},
   "source": [
    "## Pickling time"
   ]
  },
  {
   "cell_type": "code",
   "execution_count": 120,
   "metadata": {
    "collapsed": true
   },
   "outputs": [],
   "source": [
    "import cPickle as pickle"
   ]
  },
  {
   "cell_type": "code",
   "execution_count": 127,
   "metadata": {
    "collapsed": false
   },
   "outputs": [],
   "source": [
    "X = df['Text']\n",
    "y = df['Positive']\n",
    "X_train, X_test, y_train, y_test = train_test_split(X, y, random_state=0)\n",
    "\n",
    "tfidf = TfidfVectorizer(stop_words='english', ngram_range=[1,3], max_df=0.1, max_features=100).fit(X_train)\n",
    "X_train = tfidf.transform(X_train)\n",
    "\n",
    "with open('../pickle/vectorizer.pkl', 'wb') as fid:\n",
    "    pickle.dump(tfidf, fid)  \n",
    "    \n",
    "model = AdaBoostClassifier(base_estimator=MultinomialNB(), learning_rate=0.25, n_estimators=50)\n",
    "model = model.fit(X_train, y_train)\n",
    "with open('../pickle/SAmodel.pkl', 'wb') as fid:\n",
    "    pickle.dump(model, fid)"
   ]
  },
  {
   "cell_type": "code",
   "execution_count": null,
   "metadata": {
    "collapsed": true
   },
   "outputs": [],
   "source": []
  }
 ],
 "metadata": {
  "kernelspec": {
   "display_name": "Python 2",
   "language": "python",
   "name": "python2"
  },
  "language_info": {
   "codemirror_mode": {
    "name": "ipython",
    "version": 2
   },
   "file_extension": ".py",
   "mimetype": "text/x-python",
   "name": "python",
   "nbconvert_exporter": "python",
   "pygments_lexer": "ipython2",
   "version": "2.7.12"
  }
 },
 "nbformat": 4,
 "nbformat_minor": 0
}
