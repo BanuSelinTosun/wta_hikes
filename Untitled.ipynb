{
 "cells": [
  {
   "cell_type": "code",
   "execution_count": 1,
   "metadata": {
    "collapsed": true
   },
   "outputs": [],
   "source": [
    "import pandas as pd\n",
    "from pymongo import MongoClient\n",
    "import numpy as np\n"
   ]
  },
  {
   "cell_type": "code",
   "execution_count": 11,
   "metadata": {
    "collapsed": true
   },
   "outputs": [],
   "source": [
    "df = pd.read_csv('data/washington_hikes_clean_noout.csv')"
   ]
  },
  {
   "cell_type": "code",
   "execution_count": 12,
   "metadata": {
    "collapsed": false
   },
   "outputs": [],
   "source": [
    "client = MongoClient()\n",
    "db = client['wta']\n",
    "hikes = db['hikes']\n",
    "db.hikes.drop()\n"
   ]
  },
  {
   "cell_type": "code",
   "execution_count": 13,
   "metadata": {
    "collapsed": false
   },
   "outputs": [
    {
     "data": {
      "text/html": [
       "<div>\n",
       "<table border=\"1\" class=\"dataframe\">\n",
       "  <thead>\n",
       "    <tr style=\"text-align: right;\">\n",
       "      <th></th>\n",
       "      <th>0</th>\n",
       "      <th>1</th>\n",
       "      <th>2</th>\n",
       "      <th>3</th>\n",
       "      <th>4</th>\n",
       "    </tr>\n",
       "  </thead>\n",
       "  <tbody>\n",
       "    <tr>\n",
       "      <th>Unnamed: 0</th>\n",
       "      <td>0</td>\n",
       "      <td>1</td>\n",
       "      <td>2</td>\n",
       "      <td>3</td>\n",
       "      <td>4</td>\n",
       "    </tr>\n",
       "    <tr>\n",
       "      <th>Unnamed: 0.1</th>\n",
       "      <td>0</td>\n",
       "      <td>1</td>\n",
       "      <td>2</td>\n",
       "      <td>3</td>\n",
       "      <td>4</td>\n",
       "    </tr>\n",
       "    <tr>\n",
       "      <th>Unnamed: 0.1</th>\n",
       "      <td>0</td>\n",
       "      <td>1</td>\n",
       "      <td>2</td>\n",
       "      <td>3</td>\n",
       "      <td>4</td>\n",
       "    </tr>\n",
       "    <tr>\n",
       "      <th>hike_name</th>\n",
       "      <td>Grand Park via Lake Eleanor</td>\n",
       "      <td>Shellrock Pass</td>\n",
       "      <td>Soda Peaks Lake</td>\n",
       "      <td>Shorthorn</td>\n",
       "      <td>West Fork Teanaway River</td>\n",
       "    </tr>\n",
       "    <tr>\n",
       "      <th>region</th>\n",
       "      <td>Mount Rainier Area -- NE - Sunrise/White River</td>\n",
       "      <td>North Cascades -- Pasayten</td>\n",
       "      <td>Southwest Washington -- Lewis River Region</td>\n",
       "      <td>South Cascades -- Mount Adams Area</td>\n",
       "      <td>Snoqualmie Region -- Salmon La Sac/Teanaway</td>\n",
       "    </tr>\n",
       "    <tr>\n",
       "      <th>length</th>\n",
       "      <td>8.0 miles, roundtrip</td>\n",
       "      <td>NaN</td>\n",
       "      <td>7.0 miles, roundtrip</td>\n",
       "      <td>5.6 miles, roundtrip</td>\n",
       "      <td>9.6 miles, one-way</td>\n",
       "    </tr>\n",
       "    <tr>\n",
       "      <th>elevation gain</th>\n",
       "      <td>1100</td>\n",
       "      <td>NaN</td>\n",
       "      <td>2500</td>\n",
       "      <td>1400</td>\n",
       "      <td>2800</td>\n",
       "    </tr>\n",
       "    <tr>\n",
       "      <th>rating</th>\n",
       "      <td>4.25 out of 5</td>\n",
       "      <td>2.33 out of 5</td>\n",
       "      <td>3.00 out of 5</td>\n",
       "      <td>3.67 out of 5</td>\n",
       "      <td>2.75 out of 5</td>\n",
       "    </tr>\n",
       "    <tr>\n",
       "      <th>number_votes</th>\n",
       "      <td>12</td>\n",
       "      <td>3</td>\n",
       "      <td>4</td>\n",
       "      <td>3</td>\n",
       "      <td>4</td>\n",
       "    </tr>\n",
       "    <tr>\n",
       "      <th>features</th>\n",
       "      <td>[Mountain views, Wildlife, Established campsites]</td>\n",
       "      <td>[Dogs allowed on leash]</td>\n",
       "      <td>[Old growth, Lakes]</td>\n",
       "      <td>[Mountain views, Dogs allowed on leash]</td>\n",
       "      <td>[Ridges/passes, Wildlife, Established campsite...</td>\n",
       "    </tr>\n",
       "    <tr>\n",
       "      <th>pass(0-no pass, 1- pass required)</th>\n",
       "      <td>0</td>\n",
       "      <td>0</td>\n",
       "      <td>1</td>\n",
       "      <td>1</td>\n",
       "      <td>1</td>\n",
       "    </tr>\n",
       "    <tr>\n",
       "      <th>which_pass</th>\n",
       "      <td>No pass or permit required</td>\n",
       "      <td>No pass or permit required</td>\n",
       "      <td>Northwest Forest Pass required</td>\n",
       "      <td>Northwest Forest Pass required</td>\n",
       "      <td>Northwest Forest Pass required</td>\n",
       "    </tr>\n",
       "    <tr>\n",
       "      <th>time_from_seattle</th>\n",
       "      <td>116.533</td>\n",
       "      <td>NaN</td>\n",
       "      <td>227.333</td>\n",
       "      <td>207.433</td>\n",
       "      <td>115.75</td>\n",
       "    </tr>\n",
       "    <tr>\n",
       "      <th>url</th>\n",
       "      <td>http://www.wta.org/go-hiking/hikes/grand-park</td>\n",
       "      <td>http://www.wta.org/go-hiking/hikes/shellrock-pass</td>\n",
       "      <td>http://www.wta.org/go-hiking/hikes/soda-peaks-...</td>\n",
       "      <td>http://www.wta.org/go-hiking/hikes/shorthorn</td>\n",
       "      <td>http://www.wta.org/go-hiking/hikes/west-fork-t...</td>\n",
       "    </tr>\n",
       "    <tr>\n",
       "      <th>latlong</th>\n",
       "      <td>http://maps.google.com/maps?hl=en&amp;sz=11&amp;spn=0....</td>\n",
       "      <td>NaN</td>\n",
       "      <td>http://maps.google.com/maps?hl=en&amp;sz=11&amp;spn=0....</td>\n",
       "      <td>http://maps.google.com/maps?hl=en&amp;sz=11&amp;spn=0....</td>\n",
       "      <td>http://maps.google.com/maps?hl=en&amp;sz=11&amp;spn=0....</td>\n",
       "    </tr>\n",
       "    <tr>\n",
       "      <th>numReports</th>\n",
       "      <td>212</td>\n",
       "      <td>2</td>\n",
       "      <td>24</td>\n",
       "      <td>5</td>\n",
       "      <td>5</td>\n",
       "    </tr>\n",
       "    <tr>\n",
       "      <th>hike_desc</th>\n",
       "      <td>The classic approach (via Sunrise) to this sea...</td>\n",
       "      <td>The Shellrock Pass trail has not been maintain...</td>\n",
       "      <td>Take a trip to a seldom-seen part of the South...</td>\n",
       "      <td>This trail ascends the south slopes of Mount A...</td>\n",
       "      <td>The West Fork Teanaway Trail begins at Forest ...</td>\n",
       "    </tr>\n",
       "    <tr>\n",
       "      <th>stars</th>\n",
       "      <td>4.25</td>\n",
       "      <td>2.33</td>\n",
       "      <td>3</td>\n",
       "      <td>3.67</td>\n",
       "      <td>2.75</td>\n",
       "    </tr>\n",
       "    <tr>\n",
       "      <th>total_dist</th>\n",
       "      <td>8</td>\n",
       "      <td>NaN</td>\n",
       "      <td>7</td>\n",
       "      <td>5.6</td>\n",
       "      <td>19.2</td>\n",
       "    </tr>\n",
       "    <tr>\n",
       "      <th>lat_long</th>\n",
       "      <td>46.9963,-121.6413</td>\n",
       "      <td>NaN</td>\n",
       "      <td>45.8846,-122.0001</td>\n",
       "      <td>46.1989,-121.0593</td>\n",
       "      <td>47.2915,-121.0064</td>\n",
       "    </tr>\n",
       "    <tr>\n",
       "      <th>hike_id</th>\n",
       "      <td>0</td>\n",
       "      <td>1</td>\n",
       "      <td>2</td>\n",
       "      <td>3</td>\n",
       "      <td>4</td>\n",
       "    </tr>\n",
       "  </tbody>\n",
       "</table>\n",
       "</div>"
      ],
      "text/plain": [
       "                                                                                   0  \\\n",
       "Unnamed: 0                                                                         0   \n",
       "Unnamed: 0.1                                                                       0   \n",
       "Unnamed: 0.1                                                                       0   \n",
       "hike_name                                                Grand Park via Lake Eleanor   \n",
       "region                                Mount Rainier Area -- NE - Sunrise/White River   \n",
       "length                                                          8.0 miles, roundtrip   \n",
       "elevation gain                                                                  1100   \n",
       "rating                                                                 4.25 out of 5   \n",
       "number_votes                                                                      12   \n",
       "features                           [Mountain views, Wildlife, Established campsites]   \n",
       "pass(0-no pass, 1- pass required)                                                  0   \n",
       "which_pass                                                No pass or permit required   \n",
       "time_from_seattle                                                            116.533   \n",
       "url                                    http://www.wta.org/go-hiking/hikes/grand-park   \n",
       "latlong                            http://maps.google.com/maps?hl=en&sz=11&spn=0....   \n",
       "numReports                                                                       212   \n",
       "hike_desc                          The classic approach (via Sunrise) to this sea...   \n",
       "stars                                                                           4.25   \n",
       "total_dist                                                                         8   \n",
       "lat_long                                                           46.9963,-121.6413   \n",
       "hike_id                                                                            0   \n",
       "\n",
       "                                                                                   1  \\\n",
       "Unnamed: 0                                                                         1   \n",
       "Unnamed: 0.1                                                                       1   \n",
       "Unnamed: 0.1                                                                       1   \n",
       "hike_name                                                             Shellrock Pass   \n",
       "region                                                    North Cascades -- Pasayten   \n",
       "length                                                                           NaN   \n",
       "elevation gain                                                                   NaN   \n",
       "rating                                                                 2.33 out of 5   \n",
       "number_votes                                                                       3   \n",
       "features                                                     [Dogs allowed on leash]   \n",
       "pass(0-no pass, 1- pass required)                                                  0   \n",
       "which_pass                                                No pass or permit required   \n",
       "time_from_seattle                                                                NaN   \n",
       "url                                http://www.wta.org/go-hiking/hikes/shellrock-pass   \n",
       "latlong                                                                          NaN   \n",
       "numReports                                                                         2   \n",
       "hike_desc                          The Shellrock Pass trail has not been maintain...   \n",
       "stars                                                                           2.33   \n",
       "total_dist                                                                       NaN   \n",
       "lat_long                                                                         NaN   \n",
       "hike_id                                                                            1   \n",
       "\n",
       "                                                                                   2  \\\n",
       "Unnamed: 0                                                                         2   \n",
       "Unnamed: 0.1                                                                       2   \n",
       "Unnamed: 0.1                                                                       2   \n",
       "hike_name                                                            Soda Peaks Lake   \n",
       "region                                    Southwest Washington -- Lewis River Region   \n",
       "length                                                          7.0 miles, roundtrip   \n",
       "elevation gain                                                                  2500   \n",
       "rating                                                                 3.00 out of 5   \n",
       "number_votes                                                                       4   \n",
       "features                                                         [Old growth, Lakes]   \n",
       "pass(0-no pass, 1- pass required)                                                  1   \n",
       "which_pass                                            Northwest Forest Pass required   \n",
       "time_from_seattle                                                            227.333   \n",
       "url                                http://www.wta.org/go-hiking/hikes/soda-peaks-...   \n",
       "latlong                            http://maps.google.com/maps?hl=en&sz=11&spn=0....   \n",
       "numReports                                                                        24   \n",
       "hike_desc                          Take a trip to a seldom-seen part of the South...   \n",
       "stars                                                                              3   \n",
       "total_dist                                                                         7   \n",
       "lat_long                                                           45.8846,-122.0001   \n",
       "hike_id                                                                            2   \n",
       "\n",
       "                                                                                   3  \\\n",
       "Unnamed: 0                                                                         3   \n",
       "Unnamed: 0.1                                                                       3   \n",
       "Unnamed: 0.1                                                                       3   \n",
       "hike_name                                                                  Shorthorn   \n",
       "region                                            South Cascades -- Mount Adams Area   \n",
       "length                                                          5.6 miles, roundtrip   \n",
       "elevation gain                                                                  1400   \n",
       "rating                                                                 3.67 out of 5   \n",
       "number_votes                                                                       3   \n",
       "features                                     [Mountain views, Dogs allowed on leash]   \n",
       "pass(0-no pass, 1- pass required)                                                  1   \n",
       "which_pass                                            Northwest Forest Pass required   \n",
       "time_from_seattle                                                            207.433   \n",
       "url                                     http://www.wta.org/go-hiking/hikes/shorthorn   \n",
       "latlong                            http://maps.google.com/maps?hl=en&sz=11&spn=0....   \n",
       "numReports                                                                         5   \n",
       "hike_desc                          This trail ascends the south slopes of Mount A...   \n",
       "stars                                                                           3.67   \n",
       "total_dist                                                                       5.6   \n",
       "lat_long                                                           46.1989,-121.0593   \n",
       "hike_id                                                                            3   \n",
       "\n",
       "                                                                                   4  \n",
       "Unnamed: 0                                                                         4  \n",
       "Unnamed: 0.1                                                                       4  \n",
       "Unnamed: 0.1                                                                       4  \n",
       "hike_name                                                   West Fork Teanaway River  \n",
       "region                                   Snoqualmie Region -- Salmon La Sac/Teanaway  \n",
       "length                                                            9.6 miles, one-way  \n",
       "elevation gain                                                                  2800  \n",
       "rating                                                                 2.75 out of 5  \n",
       "number_votes                                                                       4  \n",
       "features                           [Ridges/passes, Wildlife, Established campsite...  \n",
       "pass(0-no pass, 1- pass required)                                                  1  \n",
       "which_pass                                            Northwest Forest Pass required  \n",
       "time_from_seattle                                                             115.75  \n",
       "url                                http://www.wta.org/go-hiking/hikes/west-fork-t...  \n",
       "latlong                            http://maps.google.com/maps?hl=en&sz=11&spn=0....  \n",
       "numReports                                                                         5  \n",
       "hike_desc                          The West Fork Teanaway Trail begins at Forest ...  \n",
       "stars                                                                           2.75  \n",
       "total_dist                                                                      19.2  \n",
       "lat_long                                                           47.2915,-121.0064  \n",
       "hike_id                                                                            4  "
      ]
     },
     "execution_count": 13,
     "metadata": {},
     "output_type": "execute_result"
    }
   ],
   "source": [
    "df.head().T"
   ]
  },
  {
   "cell_type": "code",
   "execution_count": 14,
   "metadata": {
    "collapsed": false
   },
   "outputs": [],
   "source": [
    "df['time_from_seattle'] = [np.round(x) for x in df['time_from_seattle']]\n",
    "df.fillna('Not Reported', inplace=True)"
   ]
  },
  {
   "cell_type": "code",
   "execution_count": 15,
   "metadata": {
    "collapsed": false
   },
   "outputs": [
    {
     "name": "stderr",
     "output_type": "stream",
     "text": [
      "/Users/Jade/anaconda/lib/python2.7/site-packages/ipykernel/__main__.py:4: DeprecationWarning: insert is deprecated. Use insert_one or insert_many instead.\n"
     ]
    }
   ],
   "source": [
    "for i in range(len(df)):\n",
    "    hikes.insert({'name': df['hike_name'][i], 'hike_id': df['hike_id'][i], 'elevation': df['elevation gain'][i], 'total_dist': df['total_dist'][i],\n",
    "                 'time_from_seattle': df['time_from_seattle'][i], 'numReports': df['numReports'][i], 'url': df['url'][i], 'pass_required': df['which_pass'][i],\n",
    "                'region': df['region'][i]})"
   ]
  },
  {
   "cell_type": "code",
   "execution_count": 16,
   "metadata": {
    "collapsed": false
   },
   "outputs": [
    {
     "data": {
      "text/plain": [
       "3337"
      ]
     },
     "execution_count": 16,
     "metadata": {},
     "output_type": "execute_result"
    }
   ],
   "source": [
    "hikes.count()"
   ]
  },
  {
   "cell_type": "code",
   "execution_count": 9,
   "metadata": {
    "collapsed": false
   },
   "outputs": [
    {
     "data": {
      "text/plain": [
       "3337"
      ]
     },
     "execution_count": 9,
     "metadata": {},
     "output_type": "execute_result"
    }
   ],
   "source": [
    "len(df)"
   ]
  },
  {
   "cell_type": "code",
   "execution_count": 17,
   "metadata": {
    "collapsed": false
   },
   "outputs": [
    {
     "name": "stdout",
     "output_type": "stream",
     "text": [
      "{u'hike_id': 0, u'elevation': 1100.0, u'name': u'Grand Park via Lake Eleanor', u'url': u'http://www.wta.org/go-hiking/hikes/grand-park', u'region': u'Mount Rainier Area -- NE - Sunrise/White River', u'time_from_seattle': 117.0, u'numReports': 212.0, u'pass_required': u'No pass or permit required', u'_id': ObjectId('57a3ca597c6fb8aa9923e836'), u'total_dist': 8.0}\n"
     ]
    }
   ],
   "source": [
    "for c in hikes.find({}).limit(1):\n",
    "    print c"
   ]
  },
  {
   "cell_type": "code",
   "execution_count": 15,
   "metadata": {
    "collapsed": false
   },
   "outputs": [],
   "source": [
    "users = pd.read_csv(open('data/tripReports.csv','rU'), encoding='utf-8', engine='c')"
   ]
  },
  {
   "cell_type": "code",
   "execution_count": 17,
   "metadata": {
    "collapsed": false
   },
   "outputs": [],
   "source": [
    "users=users[['Creator', 'author_id']]"
   ]
  },
  {
   "cell_type": "code",
   "execution_count": 21,
   "metadata": {
    "collapsed": false
   },
   "outputs": [
    {
     "name": "stderr",
     "output_type": "stream",
     "text": [
      "/Users/Jade/anaconda/lib/python2.7/site-packages/pandas/util/decorators.py:91: SettingWithCopyWarning: \n",
      "A value is trying to be set on a copy of a slice from a DataFrame\n",
      "\n",
      "See the caveats in the documentation: http://pandas.pydata.org/pandas-docs/stable/indexing.html#indexing-view-versus-copy\n",
      "  return func(*args, **kwargs)\n"
     ]
    }
   ],
   "source": [
    "users.drop_duplicates(inplace=True)"
   ]
  },
  {
   "cell_type": "code",
   "execution_count": 24,
   "metadata": {
    "collapsed": false
   },
   "outputs": [],
   "source": [
    "users = users.reset_index()"
   ]
  },
  {
   "cell_type": "code",
   "execution_count": 28,
   "metadata": {
    "collapsed": false
   },
   "outputs": [
    {
     "data": {
      "text/html": [
       "<div>\n",
       "<table border=\"1\" class=\"dataframe\">\n",
       "  <thead>\n",
       "    <tr style=\"text-align: right;\">\n",
       "      <th></th>\n",
       "      <th>index</th>\n",
       "      <th>Creator</th>\n",
       "      <th>author_id</th>\n",
       "    </tr>\n",
       "  </thead>\n",
       "  <tbody>\n",
       "    <tr>\n",
       "      <th>0</th>\n",
       "      <td>0</td>\n",
       "      <td>amart005</td>\n",
       "      <td>12474.0</td>\n",
       "    </tr>\n",
       "    <tr>\n",
       "      <th>1</th>\n",
       "      <td>1</td>\n",
       "      <td>xandwich</td>\n",
       "      <td>19583.0</td>\n",
       "    </tr>\n",
       "    <tr>\n",
       "      <th>2</th>\n",
       "      <td>2</td>\n",
       "      <td>HeatherD</td>\n",
       "      <td>4317.0</td>\n",
       "    </tr>\n",
       "    <tr>\n",
       "      <th>3</th>\n",
       "      <td>3</td>\n",
       "      <td>Lindy99</td>\n",
       "      <td>6676.0</td>\n",
       "    </tr>\n",
       "    <tr>\n",
       "      <th>4</th>\n",
       "      <td>4</td>\n",
       "      <td>SpartanHiker</td>\n",
       "      <td>10392.0</td>\n",
       "    </tr>\n",
       "  </tbody>\n",
       "</table>\n",
       "</div>"
      ],
      "text/plain": [
       "   index       Creator  author_id\n",
       "0      0      amart005    12474.0\n",
       "1      1      xandwich    19583.0\n",
       "2      2      HeatherD     4317.0\n",
       "3      3       Lindy99     6676.0\n",
       "4      4  SpartanHiker    10392.0"
      ]
     },
     "execution_count": 28,
     "metadata": {},
     "output_type": "execute_result"
    }
   ],
   "source": [
    "users.head()"
   ]
  },
  {
   "cell_type": "code",
   "execution_count": 27,
   "metadata": {
    "collapsed": false
   },
   "outputs": [
    {
     "name": "stderr",
     "output_type": "stream",
     "text": [
      "/Users/Jade/anaconda/lib/python2.7/site-packages/ipykernel/__main__.py:2: DeprecationWarning: insert is deprecated. Use insert_one or insert_many instead.\n",
      "  from ipykernel import kernelapp as app\n"
     ]
    }
   ],
   "source": [
    "for i in range(len(users)):\n",
    "    db.users.insert({'username': users['Creator'][i], 'id': users['author_id'][i]})"
   ]
  },
  {
   "cell_type": "code",
   "execution_count": 29,
   "metadata": {
    "collapsed": true
   },
   "outputs": [],
   "source": [
    "import graphlab as gl"
   ]
  },
  {
   "cell_type": "code",
   "execution_count": 30,
   "metadata": {
    "collapsed": false
   },
   "outputs": [
    {
     "name": "stderr",
     "output_type": "stream",
     "text": [
      "[INFO] graphlab.cython.cy_server: GraphLab Create v2.1 started. Logging: /tmp/graphlab_server_1470250814.log\n",
      "INFO:graphlab.cython.cy_server:GraphLab Create v2.1 started. Logging: /tmp/graphlab_server_1470250814.log\n"
     ]
    },
    {
     "name": "stdout",
     "output_type": "stream",
     "text": [
      "This non-commercial license of GraphLab Create for academic use is assigned to jat257@cornell.edu and will expire on June 30, 2017.\n"
     ]
    }
   ],
   "source": [
    "model = gl.load_model('pickle/recommender.pkl')"
   ]
  },
  {
   "cell_type": "code",
   "execution_count": 37,
   "metadata": {
    "collapsed": true
   },
   "outputs": [],
   "source": [
    "my_recs = model.recommend(users=[1], k=5)"
   ]
  },
  {
   "cell_type": "code",
   "execution_count": 38,
   "metadata": {
    "collapsed": false
   },
   "outputs": [
    {
     "data": {
      "text/html": [
       "<div style=\"max-height:1000px;max-width:1500px;overflow:auto;\"><table frame=\"box\" rules=\"cols\">\n",
       "    <tr>\n",
       "        <th style=\"padding-left: 1em; padding-right: 1em; text-align: center\">author_id</th>\n",
       "        <th style=\"padding-left: 1em; padding-right: 1em; text-align: center\">hike_id</th>\n",
       "        <th style=\"padding-left: 1em; padding-right: 1em; text-align: center\">score</th>\n",
       "        <th style=\"padding-left: 1em; padding-right: 1em; text-align: center\">rank</th>\n",
       "    </tr>\n",
       "    <tr>\n",
       "        <td style=\"padding-left: 1em; padding-right: 1em; text-align: center; vertical-align: top\">1</td>\n",
       "        <td style=\"padding-left: 1em; padding-right: 1em; text-align: center; vertical-align: top\">86</td>\n",
       "        <td style=\"padding-left: 1em; padding-right: 1em; text-align: center; vertical-align: top\">2.46173233068</td>\n",
       "        <td style=\"padding-left: 1em; padding-right: 1em; text-align: center; vertical-align: top\">1</td>\n",
       "    </tr>\n",
       "    <tr>\n",
       "        <td style=\"padding-left: 1em; padding-right: 1em; text-align: center; vertical-align: top\">1</td>\n",
       "        <td style=\"padding-left: 1em; padding-right: 1em; text-align: center; vertical-align: top\">79</td>\n",
       "        <td style=\"padding-left: 1em; padding-right: 1em; text-align: center; vertical-align: top\">2.22137318826</td>\n",
       "        <td style=\"padding-left: 1em; padding-right: 1em; text-align: center; vertical-align: top\">2</td>\n",
       "    </tr>\n",
       "    <tr>\n",
       "        <td style=\"padding-left: 1em; padding-right: 1em; text-align: center; vertical-align: top\">1</td>\n",
       "        <td style=\"padding-left: 1em; padding-right: 1em; text-align: center; vertical-align: top\">28</td>\n",
       "        <td style=\"padding-left: 1em; padding-right: 1em; text-align: center; vertical-align: top\">1.97761673009</td>\n",
       "        <td style=\"padding-left: 1em; padding-right: 1em; text-align: center; vertical-align: top\">3</td>\n",
       "    </tr>\n",
       "    <tr>\n",
       "        <td style=\"padding-left: 1em; padding-right: 1em; text-align: center; vertical-align: top\">1</td>\n",
       "        <td style=\"padding-left: 1em; padding-right: 1em; text-align: center; vertical-align: top\">81</td>\n",
       "        <td style=\"padding-left: 1em; padding-right: 1em; text-align: center; vertical-align: top\">1.94937682426</td>\n",
       "        <td style=\"padding-left: 1em; padding-right: 1em; text-align: center; vertical-align: top\">4</td>\n",
       "    </tr>\n",
       "    <tr>\n",
       "        <td style=\"padding-left: 1em; padding-right: 1em; text-align: center; vertical-align: top\">1</td>\n",
       "        <td style=\"padding-left: 1em; padding-right: 1em; text-align: center; vertical-align: top\">652</td>\n",
       "        <td style=\"padding-left: 1em; padding-right: 1em; text-align: center; vertical-align: top\">1.80056917941</td>\n",
       "        <td style=\"padding-left: 1em; padding-right: 1em; text-align: center; vertical-align: top\">5</td>\n",
       "    </tr>\n",
       "</table>\n",
       "[5 rows x 4 columns]<br/>\n",
       "</div>"
      ],
      "text/plain": [
       "Columns:\n",
       "\tauthor_id\tint\n",
       "\thike_id\tint\n",
       "\tscore\tfloat\n",
       "\trank\tint\n",
       "\n",
       "Rows: 5\n",
       "\n",
       "Data:\n",
       "+-----------+---------+---------------+------+\n",
       "| author_id | hike_id |     score     | rank |\n",
       "+-----------+---------+---------------+------+\n",
       "|     1     |    86   | 2.46173233068 |  1   |\n",
       "|     1     |    79   | 2.22137318826 |  2   |\n",
       "|     1     |    28   | 1.97761673009 |  3   |\n",
       "|     1     |    81   | 1.94937682426 |  4   |\n",
       "|     1     |   652   | 1.80056917941 |  5   |\n",
       "+-----------+---------+---------------+------+\n",
       "[5 rows x 4 columns]"
      ]
     },
     "execution_count": 38,
     "metadata": {},
     "output_type": "execute_result"
    }
   ],
   "source": [
    "my_recs"
   ]
  },
  {
   "cell_type": "code",
   "execution_count": 40,
   "metadata": {
    "collapsed": false
   },
   "outputs": [
    {
     "ename": "AttributeError",
     "evalue": "'SArray' object has no attribute 'values'",
     "output_type": "error",
     "traceback": [
      "\u001b[0;31m---------------------------------------------------------------------------\u001b[0m",
      "\u001b[0;31mAttributeError\u001b[0m                            Traceback (most recent call last)",
      "\u001b[0;32m<ipython-input-40-8b193ec60f73>\u001b[0m in \u001b[0;36m<module>\u001b[0;34m()\u001b[0m\n\u001b[0;32m----> 1\u001b[0;31m \u001b[0mecs\u001b[0m \u001b[0;34m=\u001b[0m \u001b[0mdb\u001b[0m\u001b[0;34m.\u001b[0m\u001b[0mhikes\u001b[0m\u001b[0;34m.\u001b[0m\u001b[0mfind\u001b[0m\u001b[0;34m(\u001b[0m\u001b[0;34m{\u001b[0m\u001b[0;34m\"hike_id\"\u001b[0m\u001b[0;34m:\u001b[0m \u001b[0;34m{\u001b[0m\u001b[0;34m\"$in\"\u001b[0m\u001b[0;34m:\u001b[0m \u001b[0mmy_recs\u001b[0m\u001b[0;34m[\u001b[0m\u001b[0;34m'hike_id'\u001b[0m\u001b[0;34m]\u001b[0m\u001b[0;34m.\u001b[0m\u001b[0mvalues\u001b[0m\u001b[0;34m(\u001b[0m\u001b[0;34m)\u001b[0m\u001b[0;34m}\u001b[0m\u001b[0;34m}\u001b[0m\u001b[0;34m)\u001b[0m\u001b[0;34m\u001b[0m\u001b[0m\n\u001b[0m",
      "\u001b[0;31mAttributeError\u001b[0m: 'SArray' object has no attribute 'values'"
     ]
    }
   ],
   "source": [
    "ecs = db.hikes.find({\"hike_id\": {\"$in\": my_recs['hike_id'].values()}})"
   ]
  },
  {
   "cell_type": "code",
   "execution_count": 43,
   "metadata": {
    "collapsed": false
   },
   "outputs": [
    {
     "data": {
      "text/plain": [
       "[86, 79, 28, 81, 652]"
      ]
     },
     "execution_count": 43,
     "metadata": {},
     "output_type": "execute_result"
    }
   ],
   "source": [
    "list(my_recs['hike_id'])"
   ]
  },
  {
   "cell_type": "code",
   "execution_count": 44,
   "metadata": {
    "collapsed": true
   },
   "outputs": [],
   "source": [
    "user = [db.users.count()+1]"
   ]
  },
  {
   "cell_type": "code",
   "execution_count": 47,
   "metadata": {
    "collapsed": false
   },
   "outputs": [
    {
     "data": {
      "text/plain": [
       "list"
      ]
     },
     "execution_count": 47,
     "metadata": {},
     "output_type": "execute_result"
    }
   ],
   "source": [
    "type(user)"
   ]
  },
  {
   "cell_type": "code",
   "execution_count": 49,
   "metadata": {
    "collapsed": false
   },
   "outputs": [
    {
     "data": {
      "text/plain": [
       "NoneType"
      ]
     },
     "execution_count": 49,
     "metadata": {},
     "output_type": "execute_result"
    }
   ],
   "source": [
    "type(db.users.find_one({'username': 'jadetabony'}))"
   ]
  },
  {
   "cell_type": "code",
   "execution_count": 60,
   "metadata": {
    "collapsed": true
   },
   "outputs": [],
   "source": [
    "from src.sentimentAnalysis import detect_sentiment, setRating"
   ]
  },
  {
   "cell_type": "code",
   "execution_count": null,
   "metadata": {
    "collapsed": true
   },
   "outputs": [],
   "source": []
  }
 ],
 "metadata": {
  "kernelspec": {
   "display_name": "Python 2",
   "language": "python",
   "name": "python2"
  },
  "language_info": {
   "codemirror_mode": {
    "name": "ipython",
    "version": 2
   },
   "file_extension": ".py",
   "mimetype": "text/x-python",
   "name": "python",
   "nbconvert_exporter": "python",
   "pygments_lexer": "ipython2",
   "version": "2.7.12"
  }
 },
 "nbformat": 4,
 "nbformat_minor": 0
}
