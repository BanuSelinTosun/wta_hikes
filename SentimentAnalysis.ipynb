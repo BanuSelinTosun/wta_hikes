{
 "cells": [
  {
   "cell_type": "code",
   "execution_count": 2,
   "metadata": {
    "collapsed": false
   },
   "outputs": [],
   "source": [
    "from __future__ import division\n",
    "import pandas as pd\n",
    "import numpy as np\n",
    "import string\n",
    "import re\n",
    "import matplotlib.pyplot as plt\n",
    "from src.sentimentAnalysis import detect_sentiment, setRating\n",
    "import cPickle as pickle\n",
    "from pymongo import MongoClient\n",
    "from collections import defaultdict\n",
    "import enchant\n",
    "from nltk.corpus import stopwords\n",
    "%matplotlib inline"
   ]
  },
  {
   "cell_type": "code",
   "execution_count": 3,
   "metadata": {
    "collapsed": false
   },
   "outputs": [],
   "source": [
    "connection = MongoClient()\n",
    "db = connection.wta\n",
    "tripReports = db.trip_reports"
   ]
  },
  {
   "cell_type": "code",
   "execution_count": 4,
   "metadata": {
    "collapsed": true
   },
   "outputs": [],
   "source": [
    "def mongo2PandasClean(mongodb, clean_creator=True, drop_id=True):\n",
    "    df = pd.DataFrame(list(mongodb.find()))\n",
    "    if clean_creator:\n",
    "        df['Creator']= [cr.strip() for cr in df['Creator']]\n",
    "    if drop_id:\n",
    "        del df['_id']\n",
    "    return df"
   ]
  },
  {
   "cell_type": "code",
   "execution_count": 5,
   "metadata": {
    "collapsed": false
   },
   "outputs": [],
   "source": [
    "df = mongo2PandasClean(tripReports)"
   ]
  },
  {
   "cell_type": "code",
   "execution_count": 6,
   "metadata": {
    "collapsed": false
   },
   "outputs": [
    {
     "data": {
      "text/html": [
       "<div>\n",
       "<table border=\"1\" class=\"dataframe\">\n",
       "  <thead>\n",
       "    <tr style=\"text-align: right;\">\n",
       "      <th></th>\n",
       "      <th>Creator</th>\n",
       "      <th>Date</th>\n",
       "      <th>Name</th>\n",
       "      <th>Text</th>\n",
       "    </tr>\n",
       "  </thead>\n",
       "  <tbody>\n",
       "    <tr>\n",
       "      <th>0</th>\n",
       "      <td>amart005</td>\n",
       "      <td>Jul 31, 2016</td>\n",
       "      <td>Grand Park via Lake Eleanor</td>\n",
       "      <td>The first meadow is a marshy mess, but after t...</td>\n",
       "    </tr>\n",
       "    <tr>\n",
       "      <th>1</th>\n",
       "      <td>xandwich</td>\n",
       "      <td>Jul 26, 2016</td>\n",
       "      <td>Grand Park via Lake Eleanor</td>\n",
       "      <td>Well...we got to Mount Rainier Tuesday morning...</td>\n",
       "    </tr>\n",
       "    <tr>\n",
       "      <th>2</th>\n",
       "      <td>HeatherD</td>\n",
       "      <td>Jul 25, 2016</td>\n",
       "      <td>Grand Park via Lake Eleanor</td>\n",
       "      <td>Found hiking poles at Lake Eleanor. Comment wi...</td>\n",
       "    </tr>\n",
       "    <tr>\n",
       "      <th>3</th>\n",
       "      <td>Lindy99</td>\n",
       "      <td>Jul 24, 2016</td>\n",
       "      <td>Grand Park via Lake Eleanor</td>\n",
       "      <td>The WTA guide says this hike is 1,100 foot ele...</td>\n",
       "    </tr>\n",
       "    <tr>\n",
       "      <th>4</th>\n",
       "      <td>SpartanHiker</td>\n",
       "      <td>Jul 23, 2016</td>\n",
       "      <td>Grand Park via Lake Eleanor</td>\n",
       "      <td>Wonderful hike to Grand park.  Overall the tra...</td>\n",
       "    </tr>\n",
       "  </tbody>\n",
       "</table>\n",
       "</div>"
      ],
      "text/plain": [
       "        Creator          Date                         Name  \\\n",
       "0      amart005  Jul 31, 2016  Grand Park via Lake Eleanor   \n",
       "1      xandwich  Jul 26, 2016  Grand Park via Lake Eleanor   \n",
       "2      HeatherD  Jul 25, 2016  Grand Park via Lake Eleanor   \n",
       "3       Lindy99  Jul 24, 2016  Grand Park via Lake Eleanor   \n",
       "4  SpartanHiker  Jul 23, 2016  Grand Park via Lake Eleanor   \n",
       "\n",
       "                                                Text  \n",
       "0  The first meadow is a marshy mess, but after t...  \n",
       "1  Well...we got to Mount Rainier Tuesday morning...  \n",
       "2  Found hiking poles at Lake Eleanor. Comment wi...  \n",
       "3  The WTA guide says this hike is 1,100 foot ele...  \n",
       "4  Wonderful hike to Grand park.  Overall the tra...  "
      ]
     },
     "execution_count": 6,
     "metadata": {},
     "output_type": "execute_result"
    }
   ],
   "source": [
    "df.head()"
   ]
  },
  {
   "cell_type": "markdown",
   "metadata": {},
   "source": [
    "### Adding Author ID"
   ]
  },
  {
   "cell_type": "code",
   "execution_count": 7,
   "metadata": {
    "collapsed": false
   },
   "outputs": [],
   "source": [
    "authors = np.unique(df.Creator)\n",
    "ider = dict(zip(authors, range(len(authors))))\n",
    "df['author_id'] = [ider[r] for r in df['Creator']]"
   ]
  },
  {
   "cell_type": "markdown",
   "metadata": {
    "collapsed": false
   },
   "source": [
    "### Unpickle Hike identifier and id hikes"
   ]
  },
  {
   "cell_type": "code",
   "execution_count": 8,
   "metadata": {
    "collapsed": false
   },
   "outputs": [],
   "source": [
    "with open('pickle/ider.pkl', 'rb') as f:\n",
    "    ider = pickle.load(f)\n",
    "df['hike_id'] = [ider[t.encode('utf-8')] for t in df['Name']]"
   ]
  },
  {
   "cell_type": "code",
   "execution_count": 9,
   "metadata": {
    "collapsed": false
   },
   "outputs": [
    {
     "data": {
      "text/html": [
       "<div>\n",
       "<table border=\"1\" class=\"dataframe\">\n",
       "  <thead>\n",
       "    <tr style=\"text-align: right;\">\n",
       "      <th></th>\n",
       "      <th>Creator</th>\n",
       "      <th>Date</th>\n",
       "      <th>Name</th>\n",
       "      <th>Text</th>\n",
       "      <th>author_id</th>\n",
       "      <th>hike_id</th>\n",
       "    </tr>\n",
       "  </thead>\n",
       "  <tbody>\n",
       "    <tr>\n",
       "      <th>0</th>\n",
       "      <td>amart005</td>\n",
       "      <td>Jul 31, 2016</td>\n",
       "      <td>Grand Park via Lake Eleanor</td>\n",
       "      <td>The first meadow is a marshy mess, but after t...</td>\n",
       "      <td>12474</td>\n",
       "      <td>0</td>\n",
       "    </tr>\n",
       "    <tr>\n",
       "      <th>1</th>\n",
       "      <td>xandwich</td>\n",
       "      <td>Jul 26, 2016</td>\n",
       "      <td>Grand Park via Lake Eleanor</td>\n",
       "      <td>Well...we got to Mount Rainier Tuesday morning...</td>\n",
       "      <td>19583</td>\n",
       "      <td>0</td>\n",
       "    </tr>\n",
       "    <tr>\n",
       "      <th>2</th>\n",
       "      <td>HeatherD</td>\n",
       "      <td>Jul 25, 2016</td>\n",
       "      <td>Grand Park via Lake Eleanor</td>\n",
       "      <td>Found hiking poles at Lake Eleanor. Comment wi...</td>\n",
       "      <td>4317</td>\n",
       "      <td>0</td>\n",
       "    </tr>\n",
       "    <tr>\n",
       "      <th>3</th>\n",
       "      <td>Lindy99</td>\n",
       "      <td>Jul 24, 2016</td>\n",
       "      <td>Grand Park via Lake Eleanor</td>\n",
       "      <td>The WTA guide says this hike is 1,100 foot ele...</td>\n",
       "      <td>6676</td>\n",
       "      <td>0</td>\n",
       "    </tr>\n",
       "    <tr>\n",
       "      <th>4</th>\n",
       "      <td>SpartanHiker</td>\n",
       "      <td>Jul 23, 2016</td>\n",
       "      <td>Grand Park via Lake Eleanor</td>\n",
       "      <td>Wonderful hike to Grand park.  Overall the tra...</td>\n",
       "      <td>10392</td>\n",
       "      <td>0</td>\n",
       "    </tr>\n",
       "  </tbody>\n",
       "</table>\n",
       "</div>"
      ],
      "text/plain": [
       "        Creator          Date                         Name  \\\n",
       "0      amart005  Jul 31, 2016  Grand Park via Lake Eleanor   \n",
       "1      xandwich  Jul 26, 2016  Grand Park via Lake Eleanor   \n",
       "2      HeatherD  Jul 25, 2016  Grand Park via Lake Eleanor   \n",
       "3       Lindy99  Jul 24, 2016  Grand Park via Lake Eleanor   \n",
       "4  SpartanHiker  Jul 23, 2016  Grand Park via Lake Eleanor   \n",
       "\n",
       "                                                Text  author_id  hike_id  \n",
       "0  The first meadow is a marshy mess, but after t...      12474        0  \n",
       "1  Well...we got to Mount Rainier Tuesday morning...      19583        0  \n",
       "2  Found hiking poles at Lake Eleanor. Comment wi...       4317        0  \n",
       "3  The WTA guide says this hike is 1,100 foot ele...       6676        0  \n",
       "4  Wonderful hike to Grand park.  Overall the tra...      10392        0  "
      ]
     },
     "execution_count": 9,
     "metadata": {},
     "output_type": "execute_result"
    }
   ],
   "source": [
    "df.head()"
   ]
  },
  {
   "cell_type": "markdown",
   "metadata": {},
   "source": [
    "## Sentiment analysis"
   ]
  },
  {
   "cell_type": "code",
   "execution_count": 10,
   "metadata": {
    "collapsed": true
   },
   "outputs": [],
   "source": [
    "df['TextBlobSentiment'] = [detect_sentiment(t) for t in df['Text']]"
   ]
  },
  {
   "cell_type": "code",
   "execution_count": 11,
   "metadata": {
    "collapsed": false
   },
   "outputs": [],
   "source": [
    "df['Rating']= setRating(df, 'TextBlobSentiment')"
   ]
  },
  {
   "cell_type": "code",
   "execution_count": 13,
   "metadata": {
    "collapsed": false
   },
   "outputs": [
    {
     "data": {
      "text/html": [
       "<div>\n",
       "<table border=\"1\" class=\"dataframe\">\n",
       "  <thead>\n",
       "    <tr style=\"text-align: right;\">\n",
       "      <th></th>\n",
       "      <th>Creator</th>\n",
       "      <th>Date</th>\n",
       "      <th>Name</th>\n",
       "      <th>Text</th>\n",
       "      <th>author_id</th>\n",
       "      <th>hike_id</th>\n",
       "      <th>TextBlobSentiment</th>\n",
       "      <th>Rating</th>\n",
       "    </tr>\n",
       "  </thead>\n",
       "  <tbody>\n",
       "    <tr>\n",
       "      <th>0</th>\n",
       "      <td>amart005</td>\n",
       "      <td>Jul 31, 2016</td>\n",
       "      <td>Grand Park via Lake Eleanor</td>\n",
       "      <td>The first meadow is a marshy mess, but after t...</td>\n",
       "      <td>12474</td>\n",
       "      <td>0</td>\n",
       "      <td>0.125246</td>\n",
       "      <td>2</td>\n",
       "    </tr>\n",
       "    <tr>\n",
       "      <th>1</th>\n",
       "      <td>xandwich</td>\n",
       "      <td>Jul 26, 2016</td>\n",
       "      <td>Grand Park via Lake Eleanor</td>\n",
       "      <td>Well...we got to Mount Rainier Tuesday morning...</td>\n",
       "      <td>19583</td>\n",
       "      <td>0</td>\n",
       "      <td>0.151480</td>\n",
       "      <td>3</td>\n",
       "    </tr>\n",
       "    <tr>\n",
       "      <th>2</th>\n",
       "      <td>HeatherD</td>\n",
       "      <td>Jul 25, 2016</td>\n",
       "      <td>Grand Park via Lake Eleanor</td>\n",
       "      <td>Found hiking poles at Lake Eleanor. Comment wi...</td>\n",
       "      <td>4317</td>\n",
       "      <td>0</td>\n",
       "      <td>0.000000</td>\n",
       "      <td>1</td>\n",
       "    </tr>\n",
       "    <tr>\n",
       "      <th>3</th>\n",
       "      <td>Lindy99</td>\n",
       "      <td>Jul 24, 2016</td>\n",
       "      <td>Grand Park via Lake Eleanor</td>\n",
       "      <td>The WTA guide says this hike is 1,100 foot ele...</td>\n",
       "      <td>6676</td>\n",
       "      <td>0</td>\n",
       "      <td>0.225347</td>\n",
       "      <td>4</td>\n",
       "    </tr>\n",
       "    <tr>\n",
       "      <th>4</th>\n",
       "      <td>SpartanHiker</td>\n",
       "      <td>Jul 23, 2016</td>\n",
       "      <td>Grand Park via Lake Eleanor</td>\n",
       "      <td>Wonderful hike to Grand park.  Overall the tra...</td>\n",
       "      <td>10392</td>\n",
       "      <td>0</td>\n",
       "      <td>0.215000</td>\n",
       "      <td>4</td>\n",
       "    </tr>\n",
       "  </tbody>\n",
       "</table>\n",
       "</div>"
      ],
      "text/plain": [
       "        Creator          Date                         Name  \\\n",
       "0      amart005  Jul 31, 2016  Grand Park via Lake Eleanor   \n",
       "1      xandwich  Jul 26, 2016  Grand Park via Lake Eleanor   \n",
       "2      HeatherD  Jul 25, 2016  Grand Park via Lake Eleanor   \n",
       "3       Lindy99  Jul 24, 2016  Grand Park via Lake Eleanor   \n",
       "4  SpartanHiker  Jul 23, 2016  Grand Park via Lake Eleanor   \n",
       "\n",
       "                                                Text  author_id  hike_id  \\\n",
       "0  The first meadow is a marshy mess, but after t...      12474        0   \n",
       "1  Well...we got to Mount Rainier Tuesday morning...      19583        0   \n",
       "2  Found hiking poles at Lake Eleanor. Comment wi...       4317        0   \n",
       "3  The WTA guide says this hike is 1,100 foot ele...       6676        0   \n",
       "4  Wonderful hike to Grand park.  Overall the tra...      10392        0   \n",
       "\n",
       "   TextBlobSentiment  Rating  \n",
       "0           0.125246       2  \n",
       "1           0.151480       3  \n",
       "2           0.000000       1  \n",
       "3           0.225347       4  \n",
       "4           0.215000       4  "
      ]
     },
     "execution_count": 13,
     "metadata": {},
     "output_type": "execute_result"
    }
   ],
   "source": [
    "df.head()"
   ]
  },
  {
   "cell_type": "code",
   "execution_count": 14,
   "metadata": {
    "collapsed": false
   },
   "outputs": [
    {
     "name": "stderr",
     "output_type": "stream",
     "text": [
      "/Users/Jade/anaconda/lib/python2.7/site-packages/ipykernel/__main__.py:5: DeprecationWarning: insert is deprecated. Use insert_one or insert_many instead.\n"
     ]
    }
   ],
   "source": [
    "### Rewriting mongodb\n",
    "db.trip_reports.drop()\n",
    "for i in range(len(df)):\n",
    "    db.trip_reports.insert({'Creator': df['Creator'][i], 'Date': df['Date'][i], 'hike_name': df['Name'][i], 'Text': df['Text'][i],\n",
    "                       'author_id':df['author_id'][i], 'hike_id': df['hike_id'][i], 'Rating':df['Rating'][i]})"
   ]
  },
  {
   "cell_type": "code",
   "execution_count": 43,
   "metadata": {
    "collapsed": false
   },
   "outputs": [
    {
     "data": {
      "text/plain": [
       "77715"
      ]
     },
     "execution_count": 43,
     "metadata": {},
     "output_type": "execute_result"
    }
   ],
   "source": [
    "db.trip_reports.count()"
   ]
  },
  {
   "cell_type": "code",
   "execution_count": 16,
   "metadata": {
    "collapsed": false
   },
   "outputs": [
    {
     "data": {
      "text/plain": [
       "<matplotlib.text.Text at 0x11e607d50>"
      ]
     },
     "execution_count": 16,
     "metadata": {},
     "output_type": "execute_result"
    },
    {
     "data": {
      "image/png": "[encoded data removed]",
      "text/plain": [
       "<matplotlib.figure.Figure at 0x11db51050>"
      ]
     },
     "metadata": {},
     "output_type": "display_data"
    }
   ],
   "source": [
    "_=plt.boxplot(df.TextBlobSentiment)\n",
    "plt.title('TextBlob Sentiment Analysis')\n",
    "plt.ylabel('-1 Negative Sentiment, 1 Positive Sentiment')\n",
    "plt.xlabel('Trip Reports')"
   ]
  },
  {
   "cell_type": "code",
   "execution_count": 17,
   "metadata": {
    "collapsed": false
   },
   "outputs": [
    {
     "data": {
      "text/plain": [
       "<matplotlib.text.Text at 0x1195f4f10>"
      ]
     },
     "execution_count": 17,
     "metadata": {},
     "output_type": "execute_result"
    },
    {
     "data": {
      "image/png": "[encoded data removed]",
      "text/plain": [
       "<matplotlib.figure.Figure at 0x11db51490>"
      ]
     },
     "metadata": {},
     "output_type": "display_data"
    }
   ],
   "source": [
    "_=plt.hist(df['TextBlobSentiment'], bins=50)\n",
    "plt.title('Distribution of TextBlob Sentiment Ratings on Trip Reports')\n",
    "plt.ylabel('Number of Reports')\n",
    "plt.xlabel('Sentiment Analysis Rating (-1 Negative Sentiment, 1 Positive Sentiment)')"
   ]
  },
  {
   "cell_type": "markdown",
   "metadata": {},
   "source": [
    "## Using Dato Graphlab sentiment analysis:\n",
    "\n",
    "https://turi.com/products/create/docs/generated/graphlab.sentiment_analysis.create.html#graphlab.sentiment_analysis.create\n"
   ]
  },
  {
   "cell_type": "code",
   "execution_count": 18,
   "metadata": {
    "collapsed": true
   },
   "outputs": [],
   "source": [
    "import graphlab as gl"
   ]
  },
  {
   "cell_type": "code",
   "execution_count": 19,
   "metadata": {
    "collapsed": false
   },
   "outputs": [
    {
     "name": "stderr",
     "output_type": "stream",
     "text": [
      "[INFO] graphlab.cython.cy_server: GraphLab Create v2.1 started. Logging: /tmp/graphlab_server_1470259136.log\n",
      "INFO:graphlab.cython.cy_server:GraphLab Create v2.1 started. Logging: /tmp/graphlab_server_1470259136.log\n"
     ]
    },
    {
     "name": "stdout",
     "output_type": "stream",
     "text": [
      "This non-commercial license of GraphLab Create for academic use is assigned to jat257@cornell.edu and will expire on June 30, 2017.\n"
     ]
    }
   ],
   "source": [
    "#df = df.dropna()\n",
    "df['hike_id'] = df['hike_id'].fillna(np.nan).astype(int)\n",
    "df['author_id'] = df['author_id'].fillna(np.nan).astype(int)\n",
    "sf = gl.SFrame(df)"
   ]
  },
  {
   "cell_type": "code",
   "execution_count": 20,
   "metadata": {
    "collapsed": false
   },
   "outputs": [],
   "source": [
    "m = gl.sentiment_analysis.create(sf, features=['Text'])"
   ]
  },
  {
   "cell_type": "code",
   "execution_count": 21,
   "metadata": {
    "collapsed": true
   },
   "outputs": [],
   "source": [
    "df['GraphLabSentiment'] = m.predict(sf)"
   ]
  },
  {
   "cell_type": "code",
   "execution_count": 22,
   "metadata": {
    "collapsed": false
   },
   "outputs": [
    {
     "data": {
      "text/plain": [
       "<matplotlib.text.Text at 0x119200250>"
      ]
     },
     "execution_count": 22,
     "metadata": {},
     "output_type": "execute_result"
    },
    {
     "data": {
      "image/png": "[encoded data removed]",
      "text/plain": [
       "<matplotlib.figure.Figure at 0x1191db450>"
      ]
     },
     "metadata": {},
     "output_type": "display_data"
    }
   ],
   "source": [
    "_=plt.boxplot(df['GraphLabSentiment'])\n",
    "plt.title('GraphLab Sentiment Analysis')\n",
    "plt.ylabel('0 Negative Sentiment, 1 Positive Sentiment')\n",
    "plt.xlabel('Trip Reports')"
   ]
  },
  {
   "cell_type": "code",
   "execution_count": 23,
   "metadata": {
    "collapsed": false
   },
   "outputs": [
    {
     "data": {
      "text/plain": [
       "<matplotlib.text.Text at 0x11914a290>"
      ]
     },
     "execution_count": 23,
     "metadata": {},
     "output_type": "execute_result"
    },
    {
     "data": {
      "image/png": "[encoded data removed]",
      "text/plain": [
       "<matplotlib.figure.Figure at 0x122bbaa90>"
      ]
     },
     "metadata": {},
     "output_type": "display_data"
    }
   ],
   "source": [
    "_=plt.hist(df['GraphLabSentiment'], bins=50)\n",
    "plt.title('Distribution of GraphLab Sentiment Ratings on Trip Reports')\n",
    "plt.ylabel('Number of Reports')\n",
    "plt.xlabel('Sentiment Analysis Rating (0 Negative Sentiment, 1 Positive Sentiment)')"
   ]
  },
  {
   "cell_type": "markdown",
   "metadata": {
    "collapsed": true
   },
   "source": [
    "## Attempting GraphLab's sentiment analysis with scraped TR training data\n",
    "\n",
    "Using data gathered from everytrail.com"
   ]
  },
  {
   "cell_type": "code",
   "execution_count": 24,
   "metadata": {
    "collapsed": false
   },
   "outputs": [],
   "source": [
    "connection.close()"
   ]
  },
  {
   "cell_type": "code",
   "execution_count": 25,
   "metadata": {
    "collapsed": false
   },
   "outputs": [],
   "source": [
    "connection = MongoClient()\n",
    "db = connection.wta\n",
    "train = db.trainingTR\n",
    "\n",
    "train_df = mongo2PandasClean(train, clean_creator=False)"
   ]
  },
  {
   "cell_type": "code",
   "execution_count": 26,
   "metadata": {
    "collapsed": false
   },
   "outputs": [
    {
     "name": "stdout",
     "output_type": "stream",
     "text": [
      "<class 'pandas.core.frame.DataFrame'>\n",
      "RangeIndex: 523 entries, 0 to 522\n",
      "Data columns (total 3 columns):\n",
      "Name      523 non-null object\n",
      "Rating    523 non-null object\n",
      "Text      523 non-null object\n",
      "dtypes: object(3)\n",
      "memory usage: 12.3+ KB\n"
     ]
    }
   ],
   "source": [
    "train_df.info()"
   ]
  },
  {
   "cell_type": "code",
   "execution_count": 27,
   "metadata": {
    "collapsed": true
   },
   "outputs": [],
   "source": [
    "train_df['Rating'] = [int(r) for r in train_df['Rating']]"
   ]
  },
  {
   "cell_type": "code",
   "execution_count": 28,
   "metadata": {
    "collapsed": false
   },
   "outputs": [
    {
     "data": {
      "text/plain": [
       "<matplotlib.text.Text at 0x11d9dca90>"
      ]
     },
     "execution_count": 28,
     "metadata": {},
     "output_type": "execute_result"
    },
    {
     "data": {
      "image/png": "[encoded data removed]",
      "text/plain": [
       "<matplotlib.figure.Figure at 0x121941c90>"
      ]
     },
     "metadata": {},
     "output_type": "display_data"
    }
   ],
   "source": [
    "_=plt.boxplot(train_df.Rating)\n",
    "plt.title('Training Text Ratings')\n",
    "plt.ylabel('Number of Stars')\n",
    "plt.xlabel('Trip Reports')"
   ]
  },
  {
   "cell_type": "code",
   "execution_count": 29,
   "metadata": {
    "collapsed": false
   },
   "outputs": [
    {
     "data": {
      "text/plain": [
       "<matplotlib.text.Text at 0x11d9fa350>"
      ]
     },
     "execution_count": 29,
     "metadata": {},
     "output_type": "execute_result"
    },
    {
     "data": {
      "image/png": "[encoded data removed]",
      "text/plain": [
       "<matplotlib.figure.Figure at 0x11b62efd0>"
      ]
     },
     "metadata": {},
     "output_type": "display_data"
    }
   ],
   "source": [
    "_=plt.hist(train_df.Rating, bins=50)\n",
    "plt.title('Distribution of Star Ratings on EveryTrail.com Trip Reports')\n",
    "plt.ylabel('Number of Reports')\n",
    "plt.xlabel('Number of Stars')"
   ]
  },
  {
   "cell_type": "code",
   "execution_count": 30,
   "metadata": {
    "collapsed": false
   },
   "outputs": [
    {
     "data": {
      "text/plain": [
       "5    369\n",
       "4    127\n",
       "3     20\n",
       "1      4\n",
       "2      3\n",
       "Name: Rating, dtype: int64"
      ]
     },
     "execution_count": 30,
     "metadata": {},
     "output_type": "execute_result"
    }
   ],
   "source": [
    "train_df.Rating.value_counts()"
   ]
  },
  {
   "cell_type": "code",
   "execution_count": 31,
   "metadata": {
    "collapsed": true
   },
   "outputs": [],
   "source": [
    "train_sf = gl.SFrame(train_df)"
   ]
  },
  {
   "cell_type": "code",
   "execution_count": 32,
   "metadata": {
    "collapsed": false
   },
   "outputs": [
    {
     "data": {
      "text/html": [
       "<pre>WARNING: The number of feature dimensions in this problem is very large in comparison with the number of examples. Unless an appropriate regularization value is set, this model may not provide accurate predictions for a validation/test set.</pre>"
      ],
      "text/plain": [
       "WARNING: The number of feature dimensions in this problem is very large in comparison with the number of examples. Unless an appropriate regularization value is set, this model may not provide accurate predictions for a validation/test set."
      ]
     },
     "metadata": {},
     "output_type": "display_data"
    },
    {
     "data": {
      "text/html": [
       "<pre>Logistic regression:</pre>"
      ],
      "text/plain": [
       "Logistic regression:"
      ]
     },
     "metadata": {},
     "output_type": "display_data"
    },
    {
     "data": {
      "text/html": [
       "<pre>--------------------------------------------------------</pre>"
      ],
      "text/plain": [
       "--------------------------------------------------------"
      ]
     },
     "metadata": {},
     "output_type": "display_data"
    },
    {
     "data": {
      "text/html": [
       "<pre>Number of examples          : 473</pre>"
      ],
      "text/plain": [
       "Number of examples          : 473"
      ]
     },
     "metadata": {},
     "output_type": "display_data"
    },
    {
     "data": {
      "text/html": [
       "<pre>Number of classes           : 2</pre>"
      ],
      "text/plain": [
       "Number of classes           : 2"
      ]
     },
     "metadata": {},
     "output_type": "display_data"
    },
    {
     "data": {
      "text/html": [
       "<pre>Number of feature columns   : 1</pre>"
      ],
      "text/plain": [
       "Number of feature columns   : 1"
      ]
     },
     "metadata": {},
     "output_type": "display_data"
    },
    {
     "data": {
      "text/html": [
       "<pre>Number of unpacked features : 5384</pre>"
      ],
      "text/plain": [
       "Number of unpacked features : 5384"
      ]
     },
     "metadata": {},
     "output_type": "display_data"
    },
    {
     "data": {
      "text/html": [
       "<pre>Number of coefficients    : 5385</pre>"
      ],
      "text/plain": [
       "Number of coefficients    : 5385"
      ]
     },
     "metadata": {},
     "output_type": "display_data"
    },
    {
     "data": {
      "text/html": [
       "<pre>Starting L-BFGS</pre>"
      ],
      "text/plain": [
       "Starting L-BFGS"
      ]
     },
     "metadata": {},
     "output_type": "display_data"
    },
    {
     "data": {
      "text/html": [
       "<pre>--------------------------------------------------------</pre>"
      ],
      "text/plain": [
       "--------------------------------------------------------"
      ]
     },
     "metadata": {},
     "output_type": "display_data"
    },
    {
     "data": {
      "text/html": [
       "<pre>+-----------+----------+-----------+--------------+-------------------+---------------------+</pre>"
      ],
      "text/plain": [
       "+-----------+----------+-----------+--------------+-------------------+---------------------+"
      ]
     },
     "metadata": {},
     "output_type": "display_data"
    },
    {
     "data": {
      "text/html": [
       "<pre>| Iteration | Passes   | Step size | Elapsed Time | Training-accuracy | Validation-accuracy |</pre>"
      ],
      "text/plain": [
       "| Iteration | Passes   | Step size | Elapsed Time | Training-accuracy | Validation-accuracy |"
      ]
     },
     "metadata": {},
     "output_type": "display_data"
    },
    {
     "data": {
      "text/html": [
       "<pre>+-----------+----------+-----------+--------------+-------------------+---------------------+</pre>"
      ],
      "text/plain": [
       "+-----------+----------+-----------+--------------+-------------------+---------------------+"
      ]
     },
     "metadata": {},
     "output_type": "display_data"
    },
    {
     "data": {
      "text/html": [
       "<pre>| 1         | 3        | 0.002114  | 1.022663     | 0.989429          | 1.000000            |</pre>"
      ],
      "text/plain": [
       "| 1         | 3        | 0.002114  | 1.022663     | 0.989429          | 1.000000            |"
      ]
     },
     "metadata": {},
     "output_type": "display_data"
    },
    {
     "data": {
      "text/html": [
       "<pre>| 2         | 5        | 1.000000  | 1.040848     | 0.995772          | 1.000000            |</pre>"
      ],
      "text/plain": [
       "| 2         | 5        | 1.000000  | 1.040848     | 0.995772          | 1.000000            |"
      ]
     },
     "metadata": {},
     "output_type": "display_data"
    },
    {
     "data": {
      "text/html": [
       "<pre>| 3         | 6        | 1.000000  | 1.061162     | 0.997886          | 1.000000            |</pre>"
      ],
      "text/plain": [
       "| 3         | 6        | 1.000000  | 1.061162     | 0.997886          | 1.000000            |"
      ]
     },
     "metadata": {},
     "output_type": "display_data"
    },
    {
     "data": {
      "text/html": [
       "<pre>| 4         | 7        | 1.000000  | 1.075587     | 1.000000          | 1.000000            |</pre>"
      ],
      "text/plain": [
       "| 4         | 7        | 1.000000  | 1.075587     | 1.000000          | 1.000000            |"
      ]
     },
     "metadata": {},
     "output_type": "display_data"
    },
    {
     "data": {
      "text/html": [
       "<pre>| 5         | 8        | 1.000000  | 1.090545     | 1.000000          | 1.000000            |</pre>"
      ],
      "text/plain": [
       "| 5         | 8        | 1.000000  | 1.090545     | 1.000000          | 1.000000            |"
      ]
     },
     "metadata": {},
     "output_type": "display_data"
    },
    {
     "data": {
      "text/html": [
       "<pre>| 6         | 9        | 1.000000  | 1.102865     | 1.000000          | 1.000000            |</pre>"
      ],
      "text/plain": [
       "| 6         | 9        | 1.000000  | 1.102865     | 1.000000          | 1.000000            |"
      ]
     },
     "metadata": {},
     "output_type": "display_data"
    },
    {
     "data": {
      "text/html": [
       "<pre>+-----------+----------+-----------+--------------+-------------------+---------------------+</pre>"
      ],
      "text/plain": [
       "+-----------+----------+-----------+--------------+-------------------+---------------------+"
      ]
     },
     "metadata": {},
     "output_type": "display_data"
    },
    {
     "data": {
      "text/html": [
       "<pre>TERMINATED: Iteration limit reached.</pre>"
      ],
      "text/plain": [
       "TERMINATED: Iteration limit reached."
      ]
     },
     "metadata": {},
     "output_type": "display_data"
    },
    {
     "data": {
      "text/html": [
       "<pre>This model may not be optimal. To improve it, consider increasing `max_iterations`.</pre>"
      ],
      "text/plain": [
       "This model may not be optimal. To improve it, consider increasing `max_iterations`."
      ]
     },
     "metadata": {},
     "output_type": "display_data"
    },
    {
     "name": "stdout",
     "output_type": "stream",
     "text": [
      "PROGRESS: Creating a validation set from 5 percent of training data. This may take a while.\n",
      "          You can set ``validation_set=None`` to disable validation tracking.\n",
      "\n"
     ]
    }
   ],
   "source": [
    "trained_model = gl.sentiment_analysis.create(train_sf, target='Rating', features=['Text'], method='bow-logistic')"
   ]
  },
  {
   "cell_type": "code",
   "execution_count": 33,
   "metadata": {
    "collapsed": true
   },
   "outputs": [],
   "source": [
    "df['TrainedModelSentiment'] = trained_model.predict(sf)"
   ]
  },
  {
   "cell_type": "code",
   "execution_count": 34,
   "metadata": {
    "collapsed": false
   },
   "outputs": [
    {
     "data": {
      "text/plain": [
       "<matplotlib.text.Text at 0x1193a0810>"
      ]
     },
     "execution_count": 34,
     "metadata": {},
     "output_type": "execute_result"
    },
    {
     "data": {
      "image/png": "[encoded data removed]",
      "text/plain": [
       "<matplotlib.figure.Figure at 0x11b3f7510>"
      ]
     },
     "metadata": {},
     "output_type": "display_data"
    }
   ],
   "source": [
    "_=plt.boxplot(df['TrainedModelSentiment'])\n",
    "plt.title('Trained Model Sentiment Analysis')\n",
    "plt.ylabel('0 Negative Sentiment, 1 Positive Sentiment')\n",
    "plt.xlabel('Trip Reports')"
   ]
  },
  {
   "cell_type": "code",
   "execution_count": 35,
   "metadata": {
    "collapsed": false
   },
   "outputs": [
    {
     "data": {
      "text/plain": [
       "<matplotlib.text.Text at 0x11ba2c2d0>"
      ]
     },
     "execution_count": 35,
     "metadata": {},
     "output_type": "execute_result"
    },
    {
     "data": {
      "image/png": "[encoded data removed]",
      "text/plain": [
       "<matplotlib.figure.Figure at 0x118cf63d0>"
      ]
     },
     "metadata": {},
     "output_type": "display_data"
    }
   ],
   "source": [
    "_=plt.hist(df['TrainedModelSentiment'], bins=50)\n",
    "plt.title('Distribution of Trained GraphLab Sentiment Ratings on Trip Reports, Trained on everytrail.com Data')\n",
    "plt.ylabel('Number of Reports')\n",
    "plt.xlabel('Sentiment Analysis Rating (0 Negative Sentiment, 1 Positive Sentiment)')"
   ]
  },
  {
   "cell_type": "markdown",
   "metadata": {},
   "source": [
    "### With Oversampling?"
   ]
  },
  {
   "cell_type": "code",
   "execution_count": null,
   "metadata": {
    "collapsed": true
   },
   "outputs": [],
   "source": []
  },
  {
   "cell_type": "markdown",
   "metadata": {},
   "source": [
    "## Attempting word graphs as seen in \n",
    "http://varianceexplained.org/r/yelp-sentiment/"
   ]
  },
  {
   "cell_type": "code",
   "execution_count": 36,
   "metadata": {
    "collapsed": true
   },
   "outputs": [],
   "source": [
    "def addWordScores(text, rating, def_dict):\n",
    "    for word in text.lower().strip().split():\n",
    "        def_dict[word.strip(string.punctuation)].append(rating)\n",
    "    return def_dict           "
   ]
  },
  {
   "cell_type": "code",
   "execution_count": 37,
   "metadata": {
    "collapsed": false
   },
   "outputs": [],
   "source": [
    "def WordScoretoPandasDF(df, text_col='Text', rating_col='Rating', drop_numbers=True):\n",
    "    wordRatingTBS = defaultdict(list)\n",
    "    for i in df.index.tolist():\n",
    "        wordRatingTBS = addWordScores(df[text_col][i], df[rating_col][i], wordRatingTBS)\n",
    "    avegWordRatingTBS = dict()\n",
    "    cntWordRatingTBS = dict()\n",
    "    for k, v in wordRatingTBS.iteritems():\n",
    "        avegWordRatingTBS[k] = np.mean(v)\n",
    "        cntWordRatingTBS[k] = len(v)\n",
    "    words = pd.DataFrame(avegWordRatingTBS.items(), columns=['Words', 'Average Rating'])\n",
    "    words['Number of Occurences'] = [cntWordRatingTBS[w] for w in words['Words']]\n",
    "    words = words.ix[1:]\n",
    "    return words"
   ]
  },
  {
   "cell_type": "code",
   "execution_count": 38,
   "metadata": {
    "collapsed": false
   },
   "outputs": [],
   "source": [
    "def dropNonWords(df, column):\n",
    "    i_tokeep = []\n",
    "    d = enchant.Dict(\"en_US\")\n",
    "    for i, w in enumerate(df[column]):\n",
    "        if d.check(w):\n",
    "            i_tokeep.append(i)\n",
    "    return df.ix[i_tokeep]\n",
    "            "
   ]
  },
  {
   "cell_type": "code",
   "execution_count": null,
   "metadata": {
    "collapsed": true
   },
   "outputs": [],
   "source": []
  },
  {
   "cell_type": "code",
   "execution_count": 39,
   "metadata": {
    "collapsed": true
   },
   "outputs": [],
   "source": [
    "TBS = WordScoretoPandasDF(df)"
   ]
  },
  {
   "cell_type": "code",
   "execution_count": 40,
   "metadata": {
    "collapsed": false
   },
   "outputs": [
    {
     "data": {
      "text/html": [
       "<div>\n",
       "<table border=\"1\" class=\"dataframe\">\n",
       "  <thead>\n",
       "    <tr style=\"text-align: right;\">\n",
       "      <th></th>\n",
       "      <th>Words</th>\n",
       "      <th>Average Rating</th>\n",
       "      <th>Number of Occurences</th>\n",
       "    </tr>\n",
       "  </thead>\n",
       "  <tbody>\n",
       "    <tr>\n",
       "      <th>1</th>\n",
       "      <td>fawn</td>\n",
       "      <td>2.792593</td>\n",
       "      <td>135</td>\n",
       "    </tr>\n",
       "    <tr>\n",
       "      <th>2</th>\n",
       "      <td>ago.first</td>\n",
       "      <td>3.000000</td>\n",
       "      <td>1</td>\n",
       "    </tr>\n",
       "    <tr>\n",
       "      <th>3</th>\n",
       "      <td>fine....overall</td>\n",
       "      <td>1.000000</td>\n",
       "      <td>4</td>\n",
       "    </tr>\n",
       "    <tr>\n",
       "      <th>4</th>\n",
       "      <td>35mi</td>\n",
       "      <td>2.000000</td>\n",
       "      <td>2</td>\n",
       "    </tr>\n",
       "    <tr>\n",
       "      <th>5</th>\n",
       "      <td>wooda</td>\n",
       "      <td>5.000000</td>\n",
       "      <td>1</td>\n",
       "    </tr>\n",
       "  </tbody>\n",
       "</table>\n",
       "</div>"
      ],
      "text/plain": [
       "             Words  Average Rating  Number of Occurences\n",
       "1             fawn        2.792593                   135\n",
       "2        ago.first        3.000000                     1\n",
       "3  fine....overall        1.000000                     4\n",
       "4             35mi        2.000000                     2\n",
       "5            wooda        5.000000                     1"
      ]
     },
     "execution_count": 40,
     "metadata": {},
     "output_type": "execute_result"
    }
   ],
   "source": [
    "TBS.head()"
   ]
  },
  {
   "cell_type": "code",
   "execution_count": 193,
   "metadata": {
    "collapsed": false
   },
   "outputs": [],
   "source": [
    "TBS = dropNonWords(TBS, 'Words')"
   ]
  },
  {
   "cell_type": "code",
   "execution_count": 194,
   "metadata": {
    "collapsed": false
   },
   "outputs": [
    {
     "ename": "ValueError",
     "evalue": "The truth value of a Series is ambiguous. Use a.empty, a.bool(), a.item(), a.any() or a.all().",
     "output_type": "error",
     "traceback": [
      "\u001b[0;31m---------------------------------------------------------------------------\u001b[0m",
      "\u001b[0;31mValueError\u001b[0m                                Traceback (most recent call last)",
      "\u001b[0;32m<ipython-input-194-fcb7c00c3d5f>\u001b[0m in \u001b[0;36m<module>\u001b[0;34m()\u001b[0m\n\u001b[0;32m----> 1\u001b[0;31m \u001b[0mTBS\u001b[0m\u001b[0;34m[\u001b[0m\u001b[0mTBS\u001b[0m\u001b[0;34m[\u001b[0m\u001b[0;34m'Words'\u001b[0m\u001b[0;34m]\u001b[0m \u001b[0;32mnot\u001b[0m \u001b[0;32min\u001b[0m \u001b[0mstopwords\u001b[0m\u001b[0;34m.\u001b[0m\u001b[0mwords\u001b[0m\u001b[0;34m(\u001b[0m\u001b[0;34m'english'\u001b[0m\u001b[0;34m)\u001b[0m\u001b[0;34m]\u001b[0m\u001b[0;34m\u001b[0m\u001b[0m\n\u001b[0m",
      "\u001b[0;32m/Users/Jade/anaconda/lib/python2.7/site-packages/pandas/core/generic.pyc\u001b[0m in \u001b[0;36m__nonzero__\u001b[0;34m(self)\u001b[0m\n\u001b[1;32m    885\u001b[0m         raise ValueError(\"The truth value of a {0} is ambiguous. \"\n\u001b[1;32m    886\u001b[0m                          \u001b[0;34m\"Use a.empty, a.bool(), a.item(), a.any() or a.all().\"\u001b[0m\u001b[0;34m\u001b[0m\u001b[0m\n\u001b[0;32m--> 887\u001b[0;31m                          .format(self.__class__.__name__))\n\u001b[0m\u001b[1;32m    888\u001b[0m \u001b[0;34m\u001b[0m\u001b[0m\n\u001b[1;32m    889\u001b[0m     \u001b[0m__bool__\u001b[0m \u001b[0;34m=\u001b[0m \u001b[0m__nonzero__\u001b[0m\u001b[0;34m\u001b[0m\u001b[0m\n",
      "\u001b[0;31mValueError\u001b[0m: The truth value of a Series is ambiguous. Use a.empty, a.bool(), a.item(), a.any() or a.all()."
     ]
    }
   ],
   "source": [
    "TBS[TBS['Words'] not in stopwords.words('english')]"
   ]
  },
  {
   "cell_type": "code",
   "execution_count": 41,
   "metadata": {
    "collapsed": false
   },
   "outputs": [
    {
     "data": {
      "text/html": [
       "<div>\n",
       "<table border=\"1\" class=\"dataframe\">\n",
       "  <thead>\n",
       "    <tr style=\"text-align: right;\">\n",
       "      <th></th>\n",
       "      <th>Words</th>\n",
       "      <th>Average Rating</th>\n",
       "      <th>Number of Occurences</th>\n",
       "    </tr>\n",
       "  </thead>\n",
       "  <tbody>\n",
       "    <tr>\n",
       "      <th>1</th>\n",
       "      <td>fawn</td>\n",
       "      <td>2.792593</td>\n",
       "      <td>135</td>\n",
       "    </tr>\n",
       "    <tr>\n",
       "      <th>2</th>\n",
       "      <td>ago.first</td>\n",
       "      <td>3.000000</td>\n",
       "      <td>1</td>\n",
       "    </tr>\n",
       "    <tr>\n",
       "      <th>3</th>\n",
       "      <td>fine....overall</td>\n",
       "      <td>1.000000</td>\n",
       "      <td>4</td>\n",
       "    </tr>\n",
       "    <tr>\n",
       "      <th>4</th>\n",
       "      <td>35mi</td>\n",
       "      <td>2.000000</td>\n",
       "      <td>2</td>\n",
       "    </tr>\n",
       "    <tr>\n",
       "      <th>5</th>\n",
       "      <td>wooda</td>\n",
       "      <td>5.000000</td>\n",
       "      <td>1</td>\n",
       "    </tr>\n",
       "    <tr>\n",
       "      <th>6</th>\n",
       "      <td>1,800</td>\n",
       "      <td>2.731707</td>\n",
       "      <td>41</td>\n",
       "    </tr>\n",
       "    <tr>\n",
       "      <th>7</th>\n",
       "      <td>saturday.river</td>\n",
       "      <td>2.000000</td>\n",
       "      <td>1</td>\n",
       "    </tr>\n",
       "    <tr>\n",
       "      <th>8</th>\n",
       "      <td>sowell</td>\n",
       "      <td>3.000000</td>\n",
       "      <td>1</td>\n",
       "    </tr>\n",
       "    <tr>\n",
       "      <th>9</th>\n",
       "      <td>creek/crevasses</td>\n",
       "      <td>2.000000</td>\n",
       "      <td>1</td>\n",
       "    </tr>\n",
       "    <tr>\n",
       "      <th>10</th>\n",
       "      <td>27°</td>\n",
       "      <td>3.000000</td>\n",
       "      <td>2</td>\n",
       "    </tr>\n",
       "    <tr>\n",
       "      <th>11</th>\n",
       "      <td>gag</td>\n",
       "      <td>2.166667</td>\n",
       "      <td>6</td>\n",
       "    </tr>\n",
       "    <tr>\n",
       "      <th>12</th>\n",
       "      <td>clear/easy</td>\n",
       "      <td>3.000000</td>\n",
       "      <td>1</td>\n",
       "    </tr>\n",
       "    <tr>\n",
       "      <th>13</th>\n",
       "      <td>woods</td>\n",
       "      <td>2.718182</td>\n",
       "      <td>3850</td>\n",
       "    </tr>\n",
       "    <tr>\n",
       "      <th>14</th>\n",
       "      <td>clotted</td>\n",
       "      <td>1.000000</td>\n",
       "      <td>1</td>\n",
       "    </tr>\n",
       "    <tr>\n",
       "      <th>15</th>\n",
       "      <td>spiders</td>\n",
       "      <td>2.569231</td>\n",
       "      <td>65</td>\n",
       "    </tr>\n",
       "    <tr>\n",
       "      <th>16</th>\n",
       "      <td>6’4”</td>\n",
       "      <td>3.000000</td>\n",
       "      <td>1</td>\n",
       "    </tr>\n",
       "    <tr>\n",
       "      <th>17</th>\n",
       "      <td>hanging</td>\n",
       "      <td>2.749001</td>\n",
       "      <td>1251</td>\n",
       "    </tr>\n",
       "    <tr>\n",
       "      <th>18</th>\n",
       "      <td>woody</td>\n",
       "      <td>2.666667</td>\n",
       "      <td>387</td>\n",
       "    </tr>\n",
       "    <tr>\n",
       "      <th>19</th>\n",
       "      <td>phone.[email</td>\n",
       "      <td>1.000000</td>\n",
       "      <td>1</td>\n",
       "    </tr>\n",
       "    <tr>\n",
       "      <th>20</th>\n",
       "      <td>comically</td>\n",
       "      <td>2.333333</td>\n",
       "      <td>6</td>\n",
       "    </tr>\n",
       "  </tbody>\n",
       "</table>\n",
       "</div>"
      ],
      "text/plain": [
       "              Words  Average Rating  Number of Occurences\n",
       "1              fawn        2.792593                   135\n",
       "2         ago.first        3.000000                     1\n",
       "3   fine....overall        1.000000                     4\n",
       "4              35mi        2.000000                     2\n",
       "5             wooda        5.000000                     1\n",
       "6             1,800        2.731707                    41\n",
       "7    saturday.river        2.000000                     1\n",
       "8            sowell        3.000000                     1\n",
       "9   creek/crevasses        2.000000                     1\n",
       "10              27°        3.000000                     2\n",
       "11              gag        2.166667                     6\n",
       "12       clear/easy        3.000000                     1\n",
       "13            woods        2.718182                  3850\n",
       "14          clotted        1.000000                     1\n",
       "15          spiders        2.569231                    65\n",
       "16             6’4”        3.000000                     1\n",
       "17          hanging        2.749001                  1251\n",
       "18            woody        2.666667                   387\n",
       "19     phone.[email        1.000000                     1\n",
       "20        comically        2.333333                     6"
      ]
     },
     "execution_count": 41,
     "metadata": {},
     "output_type": "execute_result"
    }
   ],
   "source": [
    "TBS.head(20)"
   ]
  },
  {
   "cell_type": "code",
   "execution_count": 186,
   "metadata": {
    "collapsed": false
   },
   "outputs": [
    {
     "data": {
      "text/plain": [
       "<matplotlib.collections.PathCollection at 0x1b0047090>"
      ]
     },
     "execution_count": 186,
     "metadata": {},
     "output_type": "execute_result"
    },
    {
     "data": {
      "image/png": "[encoded data removed]",
      "text/plain": [
       "<matplotlib.figure.Figure at 0x1b1eff5d0>"
      ]
     },
     "metadata": {},
     "output_type": "display_data"
    }
   ],
   "source": [
    "plt.scatter(TBS['Number of Occurences'], TBS['Average Rating'])"
   ]
  },
  {
   "cell_type": "code",
   "execution_count": 190,
   "metadata": {
    "collapsed": false
   },
   "outputs": [
    {
     "data": {
      "text/html": [
       "<div>\n",
       "<table border=\"1\" class=\"dataframe\">\n",
       "  <thead>\n",
       "    <tr style=\"text-align: right;\">\n",
       "      <th></th>\n",
       "      <th>Words</th>\n",
       "      <th>Average Rating</th>\n",
       "      <th>Number of Occurences</th>\n",
       "    </tr>\n",
       "  </thead>\n",
       "  <tbody>\n",
       "    <tr>\n",
       "      <th>952</th>\n",
       "      <td>has</td>\n",
       "      <td>2.675014</td>\n",
       "      <td>19647.0</td>\n",
       "    </tr>\n",
       "    <tr>\n",
       "      <th>2302</th>\n",
       "      <td>with</td>\n",
       "      <td>2.759277</td>\n",
       "      <td>113159.0</td>\n",
       "    </tr>\n",
       "    <tr>\n",
       "      <th>4844</th>\n",
       "      <td>worth</td>\n",
       "      <td>3.108450</td>\n",
       "      <td>8935.0</td>\n",
       "    </tr>\n",
       "    <tr>\n",
       "      <th>7666</th>\n",
       "      <td>meadow</td>\n",
       "      <td>2.681046</td>\n",
       "      <td>6653.0</td>\n",
       "    </tr>\n",
       "    <tr>\n",
       "      <th>8820</th>\n",
       "      <td>times</td>\n",
       "      <td>2.615717</td>\n",
       "      <td>6719.0</td>\n",
       "    </tr>\n",
       "    <tr>\n",
       "      <th>9702</th>\n",
       "      <td>met</td>\n",
       "      <td>2.648915</td>\n",
       "      <td>5070.0</td>\n",
       "    </tr>\n",
       "    <tr>\n",
       "      <th>10632</th>\n",
       "      <td>down</td>\n",
       "      <td>2.447916</td>\n",
       "      <td>67794.0</td>\n",
       "    </tr>\n",
       "    <tr>\n",
       "      <th>12197</th>\n",
       "      <td>hour</td>\n",
       "      <td>2.644291</td>\n",
       "      <td>7225.0</td>\n",
       "    </tr>\n",
       "    <tr>\n",
       "      <th>13647</th>\n",
       "      <td>reached</td>\n",
       "      <td>2.534766</td>\n",
       "      <td>8514.0</td>\n",
       "    </tr>\n",
       "    <tr>\n",
       "      <th>14147</th>\n",
       "      <td>like</td>\n",
       "      <td>2.715707</td>\n",
       "      <td>20201.0</td>\n",
       "    </tr>\n",
       "    <tr>\n",
       "      <th>15088</th>\n",
       "      <td>mud</td>\n",
       "      <td>2.778544</td>\n",
       "      <td>5947.0</td>\n",
       "    </tr>\n",
       "    <tr>\n",
       "      <th>16919</th>\n",
       "      <td>sun</td>\n",
       "      <td>2.820527</td>\n",
       "      <td>10698.0</td>\n",
       "    </tr>\n",
       "    <tr>\n",
       "      <th>19525</th>\n",
       "      <td>wind</td>\n",
       "      <td>2.531208</td>\n",
       "      <td>6024.0</td>\n",
       "    </tr>\n",
       "    <tr>\n",
       "      <th>19938</th>\n",
       "      <td>best</td>\n",
       "      <td>3.277129</td>\n",
       "      <td>6423.0</td>\n",
       "    </tr>\n",
       "    <tr>\n",
       "      <th>20215</th>\n",
       "      <td>people</td>\n",
       "      <td>2.911459</td>\n",
       "      <td>21956.0</td>\n",
       "    </tr>\n",
       "    <tr>\n",
       "      <th>20697</th>\n",
       "      <td>winter</td>\n",
       "      <td>2.664133</td>\n",
       "      <td>5130.0</td>\n",
       "    </tr>\n",
       "    <tr>\n",
       "      <th>21639</th>\n",
       "      <td>at</td>\n",
       "      <td>2.690466</td>\n",
       "      <td>153799.0</td>\n",
       "    </tr>\n",
       "    <tr>\n",
       "      <th>22394</th>\n",
       "      <td>see</td>\n",
       "      <td>2.740997</td>\n",
       "      <td>29073.0</td>\n",
       "    </tr>\n",
       "    <tr>\n",
       "      <th>22868</th>\n",
       "      <td>summit</td>\n",
       "      <td>2.585098</td>\n",
       "      <td>23755.0</td>\n",
       "    </tr>\n",
       "    <tr>\n",
       "      <th>23414</th>\n",
       "      <td>steep</td>\n",
       "      <td>2.663542</td>\n",
       "      <td>21441.0</td>\n",
       "    </tr>\n",
       "    <tr>\n",
       "      <th>25664</th>\n",
       "      <td>half</td>\n",
       "      <td>2.448008</td>\n",
       "      <td>10444.0</td>\n",
       "    </tr>\n",
       "    <tr>\n",
       "      <th>29049</th>\n",
       "      <td>heading</td>\n",
       "      <td>2.534446</td>\n",
       "      <td>7911.0</td>\n",
       "    </tr>\n",
       "    <tr>\n",
       "      <th>29808</th>\n",
       "      <td>near</td>\n",
       "      <td>2.660580</td>\n",
       "      <td>14239.0</td>\n",
       "    </tr>\n",
       "    <tr>\n",
       "      <th>30739</th>\n",
       "      <td>were</td>\n",
       "      <td>2.769246</td>\n",
       "      <td>103595.0</td>\n",
       "    </tr>\n",
       "    <tr>\n",
       "      <th>33294</th>\n",
       "      <td>areas</td>\n",
       "      <td>2.704522</td>\n",
       "      <td>6745.0</td>\n",
       "    </tr>\n",
       "    <tr>\n",
       "      <th>33745</th>\n",
       "      <td>but</td>\n",
       "      <td>2.743369</td>\n",
       "      <td>134898.0</td>\n",
       "    </tr>\n",
       "    <tr>\n",
       "      <th>33770</th>\n",
       "      <td>minutes</td>\n",
       "      <td>2.581477</td>\n",
       "      <td>8303.0</td>\n",
       "    </tr>\n",
       "    <tr>\n",
       "      <th>33960</th>\n",
       "      <td>path</td>\n",
       "      <td>2.518809</td>\n",
       "      <td>9065.0</td>\n",
       "    </tr>\n",
       "    <tr>\n",
       "      <th>34936</th>\n",
       "      <td>head</td>\n",
       "      <td>2.640936</td>\n",
       "      <td>15170.0</td>\n",
       "    </tr>\n",
       "    <tr>\n",
       "      <th>35746</th>\n",
       "      <td>enjoyed</td>\n",
       "      <td>3.221043</td>\n",
       "      <td>5370.0</td>\n",
       "    </tr>\n",
       "    <tr>\n",
       "      <th>36130</th>\n",
       "      <td>on</td>\n",
       "      <td>2.691859</td>\n",
       "      <td>198487.0</td>\n",
       "    </tr>\n",
       "  </tbody>\n",
       "</table>\n",
       "</div>"
      ],
      "text/plain": [
       "         Words  Average Rating  Number of Occurences\n",
       "952        has        2.675014               19647.0\n",
       "2302      with        2.759277              113159.0\n",
       "4844     worth        3.108450                8935.0\n",
       "7666    meadow        2.681046                6653.0\n",
       "8820     times        2.615717                6719.0\n",
       "9702       met        2.648915                5070.0\n",
       "10632     down        2.447916               67794.0\n",
       "12197     hour        2.644291                7225.0\n",
       "13647  reached        2.534766                8514.0\n",
       "14147     like        2.715707               20201.0\n",
       "15088      mud        2.778544                5947.0\n",
       "16919      sun        2.820527               10698.0\n",
       "19525     wind        2.531208                6024.0\n",
       "19938     best        3.277129                6423.0\n",
       "20215   people        2.911459               21956.0\n",
       "20697   winter        2.664133                5130.0\n",
       "21639       at        2.690466              153799.0\n",
       "22394      see        2.740997               29073.0\n",
       "22868   summit        2.585098               23755.0\n",
       "23414    steep        2.663542               21441.0\n",
       "25664     half        2.448008               10444.0\n",
       "29049  heading        2.534446                7911.0\n",
       "29808     near        2.660580               14239.0\n",
       "30739     were        2.769246              103595.0\n",
       "33294    areas        2.704522                6745.0\n",
       "33745      but        2.743369              134898.0\n",
       "33770  minutes        2.581477                8303.0\n",
       "33960     path        2.518809                9065.0\n",
       "34936     head        2.640936               15170.0\n",
       "35746  enjoyed        3.221043                5370.0\n",
       "36130       on        2.691859              198487.0"
      ]
     },
     "execution_count": 190,
     "metadata": {},
     "output_type": "execute_result"
    }
   ],
   "source": [
    "TBS[TBS['Number of Occurences']>5000]"
   ]
  },
  {
   "cell_type": "code",
   "execution_count": 188,
   "metadata": {
    "collapsed": false
   },
   "outputs": [
    {
     "data": {
      "text/plain": [
       "True"
      ]
     },
     "execution_count": 188,
     "metadata": {},
     "output_type": "execute_result"
    }
   ],
   "source": [
    "word = 'has'\n",
    "word in stopwords.words('english')"
   ]
  },
  {
   "cell_type": "code",
   "execution_count": null,
   "metadata": {
    "collapsed": true
   },
   "outputs": [],
   "source": [
    "wordRatingTMS = defaultdict(list)\n",
    "for i in df.index.to_list:\n",
    "    wordRatingsTMS = addWordScores(train_df['Text'][i], train_df['Rating'][i], wordRatingsTMS)\n",
    "   \n"
   ]
  },
  {
   "cell_type": "markdown",
   "metadata": {},
   "source": [
    "## To CSV"
   ]
  },
  {
   "cell_type": "code",
   "execution_count": 197,
   "metadata": {
    "collapsed": false
   },
   "outputs": [],
   "source": [
    "df.to_csv('data/tripReports.csv',  encoding='utf-8')"
   ]
  },
  {
   "cell_type": "code",
   "execution_count": null,
   "metadata": {
    "collapsed": true
   },
   "outputs": [],
   "source": []
  }
 ],
 "metadata": {
  "kernelspec": {
   "display_name": "Python 2",
   "language": "python",
   "name": "python2"
  },
  "language_info": {
   "codemirror_mode": {
    "name": "ipython",
    "version": 2
   },
   "file_extension": ".py",
   "mimetype": "text/x-python",
   "name": "python",
   "nbconvert_exporter": "python",
   "pygments_lexer": "ipython2",
   "version": "2.7.12"
  }
 },
 "nbformat": 4,
 "nbformat_minor": 0
}
