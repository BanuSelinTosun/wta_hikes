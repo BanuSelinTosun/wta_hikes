{
 "cells": [
  {
   "cell_type": "code",
   "execution_count": 1,
   "metadata": {
    "collapsed": false
   },
   "outputs": [],
   "source": [
    "from __future__ import division\n",
    "from textblob import TextBlob\n",
    "import pandas as pd\n",
    "import numpy as np\n",
    "import string\n",
    "import re\n",
    "import matplotlib.pyplot as plt\n",
    "%matplotlib inline\n",
    "\n"
   ]
  },
  {
   "cell_type": "code",
   "execution_count": 2,
   "metadata": {
    "collapsed": false
   },
   "outputs": [],
   "source": [
    "with open('data/trip_reports.json', 'rb') as f:\n",
    "    data = f.readlines()\n",
    "\n",
    "data = map(lambda x: x.rstrip(), data)\n",
    "data_json_str = \"[\" + ','.join(data) + \"]\"\n",
    "df = pd.read_json(data_json_str)"
   ]
  },
  {
   "cell_type": "markdown",
   "metadata": {},
   "source": [
    "## Sentiment analysis\n",
    "Adding a column for sentiment "
   ]
  },
  {
   "cell_type": "code",
   "execution_count": 5,
   "metadata": {
    "collapsed": false
   },
   "outputs": [],
   "source": [
    "def detect_sentiment(text):\n",
    "    text = re.sub(r'/\\u\\d+', '', text)\n",
    "    text = ''.join([char for char in text if char not in string.punctuation])\n",
    "    return TextBlob(text.encode('ascii', 'ignore') ).sentiment.polarity"
   ]
  },
  {
   "cell_type": "code",
   "execution_count": 6,
   "metadata": {
    "collapsed": false
   },
   "outputs": [],
   "source": [
    "df['TextBlobSentiment'] = [detect_sentiment(t['Text']) for t in df['Report']]"
   ]
  },
  {
   "cell_type": "code",
   "execution_count": 7,
   "metadata": {
    "collapsed": false
   },
   "outputs": [
    {
     "data": {
      "text/plain": [
       "<matplotlib.text.Text at 0x1326c5150>"
      ]
     },
     "execution_count": 7,
     "metadata": {},
     "output_type": "execute_result"
    },
    {
     "data": {
      "image/png": "[encoded data removed]",
      "text/plain": [
       "<matplotlib.figure.Figure at 0x13269fd10>"
      ]
     },
     "metadata": {},
     "output_type": "display_data"
    }
   ],
   "source": [
    "_=plt.boxplot(df['TextBlobSentiment'])\n",
    "plt.title('TextBlob Sentiment')\n",
    "plt.ylabel('Sentiment Rating')\n",
    "plt.xlabel('Trip Reports')"
   ]
  },
  {
   "cell_type": "code",
   "execution_count": 8,
   "metadata": {
    "collapsed": false
   },
   "outputs": [
    {
     "name": "stdout",
     "output_type": "stream",
     "text": [
      "20th Percentile:  0.0741324307501\n",
      "40th Percentile:  0.12879503367\n",
      "60th Percentile:  0.179433020683\n",
      "80th Percentile:  0.25\n"
     ]
    }
   ],
   "source": [
    "print '20th Percentile: ', np.percentile(df['TextBlobSentiment'], 20)\n",
    "print '40th Percentile: ', np.percentile(df['TextBlobSentiment'], 40)\n",
    "print '60th Percentile: ', np.percentile(df['TextBlobSentiment'], 60)\n",
    "print '80th Percentile: ', np.percentile(df['TextBlobSentiment'], 80)"
   ]
  },
  {
   "cell_type": "code",
   "execution_count": 9,
   "metadata": {
    "collapsed": true
   },
   "outputs": [],
   "source": [
    "def setRating(sentiment):\n",
    "    \"\"\"Sets rating based on textblob sentiment\"\"\"\n",
    "    if sentiment < 0.0741324307501:\n",
    "        return 1\n",
    "    elif sentiment < 0.12879503367:\n",
    "        return 2\n",
    "    elif sentiment < 0.179433020683:\n",
    "        return 3\n",
    "    elif sentiment < 0.25:\n",
    "        return 4\n",
    "    else:\n",
    "        return 5"
   ]
  },
  {
   "cell_type": "code",
   "execution_count": 10,
   "metadata": {
    "collapsed": true
   },
   "outputs": [],
   "source": [
    "df['Rating'] = df['TextBlobSentiment'].apply(setRating)"
   ]
  },
  {
   "cell_type": "code",
   "execution_count": 11,
   "metadata": {
    "collapsed": false
   },
   "outputs": [
    {
     "data": {
      "text/html": [
       "<div>\n",
       "<table border=\"1\" class=\"dataframe\">\n",
       "  <thead>\n",
       "    <tr style=\"text-align: right;\">\n",
       "      <th></th>\n",
       "      <th>Name</th>\n",
       "      <th>Report</th>\n",
       "      <th>_id</th>\n",
       "      <th>TextBlobSentiment</th>\n",
       "      <th>Rating</th>\n",
       "    </tr>\n",
       "  </thead>\n",
       "  <tbody>\n",
       "    <tr>\n",
       "      <th>0</th>\n",
       "      <td>Grand Park via Lake Eleanor</td>\n",
       "      <td>{u'Date': u'Jul 23, 2016', u'Text': u'Wonderfu...</td>\n",
       "      <td>{u'$oid': u'579689967c6fb81006eeb937'}</td>\n",
       "      <td>0.215000</td>\n",
       "      <td>4</td>\n",
       "    </tr>\n",
       "    <tr>\n",
       "      <th>1</th>\n",
       "      <td>Grand Park via Lake Eleanor</td>\n",
       "      <td>{u'Date': u'Jul 17, 2016', u'Text': u'Hit the ...</td>\n",
       "      <td>{u'$oid': u'579689977c6fb81006eeb938'}</td>\n",
       "      <td>0.179529</td>\n",
       "      <td>4</td>\n",
       "    </tr>\n",
       "    <tr>\n",
       "      <th>2</th>\n",
       "      <td>Grand Park via Lake Eleanor</td>\n",
       "      <td>{u'Date': u'Jul 16, 2016', u'Text': u'I hiked ...</td>\n",
       "      <td>{u'$oid': u'579689977c6fb81006eeb939'}</td>\n",
       "      <td>0.114120</td>\n",
       "      <td>2</td>\n",
       "    </tr>\n",
       "    <tr>\n",
       "      <th>3</th>\n",
       "      <td>Grand Park via Lake Eleanor</td>\n",
       "      <td>{u'Date': u'Jul 15, 2016', u'Text': u'(Revisit...</td>\n",
       "      <td>{u'$oid': u'579689977c6fb81006eeb93a'}</td>\n",
       "      <td>0.181702</td>\n",
       "      <td>4</td>\n",
       "    </tr>\n",
       "    <tr>\n",
       "      <th>4</th>\n",
       "      <td>Grand Park via Lake Eleanor</td>\n",
       "      <td>{u'Date': u'Jul 15, 2016', u'Text': u'Nice hik...</td>\n",
       "      <td>{u'$oid': u'579689977c6fb81006eeb93b'}</td>\n",
       "      <td>0.200000</td>\n",
       "      <td>4</td>\n",
       "    </tr>\n",
       "  </tbody>\n",
       "</table>\n",
       "</div>"
      ],
      "text/plain": [
       "                          Name  \\\n",
       "0  Grand Park via Lake Eleanor   \n",
       "1  Grand Park via Lake Eleanor   \n",
       "2  Grand Park via Lake Eleanor   \n",
       "3  Grand Park via Lake Eleanor   \n",
       "4  Grand Park via Lake Eleanor   \n",
       "\n",
       "                                              Report  \\\n",
       "0  {u'Date': u'Jul 23, 2016', u'Text': u'Wonderfu...   \n",
       "1  {u'Date': u'Jul 17, 2016', u'Text': u'Hit the ...   \n",
       "2  {u'Date': u'Jul 16, 2016', u'Text': u'I hiked ...   \n",
       "3  {u'Date': u'Jul 15, 2016', u'Text': u'(Revisit...   \n",
       "4  {u'Date': u'Jul 15, 2016', u'Text': u'Nice hik...   \n",
       "\n",
       "                                      _id  TextBlobSentiment  Rating  \n",
       "0  {u'$oid': u'579689967c6fb81006eeb937'}           0.215000       4  \n",
       "1  {u'$oid': u'579689977c6fb81006eeb938'}           0.179529       4  \n",
       "2  {u'$oid': u'579689977c6fb81006eeb939'}           0.114120       2  \n",
       "3  {u'$oid': u'579689977c6fb81006eeb93a'}           0.181702       4  \n",
       "4  {u'$oid': u'579689977c6fb81006eeb93b'}           0.200000       4  "
      ]
     },
     "execution_count": 11,
     "metadata": {},
     "output_type": "execute_result"
    }
   ],
   "source": [
    "df.head()"
   ]
  },
  {
   "cell_type": "markdown",
   "metadata": {},
   "source": [
    "## Add ids for people and hikes"
   ]
  },
  {
   "cell_type": "code",
   "execution_count": 12,
   "metadata": {
    "collapsed": true
   },
   "outputs": [],
   "source": [
    "df['author'] = [r['Creator'].strip() for r in df['Report']]"
   ]
  },
  {
   "cell_type": "code",
   "execution_count": 13,
   "metadata": {
    "collapsed": false
   },
   "outputs": [],
   "source": [
    "authors = np.unique(df.author)"
   ]
  },
  {
   "cell_type": "code",
   "execution_count": 14,
   "metadata": {
    "collapsed": false
   },
   "outputs": [],
   "source": [
    "ider = dict(zip(authors, range(len(authors))))"
   ]
  },
  {
   "cell_type": "code",
   "execution_count": 15,
   "metadata": {
    "collapsed": false
   },
   "outputs": [],
   "source": [
    "df['authorId'] = [ider[r] for r in df['author']]"
   ]
  },
  {
   "cell_type": "code",
   "execution_count": 16,
   "metadata": {
    "collapsed": false
   },
   "outputs": [
    {
     "data": {
      "text/html": [
       "<div>\n",
       "<table border=\"1\" class=\"dataframe\">\n",
       "  <thead>\n",
       "    <tr style=\"text-align: right;\">\n",
       "      <th></th>\n",
       "      <th>Name</th>\n",
       "      <th>Report</th>\n",
       "      <th>_id</th>\n",
       "      <th>TextBlobSentiment</th>\n",
       "      <th>Rating</th>\n",
       "      <th>author</th>\n",
       "      <th>authorId</th>\n",
       "    </tr>\n",
       "  </thead>\n",
       "  <tbody>\n",
       "    <tr>\n",
       "      <th>0</th>\n",
       "      <td>Grand Park via Lake Eleanor</td>\n",
       "      <td>{u'Date': u'Jul 23, 2016', u'Text': u'Wonderfu...</td>\n",
       "      <td>{u'$oid': u'579689967c6fb81006eeb937'}</td>\n",
       "      <td>0.215000</td>\n",
       "      <td>4</td>\n",
       "      <td>SpartanHiker</td>\n",
       "      <td>10377</td>\n",
       "    </tr>\n",
       "    <tr>\n",
       "      <th>1</th>\n",
       "      <td>Grand Park via Lake Eleanor</td>\n",
       "      <td>{u'Date': u'Jul 17, 2016', u'Text': u'Hit the ...</td>\n",
       "      <td>{u'$oid': u'579689977c6fb81006eeb938'}</td>\n",
       "      <td>0.179529</td>\n",
       "      <td>4</td>\n",
       "      <td>DKreuger</td>\n",
       "      <td>2487</td>\n",
       "    </tr>\n",
       "    <tr>\n",
       "      <th>2</th>\n",
       "      <td>Grand Park via Lake Eleanor</td>\n",
       "      <td>{u'Date': u'Jul 16, 2016', u'Text': u'I hiked ...</td>\n",
       "      <td>{u'$oid': u'579689977c6fb81006eeb939'}</td>\n",
       "      <td>0.114120</td>\n",
       "      <td>2</td>\n",
       "      <td>Cascadian Hiker</td>\n",
       "      <td>1948</td>\n",
       "    </tr>\n",
       "    <tr>\n",
       "      <th>3</th>\n",
       "      <td>Grand Park via Lake Eleanor</td>\n",
       "      <td>{u'Date': u'Jul 15, 2016', u'Text': u'(Revisit...</td>\n",
       "      <td>{u'$oid': u'579689977c6fb81006eeb93a'}</td>\n",
       "      <td>0.181702</td>\n",
       "      <td>4</td>\n",
       "      <td>Alien Dave</td>\n",
       "      <td>492</td>\n",
       "    </tr>\n",
       "    <tr>\n",
       "      <th>4</th>\n",
       "      <td>Grand Park via Lake Eleanor</td>\n",
       "      <td>{u'Date': u'Jul 15, 2016', u'Text': u'Nice hik...</td>\n",
       "      <td>{u'$oid': u'579689977c6fb81006eeb93b'}</td>\n",
       "      <td>0.200000</td>\n",
       "      <td>4</td>\n",
       "      <td>[email protected]/* &lt;![CDATA[ */!function(t,e,...</td>\n",
       "      <td>12210</td>\n",
       "    </tr>\n",
       "  </tbody>\n",
       "</table>\n",
       "</div>"
      ],
      "text/plain": [
       "                          Name  \\\n",
       "0  Grand Park via Lake Eleanor   \n",
       "1  Grand Park via Lake Eleanor   \n",
       "2  Grand Park via Lake Eleanor   \n",
       "3  Grand Park via Lake Eleanor   \n",
       "4  Grand Park via Lake Eleanor   \n",
       "\n",
       "                                              Report  \\\n",
       "0  {u'Date': u'Jul 23, 2016', u'Text': u'Wonderfu...   \n",
       "1  {u'Date': u'Jul 17, 2016', u'Text': u'Hit the ...   \n",
       "2  {u'Date': u'Jul 16, 2016', u'Text': u'I hiked ...   \n",
       "3  {u'Date': u'Jul 15, 2016', u'Text': u'(Revisit...   \n",
       "4  {u'Date': u'Jul 15, 2016', u'Text': u'Nice hik...   \n",
       "\n",
       "                                      _id  TextBlobSentiment  Rating  \\\n",
       "0  {u'$oid': u'579689967c6fb81006eeb937'}           0.215000       4   \n",
       "1  {u'$oid': u'579689977c6fb81006eeb938'}           0.179529       4   \n",
       "2  {u'$oid': u'579689977c6fb81006eeb939'}           0.114120       2   \n",
       "3  {u'$oid': u'579689977c6fb81006eeb93a'}           0.181702       4   \n",
       "4  {u'$oid': u'579689977c6fb81006eeb93b'}           0.200000       4   \n",
       "\n",
       "                                              author  authorId  \n",
       "0                                       SpartanHiker     10377  \n",
       "1                                           DKreuger      2487  \n",
       "2                                    Cascadian Hiker      1948  \n",
       "3                                         Alien Dave       492  \n",
       "4  [email protected]/* <![CDATA[ */!function(t,e,...     12210  "
      ]
     },
     "execution_count": 16,
     "metadata": {},
     "output_type": "execute_result"
    }
   ],
   "source": [
    "df.head()"
   ]
  },
  {
   "cell_type": "code",
   "execution_count": 17,
   "metadata": {
    "collapsed": true
   },
   "outputs": [],
   "source": [
    "hike_data= pd.read_csv('data/washington_hikes_clean.csv')"
   ]
  },
  {
   "cell_type": "code",
   "execution_count": 18,
   "metadata": {
    "collapsed": false
   },
   "outputs": [
    {
     "data": {
      "text/html": [
       "<div>\n",
       "<table border=\"1\" class=\"dataframe\">\n",
       "  <thead>\n",
       "    <tr style=\"text-align: right;\">\n",
       "      <th></th>\n",
       "      <th>Unnamed: 0</th>\n",
       "      <th>hike_name</th>\n",
       "      <th>region</th>\n",
       "      <th>length</th>\n",
       "      <th>elevation gain</th>\n",
       "      <th>rating</th>\n",
       "      <th>number_votes</th>\n",
       "      <th>features</th>\n",
       "      <th>pass(0-no pass, 1- pass required)</th>\n",
       "      <th>which_pass</th>\n",
       "      <th>time_from_seattle</th>\n",
       "      <th>url</th>\n",
       "      <th>latlong</th>\n",
       "      <th>numReports</th>\n",
       "      <th>hike_desc</th>\n",
       "      <th>stars</th>\n",
       "      <th>total_dist</th>\n",
       "      <th>lat_long</th>\n",
       "    </tr>\n",
       "  </thead>\n",
       "  <tbody>\n",
       "    <tr>\n",
       "      <th>0</th>\n",
       "      <td>0</td>\n",
       "      <td>Grand Park via Lake Eleanor</td>\n",
       "      <td>Mount Rainier Area -- NE - Sunrise/White River</td>\n",
       "      <td>8.0 miles, roundtrip</td>\n",
       "      <td>1100.0</td>\n",
       "      <td>4.25 out of 5</td>\n",
       "      <td>12.0</td>\n",
       "      <td>[Mountain views, Wildlife, Established campsites]</td>\n",
       "      <td>0</td>\n",
       "      <td>No pass or permit required</td>\n",
       "      <td>116.533333</td>\n",
       "      <td>http://www.wta.org/go-hiking/hikes/grand-park</td>\n",
       "      <td>http://maps.google.com/maps?hl=en&amp;sz=11&amp;spn=0....</td>\n",
       "      <td>212.0</td>\n",
       "      <td>The classic approach (via Sunrise) to this sea...</td>\n",
       "      <td>4.25</td>\n",
       "      <td>8.0</td>\n",
       "      <td>46.9963,-121.6413</td>\n",
       "    </tr>\n",
       "    <tr>\n",
       "      <th>1</th>\n",
       "      <td>1</td>\n",
       "      <td>Shellrock Pass</td>\n",
       "      <td>North Cascades -- Pasayten</td>\n",
       "      <td>NaN</td>\n",
       "      <td>NaN</td>\n",
       "      <td>2.33 out of 5</td>\n",
       "      <td>3.0</td>\n",
       "      <td>[Dogs allowed on leash]</td>\n",
       "      <td>0</td>\n",
       "      <td>No pass or permit required</td>\n",
       "      <td>NaN</td>\n",
       "      <td>http://www.wta.org/go-hiking/hikes/shellrock-pass</td>\n",
       "      <td>NaN</td>\n",
       "      <td>2.0</td>\n",
       "      <td>The Shellrock Pass trail has not been maintain...</td>\n",
       "      <td>2.33</td>\n",
       "      <td>NaN</td>\n",
       "      <td>NaN</td>\n",
       "    </tr>\n",
       "    <tr>\n",
       "      <th>2</th>\n",
       "      <td>2</td>\n",
       "      <td>Soda Peaks Lake</td>\n",
       "      <td>Southwest Washington -- Lewis River Region</td>\n",
       "      <td>7.0 miles, roundtrip</td>\n",
       "      <td>2500.0</td>\n",
       "      <td>3.00 out of 5</td>\n",
       "      <td>4.0</td>\n",
       "      <td>[Old growth, Lakes]</td>\n",
       "      <td>1</td>\n",
       "      <td>Northwest Forest Pass required</td>\n",
       "      <td>227.333333</td>\n",
       "      <td>http://www.wta.org/go-hiking/hikes/soda-peaks-...</td>\n",
       "      <td>http://maps.google.com/maps?hl=en&amp;sz=11&amp;spn=0....</td>\n",
       "      <td>24.0</td>\n",
       "      <td>Take a trip to a seldom-seen part of the South...</td>\n",
       "      <td>3.00</td>\n",
       "      <td>7.0</td>\n",
       "      <td>45.8846,-122.0001</td>\n",
       "    </tr>\n",
       "    <tr>\n",
       "      <th>3</th>\n",
       "      <td>3</td>\n",
       "      <td>Shorthorn</td>\n",
       "      <td>South Cascades -- Mount Adams Area</td>\n",
       "      <td>5.6 miles, roundtrip</td>\n",
       "      <td>1400.0</td>\n",
       "      <td>3.67 out of 5</td>\n",
       "      <td>3.0</td>\n",
       "      <td>[Mountain views, Dogs allowed on leash]</td>\n",
       "      <td>1</td>\n",
       "      <td>Northwest Forest Pass required</td>\n",
       "      <td>207.433333</td>\n",
       "      <td>http://www.wta.org/go-hiking/hikes/shorthorn</td>\n",
       "      <td>http://maps.google.com/maps?hl=en&amp;sz=11&amp;spn=0....</td>\n",
       "      <td>5.0</td>\n",
       "      <td>This trail ascends the south slopes of Mount A...</td>\n",
       "      <td>3.67</td>\n",
       "      <td>5.6</td>\n",
       "      <td>46.1989,-121.0593</td>\n",
       "    </tr>\n",
       "    <tr>\n",
       "      <th>4</th>\n",
       "      <td>4</td>\n",
       "      <td>West Fork Teanaway River</td>\n",
       "      <td>Snoqualmie Region -- Salmon La Sac/Teanaway</td>\n",
       "      <td>9.6 miles, one-way</td>\n",
       "      <td>2800.0</td>\n",
       "      <td>2.75 out of 5</td>\n",
       "      <td>4.0</td>\n",
       "      <td>[Ridges/passes, Wildlife, Established campsite...</td>\n",
       "      <td>1</td>\n",
       "      <td>Northwest Forest Pass required</td>\n",
       "      <td>115.750000</td>\n",
       "      <td>http://www.wta.org/go-hiking/hikes/west-fork-t...</td>\n",
       "      <td>http://maps.google.com/maps?hl=en&amp;sz=11&amp;spn=0....</td>\n",
       "      <td>5.0</td>\n",
       "      <td>The West Fork Teanaway Trail begins at Forest ...</td>\n",
       "      <td>2.75</td>\n",
       "      <td>19.2</td>\n",
       "      <td>47.2915,-121.0064</td>\n",
       "    </tr>\n",
       "  </tbody>\n",
       "</table>\n",
       "</div>"
      ],
      "text/plain": [
       "   Unnamed: 0                    hike_name  \\\n",
       "0           0  Grand Park via Lake Eleanor   \n",
       "1           1               Shellrock Pass   \n",
       "2           2              Soda Peaks Lake   \n",
       "3           3                    Shorthorn   \n",
       "4           4     West Fork Teanaway River   \n",
       "\n",
       "                                           region                length  \\\n",
       "0  Mount Rainier Area -- NE - Sunrise/White River  8.0 miles, roundtrip   \n",
       "1                      North Cascades -- Pasayten                   NaN   \n",
       "2      Southwest Washington -- Lewis River Region  7.0 miles, roundtrip   \n",
       "3              South Cascades -- Mount Adams Area  5.6 miles, roundtrip   \n",
       "4     Snoqualmie Region -- Salmon La Sac/Teanaway    9.6 miles, one-way   \n",
       "\n",
       "   elevation gain         rating  number_votes  \\\n",
       "0          1100.0  4.25 out of 5          12.0   \n",
       "1             NaN  2.33 out of 5           3.0   \n",
       "2          2500.0  3.00 out of 5           4.0   \n",
       "3          1400.0  3.67 out of 5           3.0   \n",
       "4          2800.0  2.75 out of 5           4.0   \n",
       "\n",
       "                                            features  \\\n",
       "0  [Mountain views, Wildlife, Established campsites]   \n",
       "1                            [Dogs allowed on leash]   \n",
       "2                                [Old growth, Lakes]   \n",
       "3            [Mountain views, Dogs allowed on leash]   \n",
       "4  [Ridges/passes, Wildlife, Established campsite...   \n",
       "\n",
       "   pass(0-no pass, 1- pass required)                      which_pass  \\\n",
       "0                                  0      No pass or permit required   \n",
       "1                                  0      No pass or permit required   \n",
       "2                                  1  Northwest Forest Pass required   \n",
       "3                                  1  Northwest Forest Pass required   \n",
       "4                                  1  Northwest Forest Pass required   \n",
       "\n",
       "   time_from_seattle                                                url  \\\n",
       "0         116.533333      http://www.wta.org/go-hiking/hikes/grand-park   \n",
       "1                NaN  http://www.wta.org/go-hiking/hikes/shellrock-pass   \n",
       "2         227.333333  http://www.wta.org/go-hiking/hikes/soda-peaks-...   \n",
       "3         207.433333       http://www.wta.org/go-hiking/hikes/shorthorn   \n",
       "4         115.750000  http://www.wta.org/go-hiking/hikes/west-fork-t...   \n",
       "\n",
       "                                             latlong  numReports  \\\n",
       "0  http://maps.google.com/maps?hl=en&sz=11&spn=0....       212.0   \n",
       "1                                                NaN         2.0   \n",
       "2  http://maps.google.com/maps?hl=en&sz=11&spn=0....        24.0   \n",
       "3  http://maps.google.com/maps?hl=en&sz=11&spn=0....         5.0   \n",
       "4  http://maps.google.com/maps?hl=en&sz=11&spn=0....         5.0   \n",
       "\n",
       "                                           hike_desc  stars  total_dist  \\\n",
       "0  The classic approach (via Sunrise) to this sea...   4.25         8.0   \n",
       "1  The Shellrock Pass trail has not been maintain...   2.33         NaN   \n",
       "2  Take a trip to a seldom-seen part of the South...   3.00         7.0   \n",
       "3  This trail ascends the south slopes of Mount A...   3.67         5.6   \n",
       "4  The West Fork Teanaway Trail begins at Forest ...   2.75        19.2   \n",
       "\n",
       "            lat_long  \n",
       "0  46.9963,-121.6413  \n",
       "1                NaN  \n",
       "2  45.8846,-122.0001  \n",
       "3  46.1989,-121.0593  \n",
       "4  47.2915,-121.0064  "
      ]
     },
     "execution_count": 18,
     "metadata": {},
     "output_type": "execute_result"
    }
   ],
   "source": [
    "hike_data.head()"
   ]
  },
  {
   "cell_type": "code",
   "execution_count": 19,
   "metadata": {
    "collapsed": false
   },
   "outputs": [],
   "source": [
    "unique_names = np.unique(hike_data.hike_name)\n",
    "ider = dict(zip(unique_names, hike_data.index))"
   ]
  },
  {
   "cell_type": "code",
   "execution_count": 20,
   "metadata": {
    "collapsed": false
   },
   "outputs": [],
   "source": [
    "ids = []\n",
    "missing = []\n",
    "for i, name in enumerate(df['Name']):\n",
    "    try:\n",
    "        ids.append(ider[name])\n",
    "    except:\n",
    "        missing.append(i)\n",
    "    "
   ]
  },
  {
   "cell_type": "code",
   "execution_count": 21,
   "metadata": {
    "collapsed": false
   },
   "outputs": [
    {
     "data": {
      "text/plain": [
       "78035"
      ]
     },
     "execution_count": 21,
     "metadata": {},
     "output_type": "execute_result"
    }
   ],
   "source": [
    "len(ids)"
   ]
  },
  {
   "cell_type": "code",
   "execution_count": 22,
   "metadata": {
    "collapsed": false
   },
   "outputs": [
    {
     "data": {
      "text/plain": [
       "[6087, 6088, 6089, 6090, 6091, 6092, 6093]"
      ]
     },
     "execution_count": 22,
     "metadata": {},
     "output_type": "execute_result"
    }
   ],
   "source": [
    "missing"
   ]
  },
  {
   "cell_type": "code",
   "execution_count": 23,
   "metadata": {
    "collapsed": false
   },
   "outputs": [],
   "source": [
    "final_ids = ids[:6087]+[50]*7+ids[6087:]"
   ]
  },
  {
   "cell_type": "code",
   "execution_count": 24,
   "metadata": {
    "collapsed": false
   },
   "outputs": [],
   "source": [
    "df['hikeId'] = final_ids"
   ]
  },
  {
   "cell_type": "code",
   "execution_count": 25,
   "metadata": {
    "collapsed": false
   },
   "outputs": [
    {
     "data": {
      "text/html": [
       "<div>\n",
       "<table border=\"1\" class=\"dataframe\">\n",
       "  <thead>\n",
       "    <tr style=\"text-align: right;\">\n",
       "      <th></th>\n",
       "      <th>Name</th>\n",
       "      <th>Report</th>\n",
       "      <th>_id</th>\n",
       "      <th>TextBlobSentiment</th>\n",
       "      <th>Rating</th>\n",
       "      <th>author</th>\n",
       "      <th>authorId</th>\n",
       "      <th>hikeId</th>\n",
       "    </tr>\n",
       "  </thead>\n",
       "  <tbody>\n",
       "    <tr>\n",
       "      <th>0</th>\n",
       "      <td>Grand Park via Lake Eleanor</td>\n",
       "      <td>{u'Date': u'Jul 23, 2016', u'Text': u'Wonderfu...</td>\n",
       "      <td>{u'$oid': u'579689967c6fb81006eeb937'}</td>\n",
       "      <td>0.215000</td>\n",
       "      <td>4</td>\n",
       "      <td>SpartanHiker</td>\n",
       "      <td>10377</td>\n",
       "      <td>1072</td>\n",
       "    </tr>\n",
       "    <tr>\n",
       "      <th>1</th>\n",
       "      <td>Grand Park via Lake Eleanor</td>\n",
       "      <td>{u'Date': u'Jul 17, 2016', u'Text': u'Hit the ...</td>\n",
       "      <td>{u'$oid': u'579689977c6fb81006eeb938'}</td>\n",
       "      <td>0.179529</td>\n",
       "      <td>4</td>\n",
       "      <td>DKreuger</td>\n",
       "      <td>2487</td>\n",
       "      <td>1072</td>\n",
       "    </tr>\n",
       "    <tr>\n",
       "      <th>2</th>\n",
       "      <td>Grand Park via Lake Eleanor</td>\n",
       "      <td>{u'Date': u'Jul 16, 2016', u'Text': u'I hiked ...</td>\n",
       "      <td>{u'$oid': u'579689977c6fb81006eeb939'}</td>\n",
       "      <td>0.114120</td>\n",
       "      <td>2</td>\n",
       "      <td>Cascadian Hiker</td>\n",
       "      <td>1948</td>\n",
       "      <td>1072</td>\n",
       "    </tr>\n",
       "    <tr>\n",
       "      <th>3</th>\n",
       "      <td>Grand Park via Lake Eleanor</td>\n",
       "      <td>{u'Date': u'Jul 15, 2016', u'Text': u'(Revisit...</td>\n",
       "      <td>{u'$oid': u'579689977c6fb81006eeb93a'}</td>\n",
       "      <td>0.181702</td>\n",
       "      <td>4</td>\n",
       "      <td>Alien Dave</td>\n",
       "      <td>492</td>\n",
       "      <td>1072</td>\n",
       "    </tr>\n",
       "    <tr>\n",
       "      <th>4</th>\n",
       "      <td>Grand Park via Lake Eleanor</td>\n",
       "      <td>{u'Date': u'Jul 15, 2016', u'Text': u'Nice hik...</td>\n",
       "      <td>{u'$oid': u'579689977c6fb81006eeb93b'}</td>\n",
       "      <td>0.200000</td>\n",
       "      <td>4</td>\n",
       "      <td>[email protected]/* &lt;![CDATA[ */!function(t,e,...</td>\n",
       "      <td>12210</td>\n",
       "      <td>1072</td>\n",
       "    </tr>\n",
       "  </tbody>\n",
       "</table>\n",
       "</div>"
      ],
      "text/plain": [
       "                          Name  \\\n",
       "0  Grand Park via Lake Eleanor   \n",
       "1  Grand Park via Lake Eleanor   \n",
       "2  Grand Park via Lake Eleanor   \n",
       "3  Grand Park via Lake Eleanor   \n",
       "4  Grand Park via Lake Eleanor   \n",
       "\n",
       "                                              Report  \\\n",
       "0  {u'Date': u'Jul 23, 2016', u'Text': u'Wonderfu...   \n",
       "1  {u'Date': u'Jul 17, 2016', u'Text': u'Hit the ...   \n",
       "2  {u'Date': u'Jul 16, 2016', u'Text': u'I hiked ...   \n",
       "3  {u'Date': u'Jul 15, 2016', u'Text': u'(Revisit...   \n",
       "4  {u'Date': u'Jul 15, 2016', u'Text': u'Nice hik...   \n",
       "\n",
       "                                      _id  TextBlobSentiment  Rating  \\\n",
       "0  {u'$oid': u'579689967c6fb81006eeb937'}           0.215000       4   \n",
       "1  {u'$oid': u'579689977c6fb81006eeb938'}           0.179529       4   \n",
       "2  {u'$oid': u'579689977c6fb81006eeb939'}           0.114120       2   \n",
       "3  {u'$oid': u'579689977c6fb81006eeb93a'}           0.181702       4   \n",
       "4  {u'$oid': u'579689977c6fb81006eeb93b'}           0.200000       4   \n",
       "\n",
       "                                              author  authorId  hikeId  \n",
       "0                                       SpartanHiker     10377    1072  \n",
       "1                                           DKreuger      2487    1072  \n",
       "2                                    Cascadian Hiker      1948    1072  \n",
       "3                                         Alien Dave       492    1072  \n",
       "4  [email protected]/* <![CDATA[ */!function(t,e,...     12210    1072  "
      ]
     },
     "execution_count": 25,
     "metadata": {},
     "output_type": "execute_result"
    }
   ],
   "source": [
    "df.head()"
   ]
  },
  {
   "cell_type": "code",
   "execution_count": 26,
   "metadata": {
    "collapsed": false
   },
   "outputs": [],
   "source": [
    "df['Date'] = [r['Date'] for r in df['Report']]"
   ]
  },
  {
   "cell_type": "code",
   "execution_count": 27,
   "metadata": {
    "collapsed": false
   },
   "outputs": [],
   "source": [
    "df['Text'] = [r['Text'] for r in df['Report']]\n"
   ]
  },
  {
   "cell_type": "code",
   "execution_count": 28,
   "metadata": {
    "collapsed": false
   },
   "outputs": [],
   "source": [
    "df.drop(labels=['Report','_id'], axis=1, inplace=True)"
   ]
  },
  {
   "cell_type": "code",
   "execution_count": 29,
   "metadata": {
    "collapsed": false
   },
   "outputs": [],
   "source": [
    "df.to_csv('data/trip_reports.csv', header=True, index=False, encoding='utf-8')"
   ]
  },
  {
   "cell_type": "markdown",
   "metadata": {},
   "source": [
    "## Using Dato Graphlab sentiment analysis:\n",
    "\n",
    "https://turi.com/products/create/docs/generated/graphlab.sentiment_analysis.create.html#graphlab.sentiment_analysis.create\n"
   ]
  },
  {
   "cell_type": "code",
   "execution_count": 30,
   "metadata": {
    "collapsed": true
   },
   "outputs": [],
   "source": [
    "import graphlab as gl"
   ]
  },
  {
   "cell_type": "code",
   "execution_count": 31,
   "metadata": {
    "collapsed": false
   },
   "outputs": [
    {
     "name": "stderr",
     "output_type": "stream",
     "text": [
      "[INFO] graphlab.cython.cy_server: GraphLab Create v2.1 started. Logging: /tmp/graphlab_server_1469739746.log\n",
      "INFO:graphlab.cython.cy_server:GraphLab Create v2.1 started. Logging: /tmp/graphlab_server_1469739746.log\n"
     ]
    },
    {
     "name": "stdout",
     "output_type": "stream",
     "text": [
      "This non-commercial license of GraphLab Create for academic use is assigned to jat257@cornell.edu and will expire on June 30, 2017.\n"
     ]
    }
   ],
   "source": [
    "sf = gl.SFrame(df)"
   ]
  },
  {
   "cell_type": "code",
   "execution_count": 34,
   "metadata": {
    "collapsed": false
   },
   "outputs": [],
   "source": [
    "m = gl.sentiment_analysis.create(sf, features=['Text'])\n"
   ]
  },
  {
   "cell_type": "code",
   "execution_count": 35,
   "metadata": {
    "collapsed": true
   },
   "outputs": [],
   "source": [
    "df['GraphLabSentiment'] = m.predict(sf)"
   ]
  },
  {
   "cell_type": "code",
   "execution_count": 36,
   "metadata": {
    "collapsed": false
   },
   "outputs": [
    {
     "data": {
      "text/html": [
       "<div>\n",
       "<table border=\"1\" class=\"dataframe\">\n",
       "  <thead>\n",
       "    <tr style=\"text-align: right;\">\n",
       "      <th></th>\n",
       "      <th>Name</th>\n",
       "      <th>TextBlobSentiment</th>\n",
       "      <th>Rating</th>\n",
       "      <th>author</th>\n",
       "      <th>authorId</th>\n",
       "      <th>hikeId</th>\n",
       "      <th>Date</th>\n",
       "      <th>Text</th>\n",
       "      <th>GraphLabSentiment</th>\n",
       "    </tr>\n",
       "  </thead>\n",
       "  <tbody>\n",
       "    <tr>\n",
       "      <th>0</th>\n",
       "      <td>Grand Park via Lake Eleanor</td>\n",
       "      <td>0.215000</td>\n",
       "      <td>4</td>\n",
       "      <td>SpartanHiker</td>\n",
       "      <td>10377</td>\n",
       "      <td>1072</td>\n",
       "      <td>Jul 23, 2016</td>\n",
       "      <td>Wonderful hike to Grand park.  Overall the tra...</td>\n",
       "      <td>0.999999</td>\n",
       "    </tr>\n",
       "    <tr>\n",
       "      <th>1</th>\n",
       "      <td>Grand Park via Lake Eleanor</td>\n",
       "      <td>0.179529</td>\n",
       "      <td>4</td>\n",
       "      <td>DKreuger</td>\n",
       "      <td>2487</td>\n",
       "      <td>1072</td>\n",
       "      <td>Jul 17, 2016</td>\n",
       "      <td>Hit the trailhead about 10:15 a.m. with a grou...</td>\n",
       "      <td>0.999998</td>\n",
       "    </tr>\n",
       "    <tr>\n",
       "      <th>2</th>\n",
       "      <td>Grand Park via Lake Eleanor</td>\n",
       "      <td>0.114120</td>\n",
       "      <td>2</td>\n",
       "      <td>Cascadian Hiker</td>\n",
       "      <td>1948</td>\n",
       "      <td>1072</td>\n",
       "      <td>Jul 16, 2016</td>\n",
       "      <td>I hiked Grand Park last year and it was great,...</td>\n",
       "      <td>0.999999</td>\n",
       "    </tr>\n",
       "    <tr>\n",
       "      <th>3</th>\n",
       "      <td>Grand Park via Lake Eleanor</td>\n",
       "      <td>0.181702</td>\n",
       "      <td>4</td>\n",
       "      <td>Alien Dave</td>\n",
       "      <td>492</td>\n",
       "      <td>1072</td>\n",
       "      <td>Jul 15, 2016</td>\n",
       "      <td>(Revisited on Friday, July 15th - update for t...</td>\n",
       "      <td>1.000000</td>\n",
       "    </tr>\n",
       "    <tr>\n",
       "      <th>4</th>\n",
       "      <td>Grand Park via Lake Eleanor</td>\n",
       "      <td>0.200000</td>\n",
       "      <td>4</td>\n",
       "      <td>[email protected]/* &lt;![CDATA[ */!function(t,e,...</td>\n",
       "      <td>12210</td>\n",
       "      <td>1072</td>\n",
       "      <td>Jul 15, 2016</td>\n",
       "      <td>Nice hike after a few potholes on drive up for...</td>\n",
       "      <td>0.999826</td>\n",
       "    </tr>\n",
       "  </tbody>\n",
       "</table>\n",
       "</div>"
      ],
      "text/plain": [
       "                          Name  TextBlobSentiment  Rating  \\\n",
       "0  Grand Park via Lake Eleanor           0.215000       4   \n",
       "1  Grand Park via Lake Eleanor           0.179529       4   \n",
       "2  Grand Park via Lake Eleanor           0.114120       2   \n",
       "3  Grand Park via Lake Eleanor           0.181702       4   \n",
       "4  Grand Park via Lake Eleanor           0.200000       4   \n",
       "\n",
       "                                              author  authorId  hikeId  \\\n",
       "0                                       SpartanHiker     10377    1072   \n",
       "1                                           DKreuger      2487    1072   \n",
       "2                                    Cascadian Hiker      1948    1072   \n",
       "3                                         Alien Dave       492    1072   \n",
       "4  [email protected]/* <![CDATA[ */!function(t,e,...     12210    1072   \n",
       "\n",
       "           Date                                               Text  \\\n",
       "0  Jul 23, 2016  Wonderful hike to Grand park.  Overall the tra...   \n",
       "1  Jul 17, 2016  Hit the trailhead about 10:15 a.m. with a grou...   \n",
       "2  Jul 16, 2016  I hiked Grand Park last year and it was great,...   \n",
       "3  Jul 15, 2016  (Revisited on Friday, July 15th - update for t...   \n",
       "4  Jul 15, 2016  Nice hike after a few potholes on drive up for...   \n",
       "\n",
       "   GraphLabSentiment  \n",
       "0           0.999999  \n",
       "1           0.999998  \n",
       "2           0.999999  \n",
       "3           1.000000  \n",
       "4           0.999826  "
      ]
     },
     "execution_count": 36,
     "metadata": {},
     "output_type": "execute_result"
    }
   ],
   "source": [
    "df.head()"
   ]
  },
  {
   "cell_type": "code",
   "execution_count": 39,
   "metadata": {
    "collapsed": false
   },
   "outputs": [
    {
     "data": {
      "text/html": [
       "<div>\n",
       "<table border=\"1\" class=\"dataframe\">\n",
       "  <thead>\n",
       "    <tr style=\"text-align: right;\">\n",
       "      <th></th>\n",
       "      <th>TextBlobSentiment</th>\n",
       "      <th>Rating</th>\n",
       "      <th>authorId</th>\n",
       "      <th>hikeId</th>\n",
       "      <th>GraphLabSentiment</th>\n",
       "    </tr>\n",
       "  </thead>\n",
       "  <tbody>\n",
       "    <tr>\n",
       "      <th>count</th>\n",
       "      <td>78042.000000</td>\n",
       "      <td>78042.000000</td>\n",
       "      <td>78042.000000</td>\n",
       "      <td>78042.000000</td>\n",
       "      <td>7.804200e+04</td>\n",
       "    </tr>\n",
       "    <tr>\n",
       "      <th>mean</th>\n",
       "      <td>0.167313</td>\n",
       "      <td>3.001384</td>\n",
       "      <td>9691.268356</td>\n",
       "      <td>1653.960303</td>\n",
       "      <td>9.562351e-01</td>\n",
       "    </tr>\n",
       "    <tr>\n",
       "      <th>std</th>\n",
       "      <td>0.130577</td>\n",
       "      <td>1.415734</td>\n",
       "      <td>5570.808937</td>\n",
       "      <td>888.926979</td>\n",
       "      <td>1.482675e-01</td>\n",
       "    </tr>\n",
       "    <tr>\n",
       "      <th>min</th>\n",
       "      <td>-1.000000</td>\n",
       "      <td>1.000000</td>\n",
       "      <td>0.000000</td>\n",
       "      <td>2.000000</td>\n",
       "      <td>3.847551e-09</td>\n",
       "    </tr>\n",
       "    <tr>\n",
       "      <th>25%</th>\n",
       "      <td>0.089763</td>\n",
       "      <td>2.000000</td>\n",
       "      <td>5076.000000</td>\n",
       "      <td>1031.000000</td>\n",
       "      <td>9.933677e-01</td>\n",
       "    </tr>\n",
       "    <tr>\n",
       "      <th>50%</th>\n",
       "      <td>0.153412</td>\n",
       "      <td>3.000000</td>\n",
       "      <td>9448.500000</td>\n",
       "      <td>1702.000000</td>\n",
       "      <td>9.998543e-01</td>\n",
       "    </tr>\n",
       "    <tr>\n",
       "      <th>75%</th>\n",
       "      <td>0.228519</td>\n",
       "      <td>4.000000</td>\n",
       "      <td>14361.000000</td>\n",
       "      <td>2360.000000</td>\n",
       "      <td>9.999994e-01</td>\n",
       "    </tr>\n",
       "    <tr>\n",
       "      <th>max</th>\n",
       "      <td>1.000000</td>\n",
       "      <td>5.000000</td>\n",
       "      <td>19633.000000</td>\n",
       "      <td>3288.000000</td>\n",
       "      <td>1.000000e+00</td>\n",
       "    </tr>\n",
       "  </tbody>\n",
       "</table>\n",
       "</div>"
      ],
      "text/plain": [
       "       TextBlobSentiment        Rating      authorId        hikeId  \\\n",
       "count       78042.000000  78042.000000  78042.000000  78042.000000   \n",
       "mean            0.167313      3.001384   9691.268356   1653.960303   \n",
       "std             0.130577      1.415734   5570.808937    888.926979   \n",
       "min            -1.000000      1.000000      0.000000      2.000000   \n",
       "25%             0.089763      2.000000   5076.000000   1031.000000   \n",
       "50%             0.153412      3.000000   9448.500000   1702.000000   \n",
       "75%             0.228519      4.000000  14361.000000   2360.000000   \n",
       "max             1.000000      5.000000  19633.000000   3288.000000   \n",
       "\n",
       "       GraphLabSentiment  \n",
       "count       7.804200e+04  \n",
       "mean        9.562351e-01  \n",
       "std         1.482675e-01  \n",
       "min         3.847551e-09  \n",
       "25%         9.933677e-01  \n",
       "50%         9.998543e-01  \n",
       "75%         9.999994e-01  \n",
       "max         1.000000e+00  "
      ]
     },
     "execution_count": 39,
     "metadata": {},
     "output_type": "execute_result"
    }
   ],
   "source": [
    "df.describe()"
   ]
  },
  {
   "cell_type": "code",
   "execution_count": null,
   "metadata": {
    "collapsed": true
   },
   "outputs": [],
   "source": []
  }
 ],
 "metadata": {
  "kernelspec": {
   "display_name": "Python 2",
   "language": "python",
   "name": "python2"
  },
  "language_info": {
   "codemirror_mode": {
    "name": "ipython",
    "version": 2
   },
   "file_extension": ".py",
   "mimetype": "text/x-python",
   "name": "python",
   "nbconvert_exporter": "python",
   "pygments_lexer": "ipython2",
   "version": "2.7.12"
  }
 },
 "nbformat": 4,
 "nbformat_minor": 0
}
