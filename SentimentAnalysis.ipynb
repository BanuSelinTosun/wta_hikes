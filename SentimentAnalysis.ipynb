{
 "cells": [
  {
   "cell_type": "code",
   "execution_count": 1,
   "metadata": {
    "collapsed": false
   },
   "outputs": [],
   "source": [
    "from __future__ import division\n",
    "from textblob import TextBlob\n",
    "import pandas as pd\n",
    "import numpy as np\n",
    "import string\n",
    "import re\n",
    "import matplotlib.pyplot as plt\n",
    "%matplotlib inline\n",
    "\n"
   ]
  },
  {
   "cell_type": "code",
   "execution_count": 2,
   "metadata": {
    "collapsed": false
   },
   "outputs": [],
   "source": [
    "df = pd.read_csv(open('data/tripReports.csv','rU'), encoding='utf-8', engine='c')"
   ]
  },
  {
   "cell_type": "code",
   "execution_count": 3,
   "metadata": {
    "collapsed": false
   },
   "outputs": [
    {
     "data": {
      "text/html": [
       "<div>\n",
       "<table border=\"1\" class=\"dataframe\">\n",
       "  <thead>\n",
       "    <tr style=\"text-align: right;\">\n",
       "      <th></th>\n",
       "      <th>HikeId</th>\n",
       "      <th>AuthorId</th>\n",
       "      <th>TextBlobSentiment</th>\n",
       "      <th>Rating</th>\n",
       "    </tr>\n",
       "  </thead>\n",
       "  <tbody>\n",
       "    <tr>\n",
       "      <th>count</th>\n",
       "      <td>78042.000000</td>\n",
       "      <td>78042.000000</td>\n",
       "      <td>77296.000000</td>\n",
       "      <td>77296.000000</td>\n",
       "    </tr>\n",
       "    <tr>\n",
       "      <th>mean</th>\n",
       "      <td>694.884152</td>\n",
       "      <td>9592.814677</td>\n",
       "      <td>0.167091</td>\n",
       "      <td>2.999224</td>\n",
       "    </tr>\n",
       "    <tr>\n",
       "      <th>std</th>\n",
       "      <td>1216.565876</td>\n",
       "      <td>5624.032233</td>\n",
       "      <td>0.130328</td>\n",
       "      <td>1.415046</td>\n",
       "    </tr>\n",
       "    <tr>\n",
       "      <th>min</th>\n",
       "      <td>0.000000</td>\n",
       "      <td>0.000000</td>\n",
       "      <td>-1.000000</td>\n",
       "      <td>1.000000</td>\n",
       "    </tr>\n",
       "    <tr>\n",
       "      <th>25%</th>\n",
       "      <td>177.000000</td>\n",
       "      <td>4827.250000</td>\n",
       "      <td>0.089664</td>\n",
       "      <td>2.000000</td>\n",
       "    </tr>\n",
       "    <tr>\n",
       "      <th>50%</th>\n",
       "      <td>435.000000</td>\n",
       "      <td>9374.000000</td>\n",
       "      <td>0.153205</td>\n",
       "      <td>3.000000</td>\n",
       "    </tr>\n",
       "    <tr>\n",
       "      <th>75%</th>\n",
       "      <td>928.000000</td>\n",
       "      <td>14297.000000</td>\n",
       "      <td>0.228125</td>\n",
       "      <td>4.000000</td>\n",
       "    </tr>\n",
       "    <tr>\n",
       "      <th>max</th>\n",
       "      <td>19614.000000</td>\n",
       "      <td>19633.000000</td>\n",
       "      <td>1.000000</td>\n",
       "      <td>5.000000</td>\n",
       "    </tr>\n",
       "  </tbody>\n",
       "</table>\n",
       "</div>"
      ],
      "text/plain": [
       "             HikeId      AuthorId  TextBlobSentiment        Rating\n",
       "count  78042.000000  78042.000000       77296.000000  77296.000000\n",
       "mean     694.884152   9592.814677           0.167091      2.999224\n",
       "std     1216.565876   5624.032233           0.130328      1.415046\n",
       "min        0.000000      0.000000          -1.000000      1.000000\n",
       "25%      177.000000   4827.250000           0.089664      2.000000\n",
       "50%      435.000000   9374.000000           0.153205      3.000000\n",
       "75%      928.000000  14297.000000           0.228125      4.000000\n",
       "max    19614.000000  19633.000000           1.000000      5.000000"
      ]
     },
     "execution_count": 3,
     "metadata": {},
     "output_type": "execute_result"
    }
   ],
   "source": [
    "df.describe()"
   ]
  },
  {
   "cell_type": "markdown",
   "metadata": {},
   "source": [
    "## Sentiment analysis"
   ]
  },
  {
   "cell_type": "code",
   "execution_count": 8,
   "metadata": {
    "collapsed": false
   },
   "outputs": [
    {
     "data": {
      "text/plain": [
       "{'boxes': [<matplotlib.lines.Line2D at 0x119055fd0>],\n",
       " 'caps': [<matplotlib.lines.Line2D at 0x119064e50>,\n",
       "  <matplotlib.lines.Line2D at 0x1190704d0>],\n",
       " 'fliers': [<matplotlib.lines.Line2D at 0x11907c190>],\n",
       " 'means': [],\n",
       " 'medians': [<matplotlib.lines.Line2D at 0x119070b10>],\n",
       " 'whiskers': [<matplotlib.lines.Line2D at 0x119064150>,\n",
       "  <matplotlib.lines.Line2D at 0x119064810>]}"
      ]
     },
     "execution_count": 8,
     "metadata": {},
     "output_type": "execute_result"
    },
    {
     "data": {
      "image/png": "[encoded data removed]",
      "text/plain": [
       "<matplotlib.figure.Figure at 0x11952ffd0>"
      ]
     },
     "metadata": {},
     "output_type": "display_data"
    }
   ],
   "source": [
    "plt.boxplot(df.TextBlobSentiment)"
   ]
  },
  {
   "cell_type": "markdown",
   "metadata": {},
   "source": [
    "## Using Dato Graphlab sentiment analysis:\n",
    "\n",
    "https://turi.com/products/create/docs/generated/graphlab.sentiment_analysis.create.html#graphlab.sentiment_analysis.create\n"
   ]
  },
  {
   "cell_type": "code",
   "execution_count": 9,
   "metadata": {
    "collapsed": true
   },
   "outputs": [],
   "source": [
    "import graphlab as gl"
   ]
  },
  {
   "cell_type": "code",
   "execution_count": 12,
   "metadata": {
    "collapsed": false
   },
   "outputs": [],
   "source": [
    "df = df.dropna()\n",
    "df['HikeId'] = df['HikeId'].fillna(np.nan).astype(int)\n",
    "df['AuthorId'] = df['AuthorId'].fillna(np.nan).astype(int)\n",
    "sf = gl.SFrame(df)"
   ]
  },
  {
   "cell_type": "code",
   "execution_count": 13,
   "metadata": {
    "collapsed": false
   },
   "outputs": [],
   "source": [
    "m = gl.sentiment_analysis.create(sf, features=['Text'])\n"
   ]
  },
  {
   "cell_type": "code",
   "execution_count": 14,
   "metadata": {
    "collapsed": true
   },
   "outputs": [],
   "source": [
    "df['GraphLabSentiment'] = m.predict(sf)"
   ]
  },
  {
   "cell_type": "code",
   "execution_count": null,
   "metadata": {
    "collapsed": false
   },
   "outputs": [],
   "source": [
    "df.head()"
   ]
  },
  {
   "cell_type": "code",
   "execution_count": 15,
   "metadata": {
    "collapsed": false
   },
   "outputs": [
    {
     "data": {
      "text/html": [
       "<div>\n",
       "<table border=\"1\" class=\"dataframe\">\n",
       "  <thead>\n",
       "    <tr style=\"text-align: right;\">\n",
       "      <th></th>\n",
       "      <th>HikeId</th>\n",
       "      <th>AuthorId</th>\n",
       "      <th>TextBlobSentiment</th>\n",
       "      <th>Rating</th>\n",
       "      <th>GraphLabSentiment</th>\n",
       "    </tr>\n",
       "  </thead>\n",
       "  <tbody>\n",
       "    <tr>\n",
       "      <th>count</th>\n",
       "      <td>77287.000000</td>\n",
       "      <td>77287.000000</td>\n",
       "      <td>77287.000000</td>\n",
       "      <td>77287.000000</td>\n",
       "      <td>7.728700e+04</td>\n",
       "    </tr>\n",
       "    <tr>\n",
       "      <th>mean</th>\n",
       "      <td>602.194884</td>\n",
       "      <td>9685.642682</td>\n",
       "      <td>0.167110</td>\n",
       "      <td>2.999457</td>\n",
       "      <td>9.560600e-01</td>\n",
       "    </tr>\n",
       "    <tr>\n",
       "      <th>std</th>\n",
       "      <td>551.279197</td>\n",
       "      <td>5570.966700</td>\n",
       "      <td>0.130323</td>\n",
       "      <td>1.414963</td>\n",
       "      <td>1.489380e-01</td>\n",
       "    </tr>\n",
       "    <tr>\n",
       "      <th>min</th>\n",
       "      <td>0.000000</td>\n",
       "      <td>1.000000</td>\n",
       "      <td>-1.000000</td>\n",
       "      <td>1.000000</td>\n",
       "      <td>3.847551e-09</td>\n",
       "    </tr>\n",
       "    <tr>\n",
       "      <th>25%</th>\n",
       "      <td>176.000000</td>\n",
       "      <td>5070.000000</td>\n",
       "      <td>0.089714</td>\n",
       "      <td>2.000000</td>\n",
       "      <td>9.934390e-01</td>\n",
       "    </tr>\n",
       "    <tr>\n",
       "      <th>50%</th>\n",
       "      <td>430.000000</td>\n",
       "      <td>9441.000000</td>\n",
       "      <td>0.153214</td>\n",
       "      <td>3.000000</td>\n",
       "      <td>9.998582e-01</td>\n",
       "    </tr>\n",
       "    <tr>\n",
       "      <th>75%</th>\n",
       "      <td>917.000000</td>\n",
       "      <td>14355.000000</td>\n",
       "      <td>0.228125</td>\n",
       "      <td>4.000000</td>\n",
       "      <td>9.999995e-01</td>\n",
       "    </tr>\n",
       "    <tr>\n",
       "      <th>max</th>\n",
       "      <td>3364.000000</td>\n",
       "      <td>19633.000000</td>\n",
       "      <td>1.000000</td>\n",
       "      <td>5.000000</td>\n",
       "      <td>1.000000e+00</td>\n",
       "    </tr>\n",
       "  </tbody>\n",
       "</table>\n",
       "</div>"
      ],
      "text/plain": [
       "             HikeId      AuthorId  TextBlobSentiment        Rating  \\\n",
       "count  77287.000000  77287.000000       77287.000000  77287.000000   \n",
       "mean     602.194884   9685.642682           0.167110      2.999457   \n",
       "std      551.279197   5570.966700           0.130323      1.414963   \n",
       "min        0.000000      1.000000          -1.000000      1.000000   \n",
       "25%      176.000000   5070.000000           0.089714      2.000000   \n",
       "50%      430.000000   9441.000000           0.153214      3.000000   \n",
       "75%      917.000000  14355.000000           0.228125      4.000000   \n",
       "max     3364.000000  19633.000000           1.000000      5.000000   \n",
       "\n",
       "       GraphLabSentiment  \n",
       "count       7.728700e+04  \n",
       "mean        9.560600e-01  \n",
       "std         1.489380e-01  \n",
       "min         3.847551e-09  \n",
       "25%         9.934390e-01  \n",
       "50%         9.998582e-01  \n",
       "75%         9.999995e-01  \n",
       "max         1.000000e+00  "
      ]
     },
     "execution_count": 15,
     "metadata": {},
     "output_type": "execute_result"
    }
   ],
   "source": [
    "df.describe()"
   ]
  },
  {
   "cell_type": "markdown",
   "metadata": {
    "collapsed": true
   },
   "source": [
    "## Attempting GraphLab's sentiment analysis with scraped TR training data"
   ]
  },
  {
   "cell_type": "code",
   "execution_count": null,
   "metadata": {
    "collapsed": true
   },
   "outputs": [],
   "source": [
    "training = pd.read_csv('data/')"
   ]
  }
 ],
 "metadata": {
  "kernelspec": {
   "display_name": "Python 2",
   "language": "python",
   "name": "python2"
  },
  "language_info": {
   "codemirror_mode": {
    "name": "ipython",
    "version": 2
   },
   "file_extension": ".py",
   "mimetype": "text/x-python",
   "name": "python",
   "nbconvert_exporter": "python",
   "pygments_lexer": "ipython2",
   "version": "2.7.12"
  }
 },
 "nbformat": 4,
 "nbformat_minor": 0
}
