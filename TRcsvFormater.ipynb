{
 "cells": [
  {
   "cell_type": "code",
   "execution_count": 1,
   "metadata": {
    "collapsed": true
   },
   "outputs": [],
   "source": [
    "from __future__ import division\n",
    "from textblob import TextBlob\n",
    "import pandas as pd\n",
    "import numpy as np\n",
    "import string\n",
    "import re\n",
    "import matplotlib.pyplot as plt\n",
    "from src.sentimentAnalysis import detect_sentiment, setRating\n",
    "%matplotlib inline\n"
   ]
  },
  {
   "cell_type": "code",
   "execution_count": 2,
   "metadata": {
    "collapsed": true
   },
   "outputs": [],
   "source": [
    "with open('data/trip_reports.json', 'rb') as f:\n",
    "    data = f.readlines()\n",
    "\n",
    "data = map(lambda x: x.rstrip(), data)\n",
    "data_json_str = \"[\" + ','.join(data) + \"]\"\n",
    "df = pd.read_json(data_json_str)"
   ]
  },
  {
   "cell_type": "code",
   "execution_count": 3,
   "metadata": {
    "collapsed": false
   },
   "outputs": [],
   "source": [
    "hike_data = pd.read_csv('data/itemData.csv')\n",
    "ider = dict(zip(hike_data['hike_name'], hike_data['hike_id']))"
   ]
  },
  {
   "cell_type": "code",
   "execution_count": 4,
   "metadata": {
    "collapsed": true
   },
   "outputs": [],
   "source": [
    "df['Text'] = [r['Text'] for r in df['Report']]\n",
    "df['Data'] = [r['Date'] for r in df['Report']]\n",
    "df['HikeId'] = [ider[name.encode('utf-8')] for name in df['Name']]\n",
    "df['Author'] = [r['Creator'].strip() for r in df['Report']]\n",
    "authors = np.unique(df.Author)\n",
    "ider = dict(zip(authors, range(len(authors))))\n",
    "df['AuthorId'] = [ider[r] for r in df['Author']]\n",
    "df = df.drop(labels=['Report','_id'], axis=1)"
   ]
  },
  {
   "cell_type": "code",
   "execution_count": 5,
   "metadata": {
    "collapsed": true
   },
   "outputs": [],
   "source": [
    "df['TextBlobSentiment'] = df['Text'].apply(detect_sentiment)"
   ]
  },
  {
   "cell_type": "code",
   "execution_count": 6,
   "metadata": {
    "collapsed": false
   },
   "outputs": [],
   "source": [
    "df['Rating'] = df['TextBlobSentiment'].apply(setRating)"
   ]
  },
  {
   "cell_type": "code",
   "execution_count": 7,
   "metadata": {
    "collapsed": false
   },
   "outputs": [
    {
     "data": {
      "text/html": [
       "<div>\n",
       "<table border=\"1\" class=\"dataframe\">\n",
       "  <thead>\n",
       "    <tr style=\"text-align: right;\">\n",
       "      <th></th>\n",
       "      <th>Name</th>\n",
       "      <th>Text</th>\n",
       "      <th>Data</th>\n",
       "      <th>HikeId</th>\n",
       "      <th>Author</th>\n",
       "      <th>AuthorId</th>\n",
       "      <th>TextBlobSentiment</th>\n",
       "      <th>Rating</th>\n",
       "    </tr>\n",
       "  </thead>\n",
       "  <tbody>\n",
       "    <tr>\n",
       "      <th>0</th>\n",
       "      <td>Grand Park via Lake Eleanor</td>\n",
       "      <td>Wonderful hike to Grand park.  Overall the tra...</td>\n",
       "      <td>Jul 23, 2016</td>\n",
       "      <td>0</td>\n",
       "      <td>SpartanHiker</td>\n",
       "      <td>10377</td>\n",
       "      <td>0.215000</td>\n",
       "      <td>4</td>\n",
       "    </tr>\n",
       "    <tr>\n",
       "      <th>1</th>\n",
       "      <td>Grand Park via Lake Eleanor</td>\n",
       "      <td>Hit the trailhead about 10:15 a.m. with a grou...</td>\n",
       "      <td>Jul 17, 2016</td>\n",
       "      <td>0</td>\n",
       "      <td>DKreuger</td>\n",
       "      <td>2487</td>\n",
       "      <td>0.179529</td>\n",
       "      <td>4</td>\n",
       "    </tr>\n",
       "    <tr>\n",
       "      <th>2</th>\n",
       "      <td>Grand Park via Lake Eleanor</td>\n",
       "      <td>I hiked Grand Park last year and it was great,...</td>\n",
       "      <td>Jul 16, 2016</td>\n",
       "      <td>0</td>\n",
       "      <td>Cascadian Hiker</td>\n",
       "      <td>1948</td>\n",
       "      <td>0.114120</td>\n",
       "      <td>2</td>\n",
       "    </tr>\n",
       "    <tr>\n",
       "      <th>3</th>\n",
       "      <td>Grand Park via Lake Eleanor</td>\n",
       "      <td>(Revisited on Friday, July 15th - update for t...</td>\n",
       "      <td>Jul 15, 2016</td>\n",
       "      <td>0</td>\n",
       "      <td>Alien Dave</td>\n",
       "      <td>492</td>\n",
       "      <td>0.181702</td>\n",
       "      <td>4</td>\n",
       "    </tr>\n",
       "    <tr>\n",
       "      <th>4</th>\n",
       "      <td>Grand Park via Lake Eleanor</td>\n",
       "      <td>Nice hike after a few potholes on drive up for...</td>\n",
       "      <td>Jul 15, 2016</td>\n",
       "      <td>0</td>\n",
       "      <td>[email protected]/* &lt;![CDATA[ */!function(t,e,...</td>\n",
       "      <td>12210</td>\n",
       "      <td>0.200000</td>\n",
       "      <td>4</td>\n",
       "    </tr>\n",
       "  </tbody>\n",
       "</table>\n",
       "</div>"
      ],
      "text/plain": [
       "                          Name  \\\n",
       "0  Grand Park via Lake Eleanor   \n",
       "1  Grand Park via Lake Eleanor   \n",
       "2  Grand Park via Lake Eleanor   \n",
       "3  Grand Park via Lake Eleanor   \n",
       "4  Grand Park via Lake Eleanor   \n",
       "\n",
       "                                                Text          Data  HikeId  \\\n",
       "0  Wonderful hike to Grand park.  Overall the tra...  Jul 23, 2016       0   \n",
       "1  Hit the trailhead about 10:15 a.m. with a grou...  Jul 17, 2016       0   \n",
       "2  I hiked Grand Park last year and it was great,...  Jul 16, 2016       0   \n",
       "3  (Revisited on Friday, July 15th - update for t...  Jul 15, 2016       0   \n",
       "4  Nice hike after a few potholes on drive up for...  Jul 15, 2016       0   \n",
       "\n",
       "                                              Author  AuthorId  \\\n",
       "0                                       SpartanHiker     10377   \n",
       "1                                           DKreuger      2487   \n",
       "2                                    Cascadian Hiker      1948   \n",
       "3                                         Alien Dave       492   \n",
       "4  [email protected]/* <![CDATA[ */!function(t,e,...     12210   \n",
       "\n",
       "   TextBlobSentiment  Rating  \n",
       "0           0.215000       4  \n",
       "1           0.179529       4  \n",
       "2           0.114120       2  \n",
       "3           0.181702       4  \n",
       "4           0.200000       4  "
      ]
     },
     "execution_count": 7,
     "metadata": {},
     "output_type": "execute_result"
    }
   ],
   "source": [
    "df.head()"
   ]
  },
  {
   "cell_type": "code",
   "execution_count": 11,
   "metadata": {
    "collapsed": false
   },
   "outputs": [
    {
     "data": {
      "text/html": [
       "<div>\n",
       "<table border=\"1\" class=\"dataframe\">\n",
       "  <thead>\n",
       "    <tr style=\"text-align: right;\">\n",
       "      <th></th>\n",
       "      <th>HikeId</th>\n",
       "      <th>AuthorId</th>\n",
       "      <th>TextBlobSentiment</th>\n",
       "      <th>Rating</th>\n",
       "    </tr>\n",
       "  </thead>\n",
       "  <tbody>\n",
       "    <tr>\n",
       "      <th>count</th>\n",
       "      <td>78042.000000</td>\n",
       "      <td>78042.000000</td>\n",
       "      <td>78042.000000</td>\n",
       "      <td>78042.000000</td>\n",
       "    </tr>\n",
       "    <tr>\n",
       "      <th>mean</th>\n",
       "      <td>602.130853</td>\n",
       "      <td>9691.268356</td>\n",
       "      <td>0.167313</td>\n",
       "      <td>3.001384</td>\n",
       "    </tr>\n",
       "    <tr>\n",
       "      <th>std</th>\n",
       "      <td>551.584931</td>\n",
       "      <td>5570.808937</td>\n",
       "      <td>0.130577</td>\n",
       "      <td>1.415734</td>\n",
       "    </tr>\n",
       "    <tr>\n",
       "      <th>min</th>\n",
       "      <td>0.000000</td>\n",
       "      <td>0.000000</td>\n",
       "      <td>-1.000000</td>\n",
       "      <td>1.000000</td>\n",
       "    </tr>\n",
       "    <tr>\n",
       "      <th>25%</th>\n",
       "      <td>176.000000</td>\n",
       "      <td>5076.000000</td>\n",
       "      <td>0.089763</td>\n",
       "      <td>2.000000</td>\n",
       "    </tr>\n",
       "    <tr>\n",
       "      <th>50%</th>\n",
       "      <td>430.000000</td>\n",
       "      <td>9448.500000</td>\n",
       "      <td>0.153412</td>\n",
       "      <td>3.000000</td>\n",
       "    </tr>\n",
       "    <tr>\n",
       "      <th>75%</th>\n",
       "      <td>917.000000</td>\n",
       "      <td>14361.000000</td>\n",
       "      <td>0.228519</td>\n",
       "      <td>4.000000</td>\n",
       "    </tr>\n",
       "    <tr>\n",
       "      <th>max</th>\n",
       "      <td>3364.000000</td>\n",
       "      <td>19633.000000</td>\n",
       "      <td>1.000000</td>\n",
       "      <td>5.000000</td>\n",
       "    </tr>\n",
       "  </tbody>\n",
       "</table>\n",
       "</div>"
      ],
      "text/plain": [
       "             HikeId      AuthorId  TextBlobSentiment        Rating\n",
       "count  78042.000000  78042.000000       78042.000000  78042.000000\n",
       "mean     602.130853   9691.268356           0.167313      3.001384\n",
       "std      551.584931   5570.808937           0.130577      1.415734\n",
       "min        0.000000      0.000000          -1.000000      1.000000\n",
       "25%      176.000000   5076.000000           0.089763      2.000000\n",
       "50%      430.000000   9448.500000           0.153412      3.000000\n",
       "75%      917.000000  14361.000000           0.228519      4.000000\n",
       "max     3364.000000  19633.000000           1.000000      5.000000"
      ]
     },
     "execution_count": 11,
     "metadata": {},
     "output_type": "execute_result"
    }
   ],
   "source": [
    "df.describe()"
   ]
  },
  {
   "cell_type": "code",
   "execution_count": 12,
   "metadata": {
    "collapsed": true
   },
   "outputs": [],
   "source": [
    "df.to_csv('data/tripReports.csv',  encoding='utf-8')"
   ]
  },
  {
   "cell_type": "code",
   "execution_count": null,
   "metadata": {
    "collapsed": true
   },
   "outputs": [],
   "source": []
  },
  {
   "cell_type": "code",
   "execution_count": null,
   "metadata": {
    "collapsed": true
   },
   "outputs": [],
   "source": []
  }
 ],
 "metadata": {
  "kernelspec": {
   "display_name": "Python 2",
   "language": "python",
   "name": "python2"
  },
  "language_info": {
   "codemirror_mode": {
    "name": "ipython",
    "version": 2
   },
   "file_extension": ".py",
   "mimetype": "text/x-python",
   "name": "python",
   "nbconvert_exporter": "python",
   "pygments_lexer": "ipython2",
   "version": "2.7.12"
  }
 },
 "nbformat": 4,
 "nbformat_minor": 0
}
